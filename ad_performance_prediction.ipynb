{
 "cells": [
  {
   "cell_type": "markdown",
   "metadata": {},
   "source": [
    "### **Ad Performance Analysis and Prediction**"
   ]
  },
  {
   "cell_type": "markdown",
   "metadata": {},
   "source": [
    "#### **Introduction**\n",
    "\n",
    "In the current digital marketing work, businesses allocate a lot of budgests to online advertising across many social media platforms to attract potential customers into buying certain products that they are intentionally trying to show through the ads. However, a common and costly challenge is the inefficient targeting of users as ads are often served to individuals with low or no intent to engage, which can lead to wasted effort, poor return on ad spend, and reduce campaign performance. \n",
    "\n",
    "\n",
    "Therefore, the business needs a predictive system that can analyze user data and contextual signals to determine the likelihood of an ad being clicked or not, which we also can improve the ad performance later on by deploying ads to specific customer segments so that we can have high return on ad spend, increasing businesses' branding and revenues. \n",
    "\n",
    "#### **Project Objectives**\n",
    "1. **Develop a supervised machine learning model:** We aim to build a classification model that can predict whether certain users will click the ad or not, so that the businesses can target the right users, potentially converting them to customers.\n",
    "\n",
    "2. **Generate actionable business insights:** This project aims to explore the raw dataset, and creating new features that can add valuable insights to the analysis to guide businesses or marketing team to target the right users to click the ad. \n",
    "\n",
    "\n",
    "#### **Project Implementation**\n",
    "In order to build an effective and robust machine learning model, these are the steps that we can follow:\n",
    "\n",
    "1. **Data Understanding:** Explore the data source, types of features, and understand the meaning of each column. Gain an overview of the dataset and the distribution.\n",
    "\n",
    "2. **Data Cleaning:** Handle missing values, duplicates, inconsistent data types, and outliers. Ensure data quality before analysis and modeling.\n",
    "\n",
    "3. **Exploratory Data Analysis:** Visualize distributions, detect patterns, trends, and correlations. Identify potential biases or imbalances.\n",
    "\n",
    "4. **Model Development:** In this step, it can include multiple steps such as:\n",
    "    - **Data Preparation:** Normalize/scale features, split data into training, validation, and testing sets, address class imbalance.\n",
    "    - **Model Training:** Train various classification models, tune hyperparameters, and use cross-validation.\n",
    "    - **Model Evaluation:** Evaluate using metrics.\n"
   ]
  },
  {
   "cell_type": "markdown",
   "metadata": {},
   "source": [
    "#### **Setup**"
   ]
  },
  {
   "cell_type": "code",
   "execution_count": null,
   "metadata": {},
   "outputs": [],
   "source": [
    "# Data Manipulation and Visualization\n",
    "import pandas as pd\n",
    "import numpy as np\n",
    "import matplotlib.pyplot as plt\n",
    "import seaborn as sns\n",
    "import plotly.express as px\n",
    "import plotly.graph_objects as go\n",
    "from plotly.subplots import make_subplots\n",
    "from collections import Counter\n",
    "import missingno as msno\n",
    "\n",
    "# Data Preprocessing\n",
    "from sklearn.preprocessing import StandardScaler, MinMaxScaler\n",
    "from sklearn.preprocessing import LabelEncoder, FunctionTransformer\n",
    "\n",
    "# Training and Evaluations\n",
    "from sklearn.model_selection import train_test_split\n",
    "from sklearn.metrics import confusion_matrix, classification_report, ConfusionMatrixDisplay\n",
    "from sklearn.metrics import recall_score, roc_auc_score, f1_score, make_scorer\n",
    "\n",
    "# Hyper-parameter Tuning and Cross Validation\n",
    "from sklearn.model_selection import GridSearchCV\n",
    "from sklearn.model_selection import cross_val_score, cross_validate\n",
    "\n",
    "\n",
    "# Import machine learning models\n",
    "from sklearn.linear_model import LogisticRegression\n",
    "from sklearn.tree import DecisionTreeClassifier\n",
    "\n",
    "# Saving the model\n",
    "import pickle"
   ]
  },
  {
   "cell_type": "markdown",
   "metadata": {},
   "source": [
    "#### **Read dataset**"
   ]
  },
  {
   "cell_type": "code",
   "execution_count": 189,
   "metadata": {},
   "outputs": [
    {
     "data": {
      "application/vnd.microsoft.datawrangler.viewer.v0+json": {
       "columns": [
        {
         "name": "index",
         "rawType": "int64",
         "type": "integer"
        },
        {
         "name": "Daily Time Spent on Site",
         "rawType": "float64",
         "type": "float"
        },
        {
         "name": "Age",
         "rawType": "int64",
         "type": "integer"
        },
        {
         "name": "Area Income",
         "rawType": "float64",
         "type": "float"
        },
        {
         "name": "Daily Internet Usage",
         "rawType": "float64",
         "type": "float"
        },
        {
         "name": "Ad Topic Line",
         "rawType": "object",
         "type": "string"
        },
        {
         "name": "City",
         "rawType": "object",
         "type": "string"
        },
        {
         "name": "Male",
         "rawType": "float64",
         "type": "float"
        },
        {
         "name": "Country",
         "rawType": "object",
         "type": "string"
        },
        {
         "name": "Timestamp",
         "rawType": "object",
         "type": "string"
        },
        {
         "name": "Clicked on Ad",
         "rawType": "int64",
         "type": "integer"
        }
       ],
       "conversionMethod": "pd.DataFrame",
       "ref": "2116af7a-ece8-411f-ab6a-385ac9854407",
       "rows": [
        [
         "0",
         "68.95",
         "35",
         "61833.9",
         "256.09",
         "Cloned 5thgeneration orchestration",
         "Wrightburgh",
         "0.0",
         "Tunisia",
         "3/27/2016 0:53",
         "0"
        ],
        [
         "1",
         "80.23",
         "31",
         "68441.85",
         "193.77",
         "Monitored national standardization",
         "West Jodi",
         "1.0",
         "Nauru",
         "4/4/2016 1:39",
         "0"
        ],
        [
         "2",
         "69.47",
         "26",
         "59785.94",
         "236.5",
         "Organic bottom-line service-desk",
         "Davidton",
         "0.0",
         "San Marino",
         "3/13/2016 20:35",
         "0"
        ],
        [
         "3",
         "74.15",
         "29",
         "54806.18",
         "245.89",
         "Triple-buffered reciprocal time-frame",
         "West Terrifurt",
         "1.0",
         "Italy",
         "1/10/2016 2:31",
         "0"
        ],
        [
         "4",
         "68.37",
         "35",
         "73889.99",
         "225.58",
         "Robust logistical utilization",
         "South Manuel",
         "0.0",
         "Iceland",
         "6/3/2016 3:36",
         "0"
        ]
       ],
       "shape": {
        "columns": 10,
        "rows": 5
       }
      },
      "text/html": [
       "<div>\n",
       "<style scoped>\n",
       "    .dataframe tbody tr th:only-of-type {\n",
       "        vertical-align: middle;\n",
       "    }\n",
       "\n",
       "    .dataframe tbody tr th {\n",
       "        vertical-align: top;\n",
       "    }\n",
       "\n",
       "    .dataframe thead th {\n",
       "        text-align: right;\n",
       "    }\n",
       "</style>\n",
       "<table border=\"1\" class=\"dataframe\">\n",
       "  <thead>\n",
       "    <tr style=\"text-align: right;\">\n",
       "      <th></th>\n",
       "      <th>Daily Time Spent on Site</th>\n",
       "      <th>Age</th>\n",
       "      <th>Area Income</th>\n",
       "      <th>Daily Internet Usage</th>\n",
       "      <th>Ad Topic Line</th>\n",
       "      <th>City</th>\n",
       "      <th>Male</th>\n",
       "      <th>Country</th>\n",
       "      <th>Timestamp</th>\n",
       "      <th>Clicked on Ad</th>\n",
       "    </tr>\n",
       "  </thead>\n",
       "  <tbody>\n",
       "    <tr>\n",
       "      <th>0</th>\n",
       "      <td>68.95</td>\n",
       "      <td>35</td>\n",
       "      <td>61833.90</td>\n",
       "      <td>256.09</td>\n",
       "      <td>Cloned 5thgeneration orchestration</td>\n",
       "      <td>Wrightburgh</td>\n",
       "      <td>0.0</td>\n",
       "      <td>Tunisia</td>\n",
       "      <td>3/27/2016 0:53</td>\n",
       "      <td>0</td>\n",
       "    </tr>\n",
       "    <tr>\n",
       "      <th>1</th>\n",
       "      <td>80.23</td>\n",
       "      <td>31</td>\n",
       "      <td>68441.85</td>\n",
       "      <td>193.77</td>\n",
       "      <td>Monitored national standardization</td>\n",
       "      <td>West Jodi</td>\n",
       "      <td>1.0</td>\n",
       "      <td>Nauru</td>\n",
       "      <td>4/4/2016 1:39</td>\n",
       "      <td>0</td>\n",
       "    </tr>\n",
       "    <tr>\n",
       "      <th>2</th>\n",
       "      <td>69.47</td>\n",
       "      <td>26</td>\n",
       "      <td>59785.94</td>\n",
       "      <td>236.50</td>\n",
       "      <td>Organic bottom-line service-desk</td>\n",
       "      <td>Davidton</td>\n",
       "      <td>0.0</td>\n",
       "      <td>San Marino</td>\n",
       "      <td>3/13/2016 20:35</td>\n",
       "      <td>0</td>\n",
       "    </tr>\n",
       "    <tr>\n",
       "      <th>3</th>\n",
       "      <td>74.15</td>\n",
       "      <td>29</td>\n",
       "      <td>54806.18</td>\n",
       "      <td>245.89</td>\n",
       "      <td>Triple-buffered reciprocal time-frame</td>\n",
       "      <td>West Terrifurt</td>\n",
       "      <td>1.0</td>\n",
       "      <td>Italy</td>\n",
       "      <td>1/10/2016 2:31</td>\n",
       "      <td>0</td>\n",
       "    </tr>\n",
       "    <tr>\n",
       "      <th>4</th>\n",
       "      <td>68.37</td>\n",
       "      <td>35</td>\n",
       "      <td>73889.99</td>\n",
       "      <td>225.58</td>\n",
       "      <td>Robust logistical utilization</td>\n",
       "      <td>South Manuel</td>\n",
       "      <td>0.0</td>\n",
       "      <td>Iceland</td>\n",
       "      <td>6/3/2016 3:36</td>\n",
       "      <td>0</td>\n",
       "    </tr>\n",
       "  </tbody>\n",
       "</table>\n",
       "</div>"
      ],
      "text/plain": [
       "   Daily Time Spent on Site  Age  Area Income  Daily Internet Usage  \\\n",
       "0                     68.95   35     61833.90                256.09   \n",
       "1                     80.23   31     68441.85                193.77   \n",
       "2                     69.47   26     59785.94                236.50   \n",
       "3                     74.15   29     54806.18                245.89   \n",
       "4                     68.37   35     73889.99                225.58   \n",
       "\n",
       "                           Ad Topic Line            City  Male     Country  \\\n",
       "0     Cloned 5thgeneration orchestration     Wrightburgh   0.0     Tunisia   \n",
       "1     Monitored national standardization       West Jodi   1.0       Nauru   \n",
       "2       Organic bottom-line service-desk        Davidton   0.0  San Marino   \n",
       "3  Triple-buffered reciprocal time-frame  West Terrifurt   1.0       Italy   \n",
       "4          Robust logistical utilization    South Manuel   0.0     Iceland   \n",
       "\n",
       "         Timestamp  Clicked on Ad  \n",
       "0   3/27/2016 0:53              0  \n",
       "1    4/4/2016 1:39              0  \n",
       "2  3/13/2016 20:35              0  \n",
       "3   1/10/2016 2:31              0  \n",
       "4    6/3/2016 3:36              0  "
      ]
     },
     "execution_count": 189,
     "metadata": {},
     "output_type": "execute_result"
    }
   ],
   "source": [
    "# Load the dataset from the CSV file \n",
    "df = pd.read_csv(\"Ad Click Data.csv\")\n",
    "df.head()"
   ]
  },
  {
   "cell_type": "markdown",
   "metadata": {},
   "source": [
    "**Note**: This dataset provides insights into user behavior and online advertising, spefically focusing on predicting whether a user will click on an online advertisement. It contains user demographic information, browsing habits, and details related to the dispaly of the advertisement. "
   ]
  },
  {
   "cell_type": "markdown",
   "metadata": {},
   "source": [
    "#### **Data Understanding**"
   ]
  },
  {
   "cell_type": "code",
   "execution_count": 190,
   "metadata": {},
   "outputs": [
    {
     "name": "stdout",
     "output_type": "stream",
     "text": [
      "Dataset shape: (1000, 10)\n",
      "Dataset features: Index(['Daily Time Spent on Site', 'Age', 'Area Income',\n",
      "       'Daily Internet Usage', 'Ad Topic Line', 'City', 'Male', 'Country',\n",
      "       'Timestamp', 'Clicked on Ad'],\n",
      "      dtype='object')\n",
      "\n",
      "<class 'pandas.core.frame.DataFrame'>\n",
      "RangeIndex: 1000 entries, 0 to 999\n",
      "Data columns (total 10 columns):\n",
      " #   Column                    Non-Null Count  Dtype  \n",
      "---  ------                    --------------  -----  \n",
      " 0   Daily Time Spent on Site  987 non-null    float64\n",
      " 1   Age                       1000 non-null   int64  \n",
      " 2   Area Income               987 non-null    float64\n",
      " 3   Daily Internet Usage      989 non-null    float64\n",
      " 4   Ad Topic Line             1000 non-null   object \n",
      " 5   City                      999 non-null    object \n",
      " 6   Male                      997 non-null    float64\n",
      " 7   Country                   991 non-null    object \n",
      " 8   Timestamp                 1000 non-null   object \n",
      " 9   Clicked on Ad             1000 non-null   int64  \n",
      "dtypes: float64(4), int64(2), object(4)\n",
      "memory usage: 78.3+ KB\n"
     ]
    }
   ],
   "source": [
    "# Get to know more about the dataset size and features\n",
    "print(f\"Dataset shape: {df.shape}\")\n",
    "print(f\"Dataset features: {df.columns}\")\n",
    "print()\n",
    "df.info()"
   ]
  },
  {
   "cell_type": "markdown",
   "metadata": {},
   "source": [
    "**Inference**: Based on the information above, we can see that there are 1000 total rows and 10 columns within the dataset, containing some null values. It is a structured dataset with 9 features and 1 target variable for the prediction. Here are a general overview of the columns in the dataset:\n",
    "\n",
    "| Column Name               | Data Type | Description                                                                 |\n",
    "|---------------------------|-----------|-----------------------------------------------------------------------------|\n",
    "| Daily Time Spent on Site  | float64   | Time (in minutes) the user spent on the site per day.                       |\n",
    "| Age                       | float64   | Age of the user.                                                            |\n",
    "| Area Income               | float64   | Average income of the geographical area where the user is located.          |\n",
    "| Daily Internet Usage      | float64   | Time (in minutes) the user spends on the internet per day.                 |\n",
    "| Ad Topic Line             | object    | Headline/text of the advertisement displayed to the user.                   |\n",
    "| City                      | object    | City where the user is located.                                             |\n",
    "| Male                      | float64   | Gender of the user if Male 1 elese Female 0.                          |\n",
    "| Country                   | object    | Country where the user is located.                                          |\n",
    "| Timestamp                 | object    | Date and time when the user interacted with the ad (`YYYY-MM-DD HH:MM:SS`). |\n",
    "| Clicked on Ad             | int64     | Binary flag (0 or 1) indicating whether the user clicked the ad (`1` = clicked). |"
   ]
  },
  {
   "cell_type": "code",
   "execution_count": 191,
   "metadata": {},
   "outputs": [
    {
     "name": "stdout",
     "output_type": "stream",
     "text": [
      "Categorical features in the dataset: ['Ad Topic Line', 'City', 'Country', 'Timestamp']\n",
      "\n",
      "Numerical features in the dataset: ['Daily Time Spent on Site', 'Age', 'Area Income', 'Daily Internet Usage', 'Male', 'Clicked on Ad']\n"
     ]
    }
   ],
   "source": [
    "# Check the categorical and numerical features \n",
    "cat_features = df.select_dtypes(include=[\"object\"]).columns.to_list()\n",
    "print(f\"Categorical features in the dataset: {cat_features}\")\n",
    "\n",
    "print()\n",
    "\n",
    "num_features = df.select_dtypes(exclude=[\"object\"]).columns.to_list()\n",
    "print(f\"Numerical features in the dataset: {num_features}\")"
   ]
  },
  {
   "cell_type": "code",
   "execution_count": 192,
   "metadata": {},
   "outputs": [
    {
     "name": "stdout",
     "output_type": "stream",
     "text": [
      "Number of null values in the dataset: \n",
      "Daily Time Spent on Site    1.3\n",
      "Age                         0.0\n",
      "Area Income                 1.3\n",
      "Daily Internet Usage        1.1\n",
      "Ad Topic Line               0.0\n",
      "City                        0.1\n",
      "Male                        0.3\n",
      "Country                     0.9\n",
      "Timestamp                   0.0\n",
      "Clicked on Ad               0.0\n",
      "dtype: float64\n",
      "\n",
      "Number of duplicated rows in the dataset: 0\n"
     ]
    }
   ],
   "source": [
    "# Check for missing and duplicated rows\n",
    "num_of_null = df.isnull().sum()\n",
    "num_of_duplicated = df.duplicated().sum()\n",
    "print(f\"Number of null values in the dataset: \\n{num_of_null / len(df) * 100}\")\n",
    "print()\n",
    "print(f\"Number of duplicated rows in the dataset: {num_of_duplicated}\")"
   ]
  },
  {
   "cell_type": "code",
   "execution_count": 193,
   "metadata": {},
   "outputs": [
    {
     "data": {
      "image/png": "[encoded data removed]",
      "text/plain": [
       "<Figure size 2500x1000 with 2 Axes>"
      ]
     },
     "metadata": {},
     "output_type": "display_data"
    }
   ],
   "source": [
    "# Use missingno to visualize the distribution of the missing values \n",
    "msno.matrix(df, color=(1, 0.5, 0))\n",
    "plt.title(\"Distribution of missing values\", fontsize=16)\n",
    "plt.show()"
   ]
  },
  {
   "cell_type": "markdown",
   "metadata": {},
   "source": [
    "**Finding**: There are some null values within the dataset on multiple columns but they are very small compared to the whole data points that we can impute with median or mean. There are also duplicated rows within the dataset in total of 215 rows, so we have to delete these duplications later on in the data cleaning part."
   ]
  },
  {
   "cell_type": "code",
   "execution_count": 194,
   "metadata": {},
   "outputs": [
    {
     "data": {
      "application/vnd.microsoft.datawrangler.viewer.v0+json": {
       "columns": [
        {
         "name": "index",
         "rawType": "object",
         "type": "string"
        },
        {
         "name": "Daily Time Spent on Site",
         "rawType": "float64",
         "type": "float"
        },
        {
         "name": "Age",
         "rawType": "float64",
         "type": "float"
        },
        {
         "name": "Area Income",
         "rawType": "float64",
         "type": "float"
        },
        {
         "name": "Daily Internet Usage",
         "rawType": "float64",
         "type": "float"
        },
        {
         "name": "Male",
         "rawType": "float64",
         "type": "float"
        },
        {
         "name": "Clicked on Ad",
         "rawType": "float64",
         "type": "float"
        }
       ],
       "conversionMethod": "pd.DataFrame",
       "ref": "b013dfc3-c469-493f-866a-a0c60dee2188",
       "rows": [
        [
         "count",
         "987.0",
         "1000.0",
         "987.0",
         "989.0",
         "997.0",
         "1000.0"
        ],
        [
         "mean",
         "64.92952380952381",
         "36.009",
         "54980.66723404255",
         "179.86361981799797",
         "0.48044132397191575",
         "0.5"
        ],
        [
         "std",
         "15.84469946358943",
         "8.78556231012592",
         "13439.998509894167",
         "43.870142150541916",
         "0.49986806072199497",
         "0.5002501876563868"
        ],
        [
         "min",
         "32.6",
         "19.0",
         "13996.5",
         "104.78",
         "0.0",
         "0.0"
        ],
        [
         "25%",
         "51.269999999999996",
         "29.0",
         "46947.57",
         "138.71",
         "0.0",
         "0.0"
        ],
        [
         "50%",
         "68.11",
         "35.0",
         "57009.76",
         "182.65",
         "0.0",
         "0.5"
        ],
        [
         "75%",
         "78.46000000000001",
         "42.0",
         "65479.35",
         "218.79",
         "1.0",
         "1.0"
        ],
        [
         "max",
         "91.43",
         "61.0",
         "79484.8",
         "267.01",
         "1.0",
         "1.0"
        ]
       ],
       "shape": {
        "columns": 6,
        "rows": 8
       }
      },
      "text/html": [
       "<div>\n",
       "<style scoped>\n",
       "    .dataframe tbody tr th:only-of-type {\n",
       "        vertical-align: middle;\n",
       "    }\n",
       "\n",
       "    .dataframe tbody tr th {\n",
       "        vertical-align: top;\n",
       "    }\n",
       "\n",
       "    .dataframe thead th {\n",
       "        text-align: right;\n",
       "    }\n",
       "</style>\n",
       "<table border=\"1\" class=\"dataframe\">\n",
       "  <thead>\n",
       "    <tr style=\"text-align: right;\">\n",
       "      <th></th>\n",
       "      <th>Daily Time Spent on Site</th>\n",
       "      <th>Age</th>\n",
       "      <th>Area Income</th>\n",
       "      <th>Daily Internet Usage</th>\n",
       "      <th>Male</th>\n",
       "      <th>Clicked on Ad</th>\n",
       "    </tr>\n",
       "  </thead>\n",
       "  <tbody>\n",
       "    <tr>\n",
       "      <th>count</th>\n",
       "      <td>987.000000</td>\n",
       "      <td>1000.000000</td>\n",
       "      <td>987.000000</td>\n",
       "      <td>989.000000</td>\n",
       "      <td>997.000000</td>\n",
       "      <td>1000.00000</td>\n",
       "    </tr>\n",
       "    <tr>\n",
       "      <th>mean</th>\n",
       "      <td>64.929524</td>\n",
       "      <td>36.009000</td>\n",
       "      <td>54980.667234</td>\n",
       "      <td>179.863620</td>\n",
       "      <td>0.480441</td>\n",
       "      <td>0.50000</td>\n",
       "    </tr>\n",
       "    <tr>\n",
       "      <th>std</th>\n",
       "      <td>15.844699</td>\n",
       "      <td>8.785562</td>\n",
       "      <td>13439.998510</td>\n",
       "      <td>43.870142</td>\n",
       "      <td>0.499868</td>\n",
       "      <td>0.50025</td>\n",
       "    </tr>\n",
       "    <tr>\n",
       "      <th>min</th>\n",
       "      <td>32.600000</td>\n",
       "      <td>19.000000</td>\n",
       "      <td>13996.500000</td>\n",
       "      <td>104.780000</td>\n",
       "      <td>0.000000</td>\n",
       "      <td>0.00000</td>\n",
       "    </tr>\n",
       "    <tr>\n",
       "      <th>25%</th>\n",
       "      <td>51.270000</td>\n",
       "      <td>29.000000</td>\n",
       "      <td>46947.570000</td>\n",
       "      <td>138.710000</td>\n",
       "      <td>0.000000</td>\n",
       "      <td>0.00000</td>\n",
       "    </tr>\n",
       "    <tr>\n",
       "      <th>50%</th>\n",
       "      <td>68.110000</td>\n",
       "      <td>35.000000</td>\n",
       "      <td>57009.760000</td>\n",
       "      <td>182.650000</td>\n",
       "      <td>0.000000</td>\n",
       "      <td>0.50000</td>\n",
       "    </tr>\n",
       "    <tr>\n",
       "      <th>75%</th>\n",
       "      <td>78.460000</td>\n",
       "      <td>42.000000</td>\n",
       "      <td>65479.350000</td>\n",
       "      <td>218.790000</td>\n",
       "      <td>1.000000</td>\n",
       "      <td>1.00000</td>\n",
       "    </tr>\n",
       "    <tr>\n",
       "      <th>max</th>\n",
       "      <td>91.430000</td>\n",
       "      <td>61.000000</td>\n",
       "      <td>79484.800000</td>\n",
       "      <td>267.010000</td>\n",
       "      <td>1.000000</td>\n",
       "      <td>1.00000</td>\n",
       "    </tr>\n",
       "  </tbody>\n",
       "</table>\n",
       "</div>"
      ],
      "text/plain": [
       "       Daily Time Spent on Site          Age   Area Income  \\\n",
       "count                987.000000  1000.000000    987.000000   \n",
       "mean                  64.929524    36.009000  54980.667234   \n",
       "std                   15.844699     8.785562  13439.998510   \n",
       "min                   32.600000    19.000000  13996.500000   \n",
       "25%                   51.270000    29.000000  46947.570000   \n",
       "50%                   68.110000    35.000000  57009.760000   \n",
       "75%                   78.460000    42.000000  65479.350000   \n",
       "max                   91.430000    61.000000  79484.800000   \n",
       "\n",
       "       Daily Internet Usage        Male  Clicked on Ad  \n",
       "count            989.000000  997.000000     1000.00000  \n",
       "mean             179.863620    0.480441        0.50000  \n",
       "std               43.870142    0.499868        0.50025  \n",
       "min              104.780000    0.000000        0.00000  \n",
       "25%              138.710000    0.000000        0.00000  \n",
       "50%              182.650000    0.000000        0.50000  \n",
       "75%              218.790000    1.000000        1.00000  \n",
       "max              267.010000    1.000000        1.00000  "
      ]
     },
     "execution_count": 194,
     "metadata": {},
     "output_type": "execute_result"
    }
   ],
   "source": [
    "# Gain an overview of the descriptive statistics of the dataset\n",
    "df.describe(include=[\"float64\", \"int64\"])"
   ]
  },
  {
   "cell_type": "code",
   "execution_count": 195,
   "metadata": {},
   "outputs": [
    {
     "name": "stdout",
     "output_type": "stream",
     "text": [
      "There are no outliers in the Daily Time Spent on Site column\n",
      "There are no outliers in the Age column\n",
      "There are outliers in the Area Income 8 rows\n",
      "There are no outliers in the Daily Internet Usage column\n",
      "There are no outliers in the Male column\n",
      "There are no outliers in the Clicked on Ad column\n"
     ]
    }
   ],
   "source": [
    "# Detect outliers using IQR range \n",
    "def detect_outliers_iqr(df, column):\n",
    "    q1 = df[column].quantile(0.25)\n",
    "    q3 = df[column].quantile(0.75)\n",
    "    iqr = q3 - q1\n",
    "    lower_bound = q1 - 1.5 * iqr\n",
    "    upper_bound = q3 + 1.5 * iqr\n",
    "    outliers = df[(df[column] < lower_bound) | (df[column] > upper_bound)]\n",
    "\n",
    "    return outliers, lower_bound, upper_bound\n",
    "\n",
    "# Check for outliers in the numerical features\n",
    "for column in num_features:\n",
    "    outliers, lower_bound, upper_bound = detect_outliers_iqr(df, column)\n",
    "    if not outliers.empty:\n",
    "        print(f\"There are outliers in the {column} {len(outliers)} rows\")\n",
    "    else:\n",
    "        print(f\"There are no outliers in the {column} column\")"
   ]
  },
  {
   "cell_type": "code",
   "execution_count": 196,
   "metadata": {},
   "outputs": [
    {
     "name": "stdout",
     "output_type": "stream",
     "text": [
      "The lower bound is: 19149.9\n",
      "The upper bound is: 93277.01999999999\n"
     ]
    }
   ],
   "source": [
    "# Check the outlier range from the lower and upper bounds \n",
    "outliers, lower_bound, upper_bound = detect_outliers_iqr(df, \"Area Income\")\n",
    "print(f\"The lower bound is: {lower_bound}\")\n",
    "print(f\"The upper bound is: {upper_bound}\")"
   ]
  },
  {
   "cell_type": "code",
   "execution_count": 197,
   "metadata": {},
   "outputs": [
    {
     "data": {
      "application/vnd.plotly.v1+json": {
       "config": {
        "plotlyServerURL": "https://plot.ly"
       },
       "data": [
        {
         "alignmentgroup": "True",
         "hovertemplate": "Daily Time Spent on Site=%{y}<extra></extra>",
         "legendgroup": "",
         "marker": {
          "color": "#636efa"
         },
         "name": "",
         "notched": false,
         "offsetgroup": "",
         "orientation": "v",
         "showlegend": false,
         "type": "box",
         "x0": " ",
         "xaxis": "x",
         "y": [
          68.95,
          80.23,
          69.47,
          74.15,
          68.37,
          59.99,
          88.91,
          66,
          74.53,
          69.88,
          47.64,
          83.07,
          69.57,
          79.52,
          42.95,
          63.45,
          55.39,
          82.03,
          54.7,
          74.58,
          77.22,
          84.59,
          41.49,
          87.29,
          41.39,
          null,
          48.53,
          51.95,
          70.2,
          76.02,
          67.64,
          86.41,
          59.05,
          55.6,
          57.64,
          84.37,
          62.26,
          65.82,
          50.43,
          null,
          84.98,
          64.24,
          82.52,
          81.38,
          80.47,
          37.68,
          69.62,
          85.4,
          44.33,
          48.01,
          73.18,
          79.94,
          33.33,
          50.33,
          62.31,
          80.6,
          65.19,
          44.98,
          77.63,
          41.82,
          85.61,
          85.84,
          72.08,
          null,
          45.96,
          62.42,
          63.89,
          35.33,
          75.74,
          78.53,
          46.13,
          69.01,
          55.35,
          33.21,
          38.46,
          64.1,
          49.81,
          82.73,
          56.14,
          55.13,
          78.11,
          73.46,
          56.64,
          68.94,
          70.79,
          57.76,
          77.51,
          52.7,
          57.7,
          56.89,
          69.9,
          55.79,
          70.03,
          50.08,
          43.67,
          72.84,
          45.72,
          39.94,
          35.61,
          79.71,
          41.49,
          63.6,
          89.91,
          68.18,
          66.49,
          80.49,
          72.23,
          42.39,
          47.53,
          74.02,
          null,
          63.24,
          71,
          46.13,
          69,
          76.99,
          72.6,
          61.88,
          84.45,
          88.97,
          86.19,
          49.58,
          77.65,
          37.75,
          62.33,
          79.57,
          80.31,
          89.05,
          70.41,
          67.36,
          46.98,
          41.67,
          51.24,
          75.7,
          43.49,
          49.89,
          38.37,
          38.52,
          71.89,
          75.8,
          83.86,
          37.51,
          55.6,
          83.67,
          69.08,
          37.47,
          56.04,
          70.92,
          49.78,
          68.61,
          58.18,
          null,
          37,
          65.4,
          79.52,
          87.98,
          44.64,
          41.73,
          80.46,
          75.55,
          76.32,
          82.68,
          72.01,
          75.83,
          41.28,
          34.66,
          66.18,
          86.06,
          59.59,
          86.69,
          43.77,
          71.84,
          80.23,
          74.41,
          63.36,
          71.74,
          60.72,
          72.04,
          44.57,
          85.86,
          39.85,
          84.53,
          62.95,
          67.58,
          85.56,
          46.88,
          46.31,
          77.95,
          84.73,
          39.86,
          50.08,
          60.23,
          60.7,
          43.67,
          77.2,
          71.86,
          44.78,
          78.57,
          73.41,
          77.05,
          66.4,
          69.35,
          35.65,
          70.04,
          69.78,
          58.22,
          76.9,
          84.08,
          59.51,
          40.15,
          76.81,
          41.89,
          76.87,
          67.28,
          81.98,
          66.01,
          61.57,
          53.3,
          34.87,
          43.6,
          77.88,
          75.83,
          49.95,
          60.94,
          89.15,
          78.7,
          57.35,
          34.86,
          70.68,
          76.06,
          66.67,
          46.77,
          62.42,
          78.32,
          37.32,
          40.42,
          76.77,
          65.65,
          74.32,
          73.27,
          80.03,
          53.68,
          85.84,
          85.03,
          70.44,
          81.22,
          39.96,
          57.05,
          42.44,
          62.2,
          76.7,
          61.22,
          84.54,
          46.08,
          56.7,
          81.03,
          null,
          40.06,
          83.47,
          73.84,
          74.65,
          60.25,
          59.21,
          43.02,
          84.04,
          70.66,
          70.58,
          72.44,
          40.17,
          79.15,
          44.49,
          73.04,
          76.28,
          68.88,
          73.1,
          47.66,
          87.3,
          89.34,
          81.37,
          81.67,
          46.37,
          54.88,
          40.67,
          71.76,
          47.51,
          75.15,
          56.01,
          82.87,
          45.05,
          60.53,
          50.52,
          84.71,
          55.2,
          81.61,
          71.55,
          82.4,
          73.95,
          72.07,
          80.39,
          65.8,
          69.97,
          52.62,
          39.25,
          77.56,
          33.52,
          79.81,
          84.79,
          82.7,
          84.88,
          54.92,
          76.56,
          69.74,
          75.55,
          72.19,
          84.29,
          73.89,
          75.84,
          73.38,
          80.72,
          62.06,
          51.5,
          90.97,
          86.78,
          66.18,
          84.33,
          36.87,
          34.78,
          76.84,
          67.05,
          41.47,
          80.71,
          80.09,
          56.3,
          79.36,
          86.38,
          38.94,
          87.26,
          75.32,
          74.38,
          65.9,
          36.31,
          72.23,
          88.12,
          83.97,
          61.09,
          65.77,
          81.58,
          37.87,
          76.2,
          60.91,
          74.49,
          73.71,
          78.19,
          79.54,
          74.87,
          87.09,
          37.45,
          49.84,
          51.38,
          83.4,
          38.91,
          62.14,
          79.72,
          73.3,
          null,
          71.9,
          72.45,
          77.07,
          74.62,
          82.07,
          58.6,
          36.08,
          79.44,
          41.73,
          73.19,
          77.6,
          89,
          69.2,
          67.56,
          81.11,
          80.22,
          43.63,
          77.66,
          74.63,
          49.67,
          80.59,
          83.49,
          44.46,
          68.1,
          63.88,
          78.83,
          79.97,
          80.51,
          62.26,
          66.99,
          71.05,
          42.05,
          50.52,
          76.24,
          77.29,
          35.98,
          84.95,
          39.34,
          87.23,
          57.24,
          81.58,
          56.34,
          48.73,
          51.68,
          35.34,
          48.09,
          78.68,
          68.82,
          56.99,
          86.63,
          41.18,
          71.03,
          72.92,
          77.14,
          60.7,
          34.3,
          83.71,
          53.38,
          58.03,
          43.59,
          60.07,
          54.43,
          81.99,
          60.53,
          84.69,
          88.72,
          88.89,
          69.58,
          85.23,
          83.55,
          56.66,
          56.39,
          76.24,
          57.64,
          78.18,
          46.04,
          79.4,
          36.44,
          53.14,
          32.84,
          73.72,
          38.1,
          73.93,
          51.87,
          77.69,
          43.41,
          55.92,
          80.67,
          83.42,
          82.12,
          66.17,
          43.01,
          80.05,
          64.88,
          79.82,
          48.03,
          32.99,
          74.88,
          36.49,
          88.04,
          45.7,
          82.38,
          52.68,
          65.59,
          65.65,
          43.84,
          67.69,
          78.37,
          81.46,
          47.48,
          75.15,
          78.76,
          44.96,
          39.56,
          39.76,
          57.11,
          83.26,
          69.42,
          50.6,
          46.2,
          66.88,
          83.97,
          76.56,
          35.49,
          80.29,
          50.19,
          59.12,
          59.88,
          59.7,
          67.8,
          81.59,
          81.1,
          41.7,
          73.94,
          58.35,
          51.56,
          79.81,
          66.17,
          58.21,
          66.12,
          80.47,
          77.05,
          49.99,
          80.3,
          79.36,
          57.86,
          70.29,
          84.53,
          59.13,
          81.51,
          42.94,
          84.81,
          82.79,
          59.22,
          35,
          46.61,
          63.26,
          79.16,
          67.94,
          79.91,
          66.14,
          43.65,
          59.61,
          46.61,
          89.37,
          65.1,
          53.44,
          79.53,
          91.43,
          73.57,
          78.76,
          76.49,
          61.72,
          84.53,
          72.03,
          77.47,
          75.65,
          78.15,
          63.8,
          76.59,
          42.6,
          78.77,
          83.4,
          79.53,
          73.89,
          75.8,
          81.95,
          56.39,
          44.73,
          38.35,
          72.53,
          56.2,
          79.67,
          75.42,
          78.64,
          67.69,
          38.35,
          59.52,
          62.26,
          64.75,
          79.97,
          47.9,
          80.38,
          64.51,
          71.28,
          50.32,
          72.76,
          72.8,
          74.59,
          46.66,
          48.86,
          37.05,
          81.21,
          66.89,
          68.11,
          69.15,
          65.72,
          40.04,
          68.6,
          56.16,
          78.6,
          78.29,
          43.83,
          77.31,
          39.86,
          66.77,
          57.2,
          73.15,
          82.07,
          49.84,
          43.97,
          77.25,
          74.84,
          83.53,
          38.63,
          84,
          52.13,
          71.83,
          78.36,
          50.18,
          64.67,
          69.5,
          65.22,
          62.06,
          84.29,
          32.91,
          39.5,
          75.19,
          76.21,
          67.76,
          40.01,
          52.7,
          68.41,
          35.55,
          74.54,
          81.75,
          87.85,
          60.23,
          87.97,
          78.17,
          67.91,
          85.77,
          41.16,
          53.54,
          73.94,
          63.43,
          84.59,
          70.13,
          40.19,
          58.95,
          35.76,
          59.36,
          91.1,
          61.04,
          74.06,
          64.63,
          81.29,
          76.07,
          75.92,
          78.35,
          46.14,
          44.33,
          46.43,
          66.04,
          84.31,
          83.66,
          81.25,
          85.26,
          86.53,
          null,
          52.84,
          85.24,
          74.71,
          82.95,
          76.42,
          42.04,
          46.28,
          48.26,
          71.03,
          81.37,
          58.05,
          75,
          79.61,
          52.56,
          62.18,
          77.89,
          66.08,
          89.21,
          49.96,
          77.44,
          82.58,
          39.36,
          47.23,
          87.85,
          65.57,
          78.01,
          44.15,
          43.57,
          76.83,
          42.06,
          76.27,
          74.27,
          73.27,
          74.58,
          77.5,
          87.16,
          87.16,
          66.26,
          65.15,
          68.25,
          73.49,
          39.19,
          80.15,
          null,
          73.88,
          58.6,
          69.77,
          87.27,
          77.65,
          76.02,
          78.84,
          71.33,
          81.9,
          46.89,
          77.8,
          45.44,
          69.96,
          87.35,
          49.42,
          71.27,
          49.19,
          39.96,
          85.01,
          68.95,
          67.59,
          75.71,
          43.07,
          39.47,
          48.22,
          76.76,
          78.74,
          67.47,
          81.17,
          89.66,
          79.6,
          65.53,
          61.87,
          83.16,
          44.11,
          56.57,
          83.91,
          79.8,
          71.23,
          47.23,
          82.37,
          43.63,
          70.9,
          71.9,
          null,
          67.35,
          57.99,
          66.8,
          49.13,
          45.11,
          54.35,
          61.82,
          77.75,
          70.61,
          82.72,
          76.87,
          65.07,
          56.93,
          48.86,
          36.56,
          85.73,
          75.81,
          72.94,
          53.63,
          52.35,
          52.84,
          51.58,
          42.32,
          55.04,
          68.58,
          85.54,
          71.14,
          64.38,
          88.85,
          66.79,
          32.6,
          43.88,
          56.46,
          72.18,
          52.67,
          80.55,
          67.85,
          75.55,
          80.46,
          82.69,
          35.21,
          36.37,
          74.07,
          59.96,
          85.62,
          40.88,
          36.98,
          35.49,
          56.56,
          36.62,
          49.35,
          75.64,
          79.22,
          77.05,
          66.83,
          76.2,
          56.64,
          53.33,
          50.63,
          41.84,
          53.92,
          83.89,
          55.32,
          53.22,
          43.16,
          67.51,
          43.16,
          79.89,
          84.25,
          74.18,
          85.78,
          80.96,
          36.91,
          54.47,
          81.98,
          79.6,
          57.51,
          82.3,
          73.21,
          79.09,
          68.47,
          83.69,
          83.48,
          43.49,
          66.69,
          48.46,
          42.51,
          42.83,
          41.46,
          45.99,
          68.72,
          63.11,
          49.21,
          55.77,
          44.13,
          57.82,
          72.46,
          61.88,
          78.24,
          74.61,
          89.18,
          44.16,
          55.74,
          88.82,
          70.39,
          59.05,
          78.58,
          35.11,
          60.39,
          81.56,
          75.03,
          50.87,
          82.8,
          78.51,
          37.65,
          83.17,
          91.37,
          68.25,
          81.32,
          76.64,
          74.06,
          39.53,
          86.58,
          90.75,
          67.71,
          82.41,
          45.82,
          76.79,
          70.05,
          72.19,
          77.35,
          40.34,
          67.39,
          68.68,
          81.75,
          66.03,
          null,
          79.18,
          86.81,
          41.53,
          70.92,
          46.84,
          44.4,
          52.17,
          81.45,
          54.08,
          76.65,
          54.39,
          37.74,
          69.86,
          85.37,
          80.99,
          78.84,
          77.36,
          55.46,
          35.66,
          50.78,
          40.47,
          45.62,
          84.76,
          80.64,
          75.94,
          37.01,
          87.18,
          56.91,
          75.24,
          42.84,
          67.56,
          34.96,
          87.46,
          41.86,
          34.04,
          54.96,
          87.14,
          78.79,
          65.56,
          81.05,
          55.71,
          45.48,
          47,
          59.64,
          35.98,
          72.55,
          null,
          80.53,
          82.49,
          80.94,
          61.76,
          63.3,
          36.73,
          78.41,
          83.98,
          63.18,
          50.6,
          32.6,
          60.83,
          44.72,
          78.76,
          79.51,
          39.3,
          64.79,
          89.8,
          72.82,
          38.65,
          59.01,
          78.96,
          63.99,
          41.35,
          62.79,
          45.53,
          51.65,
          54.55,
          35.66,
          69.95,
          79.83,
          85.35,
          56.78,
          78.67,
          70.09,
          60.75,
          65.07,
          35.25,
          37.58,
          68.01,
          45.08,
          63.04,
          40.18,
          45.17,
          50.48,
          80.87,
          41.88,
          39.87,
          61.84,
          54.97,
          71.4,
          70.29,
          67.26,
          76.58,
          54.37,
          82.79,
          66.47,
          72.88,
          76.44,
          63.37,
          89.71,
          70.96,
          35.79,
          38.96,
          69.17,
          64.2,
          43.7,
          72.97,
          51.3,
          null,
          55.55,
          45.01
         ],
         "y0": " ",
         "yaxis": "y"
        },
        {
         "alignmentgroup": "True",
         "hovertemplate": "Age=%{y}<extra></extra>",
         "legendgroup": "",
         "marker": {
          "color": "#636efa"
         },
         "name": "",
         "notched": false,
         "offsetgroup": "",
         "orientation": "v",
         "showlegend": false,
         "type": "box",
         "x0": " ",
         "xaxis": "x2",
         "y": [
          35,
          31,
          26,
          29,
          35,
          23,
          33,
          48,
          30,
          20,
          49,
          37,
          48,
          24,
          33,
          23,
          37,
          41,
          36,
          40,
          30,
          35,
          52,
          36,
          41,
          28,
          28,
          52,
          34,
          22,
          35,
          28,
          57,
          23,
          57,
          30,
          53,
          39,
          46,
          39,
          29,
          30,
          32,
          31,
          25,
          52,
          20,
          43,
          37,
          46,
          23,
          28,
          45,
          50,
          47,
          31,
          36,
          49,
          29,
          41,
          27,
          34,
          29,
          32,
          45,
          29,
          40,
          32,
          25,
          34,
          31,
          46,
          39,
          43,
          42,
          22,
          35,
          33,
          38,
          45,
          27,
          28,
          38,
          54,
          31,
          41,
          36,
          34,
          34,
          37,
          43,
          24,
          26,
          40,
          31,
          26,
          36,
          41,
          46,
          34,
          53,
          23,
          40,
          21,
          20,
          40,
          25,
          42,
          30,
          32,
          60,
          53,
          22,
          46,
          32,
          31,
          55,
          42,
          50,
          45,
          31,
          26,
          27,
          36,
          43,
          31,
          44,
          45,
          27,
          37,
          50,
          36,
          36,
          29,
          47,
          39,
          36,
          38,
          23,
          38,
          31,
          30,
          44,
          44,
          41,
          44,
          49,
          41,
          46,
          57,
          25,
          35,
          48,
          33,
          27,
          38,
          36,
          28,
          27,
          36,
          35,
          33,
          31,
          24,
          50,
          32,
          55,
          31,
          42,
          34,
          52,
          47,
          31,
          26,
          48,
          35,
          44,
          22,
          31,
          34,
          38,
          27,
          60,
          41,
          29,
          54,
          57,
          31,
          30,
          36,
          30,
          35,
          49,
          53,
          33,
          32,
          45,
          36,
          31,
          27,
          40,
          29,
          40,
          31,
          29,
          29,
          28,
          30,
          58,
          38,
          28,
          38,
          27,
          43,
          40,
          23,
          53,
          34,
          40,
          38,
          37,
          27,
          39,
          41,
          42,
          30,
          29,
          38,
          31,
          23,
          33,
          32,
          38,
          28,
          50,
          45,
          36,
          30,
          33,
          32,
          44,
          47,
          32,
          30,
          24,
          53,
          45,
          41,
          56,
          25,
          36,
          45,
          33,
          30,
          48,
          28,
          32,
          38,
          39,
          31,
          28,
          35,
          35,
          44,
          38,
          43,
          26,
          34,
          26,
          26,
          53,
          37,
          33,
          37,
          28,
          29,
          35,
          32,
          26,
          28,
          52,
          24,
          35,
          35,
          51,
          22,
          26,
          37,
          42,
          24,
          31,
          32,
          39,
          33,
          36,
          36,
          35,
          31,
          31,
          25,
          28,
          50,
          39,
          38,
          43,
          24,
          33,
          35,
          32,
          54,
          34,
          49,
          22,
          33,
          41,
          39,
          21,
          25,
          31,
          44,
          34,
          37,
          30,
          35,
          41,
          36,
          48,
          32,
          25,
          31,
          26,
          31,
          49,
          34,
          40,
          41,
          35,
          28,
          40,
          22,
          47,
          48,
          38,
          28,
          26,
          21,
          25,
          52,
          37,
          19,
          28,
          23,
          30,
          44,
          52,
          36,
          47,
          39,
          59,
          34,
          33,
          41,
          28,
          36,
          42,
          54,
          29,
          40,
          36,
          25,
          50,
          45,
          26,
          47,
          25,
          24,
          37,
          42,
          31,
          39,
          30,
          41,
          29,
          26,
          27,
          37,
          33,
          42,
          40,
          38,
          36,
          44,
          28,
          26,
          47,
          20,
          51,
          28,
          40,
          27,
          47,
          34,
          43,
          29,
          52,
          41,
          50,
          27,
          49,
          45,
          33,
          29,
          20,
          40,
          39,
          43,
          32,
          29,
          24,
          43,
          41,
          45,
          35,
          31,
          36,
          42,
          37,
          33,
          29,
          31,
          32,
          35,
          43,
          36,
          39,
          42,
          27,
          27,
          36,
          23,
          32,
          35,
          39,
          38,
          40,
          32,
          34,
          44,
          50,
          22,
          28,
          24,
          34,
          25,
          52,
          33,
          35,
          25,
          42,
          26,
          40,
          45,
          27,
          52,
          45,
          33,
          35,
          23,
          47,
          25,
          36,
          37,
          24,
          29,
          31,
          33,
          24,
          50,
          41,
          28,
          22,
          40,
          25,
          30,
          37,
          35,
          40,
          30,
          48,
          31,
          40,
          33,
          30,
          28,
          30,
          35,
          29,
          39,
          27,
          37,
          46,
          37,
          26,
          37,
          49,
          42,
          31,
          41,
          58,
          33,
          30,
          26,
          33,
          44,
          41,
          37,
          32,
          34,
          55,
          40,
          42,
          29,
          32,
          43,
          32,
          41,
          39,
          21,
          52,
          34,
          49,
          42,
          51,
          39,
          30,
          32,
          23,
          26,
          35,
          34,
          36,
          39,
          33,
          38,
          29,
          55,
          28,
          39,
          33,
          35,
          36,
          31,
          58,
          35,
          33,
          37,
          49,
          28,
          26,
          31,
          44,
          41,
          44,
          37,
          36,
          26,
          42,
          30,
          42,
          37,
          40,
          33,
          35,
          23,
          45,
          54,
          39,
          36,
          23,
          38,
          46,
          36,
          27,
          33,
          25,
          46,
          38,
          45,
          32,
          28,
          25,
          42,
          25,
          24,
          38,
          36,
          27,
          37,
          36,
          48,
          48,
          50,
          40,
          24,
          35,
          51,
          26,
          30,
          40,
          30,
          37,
          31,
          31,
          31,
          31,
          53,
          41,
          38,
          39,
          24,
          24,
          31,
          60,
          35,
          27,
          23,
          27,
          49,
          39,
          26,
          29,
          36,
          31,
          37,
          55,
          51,
          49,
          40,
          41,
          23,
          45,
          28,
          36,
          22,
          46,
          28,
          41,
          28,
          27,
          29,
          38,
          33,
          32,
          46,
          26,
          43,
          31,
          46,
          39,
          26,
          49,
          26,
          50,
          55,
          33,
          32,
          29,
          31,
          31,
          33,
          26,
          61,
          33,
          55,
          28,
          38,
          29,
          38,
          34,
          46,
          26,
          28,
          36,
          28,
          34,
          27,
          37,
          28,
          36,
          28,
          33,
          37,
          47,
          29,
          33,
          38,
          54,
          25,
          28,
          29,
          19,
          54,
          30,
          28,
          40,
          26,
          23,
          41,
          48,
          57,
          43,
          31,
          35,
          53,
          21,
          38,
          35,
          29,
          51,
          45,
          34,
          36,
          43,
          40,
          25,
          27,
          24,
          30,
          34,
          28,
          19,
          35,
          41,
          41,
          26,
          29,
          28,
          52,
          43,
          30,
          38,
          28,
          29,
          37,
          29,
          50,
          29,
          32,
          58,
          42,
          59,
          31,
          28,
          31,
          36,
          34,
          37,
          35,
          29,
          32,
          40,
          31,
          54,
          25,
          51,
          33,
          29,
          42,
          41,
          27,
          30,
          19,
          40,
          60,
          45,
          54,
          26,
          30,
          44,
          35,
          41,
          36,
          29,
          29,
          39,
          40,
          22,
          33,
          29,
          33,
          31,
          47,
          26,
          32,
          49,
          29,
          27,
          34,
          46,
          24,
          29,
          34,
          50,
          49,
          41,
          28,
          43,
          44,
          35,
          43,
          29,
          30,
          32,
          28,
          34,
          39,
          48,
          23,
          34,
          39,
          38,
          31,
          30,
          32,
          28,
          36,
          31,
          45,
          35,
          49,
          30,
          34,
          42,
          33,
          27,
          34,
          46,
          49,
          40,
          46,
          40,
          45,
          23,
          38,
          37,
          42,
          37,
          36,
          32,
          52,
          33,
          35,
          45,
          26,
          34,
          24,
          30,
          25,
          51,
          43,
          45,
          29,
          25,
          39,
          50,
          33,
          32,
          40,
          25,
          36,
          27,
          27,
          33,
          32,
          34,
          29,
          44,
          34,
          43,
          22,
          33,
          31,
          29,
          42,
          39,
          45,
          53,
          44,
          31,
          36,
          31,
          20,
          40,
          25,
          36,
          26,
          32,
          41,
          37,
          45,
          51,
          38,
          43,
          30,
          26,
          27,
          50,
          31,
          50,
          24,
          52,
          47,
          42,
          37,
          39,
          34,
          42,
          31,
          32,
          25,
          34,
          37,
          49,
          56,
          51,
          45,
          22,
          38,
          29,
          45,
          36,
          34,
          38,
          34,
          33,
          36,
          45,
          48,
          38,
          19,
          46,
          51,
          39,
          32,
          30,
          36,
          34,
          31,
          30,
          50,
          43,
          27,
          36,
          29,
          31,
          44,
          36,
          28,
          29,
          37,
          28,
          26,
          21,
          42,
          24,
          50,
          52,
          25,
          38,
          27,
          29,
          48,
          50,
          28,
          40,
          48,
          45,
          31,
          30,
          31,
          57,
          46,
          38,
          32,
          31,
          44,
          28,
          43,
          48,
          31,
          44,
          38,
          40,
          27,
          28,
          30,
          45,
          51,
          19,
          26
         ],
         "y0": " ",
         "yaxis": "y2"
        },
        {
         "alignmentgroup": "True",
         "hovertemplate": "Area Income=%{y}<extra></extra>",
         "legendgroup": "",
         "marker": {
          "color": "#636efa"
         },
         "name": "",
         "notched": false,
         "offsetgroup": "",
         "orientation": "v",
         "showlegend": false,
         "type": "box",
         "x0": " ",
         "xaxis": "x3",
         "y": [
          61833.9,
          68441.85,
          59785.94,
          54806.18,
          73889.99,
          59761.56,
          53852.85,
          24593.33,
          68862,
          55642.32,
          45632.51,
          62491.01,
          51636.92,
          51739.63,
          30976,
          52182.23,
          23936.86,
          71511.08,
          31087.54,
          23821.72,
          64802.33,
          60015.57,
          32635.7,
          61628.72,
          68962.32,
          64828,
          38067.08,
          58295.82,
          32708.94,
          46179.97,
          51473.28,
          45593.93,
          null,
          30227.98,
          45580.92,
          61389.5,
          56770.79,
          76435.3,
          57425.87,
          27508.41,
          57691.95,
          59784.18,
          66572.39,
          64929.61,
          57519.64,
          53575.48,
          null,
          67058.72,
          52723.34,
          54286.1,
          61526.25,
          58526.04,
          53350.11,
          62657.53,
          62722.57,
          67479.62,
          75254.88,
          52336.64,
          56113.37,
          24852.9,
          47708.42,
          64654.66,
          71228.44,
          61601.05,
          66281.46,
          73910.9,
          51317.33,
          51510.18,
          61005.87,
          32536.98,
          60248.97,
          74543.81,
          75509.61,
          42650.32,
          58183.04,
          60465.72,
          57009.76,
          54541.56,
          32689.04,
          55605.92,
          63296.87,
          65653.47,
          61652.53,
          30726.26,
          74535.94,
          47861.93,
          73600.28,
          58543.94,
          42696.67,
          37334.78,
          null,
          59550.05,
          64264.25,
          64147.86,
          25686.34,
          52968.22,
          22473.08,
          64927.19,
          51868.85,
          69456.83,
          31947.65,
          51864.77,
          59593.56,
          48376.14,
          56884.74,
          67186.54,
          46557.92,
          66541.05,
          33258.09,
          72272.9,
          60333.38,
          65229.13,
          56067.38,
          37838.72,
          72683.35,
          56729.78,
          66815.54,
          60223.52,
          29727.79,
          49269.98,
          57669.41,
          56791.75,
          63274.88,
          35466.8,
          68787.09,
          61227.59,
          56366.88,
          57868.44,
          66618.21,
          73104.47,
          21644.91,
          53817.02,
          76368.31,
          67633.44,
          50335.46,
          17709.98,
          41229.16,
          42581.23,
          61617.98,
          70575.6,
          64122.36,
          52097.32,
          65953.76,
          60192.72,
          77460.07,
          45716.48,
          65120.86,
          49995.63,
          71718.51,
          61770.34,
          69112.84,
          72524.86,
          36782.38,
          66699.12,
          64287.78,
          56637.59,
          55787.58,
          61142.33,
          null,
          73234.87,
          74166.24,
          62669.59,
          57756.89,
          58019.64,
          50960.08,
          48246.6,
          28271.84,
          53767.12,
          43662.1,
          62238.58,
          49030.03,
          76003.47,
          68094.85,
          64395.85,
          70053.27,
          72423.97,
          42995.8,
          null,
          38349.78,
          63115.34,
          31343.39,
          40763.13,
          36752.24,
          65044.59,
          53673.08,
          43444.86,
          44248.52,
          62572.88,
          39840.55,
          32593.59,
          41629.86,
          43313.73,
          42993.48,
          46004.31,
          49325.48,
          51633.34,
          63363.04,
          64045.93,
          73049.3,
          66624.6,
          77567.85,
          53431.35,
          31265.75,
          74780.74,
          70410.11,
          37345.24,
          66107.84,
          62336.39,
          39132.64,
          38745.29,
          65172.22,
          68519.96,
          54774.77,
          76246.96,
          65461.92,
          34127.21,
          35253.98,
          44893.71,
          59621.02,
          20856.54,
          55353.41,
          67516.07,
          68737.75,
          76893.84,
          59886.58,
          53441.69,
          41356.31,
          49942.66,
          74430.08,
          58633.63,
          72707.87,
          31092.93,
          74445.18,
          49309.14,
          56735.14,
          40183.75,
          58348.41,
          72209.99,
          62060.11,
          67113.46,
          24030.06,
          56180.93,
          62204.93,
          60372.64,
          65280.16,
          34309.24,
          59610.81,
          50278.89,
          43450.11,
          25408.21,
          71136.49,
          63883.81,
          64902.47,
          66784.81,
          62784.85,
          63727.5,
          61608.23,
          56782.18,
          64447.77,
          42042.95,
          67669.06,
          54875.95,
          73347.67,
          50199.77,
          50723.67,
          63450.96,
          56694.12,
          70547.16,
          47391.95,
          62312.23,
          63100.13,
          73687.5,
          52686.47,
          78119.5,
          57014.84,
          27086.4,
          58337.18,
          50216.01,
          53049.44,
          62927.96,
          32847.53,
          32006.82,
          48913.07,
          69285.69,
          53700.57,
          52011,
          46339.25,
          67938.77,
          66348.95,
          66873.9,
          72270.88,
          61610.05,
          76560.59,
          62667.51,
          75687.46,
          66744.65,
          67714.82,
          69710.51,
          66269.49,
          60843.32,
          55041.6,
          73863.25,
          62378.05,
          63336.85,
          42191.61,
          56194.56,
          61771.9,
          61383.79,
          63924.82,
          23975.35,
          70179.11,
          66524.8,
          41851.38,
          61275.18,
          60638.38,
          47160.53,
          48537.18,
          53058.91,
          68614.98,
          44174.25,
          67050.16,
          54520.14,
          54952.42,
          69476.42,
          54989.93,
          29398.61,
          42861.42,
          65883.39,
          65421.39,
          60953.93,
          58476.57,
          66636.84,
          67430.96,
          57260.41,
          66359.32,
          57587,
          63060.55,
          59998.5,
          74024.61,
          60550.66,
          57983.3,
          52736.33,
          46653.75,
          56986.73,
          55336.18,
          42162.9,
          39699.13,
          56394.82,
          75044.35,
          53309.61,
          58996.12,
          56605.12,
          62475.99,
          70492.6,
          43698.53,
          57737.51,
          31281.01,
          45800.48,
          42362.49,
          66691.23,
          56369.74,
          59397.89,
          66025.11,
          68211.35,
          73608.99,
          61228.96,
          72325.91,
          44559.43,
          73207.15,
          46722.07,
          45400.5,
          41417.27,
          60845.55,
          60812.77,
          64267.88,
          58151.87,
          52079.18,
          26023.99,
          62318.38,
          56216.57,
          61806.31,
          51662.24,
          67080.94,
          51975.41,
          28019.09,
          67744.56,
          66574,
          30487.48,
          74903.41,
          19991.72,
          66050.63,
          70449.04,
          64008.55,
          70203.74,
          27262.51,
          49544.41,
          28357.27,
          66929.03,
          75524.78,
          66265.34,
          55993.68,
          56379.3,
          31215.88,
          51015.11,
          46473.14,
          55479.62,
          68713.7,
          34191.23,
          null,
          46693.76,
          19345.36,
          66225.72,
          38609.2,
          37713.23,
          63764.28,
          41866.55,
          57846.68,
          69428.73,
          60283.98,
          79332.33,
          53167.68,
          64564.07,
          60803.37,
          28387.42,
          58849.77,
          65963.37,
          75180.2,
          61270.14,
          56759.48,
          46160.63,
          43870.51,
          50439.49,
          28028.74,
          64238.71,
          65816.38,
          72684.44,
          38817.4,
          63976.44,
          37212.54,
          52691.79,
          65499.93,
          63966.72,
          52400.88,
          49111.47,
          41232.89,
          52140.04,
          60641.09,
          74180.05,
          51869.87,
          48852.58,
          59144.02,
          33951.63,
          58909.36,
          49850.52,
          28679.93,
          null,
          48347.64,
          45959.86,
          70005.51,
          51512.66,
          25598.75,
          49282.87,
          67240.25,
          42136.33,
          62589.84,
          67384.31,
          25603.93,
          39616,
          28265.81,
          63879.72,
          70592.81,
          76408.19,
          55015.08,
          51636.12,
          29359.2,
          71296.67,
          46422.76,
          52802,
          59243.46,
          35350.55,
          59677.64,
          70225.6,
          65791.17,
          34191.13,
          51315.38,
          62790.96,
          66291.67,
          68030.18,
          43974.49,
          49457.48,
          33987.27,
          28210.03,
          75535.14,
          49158.5,
          39809.69,
          65826.53,
          61172.07,
          42898.21,
          68333.01,
          70232.95,
          63102.19,
          51847.26,
          63580.22,
          47575.44,
          39031.89,
          70505.06,
          62161.26,
          61068.26,
          49090.51,
          62330.75,
          18819.34,
          62053.37,
          61922.06,
          49525.37,
          53412.32,
          56681.65,
          43299.63,
          47997.75,
          39131.53,
          46033.73,
          65856.74,
          54787.37,
          69562.46,
          68447.17,
          62772.42,
          78092.95,
          63649.04,
          60637.62,
          27241.11,
          42760.22,
          59457.52,
          42907.89,
          46132.18,
          46964.11,
          70377.23,
          70012.83,
          56457.01,
          67279.06,
          null,
          70783.94,
          70510.59,
          64021.55,
          72042.85,
          36037.33,
          67526.92,
          55121.65,
          63497.62,
          60879.48,
          61467.33,
          70495.64,
          71222.4,
          64698.58,
          32252.38,
          55316.97,
          47447.89,
          73474.82,
          53549.94,
          58576.12,
          63373.7,
          60283.47,
          37345.34,
          34886.01,
          67511.86,
          77988.71,
          63001.03,
          61747.98,
          48467.68,
          55130.96,
          79484.8,
          67307.43,
          27964.6,
          66431.87,
          63551.67,
          40135.06,
          49101.67,
          53188.69,
          49742.83,
          63394.41,
          64433.99,
          73884.48,
          36424.94,
          28275.48,
          48098.86,
          68448.94,
          66429.84,
          41768.13,
          57844.96,
          35684.82,
          62792.43,
          51171.23,
          58847.07,
          57739.03,
          64631.22,
          50337.93,
          67781.31,
          68863.95,
          55901.12,
          64775.1,
          67686.16,
          57777.11,
          46868.53,
          40926.93,
          22205.74,
          58920.44,
          63006.14,
          24316.61,
          68348.99,
          66263.37,
          63493.6,
          56984.09,
          51691.55,
          49911.25,
          33502.57,
          65834.97,
          66176.97,
          51463.17,
          41059.64,
          61428.18,
          51593.46,
          57518.73,
          52656.13,
          52178.98,
          46239.14,
          48918.55,
          65227.79,
          55002.05,
          52261.73,
          59448.44,
          47314.45,
          55411.06,
          66504.16,
          47169.14,
          70889.68,
          55358.88,
          56242.7,
          45522.44,
          46931.03,
          55499.69,
          75805.12,
          40345.49,
          15598.29,
          33239.2,
          68033.54,
          38427.66,
          53185.34,
          39723.97,
          43386.07,
          53922.43,
          71881.84,
          47139.21,
          68877.02,
          65186.58,
          55424.24,
          46500.11,
          58820.16,
          28495.21,
          null,
          37908.29,
          69805.7,
          60315.19,
          67323,
          50055.33,
          43573.66,
          28186.65,
          66412.04,
          15879.1,
          63965.16,
          58342.63,
          33147.19,
          65899.68,
          64188.5,
          58966.22,
          44078.24,
          60968.62,
          65620.25,
          65496.78,
          52462.04,
          70582.55,
          51816.27,
          23410.75,
          62729.4,
          48867.67,
          50971.73,
          67990.84,
          43241.19,
          60082.66,
          65180.97,
          67301.39,
          70701.31,
          60997.84,
          60805.93,
          null,
          14548.06,
          41335.84,
          76480.16,
          67132.46,
          52581.16,
          55195.61,
          48679.54,
          63109.74,
          44490.09,
          57667.99,
          51824.01,
          66198.66,
          73174.19,
          56593.8,
          31072.44,
          66773.83,
          72553.94,
          43708.88,
          48453.55,
          73413.87,
          58114.3,
          45465.25,
          50147.72,
          61004.51,
          53898.89,
          59797.64,
          74623.27,
          58677.69,
          62109.8,
          60583.02,
          65576.05,
          73882.91,
          50468.36,
          51409.45,
          60514.05,
          57195.96,
          52802.58,
          56570.06,
          51049.47,
          66629.61,
          70185.06,
          43111.41,
          56435.6,
          53223.58,
          57179.91,
          41521.28,
          73538.09,
          63664.32,
          61757.12,
          71727.51,
          72203.96,
          50671.6,
          47510.42,
          62466.1,
          59683.16,
          41097.17,
          39799.73,
          76984.21,
          57877.15,
          59047.91,
          72154.68,
          65704.79,
          72948.76,
          73941.91,
          57887.64,
          62463.7,
          42838.29,
          43778.88,
          71157.05,
          74159.69,
          50333.72,
          33293.78,
          38641.2,
          49822.78,
          63891.29,
          43881.73,
          13996.5,
          48761.14,
          69758.31,
          52530.1,
          58363.12,
          60575.99,
          48206.04,
          31523.09,
          66187.58,
          69438.04,
          14775.5,
          68016.9,
          78520.99,
          31998.72,
          56909.3,
          61161.29,
          52340.1,
          47338.94,
          50950.24,
          77143.61,
          57032.36,
          48554.45,
          39552.49,
          36884.23,
          68783.45,
          51119.93,
          44304.13,
          69718.19,
          63429.18,
          65756.36,
          77871.75,
          47258.59,
          55984.89,
          44275.13,
          25767.16,
          37605.11,
          25739.09,
          60188.38,
          67682.32,
          44307.18,
          25371.52,
          23942.61,
          50666.5,
          50356.06,
          63936.5,
          69874.18,
          50038.65,
          67866.95,
          54645.2,
          46780.09,
          67432.49,
          73392.28,
          47682.28,
          56735.83,
          51013.37,
          69481.85,
          67033.34,
          68717,
          59340.99,
          47968.32,
          48758.92,
          61230.03,
          54755.71,
          54324.73,
          52177.4,
          51163.14,
          66861.67,
          63107.88,
          49206.4,
          55942.04,
          33601.84,
          48867.36,
          56683.32,
          38260.89,
          54106.21,
          71055.22,
          46403.18,
          61690.93,
          26130.93,
          58638.75,
          47357.39,
          50086.17,
          51772.58,
          47638.3,
          38987.42,
          51363.16,
          35764.49,
          62939.5,
          58776.67,
          59106.12,
          50457.01,
          54251.78,
          51920.49,
          70324.8,
          52416.18,
          null,
          60938.73,
          40243.82,
          60151.77,
          45945.88,
          63430.33,
          65882.81,
          64410.8,
          55677.12,
          75560.65,
          61067.58,
          72330.57,
          32549.95,
          51257.26,
          77220.42,
          52520.75,
          59422.47,
          22456.04,
          58443.99,
          50820.74,
          67575.12,
          66522.79,
          34903.67,
          43073.78,
          57594.7,
          66027.31,
          53012.94,
          61117.5,
          52563.22,
          65773.49,
          50506.44,
          66262.59,
          35521.88,
          62430.55,
          49597.08,
          42078.89,
          46197.59,
          49957,
          24078.93,
          53647.81,
          61039.13,
          46974.15,
          53042.51,
          48826.14,
          58287.86,
          21773.22,
          52252.91,
          27073.27,
          50628.31,
          36913.51,
          61009.1,
          53041.77,
          40182.84,
          59419.78,
          58235.21,
          68324.48,
          69646.35,
          54045.39,
          null,
          53336.76,
          50491.45,
          71455.62,
          43241.88,
          58953.01,
          36834.04,
          66345.1,
          38645.4,
          60803,
          33553.9,
          63071.34,
          46737.34,
          55368.67,
          68305.91,
          39211.49,
          65956.71,
          40159.2,
          40478.83,
          40468.53,
          66980.27,
          34942.26,
          48335.2,
          42251.59,
          57330.43,
          75769.82,
          51812.71,
          75265.96,
          69868.48,
          72802.42,
          39193.45,
          18368.57,
          56129.89,
          58996.56,
          41547.62,
          59240.24,
          56725.47,
          55764.43,
          64235.51,
          39939.39,
          63319.99,
          54725.87,
          69775.75,
          57545.56,
          47051.02,
          51600.47,
          68357.96,
          35349.26,
          69784.85,
          50760.23,
          34418.09,
          20592.99,
          63528.8,
          44217.68,
          47929.83,
          46024.29,
          null,
          72188.9,
          56974.51,
          25682.65,
          41884.64,
          72196.29,
          54429.17,
          58037.66,
          64011.26,
          59967.19,
          43155.19,
          51501.38,
          55187.85,
          33813.08,
          36497.22,
          66193.81,
          66200.96,
          63126.96,
          71384.57,
          67782.17,
          42415.72,
          41920.79,
          29875.8
         ],
         "y0": " ",
         "yaxis": "y3"
        },
        {
         "alignmentgroup": "True",
         "hovertemplate": "Daily Internet Usage=%{y}<extra></extra>",
         "legendgroup": "",
         "marker": {
          "color": "#636efa"
         },
         "name": "",
         "notched": false,
         "offsetgroup": "",
         "orientation": "v",
         "showlegend": false,
         "type": "box",
         "x0": " ",
         "xaxis": "x4",
         "y": [
          256.09,
          193.77,
          236.5,
          245.89,
          225.58,
          226.74,
          208.36,
          131.76,
          221.51,
          183.82,
          122.02,
          230.87,
          113.12,
          214.23,
          143.56,
          140.64,
          129.41,
          187.53,
          null,
          135.51,
          224.44,
          226.54,
          164.83,
          209.93,
          167.22,
          204.79,
          134.14,
          129.23,
          119.2,
          209.82,
          267.01,
          207.48,
          169.23,
          212.58,
          133.81,
          201.58,
          125.45,
          221.94,
          119.32,
          162.08,
          202.61,
          252.36,
          198.11,
          212.3,
          204.86,
          172.83,
          202.25,
          198.72,
          123.72,
          119.93,
          196.71,
          225.29,
          193.58,
          133.2,
          119.3,
          177.55,
          150.61,
          129.31,
          239.22,
          156.36,
          183.43,
          192.93,
          169.5,
          null,
          141.22,
          198.5,
          105.22,
          200.22,
          215.25,
          131.72,
          139.01,
          222.63,
          153.17,
          167.07,
          145.98,
          215.93,
          120.06,
          238.99,
          113.53,
          111.71,
          209.25,
          222.75,
          115.91,
          138.71,
          184.1,
          105.15,
          200.55,
          118.6,
          109.07,
          109.29,
          138.35,
          149.67,
          227.72,
          125.85,
          166.29,
          238.63,
          154.02,
          156.3,
          158.22,
          null,
          169.18,
          235.28,
          194.23,
          218.17,
          202.16,
          229.12,
          241.03,
          150.99,
          135.18,
          210.54,
          176.98,
          235.78,
          211.87,
          123.64,
          221.21,
          244.34,
          162.95,
          112.19,
          207.18,
          152.49,
          210.26,
          231.94,
          212.79,
          225.24,
          127.11,
          230.93,
          127.07,
          206.98,
          223.03,
          233.56,
          175.37,
          132.55,
          176.73,
          215.44,
          127.83,
          160.03,
          140.46,
          137.28,
          172.81,
          146.19,
          190.25,
          163,
          124.38,
          234.26,
          210.6,
          141.89,
          128.95,
          108.16,
          152.24,
          150.29,
          176.28,
          172.1,
          158.22,
          247.31,
          183.48,
          222.11,
          127.01,
          202.18,
          null,
          159.24,
          195.31,
          222.77,
          251,
          162.44,
          140.39,
          194.83,
          143.42,
          219.72,
          104.78,
          198.56,
          138.55,
          199.79,
          196.23,
          163.05,
          137.43,
          227.56,
          105.69,
          199.43,
          133.17,
          208.23,
          145.96,
          168.34,
          157.04,
          255.61,
          210.46,
          136.64,
          153.98,
          233.65,
          153.76,
          145.85,
          123.91,
          106.86,
          110.57,
          143.79,
          254.05,
          116.53,
          137.24,
          239.32,
          201.26,
          191.14,
          214.42,
          252.77,
          172.58,
          183.85,
          218.79,
          120.9,
          212.67,
          187.36,
          140.83,
          134.88,
          217.85,
          163.38,
          235.35,
          155.8,
          229.22,
          151.95,
          125.94,
          111.94,
          200.23,
          170.49,
          254.57,
          200.59,
          136.59,
          154.97,
          171.07,
          133.99,
          119.84,
          154.75,
          199.08,
          201.04,
          228.03,
          136.4,
          143.94,
          239.52,
          199.25,
          133.9,
          123.51,
          158.05,
          128.17,
          234.75,
          150.84,
          115.26,
          192.85,
          204.52,
          178.75,
          223.09,
          146.13,
          null,
          168.27,
          161.16,
          222.25,
          119.03,
          204.02,
          164.63,
          123.13,
          201.15,
          231.42,
          138.68,
          226.11,
          121.05,
          212.56,
          109.77,
          144.62,
          125.22,
          244.55,
          120.95,
          136.94,
          230.14,
          171.31,
          203.23,
          168,
          221.79,
          254.34,
          179.58,
          242.37,
          156.54,
          216.87,
          177.78,
          156.48,
          196.76,
          144.27,
          148.61,
          133.18,
          237.39,
          130.41,
          212.87,
          127.26,
          213.36,
          141.36,
          167.22,
          171.62,
          210.23,
          159.46,
          228.76,
          163.99,
          218.97,
          238.58,
          226.45,
          214.74,
          231.49,
          250,
          176.52,
          152.36,
          130.83,
          165.56,
          178.85,
          214.53,
          231.07,
          186.48,
          161.16,
          221.53,
          243.37,
          169.4,
          250.35,
          232.54,
          110.68,
          186.98,
          236.19,
          186.37,
          105,
          135.31,
          180.77,
          170.13,
          243.61,
          240.95,
          195.91,
          208.21,
          231.59,
          220.92,
          219.79,
          200.58,
          214.08,
          135.24,
          245.78,
          188.27,
          142.67,
          184.03,
          233.6,
          220.05,
          211.39,
          168.92,
          115.35,
          230.91,
          205.5,
          131.68,
          218.61,
          199.39,
          188.56,
          178.51,
          184.94,
          237.34,
          211.38,
          228.81,
          217.68,
          126.97,
          221.98,
          167.86,
          111.59,
          158.56,
          207.87,
          150.8,
          110.93,
          193.8,
          135.72,
          231.48,
          140.15,
          195.36,
          261.02,
          217.79,
          205.38,
          113.7,
          151.47,
          206.79,
          144.71,
          203.74,
          197.33,
          222.26,
          123.8,
          125.45,
          248.19,
          224.58,
          123.25,
          168.15,
          235.99,
          153.69,
          224.23,
          190.75,
          132.66,
          227.73,
          136.85,
          234.64,
          216,
          200.28,
          202.77,
          124.44,
          204.22,
          174.55,
          219.69,
          198.32,
          201.24,
          165.52,
          230.36,
          148.93,
          202.12,
          117.35,
          248.16,
          139.02,
          142.04,
          258.62,
          152.86,
          180.42,
          208.05,
          205.64,
          108.15,
          209.64,
          129.25,
          120.85,
          217.1,
          184.88,
          192.6,
          160.74,
          220.48,
          120.06,
          129.33,
          132.31,
          120.75,
          154.74,
          230.9,
          123.28,
          231.85,
          211.87,
          218.8,
          255.07,
          212.92,
          221.18,
          139.42,
          248.12,
          214.42,
          110.25,
          167.67,
          147.92,
          236.87,
          147.64,
          109,
          171.72,
          256.4,
          214.38,
          218.22,
          119.65,
          169.88,
          160.73,
          145.08,
          239.76,
          183.42,
          201.15,
          238.45,
          127.37,
          219.94,
          129.8,
          223.28,
          134.6,
          177.46,
          175.17,
          196.61,
          191.17,
          151.12,
          159.6,
          149.2,
          121.81,
          224.92,
          167.42,
          216.57,
          207.27,
          231.54,
          141.34,
          219.49,
          219.98,
          132.71,
          143.13,
          196.83,
          207.17,
          187.76,
          213.38,
          129.88,
          119.3,
          119.47,
          158.42,
          213.75,
          159.77,
          244.87,
          117.3,
          null,
          193.63,
          120.25,
          117.75,
          223.16,
          216.49,
          126.95,
          173.49,
          132.63,
          124.85,
          253.17,
          228.7,
          105.94,
          113.8,
          215.18,
          236.64,
          121.07,
          173.43,
          234.72,
          166.86,
          231.37,
          215.18,
          106.04,
          250.03,
          130.4,
          233.93,
          132.08,
          126.39,
          151.25,
          136.18,
          120.46,
          202.9,
          128.16,
          230.18,
          165.27,
          138.87,
          198.45,
          156.99,
          162.03,
          118.1,
          108.17,
          244.91,
          209.91,
          212.38,
          208.02,
          181.11,
          218.49,
          236.29,
          230.95,
          222.91,
          247.9,
          194.37,
          108.7,
          211.64,
          168.29,
          211.83,
          235.01,
          236.72,
          229.99,
          224.9,
          208.76,
          154.23,
          127.56,
          145.48,
          223.93,
          114.85,
          226.79,
          164.25,
          235.28,
          109.22,
          144.69,
          251.08,
          166.19,
          117.66,
          185.45,
          114.53,
          238.06,
          190.71,
          246.72,
          125.65,
          240.63,
          249.54,
          158.35,
          118.16,
          134.46,
          142.81,
          233.04,
          208.24,
          231.21,
          112.72,
          120.12,
          161.58,
          135.08,
          164.25,
          254.59,
          252.07,
          129.01,
          238.1,
          161.24,
          141.13,
          110.66,
          211.12,
          193.97,
          135.24,
          156.97,
          231.38,
          246.44,
          204.56,
          222.11,
          136.21,
          118.27,
          135.48,
          196.77,
          127.82,
          138.35,
          203.84,
          240.09,
          116.27,
          160.33,
          181.02,
          148.19,
          245.76,
          228.94,
          242.59,
          161.77,
          109.34,
          259.76,
          151.18,
          null,
          190.08,
          210.27,
          151.54,
          149.25,
          192.27,
          146.8,
          191.78,
          150.83,
          108.03,
          236.15,
          236.75,
          241.8,
          224.98,
          136.99,
          131.29,
          195.07,
          110.84,
          198.13,
          149.21,
          225.99,
          158.8,
          219.72,
          235.56,
          182.65,
          253.48,
          137.97,
          120.63,
          137.2,
          199.76,
          225.87,
          175.14,
          222.35,
          224.07,
          null,
          224.2,
          122.31,
          182.84,
          258.06,
          201.29,
          223.16,
          182.11,
          228.78,
          122.45,
          150.77,
          215.04,
          195.54,
          230.36,
          235.97,
          250.36,
          126.44,
          201.54,
          184.23,
          210.53,
          151.94,
          210.39,
          225.23,
          161.79,
          149.8,
          153.01,
          130.86,
          200.71,
          141.96,
          125.2,
          192.81,
          131.55,
          226.69,
          247.05,
          216.24,
          230.52,
          225.34,
          197.15,
          231.95,
          179.04,
          117.3,
          198.86,
          244.23,
          173.05,
          214.49,
          189.91,
          233.61,
          197.93,
          132.27,
          204.27,
          208.01,
          219.55,
          217.66,
          169.4,
          225.47,
          176.78,
          152.94,
          119.27,
          214.06,
          158.29,
          128,
          216.03,
          123.08,
          138.52,
          192.5,
          185.85,
          113.69,
          246.06,
          137.63,
          163.48,
          214.33,
          230.77,
          234.75,
          225.05,
          231.91,
          171.23,
          227.37,
          190.17,
          250.2,
          194.95,
          121.24,
          131.98,
          222.87,
          229.88,
          122.59,
          210.87,
          null,
          135.25,
          190.95,
          193.29,
          105.86,
          118.69,
          124.58,
          248.51,
          120.49,
          195.69,
          164.02,
          151.93,
          240.64,
          190.12,
          179.82,
          212.59,
          227.53,
          111.8,
          128.37,
          195.89,
          147.75,
          229.19,
          190.84,
          126.29,
          147.61,
          121.57,
          115.91,
          187.09,
          106.96,
          171.54,
          175.43,
          224.82,
          180.47,
          213.96,
          198.3,
          185.47,
          166.85,
          151.63,
          225.02,
          191.26,
          219.91,
          202.7,
          123.71,
          230.78,
          167.41,
          154,
          144.53,
          165.43,
          197.66,
          195.68,
          136.18,
          167.87,
          170.04,
          204.47,
          162.44,
          119.86,
          204.82,
          198.79,
          236.08,
          196.17,
          228.81,
          123.24,
          111.63,
          142.23,
          139.32,
          125.46,
          180.88,
          127.65,
          108.85,
          156.11,
          127.2,
          143.04,
          241.38,
          170.9,
          203.87,
          232.78,
          225,
          159.69,
          141.52,
          212.88,
          194.23,
          105.71,
          232.21,
          252.6,
          209.72,
          226.64,
          192.57,
          222.72,
          124.67,
          108.27,
          132.38,
          144.77,
          132.38,
          128.98,
          124.61,
          225.97,
          254.94,
          115.6,
          117.33,
          128.48,
          107.56,
          113.53,
          108.18,
          199.29,
          231.28,
          224.01,
          133.42,
          124.34,
          169.1,
          261.52,
          118.45,
          250.11,
          158.03,
          108.25,
          213.7,
          255.57,
          190.41,
          223.2,
          205.71,
          161.29,
          244.4,
          182.65,
          220.08,
          165.65,
          241.5,
          246.29,
          142.21,
          195.93,
          216.5,
          225.76,
          222.08,
          171.24,
          235.94,
          203.44,
          250.32,
          167.26,
          173.75,
          107.19,
          187.03,
          249.45,
          217.37,
          154.93,
          236.96,
          199.62,
          158.81,
          249.81,
          123.22,
          140.95,
          115.37,
          205.84,
          111.02,
          238.43,
          171.9,
          190.95,
          241.36,
          194.56,
          207.53,
          235.29,
          115.79,
          108.1,
          151.72,
          122.04,
          203.9,
          121.28,
          178.69,
          221.59,
          236.96,
          216.01,
          193.6,
          146.44,
          226.49,
          182.2,
          109.98,
          160.49,
          211.56,
          128.62,
          174.88,
          113.75,
          199.4,
          215.29,
          181.25,
          245.5,
          112.52,
          129.16,
          149.53,
          153.12,
          150.79,
          null,
          184.98,
          187.64,
          130.84,
          239.94,
          114.69,
          116.19,
          149.79,
          248.23,
          194.62,
          107.92,
          135.67,
          190.05,
          185.46,
          123.86,
          162.05,
          125.11,
          145.73,
          116.07,
          198.24,
          191.82,
          154.77,
          178.75,
          193.15,
          138.46,
          162.46,
          231.87,
          141.58,
          249.99,
          109.04,
          172.57,
          247.01,
          234.23,
          161.42,
          124.32,
          195.56,
          211.17,
          247.05,
          233.85,
          194.44,
          176.7,
          188.32,
          125.27,
          159.05,
          151.96,
          132.07,
          162.43,
          203.3,
          126.11,
          139.34,
          105.63,
          116.38,
          166.31,
          254.65,
          168.41,
          258.26,
          140.77,
          234.81,
          256.39,
          125.12,
          232.68,
          105.04,
          204.4,
          256.4,
          165.62,
          null,
          123.62,
          227.63,
          173.01,
          208.58,
          134.42,
          120.37,
          187.95,
          178.35
         ],
         "y0": " ",
         "yaxis": "y4"
        }
       ],
       "layout": {
        "annotations": [
         {
          "font": {
           "size": 16
          },
          "showarrow": false,
          "text": "Daily Time Spent on Site",
          "x": 0.225,
          "xanchor": "center",
          "xref": "paper",
          "y": 1,
          "yanchor": "bottom",
          "yref": "paper"
         },
         {
          "font": {
           "size": 16
          },
          "showarrow": false,
          "text": "Age",
          "x": 0.775,
          "xanchor": "center",
          "xref": "paper",
          "y": 1,
          "yanchor": "bottom",
          "yref": "paper"
         },
         {
          "font": {
           "size": 16
          },
          "showarrow": false,
          "text": "Area Income",
          "x": 0.225,
          "xanchor": "center",
          "xref": "paper",
          "y": 0.375,
          "yanchor": "bottom",
          "yref": "paper"
         },
         {
          "font": {
           "size": 16
          },
          "showarrow": false,
          "text": "Daily Internet Usage",
          "x": 0.775,
          "xanchor": "center",
          "xref": "paper",
          "y": 0.375,
          "yanchor": "bottom",
          "yref": "paper"
         }
        ],
        "height": 800,
        "template": {
         "data": {
          "bar": [
           {
            "error_x": {
             "color": "#2a3f5f"
            },
            "error_y": {
             "color": "#2a3f5f"
            },
            "marker": {
             "line": {
              "color": "#E5ECF6",
              "width": 0.5
             },
             "pattern": {
              "fillmode": "overlay",
              "size": 10,
              "solidity": 0.2
             }
            },
            "type": "bar"
           }
          ],
          "barpolar": [
           {
            "marker": {
             "line": {
              "color": "#E5ECF6",
              "width": 0.5
             },
             "pattern": {
              "fillmode": "overlay",
              "size": 10,
              "solidity": 0.2
             }
            },
            "type": "barpolar"
           }
          ],
          "carpet": [
           {
            "aaxis": {
             "endlinecolor": "#2a3f5f",
             "gridcolor": "white",
             "linecolor": "white",
             "minorgridcolor": "white",
             "startlinecolor": "#2a3f5f"
            },
            "baxis": {
             "endlinecolor": "#2a3f5f",
             "gridcolor": "white",
             "linecolor": "white",
             "minorgridcolor": "white",
             "startlinecolor": "#2a3f5f"
            },
            "type": "carpet"
           }
          ],
          "choropleth": [
           {
            "colorbar": {
             "outlinewidth": 0,
             "ticks": ""
            },
            "type": "choropleth"
           }
          ],
          "contour": [
           {
            "colorbar": {
             "outlinewidth": 0,
             "ticks": ""
            },
            "colorscale": [
             [
              0,
              "#0d0887"
             ],
             [
              0.1111111111111111,
              "#46039f"
             ],
             [
              0.2222222222222222,
              "#7201a8"
             ],
             [
              0.3333333333333333,
              "#9c179e"
             ],
             [
              0.4444444444444444,
              "#bd3786"
             ],
             [
              0.5555555555555556,
              "#d8576b"
             ],
             [
              0.6666666666666666,
              "#ed7953"
             ],
             [
              0.7777777777777778,
              "#fb9f3a"
             ],
             [
              0.8888888888888888,
              "#fdca26"
             ],
             [
              1,
              "#f0f921"
             ]
            ],
            "type": "contour"
           }
          ],
          "contourcarpet": [
           {
            "colorbar": {
             "outlinewidth": 0,
             "ticks": ""
            },
            "type": "contourcarpet"
           }
          ],
          "heatmap": [
           {
            "colorbar": {
             "outlinewidth": 0,
             "ticks": ""
            },
            "colorscale": [
             [
              0,
              "#0d0887"
             ],
             [
              0.1111111111111111,
              "#46039f"
             ],
             [
              0.2222222222222222,
              "#7201a8"
             ],
             [
              0.3333333333333333,
              "#9c179e"
             ],
             [
              0.4444444444444444,
              "#bd3786"
             ],
             [
              0.5555555555555556,
              "#d8576b"
             ],
             [
              0.6666666666666666,
              "#ed7953"
             ],
             [
              0.7777777777777778,
              "#fb9f3a"
             ],
             [
              0.8888888888888888,
              "#fdca26"
             ],
             [
              1,
              "#f0f921"
             ]
            ],
            "type": "heatmap"
           }
          ],
          "heatmapgl": [
           {
            "colorbar": {
             "outlinewidth": 0,
             "ticks": ""
            },
            "colorscale": [
             [
              0,
              "#0d0887"
             ],
             [
              0.1111111111111111,
              "#46039f"
             ],
             [
              0.2222222222222222,
              "#7201a8"
             ],
             [
              0.3333333333333333,
              "#9c179e"
             ],
             [
              0.4444444444444444,
              "#bd3786"
             ],
             [
              0.5555555555555556,
              "#d8576b"
             ],
             [
              0.6666666666666666,
              "#ed7953"
             ],
             [
              0.7777777777777778,
              "#fb9f3a"
             ],
             [
              0.8888888888888888,
              "#fdca26"
             ],
             [
              1,
              "#f0f921"
             ]
            ],
            "type": "heatmapgl"
           }
          ],
          "histogram": [
           {
            "marker": {
             "pattern": {
              "fillmode": "overlay",
              "size": 10,
              "solidity": 0.2
             }
            },
            "type": "histogram"
           }
          ],
          "histogram2d": [
           {
            "colorbar": {
             "outlinewidth": 0,
             "ticks": ""
            },
            "colorscale": [
             [
              0,
              "#0d0887"
             ],
             [
              0.1111111111111111,
              "#46039f"
             ],
             [
              0.2222222222222222,
              "#7201a8"
             ],
             [
              0.3333333333333333,
              "#9c179e"
             ],
             [
              0.4444444444444444,
              "#bd3786"
             ],
             [
              0.5555555555555556,
              "#d8576b"
             ],
             [
              0.6666666666666666,
              "#ed7953"
             ],
             [
              0.7777777777777778,
              "#fb9f3a"
             ],
             [
              0.8888888888888888,
              "#fdca26"
             ],
             [
              1,
              "#f0f921"
             ]
            ],
            "type": "histogram2d"
           }
          ],
          "histogram2dcontour": [
           {
            "colorbar": {
             "outlinewidth": 0,
             "ticks": ""
            },
            "colorscale": [
             [
              0,
              "#0d0887"
             ],
             [
              0.1111111111111111,
              "#46039f"
             ],
             [
              0.2222222222222222,
              "#7201a8"
             ],
             [
              0.3333333333333333,
              "#9c179e"
             ],
             [
              0.4444444444444444,
              "#bd3786"
             ],
             [
              0.5555555555555556,
              "#d8576b"
             ],
             [
              0.6666666666666666,
              "#ed7953"
             ],
             [
              0.7777777777777778,
              "#fb9f3a"
             ],
             [
              0.8888888888888888,
              "#fdca26"
             ],
             [
              1,
              "#f0f921"
             ]
            ],
            "type": "histogram2dcontour"
           }
          ],
          "mesh3d": [
           {
            "colorbar": {
             "outlinewidth": 0,
             "ticks": ""
            },
            "type": "mesh3d"
           }
          ],
          "parcoords": [
           {
            "line": {
             "colorbar": {
              "outlinewidth": 0,
              "ticks": ""
             }
            },
            "type": "parcoords"
           }
          ],
          "pie": [
           {
            "automargin": true,
            "type": "pie"
           }
          ],
          "scatter": [
           {
            "fillpattern": {
             "fillmode": "overlay",
             "size": 10,
             "solidity": 0.2
            },
            "type": "scatter"
           }
          ],
          "scatter3d": [
           {
            "line": {
             "colorbar": {
              "outlinewidth": 0,
              "ticks": ""
             }
            },
            "marker": {
             "colorbar": {
              "outlinewidth": 0,
              "ticks": ""
             }
            },
            "type": "scatter3d"
           }
          ],
          "scattercarpet": [
           {
            "marker": {
             "colorbar": {
              "outlinewidth": 0,
              "ticks": ""
             }
            },
            "type": "scattercarpet"
           }
          ],
          "scattergeo": [
           {
            "marker": {
             "colorbar": {
              "outlinewidth": 0,
              "ticks": ""
             }
            },
            "type": "scattergeo"
           }
          ],
          "scattergl": [
           {
            "marker": {
             "colorbar": {
              "outlinewidth": 0,
              "ticks": ""
             }
            },
            "type": "scattergl"
           }
          ],
          "scattermapbox": [
           {
            "marker": {
             "colorbar": {
              "outlinewidth": 0,
              "ticks": ""
             }
            },
            "type": "scattermapbox"
           }
          ],
          "scatterpolar": [
           {
            "marker": {
             "colorbar": {
              "outlinewidth": 0,
              "ticks": ""
             }
            },
            "type": "scatterpolar"
           }
          ],
          "scatterpolargl": [
           {
            "marker": {
             "colorbar": {
              "outlinewidth": 0,
              "ticks": ""
             }
            },
            "type": "scatterpolargl"
           }
          ],
          "scatterternary": [
           {
            "marker": {
             "colorbar": {
              "outlinewidth": 0,
              "ticks": ""
             }
            },
            "type": "scatterternary"
           }
          ],
          "surface": [
           {
            "colorbar": {
             "outlinewidth": 0,
             "ticks": ""
            },
            "colorscale": [
             [
              0,
              "#0d0887"
             ],
             [
              0.1111111111111111,
              "#46039f"
             ],
             [
              0.2222222222222222,
              "#7201a8"
             ],
             [
              0.3333333333333333,
              "#9c179e"
             ],
             [
              0.4444444444444444,
              "#bd3786"
             ],
             [
              0.5555555555555556,
              "#d8576b"
             ],
             [
              0.6666666666666666,
              "#ed7953"
             ],
             [
              0.7777777777777778,
              "#fb9f3a"
             ],
             [
              0.8888888888888888,
              "#fdca26"
             ],
             [
              1,
              "#f0f921"
             ]
            ],
            "type": "surface"
           }
          ],
          "table": [
           {
            "cells": {
             "fill": {
              "color": "#EBF0F8"
             },
             "line": {
              "color": "white"
             }
            },
            "header": {
             "fill": {
              "color": "#C8D4E3"
             },
             "line": {
              "color": "white"
             }
            },
            "type": "table"
           }
          ]
         },
         "layout": {
          "annotationdefaults": {
           "arrowcolor": "#2a3f5f",
           "arrowhead": 0,
           "arrowwidth": 1
          },
          "autotypenumbers": "strict",
          "coloraxis": {
           "colorbar": {
            "outlinewidth": 0,
            "ticks": ""
           }
          },
          "colorscale": {
           "diverging": [
            [
             0,
             "#8e0152"
            ],
            [
             0.1,
             "#c51b7d"
            ],
            [
             0.2,
             "#de77ae"
            ],
            [
             0.3,
             "#f1b6da"
            ],
            [
             0.4,
             "#fde0ef"
            ],
            [
             0.5,
             "#f7f7f7"
            ],
            [
             0.6,
             "#e6f5d0"
            ],
            [
             0.7,
             "#b8e186"
            ],
            [
             0.8,
             "#7fbc41"
            ],
            [
             0.9,
             "#4d9221"
            ],
            [
             1,
             "#276419"
            ]
           ],
           "sequential": [
            [
             0,
             "#0d0887"
            ],
            [
             0.1111111111111111,
             "#46039f"
            ],
            [
             0.2222222222222222,
             "#7201a8"
            ],
            [
             0.3333333333333333,
             "#9c179e"
            ],
            [
             0.4444444444444444,
             "#bd3786"
            ],
            [
             0.5555555555555556,
             "#d8576b"
            ],
            [
             0.6666666666666666,
             "#ed7953"
            ],
            [
             0.7777777777777778,
             "#fb9f3a"
            ],
            [
             0.8888888888888888,
             "#fdca26"
            ],
            [
             1,
             "#f0f921"
            ]
           ],
           "sequentialminus": [
            [
             0,
             "#0d0887"
            ],
            [
             0.1111111111111111,
             "#46039f"
            ],
            [
             0.2222222222222222,
             "#7201a8"
            ],
            [
             0.3333333333333333,
             "#9c179e"
            ],
            [
             0.4444444444444444,
             "#bd3786"
            ],
            [
             0.5555555555555556,
             "#d8576b"
            ],
            [
             0.6666666666666666,
             "#ed7953"
            ],
            [
             0.7777777777777778,
             "#fb9f3a"
            ],
            [
             0.8888888888888888,
             "#fdca26"
            ],
            [
             1,
             "#f0f921"
            ]
           ]
          },
          "colorway": [
           "#636efa",
           "#EF553B",
           "#00cc96",
           "#ab63fa",
           "#FFA15A",
           "#19d3f3",
           "#FF6692",
           "#B6E880",
           "#FF97FF",
           "#FECB52"
          ],
          "font": {
           "color": "#2a3f5f"
          },
          "geo": {
           "bgcolor": "white",
           "lakecolor": "white",
           "landcolor": "#E5ECF6",
           "showlakes": true,
           "showland": true,
           "subunitcolor": "white"
          },
          "hoverlabel": {
           "align": "left"
          },
          "hovermode": "closest",
          "mapbox": {
           "style": "light"
          },
          "paper_bgcolor": "white",
          "plot_bgcolor": "#E5ECF6",
          "polar": {
           "angularaxis": {
            "gridcolor": "white",
            "linecolor": "white",
            "ticks": ""
           },
           "bgcolor": "#E5ECF6",
           "radialaxis": {
            "gridcolor": "white",
            "linecolor": "white",
            "ticks": ""
           }
          },
          "scene": {
           "xaxis": {
            "backgroundcolor": "#E5ECF6",
            "gridcolor": "white",
            "gridwidth": 2,
            "linecolor": "white",
            "showbackground": true,
            "ticks": "",
            "zerolinecolor": "white"
           },
           "yaxis": {
            "backgroundcolor": "#E5ECF6",
            "gridcolor": "white",
            "gridwidth": 2,
            "linecolor": "white",
            "showbackground": true,
            "ticks": "",
            "zerolinecolor": "white"
           },
           "zaxis": {
            "backgroundcolor": "#E5ECF6",
            "gridcolor": "white",
            "gridwidth": 2,
            "linecolor": "white",
            "showbackground": true,
            "ticks": "",
            "zerolinecolor": "white"
           }
          },
          "shapedefaults": {
           "line": {
            "color": "#2a3f5f"
           }
          },
          "ternary": {
           "aaxis": {
            "gridcolor": "white",
            "linecolor": "white",
            "ticks": ""
           },
           "baxis": {
            "gridcolor": "white",
            "linecolor": "white",
            "ticks": ""
           },
           "bgcolor": "#E5ECF6",
           "caxis": {
            "gridcolor": "white",
            "linecolor": "white",
            "ticks": ""
           }
          },
          "title": {
           "x": 0.05
          },
          "xaxis": {
           "automargin": true,
           "gridcolor": "white",
           "linecolor": "white",
           "ticks": "",
           "title": {
            "standoff": 15
           },
           "zerolinecolor": "white",
           "zerolinewidth": 2
          },
          "yaxis": {
           "automargin": true,
           "gridcolor": "white",
           "linecolor": "white",
           "ticks": "",
           "title": {
            "standoff": 15
           },
           "zerolinecolor": "white",
           "zerolinewidth": 2
          }
         }
        },
        "title": {
         "text": "Boxplots of Numerical Features"
        },
        "xaxis": {
         "anchor": "y",
         "domain": [
          0,
          0.45
         ]
        },
        "xaxis2": {
         "anchor": "y2",
         "domain": [
          0.55,
          1
         ]
        },
        "xaxis3": {
         "anchor": "y3",
         "domain": [
          0,
          0.45
         ]
        },
        "xaxis4": {
         "anchor": "y4",
         "domain": [
          0.55,
          1
         ]
        },
        "yaxis": {
         "anchor": "x",
         "domain": [
          0.625,
          1
         ]
        },
        "yaxis2": {
         "anchor": "x2",
         "domain": [
          0.625,
          1
         ]
        },
        "yaxis3": {
         "anchor": "x3",
         "domain": [
          0,
          0.375
         ]
        },
        "yaxis4": {
         "anchor": "x4",
         "domain": [
          0,
          0.375
         ]
        }
       }
      }
     },
     "metadata": {},
     "output_type": "display_data"
    }
   ],
   "source": [
    "# Define the columns to visualize the box plots\n",
    "columns = [\"Daily Time Spent on Site\", \"Age\", \"Area Income\", \"Daily Internet Usage\"]\n",
    "\n",
    "# Create a subplot grid with 2 rows and 2 columns\n",
    "fig = go.Figure()\n",
    "fig = make_subplots(rows=2, cols=2, subplot_titles=columns)\n",
    "for i, column in enumerate(columns):\n",
    "    row = i // 2 + 1  \n",
    "    col = i % 2 + 1   \n",
    "    fig.add_trace(px.box(df, y=column).data[0], row=row, col=col)\n",
    "fig.update_layout(title_text=\"Boxplots of Numerical Features\", height=800)\n",
    "fig.show()"
   ]
  },
  {
   "cell_type": "markdown",
   "metadata": {},
   "source": [
    "**Finding**: Based on the descriptive table above and the outlier detection function, we have found that:\n",
    "\n",
    "1. **Outlier detection**: Using the IQR method (1.5×IQR bounds), we identified 8 outlier records in the `Area Income` column . No significant outliers were found in other numerical columns.\n",
    "\n",
    "2. **Outlier characteristics**: Outliers fell between around 14000 (Minimum values) and 19000 (Lower Bound), which can be retained for now because of marginal deviation from the lower bound."
   ]
  },
  {
   "cell_type": "code",
   "execution_count": 198,
   "metadata": {},
   "outputs": [
    {
     "data": {
      "application/vnd.microsoft.datawrangler.viewer.v0+json": {
       "columns": [
        {
         "name": "index",
         "rawType": "object",
         "type": "string"
        },
        {
         "name": "Ad Topic Line",
         "rawType": "object",
         "type": "unknown"
        },
        {
         "name": "City",
         "rawType": "object",
         "type": "unknown"
        },
        {
         "name": "Country",
         "rawType": "object",
         "type": "unknown"
        },
        {
         "name": "Timestamp",
         "rawType": "object",
         "type": "unknown"
        }
       ],
       "conversionMethod": "pd.DataFrame",
       "ref": "c479964e-48b4-449f-b2dd-26757d6c68c8",
       "rows": [
        [
         "count",
         "1000",
         "999",
         "991",
         "1000"
        ],
        [
         "unique",
         "1000",
         "968",
         "237",
         "997"
        ],
        [
         "top",
         "Cloned 5thgeneration orchestration",
         "Lisamouth",
         "France",
         "5/26/2016 15:40"
        ],
        [
         "freq",
         "1",
         "3",
         "9",
         "2"
        ]
       ],
       "shape": {
        "columns": 4,
        "rows": 4
       }
      },
      "text/html": [
       "<div>\n",
       "<style scoped>\n",
       "    .dataframe tbody tr th:only-of-type {\n",
       "        vertical-align: middle;\n",
       "    }\n",
       "\n",
       "    .dataframe tbody tr th {\n",
       "        vertical-align: top;\n",
       "    }\n",
       "\n",
       "    .dataframe thead th {\n",
       "        text-align: right;\n",
       "    }\n",
       "</style>\n",
       "<table border=\"1\" class=\"dataframe\">\n",
       "  <thead>\n",
       "    <tr style=\"text-align: right;\">\n",
       "      <th></th>\n",
       "      <th>Ad Topic Line</th>\n",
       "      <th>City</th>\n",
       "      <th>Country</th>\n",
       "      <th>Timestamp</th>\n",
       "    </tr>\n",
       "  </thead>\n",
       "  <tbody>\n",
       "    <tr>\n",
       "      <th>count</th>\n",
       "      <td>1000</td>\n",
       "      <td>999</td>\n",
       "      <td>991</td>\n",
       "      <td>1000</td>\n",
       "    </tr>\n",
       "    <tr>\n",
       "      <th>unique</th>\n",
       "      <td>1000</td>\n",
       "      <td>968</td>\n",
       "      <td>237</td>\n",
       "      <td>997</td>\n",
       "    </tr>\n",
       "    <tr>\n",
       "      <th>top</th>\n",
       "      <td>Cloned 5thgeneration orchestration</td>\n",
       "      <td>Lisamouth</td>\n",
       "      <td>France</td>\n",
       "      <td>5/26/2016 15:40</td>\n",
       "    </tr>\n",
       "    <tr>\n",
       "      <th>freq</th>\n",
       "      <td>1</td>\n",
       "      <td>3</td>\n",
       "      <td>9</td>\n",
       "      <td>2</td>\n",
       "    </tr>\n",
       "  </tbody>\n",
       "</table>\n",
       "</div>"
      ],
      "text/plain": [
       "                             Ad Topic Line       City Country        Timestamp\n",
       "count                                 1000        999     991             1000\n",
       "unique                                1000        968     237              997\n",
       "top     Cloned 5thgeneration orchestration  Lisamouth  France  5/26/2016 15:40\n",
       "freq                                     1          3       9                2"
      ]
     },
     "execution_count": 198,
     "metadata": {},
     "output_type": "execute_result"
    }
   ],
   "source": [
    "# Check with the categorical features \n",
    "df.describe(include=[\"object\"])"
   ]
  },
  {
   "cell_type": "code",
   "execution_count": 199,
   "metadata": {},
   "outputs": [
    {
     "data": {
      "application/vnd.plotly.v1+json": {
       "config": {
        "plotlyServerURL": "https://plot.ly"
       },
       "data": [
        {
         "alignmentgroup": "True",
         "hovertemplate": "Clicked on Ad=%{x}<br>count=%{y}<extra></extra>",
         "legendgroup": "",
         "marker": {
          "color": [
           "#636EFA",
           "#EF553B"
          ],
          "pattern": {
           "shape": ""
          }
         },
         "name": "",
         "offsetgroup": "",
         "orientation": "v",
         "showlegend": false,
         "text": [
          500,
          500
         ],
         "textposition": "outside",
         "type": "bar",
         "x": [
          0,
          1
         ],
         "xaxis": "x",
         "y": [
          500,
          500
         ],
         "yaxis": "y"
        }
       ],
       "layout": {
        "barmode": "relative",
        "legend": {
         "tracegroupgap": 0
        },
        "template": {
         "data": {
          "bar": [
           {
            "error_x": {
             "color": "#2a3f5f"
            },
            "error_y": {
             "color": "#2a3f5f"
            },
            "marker": {
             "line": {
              "color": "#E5ECF6",
              "width": 0.5
             },
             "pattern": {
              "fillmode": "overlay",
              "size": 10,
              "solidity": 0.2
             }
            },
            "type": "bar"
           }
          ],
          "barpolar": [
           {
            "marker": {
             "line": {
              "color": "#E5ECF6",
              "width": 0.5
             },
             "pattern": {
              "fillmode": "overlay",
              "size": 10,
              "solidity": 0.2
             }
            },
            "type": "barpolar"
           }
          ],
          "carpet": [
           {
            "aaxis": {
             "endlinecolor": "#2a3f5f",
             "gridcolor": "white",
             "linecolor": "white",
             "minorgridcolor": "white",
             "startlinecolor": "#2a3f5f"
            },
            "baxis": {
             "endlinecolor": "#2a3f5f",
             "gridcolor": "white",
             "linecolor": "white",
             "minorgridcolor": "white",
             "startlinecolor": "#2a3f5f"
            },
            "type": "carpet"
           }
          ],
          "choropleth": [
           {
            "colorbar": {
             "outlinewidth": 0,
             "ticks": ""
            },
            "type": "choropleth"
           }
          ],
          "contour": [
           {
            "colorbar": {
             "outlinewidth": 0,
             "ticks": ""
            },
            "colorscale": [
             [
              0,
              "#0d0887"
             ],
             [
              0.1111111111111111,
              "#46039f"
             ],
             [
              0.2222222222222222,
              "#7201a8"
             ],
             [
              0.3333333333333333,
              "#9c179e"
             ],
             [
              0.4444444444444444,
              "#bd3786"
             ],
             [
              0.5555555555555556,
              "#d8576b"
             ],
             [
              0.6666666666666666,
              "#ed7953"
             ],
             [
              0.7777777777777778,
              "#fb9f3a"
             ],
             [
              0.8888888888888888,
              "#fdca26"
             ],
             [
              1,
              "#f0f921"
             ]
            ],
            "type": "contour"
           }
          ],
          "contourcarpet": [
           {
            "colorbar": {
             "outlinewidth": 0,
             "ticks": ""
            },
            "type": "contourcarpet"
           }
          ],
          "heatmap": [
           {
            "colorbar": {
             "outlinewidth": 0,
             "ticks": ""
            },
            "colorscale": [
             [
              0,
              "#0d0887"
             ],
             [
              0.1111111111111111,
              "#46039f"
             ],
             [
              0.2222222222222222,
              "#7201a8"
             ],
             [
              0.3333333333333333,
              "#9c179e"
             ],
             [
              0.4444444444444444,
              "#bd3786"
             ],
             [
              0.5555555555555556,
              "#d8576b"
             ],
             [
              0.6666666666666666,
              "#ed7953"
             ],
             [
              0.7777777777777778,
              "#fb9f3a"
             ],
             [
              0.8888888888888888,
              "#fdca26"
             ],
             [
              1,
              "#f0f921"
             ]
            ],
            "type": "heatmap"
           }
          ],
          "heatmapgl": [
           {
            "colorbar": {
             "outlinewidth": 0,
             "ticks": ""
            },
            "colorscale": [
             [
              0,
              "#0d0887"
             ],
             [
              0.1111111111111111,
              "#46039f"
             ],
             [
              0.2222222222222222,
              "#7201a8"
             ],
             [
              0.3333333333333333,
              "#9c179e"
             ],
             [
              0.4444444444444444,
              "#bd3786"
             ],
             [
              0.5555555555555556,
              "#d8576b"
             ],
             [
              0.6666666666666666,
              "#ed7953"
             ],
             [
              0.7777777777777778,
              "#fb9f3a"
             ],
             [
              0.8888888888888888,
              "#fdca26"
             ],
             [
              1,
              "#f0f921"
             ]
            ],
            "type": "heatmapgl"
           }
          ],
          "histogram": [
           {
            "marker": {
             "pattern": {
              "fillmode": "overlay",
              "size": 10,
              "solidity": 0.2
             }
            },
            "type": "histogram"
           }
          ],
          "histogram2d": [
           {
            "colorbar": {
             "outlinewidth": 0,
             "ticks": ""
            },
            "colorscale": [
             [
              0,
              "#0d0887"
             ],
             [
              0.1111111111111111,
              "#46039f"
             ],
             [
              0.2222222222222222,
              "#7201a8"
             ],
             [
              0.3333333333333333,
              "#9c179e"
             ],
             [
              0.4444444444444444,
              "#bd3786"
             ],
             [
              0.5555555555555556,
              "#d8576b"
             ],
             [
              0.6666666666666666,
              "#ed7953"
             ],
             [
              0.7777777777777778,
              "#fb9f3a"
             ],
             [
              0.8888888888888888,
              "#fdca26"
             ],
             [
              1,
              "#f0f921"
             ]
            ],
            "type": "histogram2d"
           }
          ],
          "histogram2dcontour": [
           {
            "colorbar": {
             "outlinewidth": 0,
             "ticks": ""
            },
            "colorscale": [
             [
              0,
              "#0d0887"
             ],
             [
              0.1111111111111111,
              "#46039f"
             ],
             [
              0.2222222222222222,
              "#7201a8"
             ],
             [
              0.3333333333333333,
              "#9c179e"
             ],
             [
              0.4444444444444444,
              "#bd3786"
             ],
             [
              0.5555555555555556,
              "#d8576b"
             ],
             [
              0.6666666666666666,
              "#ed7953"
             ],
             [
              0.7777777777777778,
              "#fb9f3a"
             ],
             [
              0.8888888888888888,
              "#fdca26"
             ],
             [
              1,
              "#f0f921"
             ]
            ],
            "type": "histogram2dcontour"
           }
          ],
          "mesh3d": [
           {
            "colorbar": {
             "outlinewidth": 0,
             "ticks": ""
            },
            "type": "mesh3d"
           }
          ],
          "parcoords": [
           {
            "line": {
             "colorbar": {
              "outlinewidth": 0,
              "ticks": ""
             }
            },
            "type": "parcoords"
           }
          ],
          "pie": [
           {
            "automargin": true,
            "type": "pie"
           }
          ],
          "scatter": [
           {
            "fillpattern": {
             "fillmode": "overlay",
             "size": 10,
             "solidity": 0.2
            },
            "type": "scatter"
           }
          ],
          "scatter3d": [
           {
            "line": {
             "colorbar": {
              "outlinewidth": 0,
              "ticks": ""
             }
            },
            "marker": {
             "colorbar": {
              "outlinewidth": 0,
              "ticks": ""
             }
            },
            "type": "scatter3d"
           }
          ],
          "scattercarpet": [
           {
            "marker": {
             "colorbar": {
              "outlinewidth": 0,
              "ticks": ""
             }
            },
            "type": "scattercarpet"
           }
          ],
          "scattergeo": [
           {
            "marker": {
             "colorbar": {
              "outlinewidth": 0,
              "ticks": ""
             }
            },
            "type": "scattergeo"
           }
          ],
          "scattergl": [
           {
            "marker": {
             "colorbar": {
              "outlinewidth": 0,
              "ticks": ""
             }
            },
            "type": "scattergl"
           }
          ],
          "scattermapbox": [
           {
            "marker": {
             "colorbar": {
              "outlinewidth": 0,
              "ticks": ""
             }
            },
            "type": "scattermapbox"
           }
          ],
          "scatterpolar": [
           {
            "marker": {
             "colorbar": {
              "outlinewidth": 0,
              "ticks": ""
             }
            },
            "type": "scatterpolar"
           }
          ],
          "scatterpolargl": [
           {
            "marker": {
             "colorbar": {
              "outlinewidth": 0,
              "ticks": ""
             }
            },
            "type": "scatterpolargl"
           }
          ],
          "scatterternary": [
           {
            "marker": {
             "colorbar": {
              "outlinewidth": 0,
              "ticks": ""
             }
            },
            "type": "scatterternary"
           }
          ],
          "surface": [
           {
            "colorbar": {
             "outlinewidth": 0,
             "ticks": ""
            },
            "colorscale": [
             [
              0,
              "#0d0887"
             ],
             [
              0.1111111111111111,
              "#46039f"
             ],
             [
              0.2222222222222222,
              "#7201a8"
             ],
             [
              0.3333333333333333,
              "#9c179e"
             ],
             [
              0.4444444444444444,
              "#bd3786"
             ],
             [
              0.5555555555555556,
              "#d8576b"
             ],
             [
              0.6666666666666666,
              "#ed7953"
             ],
             [
              0.7777777777777778,
              "#fb9f3a"
             ],
             [
              0.8888888888888888,
              "#fdca26"
             ],
             [
              1,
              "#f0f921"
             ]
            ],
            "type": "surface"
           }
          ],
          "table": [
           {
            "cells": {
             "fill": {
              "color": "#EBF0F8"
             },
             "line": {
              "color": "white"
             }
            },
            "header": {
             "fill": {
              "color": "#C8D4E3"
             },
             "line": {
              "color": "white"
             }
            },
            "type": "table"
           }
          ]
         },
         "layout": {
          "annotationdefaults": {
           "arrowcolor": "#2a3f5f",
           "arrowhead": 0,
           "arrowwidth": 1
          },
          "autotypenumbers": "strict",
          "coloraxis": {
           "colorbar": {
            "outlinewidth": 0,
            "ticks": ""
           }
          },
          "colorscale": {
           "diverging": [
            [
             0,
             "#8e0152"
            ],
            [
             0.1,
             "#c51b7d"
            ],
            [
             0.2,
             "#de77ae"
            ],
            [
             0.3,
             "#f1b6da"
            ],
            [
             0.4,
             "#fde0ef"
            ],
            [
             0.5,
             "#f7f7f7"
            ],
            [
             0.6,
             "#e6f5d0"
            ],
            [
             0.7,
             "#b8e186"
            ],
            [
             0.8,
             "#7fbc41"
            ],
            [
             0.9,
             "#4d9221"
            ],
            [
             1,
             "#276419"
            ]
           ],
           "sequential": [
            [
             0,
             "#0d0887"
            ],
            [
             0.1111111111111111,
             "#46039f"
            ],
            [
             0.2222222222222222,
             "#7201a8"
            ],
            [
             0.3333333333333333,
             "#9c179e"
            ],
            [
             0.4444444444444444,
             "#bd3786"
            ],
            [
             0.5555555555555556,
             "#d8576b"
            ],
            [
             0.6666666666666666,
             "#ed7953"
            ],
            [
             0.7777777777777778,
             "#fb9f3a"
            ],
            [
             0.8888888888888888,
             "#fdca26"
            ],
            [
             1,
             "#f0f921"
            ]
           ],
           "sequentialminus": [
            [
             0,
             "#0d0887"
            ],
            [
             0.1111111111111111,
             "#46039f"
            ],
            [
             0.2222222222222222,
             "#7201a8"
            ],
            [
             0.3333333333333333,
             "#9c179e"
            ],
            [
             0.4444444444444444,
             "#bd3786"
            ],
            [
             0.5555555555555556,
             "#d8576b"
            ],
            [
             0.6666666666666666,
             "#ed7953"
            ],
            [
             0.7777777777777778,
             "#fb9f3a"
            ],
            [
             0.8888888888888888,
             "#fdca26"
            ],
            [
             1,
             "#f0f921"
            ]
           ]
          },
          "colorway": [
           "#636efa",
           "#EF553B",
           "#00cc96",
           "#ab63fa",
           "#FFA15A",
           "#19d3f3",
           "#FF6692",
           "#B6E880",
           "#FF97FF",
           "#FECB52"
          ],
          "font": {
           "color": "#2a3f5f"
          },
          "geo": {
           "bgcolor": "white",
           "lakecolor": "white",
           "landcolor": "#E5ECF6",
           "showlakes": true,
           "showland": true,
           "subunitcolor": "white"
          },
          "hoverlabel": {
           "align": "left"
          },
          "hovermode": "closest",
          "mapbox": {
           "style": "light"
          },
          "paper_bgcolor": "white",
          "plot_bgcolor": "#E5ECF6",
          "polar": {
           "angularaxis": {
            "gridcolor": "white",
            "linecolor": "white",
            "ticks": ""
           },
           "bgcolor": "#E5ECF6",
           "radialaxis": {
            "gridcolor": "white",
            "linecolor": "white",
            "ticks": ""
           }
          },
          "scene": {
           "xaxis": {
            "backgroundcolor": "#E5ECF6",
            "gridcolor": "white",
            "gridwidth": 2,
            "linecolor": "white",
            "showbackground": true,
            "ticks": "",
            "zerolinecolor": "white"
           },
           "yaxis": {
            "backgroundcolor": "#E5ECF6",
            "gridcolor": "white",
            "gridwidth": 2,
            "linecolor": "white",
            "showbackground": true,
            "ticks": "",
            "zerolinecolor": "white"
           },
           "zaxis": {
            "backgroundcolor": "#E5ECF6",
            "gridcolor": "white",
            "gridwidth": 2,
            "linecolor": "white",
            "showbackground": true,
            "ticks": "",
            "zerolinecolor": "white"
           }
          },
          "shapedefaults": {
           "line": {
            "color": "#2a3f5f"
           }
          },
          "ternary": {
           "aaxis": {
            "gridcolor": "white",
            "linecolor": "white",
            "ticks": ""
           },
           "baxis": {
            "gridcolor": "white",
            "linecolor": "white",
            "ticks": ""
           },
           "bgcolor": "#E5ECF6",
           "caxis": {
            "gridcolor": "white",
            "linecolor": "white",
            "ticks": ""
           }
          },
          "title": {
           "x": 0.05
          },
          "xaxis": {
           "automargin": true,
           "gridcolor": "white",
           "linecolor": "white",
           "ticks": "",
           "title": {
            "standoff": 15
           },
           "zerolinecolor": "white",
           "zerolinewidth": 2
          },
          "yaxis": {
           "automargin": true,
           "gridcolor": "white",
           "linecolor": "white",
           "ticks": "",
           "title": {
            "standoff": 15
           },
           "zerolinecolor": "white",
           "zerolinewidth": 2
          }
         }
        },
        "title": {
         "text": "Distribution of Clicked on Ad"
        },
        "xaxis": {
         "anchor": "y",
         "domain": [
          0,
          1
         ],
         "ticktext": [
          "Not Clicked",
          "Clicked"
         ],
         "tickvals": [
          0,
          1
         ],
         "title": {
          "text": "Clicked on Ad"
         }
        },
        "yaxis": {
         "anchor": "x",
         "domain": [
          0,
          1
         ],
         "range": [
          0,
          600
         ],
         "title": {
          "text": "Count"
         }
        }
       }
      }
     },
     "metadata": {},
     "output_type": "display_data"
    }
   ],
   "source": [
    "# Check the distribution of the target variable \n",
    "y_counts = df[\"Clicked on Ad\"].value_counts().reset_index()\n",
    "fig = px.bar(y_counts, x=\"Clicked on Ad\", y=\"count\", title=\"Distribution of Clicked on Ad\")\n",
    "fig.update_layout(xaxis_title=\"Clicked on Ad\", yaxis_title=\"Count\", xaxis_tickvals=[0, 1], \n",
    "                  xaxis_ticktext=[\"Not Clicked\", \"Clicked\"], yaxis_range=[0, y_counts[\"count\"].max() * 1.2])\n",
    "fig.update_traces(marker_color=[\"#636EFA\", \"#EF553B\"], text=y_counts[\"count\"], textposition=\"outside\")\n",
    "fig.show()"
   ]
  },
  {
   "cell_type": "code",
   "execution_count": 200,
   "metadata": {},
   "outputs": [],
   "source": [
    "# Map binary gender column to labels\n",
    "df[\"Gender\"] = df[\"Male\"].map({1.0: \"Male\", 0.0:\"Female\"})\n",
    "df = df.drop(\"Male\", axis=1)"
   ]
  },
  {
   "cell_type": "code",
   "execution_count": 201,
   "metadata": {},
   "outputs": [
    {
     "data": {
      "application/vnd.plotly.v1+json": {
       "config": {
        "plotlyServerURL": "https://plot.ly"
       },
       "data": [
        {
         "alignmentgroup": "True",
         "hovertemplate": "Gender=%{x}<br>count=%{y}<extra></extra>",
         "legendgroup": "",
         "marker": {
          "color": [
           "#636EFA",
           "#EF553B"
          ],
          "pattern": {
           "shape": ""
          }
         },
         "name": "",
         "offsetgroup": "",
         "orientation": "v",
         "showlegend": false,
         "text": [
          518,
          479
         ],
         "textposition": "outside",
         "type": "bar",
         "x": [
          "Female",
          "Male"
         ],
         "xaxis": "x",
         "y": [
          518,
          479
         ],
         "yaxis": "y"
        }
       ],
       "layout": {
        "barmode": "relative",
        "legend": {
         "tracegroupgap": 0
        },
        "template": {
         "data": {
          "bar": [
           {
            "error_x": {
             "color": "#2a3f5f"
            },
            "error_y": {
             "color": "#2a3f5f"
            },
            "marker": {
             "line": {
              "color": "#E5ECF6",
              "width": 0.5
             },
             "pattern": {
              "fillmode": "overlay",
              "size": 10,
              "solidity": 0.2
             }
            },
            "type": "bar"
           }
          ],
          "barpolar": [
           {
            "marker": {
             "line": {
              "color": "#E5ECF6",
              "width": 0.5
             },
             "pattern": {
              "fillmode": "overlay",
              "size": 10,
              "solidity": 0.2
             }
            },
            "type": "barpolar"
           }
          ],
          "carpet": [
           {
            "aaxis": {
             "endlinecolor": "#2a3f5f",
             "gridcolor": "white",
             "linecolor": "white",
             "minorgridcolor": "white",
             "startlinecolor": "#2a3f5f"
            },
            "baxis": {
             "endlinecolor": "#2a3f5f",
             "gridcolor": "white",
             "linecolor": "white",
             "minorgridcolor": "white",
             "startlinecolor": "#2a3f5f"
            },
            "type": "carpet"
           }
          ],
          "choropleth": [
           {
            "colorbar": {
             "outlinewidth": 0,
             "ticks": ""
            },
            "type": "choropleth"
           }
          ],
          "contour": [
           {
            "colorbar": {
             "outlinewidth": 0,
             "ticks": ""
            },
            "colorscale": [
             [
              0,
              "#0d0887"
             ],
             [
              0.1111111111111111,
              "#46039f"
             ],
             [
              0.2222222222222222,
              "#7201a8"
             ],
             [
              0.3333333333333333,
              "#9c179e"
             ],
             [
              0.4444444444444444,
              "#bd3786"
             ],
             [
              0.5555555555555556,
              "#d8576b"
             ],
             [
              0.6666666666666666,
              "#ed7953"
             ],
             [
              0.7777777777777778,
              "#fb9f3a"
             ],
             [
              0.8888888888888888,
              "#fdca26"
             ],
             [
              1,
              "#f0f921"
             ]
            ],
            "type": "contour"
           }
          ],
          "contourcarpet": [
           {
            "colorbar": {
             "outlinewidth": 0,
             "ticks": ""
            },
            "type": "contourcarpet"
           }
          ],
          "heatmap": [
           {
            "colorbar": {
             "outlinewidth": 0,
             "ticks": ""
            },
            "colorscale": [
             [
              0,
              "#0d0887"
             ],
             [
              0.1111111111111111,
              "#46039f"
             ],
             [
              0.2222222222222222,
              "#7201a8"
             ],
             [
              0.3333333333333333,
              "#9c179e"
             ],
             [
              0.4444444444444444,
              "#bd3786"
             ],
             [
              0.5555555555555556,
              "#d8576b"
             ],
             [
              0.6666666666666666,
              "#ed7953"
             ],
             [
              0.7777777777777778,
              "#fb9f3a"
             ],
             [
              0.8888888888888888,
              "#fdca26"
             ],
             [
              1,
              "#f0f921"
             ]
            ],
            "type": "heatmap"
           }
          ],
          "heatmapgl": [
           {
            "colorbar": {
             "outlinewidth": 0,
             "ticks": ""
            },
            "colorscale": [
             [
              0,
              "#0d0887"
             ],
             [
              0.1111111111111111,
              "#46039f"
             ],
             [
              0.2222222222222222,
              "#7201a8"
             ],
             [
              0.3333333333333333,
              "#9c179e"
             ],
             [
              0.4444444444444444,
              "#bd3786"
             ],
             [
              0.5555555555555556,
              "#d8576b"
             ],
             [
              0.6666666666666666,
              "#ed7953"
             ],
             [
              0.7777777777777778,
              "#fb9f3a"
             ],
             [
              0.8888888888888888,
              "#fdca26"
             ],
             [
              1,
              "#f0f921"
             ]
            ],
            "type": "heatmapgl"
           }
          ],
          "histogram": [
           {
            "marker": {
             "pattern": {
              "fillmode": "overlay",
              "size": 10,
              "solidity": 0.2
             }
            },
            "type": "histogram"
           }
          ],
          "histogram2d": [
           {
            "colorbar": {
             "outlinewidth": 0,
             "ticks": ""
            },
            "colorscale": [
             [
              0,
              "#0d0887"
             ],
             [
              0.1111111111111111,
              "#46039f"
             ],
             [
              0.2222222222222222,
              "#7201a8"
             ],
             [
              0.3333333333333333,
              "#9c179e"
             ],
             [
              0.4444444444444444,
              "#bd3786"
             ],
             [
              0.5555555555555556,
              "#d8576b"
             ],
             [
              0.6666666666666666,
              "#ed7953"
             ],
             [
              0.7777777777777778,
              "#fb9f3a"
             ],
             [
              0.8888888888888888,
              "#fdca26"
             ],
             [
              1,
              "#f0f921"
             ]
            ],
            "type": "histogram2d"
           }
          ],
          "histogram2dcontour": [
           {
            "colorbar": {
             "outlinewidth": 0,
             "ticks": ""
            },
            "colorscale": [
             [
              0,
              "#0d0887"
             ],
             [
              0.1111111111111111,
              "#46039f"
             ],
             [
              0.2222222222222222,
              "#7201a8"
             ],
             [
              0.3333333333333333,
              "#9c179e"
             ],
             [
              0.4444444444444444,
              "#bd3786"
             ],
             [
              0.5555555555555556,
              "#d8576b"
             ],
             [
              0.6666666666666666,
              "#ed7953"
             ],
             [
              0.7777777777777778,
              "#fb9f3a"
             ],
             [
              0.8888888888888888,
              "#fdca26"
             ],
             [
              1,
              "#f0f921"
             ]
            ],
            "type": "histogram2dcontour"
           }
          ],
          "mesh3d": [
           {
            "colorbar": {
             "outlinewidth": 0,
             "ticks": ""
            },
            "type": "mesh3d"
           }
          ],
          "parcoords": [
           {
            "line": {
             "colorbar": {
              "outlinewidth": 0,
              "ticks": ""
             }
            },
            "type": "parcoords"
           }
          ],
          "pie": [
           {
            "automargin": true,
            "type": "pie"
           }
          ],
          "scatter": [
           {
            "fillpattern": {
             "fillmode": "overlay",
             "size": 10,
             "solidity": 0.2
            },
            "type": "scatter"
           }
          ],
          "scatter3d": [
           {
            "line": {
             "colorbar": {
              "outlinewidth": 0,
              "ticks": ""
             }
            },
            "marker": {
             "colorbar": {
              "outlinewidth": 0,
              "ticks": ""
             }
            },
            "type": "scatter3d"
           }
          ],
          "scattercarpet": [
           {
            "marker": {
             "colorbar": {
              "outlinewidth": 0,
              "ticks": ""
             }
            },
            "type": "scattercarpet"
           }
          ],
          "scattergeo": [
           {
            "marker": {
             "colorbar": {
              "outlinewidth": 0,
              "ticks": ""
             }
            },
            "type": "scattergeo"
           }
          ],
          "scattergl": [
           {
            "marker": {
             "colorbar": {
              "outlinewidth": 0,
              "ticks": ""
             }
            },
            "type": "scattergl"
           }
          ],
          "scattermapbox": [
           {
            "marker": {
             "colorbar": {
              "outlinewidth": 0,
              "ticks": ""
             }
            },
            "type": "scattermapbox"
           }
          ],
          "scatterpolar": [
           {
            "marker": {
             "colorbar": {
              "outlinewidth": 0,
              "ticks": ""
             }
            },
            "type": "scatterpolar"
           }
          ],
          "scatterpolargl": [
           {
            "marker": {
             "colorbar": {
              "outlinewidth": 0,
              "ticks": ""
             }
            },
            "type": "scatterpolargl"
           }
          ],
          "scatterternary": [
           {
            "marker": {
             "colorbar": {
              "outlinewidth": 0,
              "ticks": ""
             }
            },
            "type": "scatterternary"
           }
          ],
          "surface": [
           {
            "colorbar": {
             "outlinewidth": 0,
             "ticks": ""
            },
            "colorscale": [
             [
              0,
              "#0d0887"
             ],
             [
              0.1111111111111111,
              "#46039f"
             ],
             [
              0.2222222222222222,
              "#7201a8"
             ],
             [
              0.3333333333333333,
              "#9c179e"
             ],
             [
              0.4444444444444444,
              "#bd3786"
             ],
             [
              0.5555555555555556,
              "#d8576b"
             ],
             [
              0.6666666666666666,
              "#ed7953"
             ],
             [
              0.7777777777777778,
              "#fb9f3a"
             ],
             [
              0.8888888888888888,
              "#fdca26"
             ],
             [
              1,
              "#f0f921"
             ]
            ],
            "type": "surface"
           }
          ],
          "table": [
           {
            "cells": {
             "fill": {
              "color": "#EBF0F8"
             },
             "line": {
              "color": "white"
             }
            },
            "header": {
             "fill": {
              "color": "#C8D4E3"
             },
             "line": {
              "color": "white"
             }
            },
            "type": "table"
           }
          ]
         },
         "layout": {
          "annotationdefaults": {
           "arrowcolor": "#2a3f5f",
           "arrowhead": 0,
           "arrowwidth": 1
          },
          "autotypenumbers": "strict",
          "coloraxis": {
           "colorbar": {
            "outlinewidth": 0,
            "ticks": ""
           }
          },
          "colorscale": {
           "diverging": [
            [
             0,
             "#8e0152"
            ],
            [
             0.1,
             "#c51b7d"
            ],
            [
             0.2,
             "#de77ae"
            ],
            [
             0.3,
             "#f1b6da"
            ],
            [
             0.4,
             "#fde0ef"
            ],
            [
             0.5,
             "#f7f7f7"
            ],
            [
             0.6,
             "#e6f5d0"
            ],
            [
             0.7,
             "#b8e186"
            ],
            [
             0.8,
             "#7fbc41"
            ],
            [
             0.9,
             "#4d9221"
            ],
            [
             1,
             "#276419"
            ]
           ],
           "sequential": [
            [
             0,
             "#0d0887"
            ],
            [
             0.1111111111111111,
             "#46039f"
            ],
            [
             0.2222222222222222,
             "#7201a8"
            ],
            [
             0.3333333333333333,
             "#9c179e"
            ],
            [
             0.4444444444444444,
             "#bd3786"
            ],
            [
             0.5555555555555556,
             "#d8576b"
            ],
            [
             0.6666666666666666,
             "#ed7953"
            ],
            [
             0.7777777777777778,
             "#fb9f3a"
            ],
            [
             0.8888888888888888,
             "#fdca26"
            ],
            [
             1,
             "#f0f921"
            ]
           ],
           "sequentialminus": [
            [
             0,
             "#0d0887"
            ],
            [
             0.1111111111111111,
             "#46039f"
            ],
            [
             0.2222222222222222,
             "#7201a8"
            ],
            [
             0.3333333333333333,
             "#9c179e"
            ],
            [
             0.4444444444444444,
             "#bd3786"
            ],
            [
             0.5555555555555556,
             "#d8576b"
            ],
            [
             0.6666666666666666,
             "#ed7953"
            ],
            [
             0.7777777777777778,
             "#fb9f3a"
            ],
            [
             0.8888888888888888,
             "#fdca26"
            ],
            [
             1,
             "#f0f921"
            ]
           ]
          },
          "colorway": [
           "#636efa",
           "#EF553B",
           "#00cc96",
           "#ab63fa",
           "#FFA15A",
           "#19d3f3",
           "#FF6692",
           "#B6E880",
           "#FF97FF",
           "#FECB52"
          ],
          "font": {
           "color": "#2a3f5f"
          },
          "geo": {
           "bgcolor": "white",
           "lakecolor": "white",
           "landcolor": "#E5ECF6",
           "showlakes": true,
           "showland": true,
           "subunitcolor": "white"
          },
          "hoverlabel": {
           "align": "left"
          },
          "hovermode": "closest",
          "mapbox": {
           "style": "light"
          },
          "paper_bgcolor": "white",
          "plot_bgcolor": "#E5ECF6",
          "polar": {
           "angularaxis": {
            "gridcolor": "white",
            "linecolor": "white",
            "ticks": ""
           },
           "bgcolor": "#E5ECF6",
           "radialaxis": {
            "gridcolor": "white",
            "linecolor": "white",
            "ticks": ""
           }
          },
          "scene": {
           "xaxis": {
            "backgroundcolor": "#E5ECF6",
            "gridcolor": "white",
            "gridwidth": 2,
            "linecolor": "white",
            "showbackground": true,
            "ticks": "",
            "zerolinecolor": "white"
           },
           "yaxis": {
            "backgroundcolor": "#E5ECF6",
            "gridcolor": "white",
            "gridwidth": 2,
            "linecolor": "white",
            "showbackground": true,
            "ticks": "",
            "zerolinecolor": "white"
           },
           "zaxis": {
            "backgroundcolor": "#E5ECF6",
            "gridcolor": "white",
            "gridwidth": 2,
            "linecolor": "white",
            "showbackground": true,
            "ticks": "",
            "zerolinecolor": "white"
           }
          },
          "shapedefaults": {
           "line": {
            "color": "#2a3f5f"
           }
          },
          "ternary": {
           "aaxis": {
            "gridcolor": "white",
            "linecolor": "white",
            "ticks": ""
           },
           "baxis": {
            "gridcolor": "white",
            "linecolor": "white",
            "ticks": ""
           },
           "bgcolor": "#E5ECF6",
           "caxis": {
            "gridcolor": "white",
            "linecolor": "white",
            "ticks": ""
           }
          },
          "title": {
           "x": 0.05
          },
          "xaxis": {
           "automargin": true,
           "gridcolor": "white",
           "linecolor": "white",
           "ticks": "",
           "title": {
            "standoff": 15
           },
           "zerolinecolor": "white",
           "zerolinewidth": 2
          },
          "yaxis": {
           "automargin": true,
           "gridcolor": "white",
           "linecolor": "white",
           "ticks": "",
           "title": {
            "standoff": 15
           },
           "zerolinecolor": "white",
           "zerolinewidth": 2
          }
         }
        },
        "title": {
         "text": "Distribution of Gender"
        },
        "xaxis": {
         "anchor": "y",
         "domain": [
          0,
          1
         ],
         "title": {
          "text": "Gender"
         }
        },
        "yaxis": {
         "anchor": "x",
         "domain": [
          0,
          1
         ],
         "range": [
          0,
          621.6
         ],
         "title": {
          "text": "count"
         }
        }
       }
      }
     },
     "metadata": {},
     "output_type": "display_data"
    }
   ],
   "source": [
    "# Check the distribution of gender\n",
    "gender_counts = df[\"Gender\"].value_counts().reset_index()\n",
    "fig = px.bar(gender_counts, x=\"Gender\", y=\"count\", title=\"Distribution of Gender\")\n",
    "fig.update_layout(yaxis_range=[0, gender_counts[\"count\"].max() * 1.2])\n",
    "fig.update_traces(marker_color=[\"#636EFA\", \"#EF553B\"], text=gender_counts[\"count\"], textposition=\"outside\")\n",
    "fig.show()"
   ]
  },
  {
   "cell_type": "code",
   "execution_count": 202,
   "metadata": {},
   "outputs": [
    {
     "data": {
      "text/plain": [
       "Country\n",
       "France            9\n",
       "Czech Republic    9\n",
       "Afghanistan       8\n",
       "Turkey            8\n",
       "Micronesia        8\n",
       "Liberia           8\n",
       "Senegal           8\n",
       "Peru              8\n",
       "South Africa      8\n",
       "Greece            8\n",
       "Name: count, dtype: int64"
      ]
     },
     "execution_count": 202,
     "metadata": {},
     "output_type": "execute_result"
    }
   ],
   "source": [
    "# Check the top 10 most common country\n",
    "df[\"Country\"].value_counts().head(10)"
   ]
  },
  {
   "cell_type": "markdown",
   "metadata": {},
   "source": [
    "**Finding from Data Understanding**: \n",
    "\n",
    "1. **Daily Time Spent on Site**: We see users spend between 32 minutes to 91 minutes on the site with an average value of 62 minutes, which is a large amount of time that the users per day on the site. This shows that it is a very popular site among the users, and we would want to see if there is any correlation with ad click behavior.\n",
    "\n",
    "2. **Age**: The users age range from 19 to 60 with a mean of 36 years old, which indicates that the target users are mostly working adults. This feature can also affect the likelihood of clicking an ad or not, depending on their age ranges.\n",
    "\n",
    "3. **Area Income**: The minimum area income is around 14K and the maximum is around 80K with an average area income of 54K, which indicates that the users are from different social classes that can also affect the ad click variable as well because users from high area income might have higher chance to click the ad based on initial assumption but we will explore that deeper. \n",
    "\n",
    "4. **Daily Internet Usage**: The daily internet usage ranges from 105 minutes to 267 minutes with an average value of 180 minutes, and if we compare this to the daily spent on site, we can see that users spend a large amount of time on the site because the different between these columns is not large. \n",
    "\n",
    "4. **Gender**: The number of female users is sligtly higher than males about 40, which is well-balanced. \n",
    "\n",
    "5. **Other Categorical Features**: *Ad Topic Line*, *City*, and *Country* have a lot of unique values which indicates that users come from different places and saw different ads. This can make it harder for the model to learn patterns from these features as the number of unqiue values are high which can introduce noise and too many inputs for training, so we might consider dropping these columns from including in the trainint process.\n",
    "\n",
    "6. **Clicked on Ad**: The target variable is well-balanced, indicating that there is no need to apply resampling techniques to address class imbalance."
   ]
  },
  {
   "cell_type": "markdown",
   "metadata": {},
   "source": [
    "#### **Data Cleaning**"
   ]
  },
  {
   "cell_type": "code",
   "execution_count": 203,
   "metadata": {},
   "outputs": [
    {
     "name": "stdout",
     "output_type": "stream",
     "text": [
      "Number of duplicated rows after dropping:  0\n"
     ]
    }
   ],
   "source": [
    "# Drop duplicated rows\n",
    "df = df.drop_duplicates()\n",
    "print(\"Number of duplicated rows after dropping: \", df.duplicated().sum())"
   ]
  },
  {
   "cell_type": "code",
   "execution_count": 204,
   "metadata": {},
   "outputs": [
    {
     "data": {
      "text/plain": [
       "Daily Time Spent on Site    0\n",
       "Age                         0\n",
       "Area Income                 0\n",
       "Daily Internet Usage        0\n",
       "Ad Topic Line               0\n",
       "City                        1\n",
       "Country                     9\n",
       "Timestamp                   0\n",
       "Clicked on Ad               0\n",
       "Gender                      0\n",
       "dtype: int64"
      ]
     },
     "execution_count": 204,
     "metadata": {},
     "output_type": "execute_result"
    }
   ],
   "source": [
    "# Handle the missing values for Daily Time Spent on Site, Area Income, Daily Internet Usage, Gender\n",
    "num_fill_median = [\"Daily Time Spent on Site\", \"Area Income\", \"Daily Internet Usage\"]\n",
    "cat_fill_mode = [\"Gender\"]\n",
    "\n",
    "for column in num_fill_median:\n",
    "    df[column] = df[column].fillna(df[column].median())\n",
    "\n",
    "for column in cat_fill_mode:\n",
    "    df[column] = df[column].fillna(df[column].mode()[0])\n",
    "\n",
    "# Check the missing values after filling\n",
    "df.isnull().sum()"
   ]
  },
  {
   "cell_type": "markdown",
   "metadata": {},
   "source": [
    "**Note**: We do not handle missing values for City and Country columns as we are going to drop it later because we are not using it for model training."
   ]
  },
  {
   "cell_type": "code",
   "execution_count": 205,
   "metadata": {},
   "outputs": [
    {
     "name": "stdout",
     "output_type": "stream",
     "text": [
      "Unique year: [2016]\n",
      "Unique month: [1, 2, 3, 4, 5, 6, 7]\n",
      "Unique day: [1, 2, 3, 4, 5, 6, 7, 8, 9, 10, 11, 12, 13, 14, 15, 16, 17, 18, 19, 20, 21, 22, 23, 24, 25, 26, 27, 28, 29, 30, 31]\n",
      "Unique hour: [0, 1, 2, 3, 4, 5, 6, 7, 8, 9, 10, 11, 12, 13, 14, 15, 16, 17, 18, 19, 20, 21, 22, 23]\n"
     ]
    }
   ],
   "source": [
    "# Change the Timestamp column data types\n",
    "df[\"Timestamp\"] = pd.to_datetime(df[\"Timestamp\"])\n",
    "print(f\"Unique year: {df['Timestamp'].dt.year.unique()}\")\n",
    "print(f\"Unique month: {sorted(df['Timestamp'].dt.month.unique().tolist())}\")\n",
    "print(f\"Unique day: {sorted(df['Timestamp'].dt.day.unique().tolist())}\")\n",
    "print(f\"Unique hour: {sorted(df['Timestamp'].dt.hour.unique().tolist())}\")"
   ]
  },
  {
   "cell_type": "markdown",
   "metadata": {},
   "source": [
    "**Finding**:  The dataset contains data from only one year 2016. It includes records from seven months, specifically from January to July, and the dataset includes data for all days and hours. The timestamp can be a valuable feature for identifying patterns in ad-click behavior. For example, users may be more likely to click on ads during certain times of the day, such as lunchtime or evenings after work."
   ]
  },
  {
   "cell_type": "code",
   "execution_count": 206,
   "metadata": {},
   "outputs": [
    {
     "data": {
      "application/vnd.microsoft.datawrangler.viewer.v0+json": {
       "columns": [
        {
         "name": "index",
         "rawType": "int64",
         "type": "integer"
        },
        {
         "name": "Daily Time Spent on Site",
         "rawType": "float64",
         "type": "float"
        },
        {
         "name": "Age",
         "rawType": "int64",
         "type": "integer"
        },
        {
         "name": "Area Income",
         "rawType": "float64",
         "type": "float"
        },
        {
         "name": "Daily Internet Usage",
         "rawType": "float64",
         "type": "float"
        },
        {
         "name": "Ad Topic Line",
         "rawType": "object",
         "type": "string"
        },
        {
         "name": "City",
         "rawType": "object",
         "type": "string"
        },
        {
         "name": "Country",
         "rawType": "object",
         "type": "string"
        },
        {
         "name": "Clicked on Ad",
         "rawType": "int64",
         "type": "integer"
        },
        {
         "name": "Gender",
         "rawType": "object",
         "type": "string"
        },
        {
         "name": "Month",
         "rawType": "int32",
         "type": "integer"
        },
        {
         "name": "Day",
         "rawType": "int32",
         "type": "integer"
        },
        {
         "name": "Day of Week",
         "rawType": "int32",
         "type": "integer"
        },
        {
         "name": "Hour",
         "rawType": "int32",
         "type": "integer"
        }
       ],
       "conversionMethod": "pd.DataFrame",
       "ref": "7449d535-7762-4899-b308-42bd923613a1",
       "rows": [
        [
         "0",
         "68.95",
         "35",
         "61833.9",
         "256.09",
         "Cloned 5thgeneration orchestration",
         "Wrightburgh",
         "Tunisia",
         "0",
         "Female",
         "3",
         "27",
         "6",
         "0"
        ],
        [
         "1",
         "80.23",
         "31",
         "68441.85",
         "193.77",
         "Monitored national standardization",
         "West Jodi",
         "Nauru",
         "0",
         "Male",
         "4",
         "4",
         "0",
         "1"
        ],
        [
         "2",
         "69.47",
         "26",
         "59785.94",
         "236.5",
         "Organic bottom-line service-desk",
         "Davidton",
         "San Marino",
         "0",
         "Female",
         "3",
         "13",
         "6",
         "20"
        ],
        [
         "3",
         "74.15",
         "29",
         "54806.18",
         "245.89",
         "Triple-buffered reciprocal time-frame",
         "West Terrifurt",
         "Italy",
         "0",
         "Male",
         "1",
         "10",
         "6",
         "2"
        ],
        [
         "4",
         "68.37",
         "35",
         "73889.99",
         "225.58",
         "Robust logistical utilization",
         "South Manuel",
         "Iceland",
         "0",
         "Female",
         "6",
         "3",
         "4",
         "3"
        ]
       ],
       "shape": {
        "columns": 13,
        "rows": 5
       }
      },
      "text/html": [
       "<div>\n",
       "<style scoped>\n",
       "    .dataframe tbody tr th:only-of-type {\n",
       "        vertical-align: middle;\n",
       "    }\n",
       "\n",
       "    .dataframe tbody tr th {\n",
       "        vertical-align: top;\n",
       "    }\n",
       "\n",
       "    .dataframe thead th {\n",
       "        text-align: right;\n",
       "    }\n",
       "</style>\n",
       "<table border=\"1\" class=\"dataframe\">\n",
       "  <thead>\n",
       "    <tr style=\"text-align: right;\">\n",
       "      <th></th>\n",
       "      <th>Daily Time Spent on Site</th>\n",
       "      <th>Age</th>\n",
       "      <th>Area Income</th>\n",
       "      <th>Daily Internet Usage</th>\n",
       "      <th>Ad Topic Line</th>\n",
       "      <th>City</th>\n",
       "      <th>Country</th>\n",
       "      <th>Clicked on Ad</th>\n",
       "      <th>Gender</th>\n",
       "      <th>Month</th>\n",
       "      <th>Day</th>\n",
       "      <th>Day of Week</th>\n",
       "      <th>Hour</th>\n",
       "    </tr>\n",
       "  </thead>\n",
       "  <tbody>\n",
       "    <tr>\n",
       "      <th>0</th>\n",
       "      <td>68.95</td>\n",
       "      <td>35</td>\n",
       "      <td>61833.90</td>\n",
       "      <td>256.09</td>\n",
       "      <td>Cloned 5thgeneration orchestration</td>\n",
       "      <td>Wrightburgh</td>\n",
       "      <td>Tunisia</td>\n",
       "      <td>0</td>\n",
       "      <td>Female</td>\n",
       "      <td>3</td>\n",
       "      <td>27</td>\n",
       "      <td>6</td>\n",
       "      <td>0</td>\n",
       "    </tr>\n",
       "    <tr>\n",
       "      <th>1</th>\n",
       "      <td>80.23</td>\n",
       "      <td>31</td>\n",
       "      <td>68441.85</td>\n",
       "      <td>193.77</td>\n",
       "      <td>Monitored national standardization</td>\n",
       "      <td>West Jodi</td>\n",
       "      <td>Nauru</td>\n",
       "      <td>0</td>\n",
       "      <td>Male</td>\n",
       "      <td>4</td>\n",
       "      <td>4</td>\n",
       "      <td>0</td>\n",
       "      <td>1</td>\n",
       "    </tr>\n",
       "    <tr>\n",
       "      <th>2</th>\n",
       "      <td>69.47</td>\n",
       "      <td>26</td>\n",
       "      <td>59785.94</td>\n",
       "      <td>236.50</td>\n",
       "      <td>Organic bottom-line service-desk</td>\n",
       "      <td>Davidton</td>\n",
       "      <td>San Marino</td>\n",
       "      <td>0</td>\n",
       "      <td>Female</td>\n",
       "      <td>3</td>\n",
       "      <td>13</td>\n",
       "      <td>6</td>\n",
       "      <td>20</td>\n",
       "    </tr>\n",
       "    <tr>\n",
       "      <th>3</th>\n",
       "      <td>74.15</td>\n",
       "      <td>29</td>\n",
       "      <td>54806.18</td>\n",
       "      <td>245.89</td>\n",
       "      <td>Triple-buffered reciprocal time-frame</td>\n",
       "      <td>West Terrifurt</td>\n",
       "      <td>Italy</td>\n",
       "      <td>0</td>\n",
       "      <td>Male</td>\n",
       "      <td>1</td>\n",
       "      <td>10</td>\n",
       "      <td>6</td>\n",
       "      <td>2</td>\n",
       "    </tr>\n",
       "    <tr>\n",
       "      <th>4</th>\n",
       "      <td>68.37</td>\n",
       "      <td>35</td>\n",
       "      <td>73889.99</td>\n",
       "      <td>225.58</td>\n",
       "      <td>Robust logistical utilization</td>\n",
       "      <td>South Manuel</td>\n",
       "      <td>Iceland</td>\n",
       "      <td>0</td>\n",
       "      <td>Female</td>\n",
       "      <td>6</td>\n",
       "      <td>3</td>\n",
       "      <td>4</td>\n",
       "      <td>3</td>\n",
       "    </tr>\n",
       "  </tbody>\n",
       "</table>\n",
       "</div>"
      ],
      "text/plain": [
       "   Daily Time Spent on Site  Age  Area Income  Daily Internet Usage  \\\n",
       "0                     68.95   35     61833.90                256.09   \n",
       "1                     80.23   31     68441.85                193.77   \n",
       "2                     69.47   26     59785.94                236.50   \n",
       "3                     74.15   29     54806.18                245.89   \n",
       "4                     68.37   35     73889.99                225.58   \n",
       "\n",
       "                           Ad Topic Line            City     Country  \\\n",
       "0     Cloned 5thgeneration orchestration     Wrightburgh     Tunisia   \n",
       "1     Monitored national standardization       West Jodi       Nauru   \n",
       "2       Organic bottom-line service-desk        Davidton  San Marino   \n",
       "3  Triple-buffered reciprocal time-frame  West Terrifurt       Italy   \n",
       "4          Robust logistical utilization    South Manuel     Iceland   \n",
       "\n",
       "   Clicked on Ad  Gender  Month  Day  Day of Week  Hour  \n",
       "0              0  Female      3   27            6     0  \n",
       "1              0    Male      4    4            0     1  \n",
       "2              0  Female      3   13            6    20  \n",
       "3              0    Male      1   10            6     2  \n",
       "4              0  Female      6    3            4     3  "
      ]
     },
     "execution_count": 206,
     "metadata": {},
     "output_type": "execute_result"
    }
   ],
   "source": [
    "# Extract month, day, day of the week, hour\n",
    "df[\"Month\"] = df[\"Timestamp\"].dt.month\n",
    "df[\"Day\"] = df[\"Timestamp\"].dt.day\n",
    "df[\"Day of Week\"] = df[\"Timestamp\"].dt.dayofweek\n",
    "df[\"Hour\"] = df[\"Timestamp\"].dt.hour\n",
    "\n",
    "# Drop the timestamp column \n",
    "df = df.drop(\"Timestamp\", axis=1)\n",
    "df.head()"
   ]
  },
  {
   "cell_type": "code",
   "execution_count": 207,
   "metadata": {},
   "outputs": [
    {
     "name": "stdout",
     "output_type": "stream",
     "text": [
      "Columns after dropping: Index(['Daily Time Spent on Site', 'Age', 'Area Income',\n",
      "       'Daily Internet Usage', 'Clicked on Ad', 'Gender', 'Month', 'Day',\n",
      "       'Day of Week', 'Hour'],\n",
      "      dtype='object')\n"
     ]
    }
   ],
   "source": [
    "# Drop the columns that are not useful for the model\n",
    "dropped_columns = [\"Ad Topic Line\", \"City\", \"Country\"]\n",
    "df = df.drop(dropped_columns, axis=1)\n",
    "print(f\"Columns after dropping: {df.columns}\")"
   ]
  },
  {
   "cell_type": "markdown",
   "metadata": {},
   "source": [
    "#### **Exploratory Data Analysis**"
   ]
  },
  {
   "cell_type": "code",
   "execution_count": 210,
   "metadata": {},
   "outputs": [
    {
     "data": {
      "application/vnd.plotly.v1+json": {
       "config": {
        "plotlyServerURL": "https://plot.ly"
       },
       "data": [
        {
         "alignmentgroup": "True",
         "bingroup": "x",
         "hovertemplate": "Age=%{x}<br>count=%{y}<extra></extra>",
         "legendgroup": "",
         "marker": {
          "color": "#636efa",
          "pattern": {
           "shape": ""
          }
         },
         "name": "",
         "nbinsx": 30,
         "offsetgroup": "",
         "orientation": "v",
         "showlegend": false,
         "type": "histogram",
         "x": [
          35,
          31,
          26,
          29,
          35,
          23,
          33,
          48,
          30,
          20,
          49,
          37,
          48,
          24,
          33,
          23,
          37,
          41,
          36,
          40,
          30,
          35,
          52,
          36,
          41,
          28,
          28,
          52,
          34,
          22,
          35,
          28,
          57,
          23,
          57,
          30,
          53,
          39,
          46,
          39,
          29,
          30,
          32,
          31,
          25,
          52,
          20,
          43,
          37,
          46,
          23,
          28,
          45,
          50,
          47,
          31,
          36,
          49,
          29,
          41,
          27,
          34,
          29,
          32,
          45,
          29,
          40,
          32,
          25,
          34,
          31,
          46,
          39,
          43,
          42,
          22,
          35,
          33,
          38,
          45,
          27,
          28,
          38,
          54,
          31,
          41,
          36,
          34,
          34,
          37,
          43,
          24,
          26,
          40,
          31,
          26,
          36,
          41,
          46,
          34,
          53,
          23,
          40,
          21,
          20,
          40,
          25,
          42,
          30,
          32,
          60,
          53,
          22,
          46,
          32,
          31,
          55,
          42,
          50,
          45,
          31,
          26,
          27,
          36,
          43,
          31,
          44,
          45,
          27,
          37,
          50,
          36,
          36,
          29,
          47,
          39,
          36,
          38,
          23,
          38,
          31,
          30,
          44,
          44,
          41,
          44,
          49,
          41,
          46,
          57,
          25,
          35,
          48,
          33,
          27,
          38,
          36,
          28,
          27,
          36,
          35,
          33,
          31,
          24,
          50,
          32,
          55,
          31,
          42,
          34,
          52,
          47,
          31,
          26,
          48,
          35,
          44,
          22,
          31,
          34,
          38,
          27,
          60,
          41,
          29,
          54,
          57,
          31,
          30,
          36,
          30,
          35,
          49,
          53,
          33,
          32,
          45,
          36,
          31,
          27,
          40,
          29,
          40,
          31,
          29,
          29,
          28,
          30,
          58,
          38,
          28,
          38,
          27,
          43,
          40,
          23,
          53,
          34,
          40,
          38,
          37,
          27,
          39,
          41,
          42,
          30,
          29,
          38,
          31,
          23,
          33,
          32,
          38,
          28,
          50,
          45,
          36,
          30,
          33,
          32,
          44,
          47,
          32,
          30,
          24,
          53,
          45,
          41,
          56,
          25,
          36,
          45,
          33,
          30,
          48,
          28,
          32,
          38,
          39,
          31,
          28,
          35,
          35,
          44,
          38,
          43,
          26,
          34,
          26,
          26,
          53,
          37,
          33,
          37,
          28,
          29,
          35,
          32,
          26,
          28,
          52,
          24,
          35,
          35,
          51,
          22,
          26,
          37,
          42,
          24,
          31,
          32,
          39,
          33,
          36,
          36,
          35,
          31,
          31,
          25,
          28,
          50,
          39,
          38,
          43,
          24,
          33,
          35,
          32,
          54,
          34,
          49,
          22,
          33,
          41,
          39,
          21,
          25,
          31,
          44,
          34,
          37,
          30,
          35,
          41,
          36,
          48,
          32,
          25,
          31,
          26,
          31,
          49,
          34,
          40,
          41,
          35,
          28,
          40,
          22,
          47,
          48,
          38,
          28,
          26,
          21,
          25,
          52,
          37,
          19,
          28,
          23,
          30,
          44,
          52,
          36,
          47,
          39,
          59,
          34,
          33,
          41,
          28,
          36,
          42,
          54,
          29,
          40,
          36,
          25,
          50,
          45,
          26,
          47,
          25,
          24,
          37,
          42,
          31,
          39,
          30,
          41,
          29,
          26,
          27,
          37,
          33,
          42,
          40,
          38,
          36,
          44,
          28,
          26,
          47,
          20,
          51,
          28,
          40,
          27,
          47,
          34,
          43,
          29,
          52,
          41,
          50,
          27,
          49,
          45,
          33,
          29,
          20,
          40,
          39,
          43,
          32,
          29,
          24,
          43,
          41,
          45,
          35,
          31,
          36,
          42,
          37,
          33,
          29,
          31,
          32,
          35,
          43,
          36,
          39,
          42,
          27,
          27,
          36,
          23,
          32,
          35,
          39,
          38,
          40,
          32,
          34,
          44,
          50,
          22,
          28,
          24,
          34,
          25,
          52,
          33,
          35,
          25,
          42,
          26,
          40,
          45,
          27,
          52,
          45,
          33,
          35,
          23,
          47,
          25,
          36,
          37,
          24,
          29,
          31,
          33,
          24,
          50,
          41,
          28,
          22,
          40,
          25,
          30,
          37,
          35,
          40,
          30,
          48,
          31,
          40,
          33,
          30,
          28,
          30,
          35,
          29,
          39,
          27,
          37,
          46,
          37,
          26,
          37,
          49,
          42,
          31,
          41,
          58,
          33,
          30,
          26,
          33,
          44,
          41,
          37,
          32,
          34,
          55,
          40,
          42,
          29,
          32,
          43,
          32,
          41,
          39,
          21,
          52,
          34,
          49,
          42,
          51,
          39,
          30,
          32,
          23,
          26,
          35,
          34,
          36,
          39,
          33,
          38,
          29,
          55,
          28,
          39,
          33,
          35,
          36,
          31,
          58,
          35,
          33,
          37,
          49,
          28,
          26,
          31,
          44,
          41,
          44,
          37,
          36,
          26,
          42,
          30,
          42,
          37,
          40,
          33,
          35,
          23,
          45,
          54,
          39,
          36,
          23,
          38,
          46,
          36,
          27,
          33,
          25,
          46,
          38,
          45,
          32,
          28,
          25,
          42,
          25,
          24,
          38,
          36,
          27,
          37,
          36,
          48,
          48,
          50,
          40,
          24,
          35,
          51,
          26,
          30,
          40,
          30,
          37,
          31,
          31,
          31,
          31,
          53,
          41,
          38,
          39,
          24,
          24,
          31,
          60,
          35,
          27,
          23,
          27,
          49,
          39,
          26,
          29,
          36,
          31,
          37,
          55,
          51,
          49,
          40,
          41,
          23,
          45,
          28,
          36,
          22,
          46,
          28,
          41,
          28,
          27,
          29,
          38,
          33,
          32,
          46,
          26,
          43,
          31,
          46,
          39,
          26,
          49,
          26,
          50,
          55,
          33,
          32,
          29,
          31,
          31,
          33,
          26,
          61,
          33,
          55,
          28,
          38,
          29,
          38,
          34,
          46,
          26,
          28,
          36,
          28,
          34,
          27,
          37,
          28,
          36,
          28,
          33,
          37,
          47,
          29,
          33,
          38,
          54,
          25,
          28,
          29,
          19,
          54,
          30,
          28,
          40,
          26,
          23,
          41,
          48,
          57,
          43,
          31,
          35,
          53,
          21,
          38,
          35,
          29,
          51,
          45,
          34,
          36,
          43,
          40,
          25,
          27,
          24,
          30,
          34,
          28,
          19,
          35,
          41,
          41,
          26,
          29,
          28,
          52,
          43,
          30,
          38,
          28,
          29,
          37,
          29,
          50,
          29,
          32,
          58,
          42,
          59,
          31,
          28,
          31,
          36,
          34,
          37,
          35,
          29,
          32,
          40,
          31,
          54,
          25,
          51,
          33,
          29,
          42,
          41,
          27,
          30,
          19,
          40,
          60,
          45,
          54,
          26,
          30,
          44,
          35,
          41,
          36,
          29,
          29,
          39,
          40,
          22,
          33,
          29,
          33,
          31,
          47,
          26,
          32,
          49,
          29,
          27,
          34,
          46,
          24,
          29,
          34,
          50,
          49,
          41,
          28,
          43,
          44,
          35,
          43,
          29,
          30,
          32,
          28,
          34,
          39,
          48,
          23,
          34,
          39,
          38,
          31,
          30,
          32,
          28,
          36,
          31,
          45,
          35,
          49,
          30,
          34,
          42,
          33,
          27,
          34,
          46,
          49,
          40,
          46,
          40,
          45,
          23,
          38,
          37,
          42,
          37,
          36,
          32,
          52,
          33,
          35,
          45,
          26,
          34,
          24,
          30,
          25,
          51,
          43,
          45,
          29,
          25,
          39,
          50,
          33,
          32,
          40,
          25,
          36,
          27,
          27,
          33,
          32,
          34,
          29,
          44,
          34,
          43,
          22,
          33,
          31,
          29,
          42,
          39,
          45,
          53,
          44,
          31,
          36,
          31,
          20,
          40,
          25,
          36,
          26,
          32,
          41,
          37,
          45,
          51,
          38,
          43,
          30,
          26,
          27,
          50,
          31,
          50,
          24,
          52,
          47,
          42,
          37,
          39,
          34,
          42,
          31,
          32,
          25,
          34,
          37,
          49,
          56,
          51,
          45,
          22,
          38,
          29,
          45,
          36,
          34,
          38,
          34,
          33,
          36,
          45,
          48,
          38,
          19,
          46,
          51,
          39,
          32,
          30,
          36,
          34,
          31,
          30,
          50,
          43,
          27,
          36,
          29,
          31,
          44,
          36,
          28,
          29,
          37,
          28,
          26,
          21,
          42,
          24,
          50,
          52,
          25,
          38,
          27,
          29,
          48,
          50,
          28,
          40,
          48,
          45,
          31,
          30,
          31,
          57,
          46,
          38,
          32,
          31,
          44,
          28,
          43,
          48,
          31,
          44,
          38,
          40,
          27,
          28,
          30,
          45,
          51,
          19,
          26
         ],
         "xaxis": "x",
         "yaxis": "y"
        }
       ],
       "layout": {
        "barmode": "relative",
        "legend": {
         "tracegroupgap": 0
        },
        "template": {
         "data": {
          "bar": [
           {
            "error_x": {
             "color": "#2a3f5f"
            },
            "error_y": {
             "color": "#2a3f5f"
            },
            "marker": {
             "line": {
              "color": "#E5ECF6",
              "width": 0.5
             },
             "pattern": {
              "fillmode": "overlay",
              "size": 10,
              "solidity": 0.2
             }
            },
            "type": "bar"
           }
          ],
          "barpolar": [
           {
            "marker": {
             "line": {
              "color": "#E5ECF6",
              "width": 0.5
             },
             "pattern": {
              "fillmode": "overlay",
              "size": 10,
              "solidity": 0.2
             }
            },
            "type": "barpolar"
           }
          ],
          "carpet": [
           {
            "aaxis": {
             "endlinecolor": "#2a3f5f",
             "gridcolor": "white",
             "linecolor": "white",
             "minorgridcolor": "white",
             "startlinecolor": "#2a3f5f"
            },
            "baxis": {
             "endlinecolor": "#2a3f5f",
             "gridcolor": "white",
             "linecolor": "white",
             "minorgridcolor": "white",
             "startlinecolor": "#2a3f5f"
            },
            "type": "carpet"
           }
          ],
          "choropleth": [
           {
            "colorbar": {
             "outlinewidth": 0,
             "ticks": ""
            },
            "type": "choropleth"
           }
          ],
          "contour": [
           {
            "colorbar": {
             "outlinewidth": 0,
             "ticks": ""
            },
            "colorscale": [
             [
              0,
              "#0d0887"
             ],
             [
              0.1111111111111111,
              "#46039f"
             ],
             [
              0.2222222222222222,
              "#7201a8"
             ],
             [
              0.3333333333333333,
              "#9c179e"
             ],
             [
              0.4444444444444444,
              "#bd3786"
             ],
             [
              0.5555555555555556,
              "#d8576b"
             ],
             [
              0.6666666666666666,
              "#ed7953"
             ],
             [
              0.7777777777777778,
              "#fb9f3a"
             ],
             [
              0.8888888888888888,
              "#fdca26"
             ],
             [
              1,
              "#f0f921"
             ]
            ],
            "type": "contour"
           }
          ],
          "contourcarpet": [
           {
            "colorbar": {
             "outlinewidth": 0,
             "ticks": ""
            },
            "type": "contourcarpet"
           }
          ],
          "heatmap": [
           {
            "colorbar": {
             "outlinewidth": 0,
             "ticks": ""
            },
            "colorscale": [
             [
              0,
              "#0d0887"
             ],
             [
              0.1111111111111111,
              "#46039f"
             ],
             [
              0.2222222222222222,
              "#7201a8"
             ],
             [
              0.3333333333333333,
              "#9c179e"
             ],
             [
              0.4444444444444444,
              "#bd3786"
             ],
             [
              0.5555555555555556,
              "#d8576b"
             ],
             [
              0.6666666666666666,
              "#ed7953"
             ],
             [
              0.7777777777777778,
              "#fb9f3a"
             ],
             [
              0.8888888888888888,
              "#fdca26"
             ],
             [
              1,
              "#f0f921"
             ]
            ],
            "type": "heatmap"
           }
          ],
          "heatmapgl": [
           {
            "colorbar": {
             "outlinewidth": 0,
             "ticks": ""
            },
            "colorscale": [
             [
              0,
              "#0d0887"
             ],
             [
              0.1111111111111111,
              "#46039f"
             ],
             [
              0.2222222222222222,
              "#7201a8"
             ],
             [
              0.3333333333333333,
              "#9c179e"
             ],
             [
              0.4444444444444444,
              "#bd3786"
             ],
             [
              0.5555555555555556,
              "#d8576b"
             ],
             [
              0.6666666666666666,
              "#ed7953"
             ],
             [
              0.7777777777777778,
              "#fb9f3a"
             ],
             [
              0.8888888888888888,
              "#fdca26"
             ],
             [
              1,
              "#f0f921"
             ]
            ],
            "type": "heatmapgl"
           }
          ],
          "histogram": [
           {
            "marker": {
             "pattern": {
              "fillmode": "overlay",
              "size": 10,
              "solidity": 0.2
             }
            },
            "type": "histogram"
           }
          ],
          "histogram2d": [
           {
            "colorbar": {
             "outlinewidth": 0,
             "ticks": ""
            },
            "colorscale": [
             [
              0,
              "#0d0887"
             ],
             [
              0.1111111111111111,
              "#46039f"
             ],
             [
              0.2222222222222222,
              "#7201a8"
             ],
             [
              0.3333333333333333,
              "#9c179e"
             ],
             [
              0.4444444444444444,
              "#bd3786"
             ],
             [
              0.5555555555555556,
              "#d8576b"
             ],
             [
              0.6666666666666666,
              "#ed7953"
             ],
             [
              0.7777777777777778,
              "#fb9f3a"
             ],
             [
              0.8888888888888888,
              "#fdca26"
             ],
             [
              1,
              "#f0f921"
             ]
            ],
            "type": "histogram2d"
           }
          ],
          "histogram2dcontour": [
           {
            "colorbar": {
             "outlinewidth": 0,
             "ticks": ""
            },
            "colorscale": [
             [
              0,
              "#0d0887"
             ],
             [
              0.1111111111111111,
              "#46039f"
             ],
             [
              0.2222222222222222,
              "#7201a8"
             ],
             [
              0.3333333333333333,
              "#9c179e"
             ],
             [
              0.4444444444444444,
              "#bd3786"
             ],
             [
              0.5555555555555556,
              "#d8576b"
             ],
             [
              0.6666666666666666,
              "#ed7953"
             ],
             [
              0.7777777777777778,
              "#fb9f3a"
             ],
             [
              0.8888888888888888,
              "#fdca26"
             ],
             [
              1,
              "#f0f921"
             ]
            ],
            "type": "histogram2dcontour"
           }
          ],
          "mesh3d": [
           {
            "colorbar": {
             "outlinewidth": 0,
             "ticks": ""
            },
            "type": "mesh3d"
           }
          ],
          "parcoords": [
           {
            "line": {
             "colorbar": {
              "outlinewidth": 0,
              "ticks": ""
             }
            },
            "type": "parcoords"
           }
          ],
          "pie": [
           {
            "automargin": true,
            "type": "pie"
           }
          ],
          "scatter": [
           {
            "fillpattern": {
             "fillmode": "overlay",
             "size": 10,
             "solidity": 0.2
            },
            "type": "scatter"
           }
          ],
          "scatter3d": [
           {
            "line": {
             "colorbar": {
              "outlinewidth": 0,
              "ticks": ""
             }
            },
            "marker": {
             "colorbar": {
              "outlinewidth": 0,
              "ticks": ""
             }
            },
            "type": "scatter3d"
           }
          ],
          "scattercarpet": [
           {
            "marker": {
             "colorbar": {
              "outlinewidth": 0,
              "ticks": ""
             }
            },
            "type": "scattercarpet"
           }
          ],
          "scattergeo": [
           {
            "marker": {
             "colorbar": {
              "outlinewidth": 0,
              "ticks": ""
             }
            },
            "type": "scattergeo"
           }
          ],
          "scattergl": [
           {
            "marker": {
             "colorbar": {
              "outlinewidth": 0,
              "ticks": ""
             }
            },
            "type": "scattergl"
           }
          ],
          "scattermapbox": [
           {
            "marker": {
             "colorbar": {
              "outlinewidth": 0,
              "ticks": ""
             }
            },
            "type": "scattermapbox"
           }
          ],
          "scatterpolar": [
           {
            "marker": {
             "colorbar": {
              "outlinewidth": 0,
              "ticks": ""
             }
            },
            "type": "scatterpolar"
           }
          ],
          "scatterpolargl": [
           {
            "marker": {
             "colorbar": {
              "outlinewidth": 0,
              "ticks": ""
             }
            },
            "type": "scatterpolargl"
           }
          ],
          "scatterternary": [
           {
            "marker": {
             "colorbar": {
              "outlinewidth": 0,
              "ticks": ""
             }
            },
            "type": "scatterternary"
           }
          ],
          "surface": [
           {
            "colorbar": {
             "outlinewidth": 0,
             "ticks": ""
            },
            "colorscale": [
             [
              0,
              "#0d0887"
             ],
             [
              0.1111111111111111,
              "#46039f"
             ],
             [
              0.2222222222222222,
              "#7201a8"
             ],
             [
              0.3333333333333333,
              "#9c179e"
             ],
             [
              0.4444444444444444,
              "#bd3786"
             ],
             [
              0.5555555555555556,
              "#d8576b"
             ],
             [
              0.6666666666666666,
              "#ed7953"
             ],
             [
              0.7777777777777778,
              "#fb9f3a"
             ],
             [
              0.8888888888888888,
              "#fdca26"
             ],
             [
              1,
              "#f0f921"
             ]
            ],
            "type": "surface"
           }
          ],
          "table": [
           {
            "cells": {
             "fill": {
              "color": "#EBF0F8"
             },
             "line": {
              "color": "white"
             }
            },
            "header": {
             "fill": {
              "color": "#C8D4E3"
             },
             "line": {
              "color": "white"
             }
            },
            "type": "table"
           }
          ]
         },
         "layout": {
          "annotationdefaults": {
           "arrowcolor": "#2a3f5f",
           "arrowhead": 0,
           "arrowwidth": 1
          },
          "autotypenumbers": "strict",
          "coloraxis": {
           "colorbar": {
            "outlinewidth": 0,
            "ticks": ""
           }
          },
          "colorscale": {
           "diverging": [
            [
             0,
             "#8e0152"
            ],
            [
             0.1,
             "#c51b7d"
            ],
            [
             0.2,
             "#de77ae"
            ],
            [
             0.3,
             "#f1b6da"
            ],
            [
             0.4,
             "#fde0ef"
            ],
            [
             0.5,
             "#f7f7f7"
            ],
            [
             0.6,
             "#e6f5d0"
            ],
            [
             0.7,
             "#b8e186"
            ],
            [
             0.8,
             "#7fbc41"
            ],
            [
             0.9,
             "#4d9221"
            ],
            [
             1,
             "#276419"
            ]
           ],
           "sequential": [
            [
             0,
             "#0d0887"
            ],
            [
             0.1111111111111111,
             "#46039f"
            ],
            [
             0.2222222222222222,
             "#7201a8"
            ],
            [
             0.3333333333333333,
             "#9c179e"
            ],
            [
             0.4444444444444444,
             "#bd3786"
            ],
            [
             0.5555555555555556,
             "#d8576b"
            ],
            [
             0.6666666666666666,
             "#ed7953"
            ],
            [
             0.7777777777777778,
             "#fb9f3a"
            ],
            [
             0.8888888888888888,
             "#fdca26"
            ],
            [
             1,
             "#f0f921"
            ]
           ],
           "sequentialminus": [
            [
             0,
             "#0d0887"
            ],
            [
             0.1111111111111111,
             "#46039f"
            ],
            [
             0.2222222222222222,
             "#7201a8"
            ],
            [
             0.3333333333333333,
             "#9c179e"
            ],
            [
             0.4444444444444444,
             "#bd3786"
            ],
            [
             0.5555555555555556,
             "#d8576b"
            ],
            [
             0.6666666666666666,
             "#ed7953"
            ],
            [
             0.7777777777777778,
             "#fb9f3a"
            ],
            [
             0.8888888888888888,
             "#fdca26"
            ],
            [
             1,
             "#f0f921"
            ]
           ]
          },
          "colorway": [
           "#636efa",
           "#EF553B",
           "#00cc96",
           "#ab63fa",
           "#FFA15A",
           "#19d3f3",
           "#FF6692",
           "#B6E880",
           "#FF97FF",
           "#FECB52"
          ],
          "font": {
           "color": "#2a3f5f"
          },
          "geo": {
           "bgcolor": "white",
           "lakecolor": "white",
           "landcolor": "#E5ECF6",
           "showlakes": true,
           "showland": true,
           "subunitcolor": "white"
          },
          "hoverlabel": {
           "align": "left"
          },
          "hovermode": "closest",
          "mapbox": {
           "style": "light"
          },
          "paper_bgcolor": "white",
          "plot_bgcolor": "#E5ECF6",
          "polar": {
           "angularaxis": {
            "gridcolor": "white",
            "linecolor": "white",
            "ticks": ""
           },
           "bgcolor": "#E5ECF6",
           "radialaxis": {
            "gridcolor": "white",
            "linecolor": "white",
            "ticks": ""
           }
          },
          "scene": {
           "xaxis": {
            "backgroundcolor": "#E5ECF6",
            "gridcolor": "white",
            "gridwidth": 2,
            "linecolor": "white",
            "showbackground": true,
            "ticks": "",
            "zerolinecolor": "white"
           },
           "yaxis": {
            "backgroundcolor": "#E5ECF6",
            "gridcolor": "white",
            "gridwidth": 2,
            "linecolor": "white",
            "showbackground": true,
            "ticks": "",
            "zerolinecolor": "white"
           },
           "zaxis": {
            "backgroundcolor": "#E5ECF6",
            "gridcolor": "white",
            "gridwidth": 2,
            "linecolor": "white",
            "showbackground": true,
            "ticks": "",
            "zerolinecolor": "white"
           }
          },
          "shapedefaults": {
           "line": {
            "color": "#2a3f5f"
           }
          },
          "ternary": {
           "aaxis": {
            "gridcolor": "white",
            "linecolor": "white",
            "ticks": ""
           },
           "baxis": {
            "gridcolor": "white",
            "linecolor": "white",
            "ticks": ""
           },
           "bgcolor": "#E5ECF6",
           "caxis": {
            "gridcolor": "white",
            "linecolor": "white",
            "ticks": ""
           }
          },
          "title": {
           "x": 0.05
          },
          "xaxis": {
           "automargin": true,
           "gridcolor": "white",
           "linecolor": "white",
           "ticks": "",
           "title": {
            "standoff": 15
           },
           "zerolinecolor": "white",
           "zerolinewidth": 2
          },
          "yaxis": {
           "automargin": true,
           "gridcolor": "white",
           "linecolor": "white",
           "ticks": "",
           "title": {
            "standoff": 15
           },
           "zerolinecolor": "white",
           "zerolinewidth": 2
          }
         }
        },
        "title": {
         "text": "Distribution of Age"
        },
        "xaxis": {
         "anchor": "y",
         "domain": [
          0,
          1
         ],
         "title": {
          "text": "Age"
         }
        },
        "yaxis": {
         "anchor": "x",
         "domain": [
          0,
          1
         ],
         "title": {
          "text": "Count"
         }
        }
       }
      }
     },
     "metadata": {},
     "output_type": "display_data"
    }
   ],
   "source": [
    "# Check the distribution of age\n",
    "fig = px.histogram(df, x=\"Age\", nbins=30, title=\"Distribution of Age\")\n",
    "fig.update_layout(xaxis_title=\"Age\", yaxis_title=\"Count\")\n",
    "fig.show()"
   ]
  },
  {
   "cell_type": "code",
   "execution_count": 170,
   "metadata": {},
   "outputs": [
    {
     "data": {
      "application/vnd.plotly.v1+json": {
       "config": {
        "plotlyServerURL": "https://plot.ly"
       },
       "data": [
        {
         "alignmentgroup": "True",
         "boxpoints": "all",
         "hovertemplate": "Clicked on Ad=%{x}<br>Age=%{y}<extra></extra>",
         "legendgroup": "0",
         "marker": {
          "color": "#636efa"
         },
         "name": "Not Clicked",
         "notched": false,
         "offsetgroup": "0",
         "orientation": "v",
         "showlegend": true,
         "type": "box",
         "x": [
          0,
          0,
          0,
          0,
          0,
          0,
          0,
          0,
          0,
          0,
          0,
          0,
          0,
          0,
          0,
          0,
          0,
          0,
          0,
          0,
          0,
          0,
          0,
          0,
          0,
          0,
          0,
          0,
          0,
          0,
          0,
          0,
          0,
          0,
          0,
          0,
          0,
          0,
          0,
          0,
          0,
          0,
          0,
          0,
          0,
          0,
          0,
          0,
          0,
          0,
          0,
          0,
          0,
          0,
          0,
          0,
          0,
          0,
          0,
          0,
          0,
          0,
          0,
          0,
          0,
          0,
          0,
          0,
          0,
          0,
          0,
          0,
          0,
          0,
          0,
          0,
          0,
          0,
          0,
          0,
          0,
          0,
          0,
          0,
          0,
          0,
          0,
          0,
          0,
          0,
          0,
          0,
          0,
          0,
          0,
          0,
          0,
          0,
          0,
          0,
          0,
          0,
          0,
          0,
          0,
          0,
          0,
          0,
          0,
          0,
          0,
          0,
          0,
          0,
          0,
          0,
          0,
          0,
          0,
          0,
          0,
          0,
          0,
          0,
          0,
          0,
          0,
          0,
          0,
          0,
          0,
          0,
          0,
          0,
          0,
          0,
          0,
          0,
          0,
          0,
          0,
          0,
          0,
          0,
          0,
          0,
          0,
          0,
          0,
          0,
          0,
          0,
          0,
          0,
          0,
          0,
          0,
          0,
          0,
          0,
          0,
          0,
          0,
          0,
          0,
          0,
          0,
          0,
          0,
          0,
          0,
          0,
          0,
          0,
          0,
          0,
          0,
          0,
          0,
          0,
          0,
          0,
          0,
          0,
          0,
          0,
          0,
          0,
          0,
          0,
          0,
          0,
          0,
          0,
          0,
          0,
          0,
          0,
          0,
          0,
          0,
          0,
          0,
          0,
          0,
          0,
          0,
          0,
          0,
          0,
          0,
          0,
          0,
          0,
          0,
          0,
          0,
          0,
          0,
          0,
          0,
          0,
          0,
          0,
          0,
          0,
          0,
          0,
          0,
          0,
          0,
          0,
          0,
          0,
          0,
          0,
          0,
          0,
          0,
          0,
          0,
          0,
          0,
          0,
          0,
          0,
          0,
          0,
          0,
          0,
          0,
          0,
          0,
          0,
          0,
          0,
          0,
          0,
          0,
          0,
          0,
          0,
          0,
          0,
          0,
          0,
          0,
          0,
          0,
          0,
          0,
          0,
          0,
          0,
          0,
          0,
          0,
          0,
          0,
          0,
          0,
          0,
          0,
          0,
          0,
          0,
          0,
          0,
          0,
          0,
          0,
          0,
          0,
          0,
          0,
          0,
          0,
          0,
          0,
          0,
          0,
          0,
          0,
          0,
          0,
          0,
          0,
          0,
          0,
          0,
          0,
          0,
          0,
          0,
          0,
          0,
          0,
          0,
          0,
          0,
          0,
          0,
          0,
          0,
          0,
          0,
          0,
          0,
          0,
          0,
          0,
          0,
          0,
          0,
          0,
          0,
          0,
          0,
          0,
          0,
          0,
          0,
          0,
          0,
          0,
          0,
          0,
          0,
          0,
          0,
          0,
          0,
          0,
          0,
          0,
          0,
          0,
          0,
          0,
          0,
          0,
          0,
          0,
          0,
          0,
          0,
          0,
          0,
          0,
          0,
          0,
          0,
          0,
          0,
          0,
          0,
          0,
          0,
          0,
          0,
          0,
          0,
          0,
          0,
          0,
          0,
          0,
          0,
          0,
          0,
          0,
          0,
          0,
          0,
          0,
          0,
          0,
          0,
          0,
          0,
          0,
          0,
          0,
          0,
          0,
          0,
          0,
          0,
          0,
          0,
          0,
          0,
          0,
          0,
          0,
          0,
          0,
          0,
          0,
          0,
          0,
          0,
          0,
          0,
          0,
          0,
          0,
          0,
          0,
          0,
          0,
          0,
          0,
          0,
          0,
          0,
          0,
          0,
          0,
          0,
          0,
          0,
          0,
          0,
          0,
          0,
          0,
          0,
          0,
          0,
          0,
          0,
          0,
          0,
          0,
          0,
          0,
          0,
          0,
          0,
          0,
          0,
          0,
          0,
          0,
          0,
          0,
          0,
          0,
          0,
          0,
          0,
          0,
          0,
          0,
          0,
          0,
          0,
          0,
          0,
          0,
          0,
          0,
          0,
          0,
          0,
          0,
          0,
          0,
          0,
          0,
          0,
          0,
          0,
          0,
          0,
          0,
          0,
          0,
          0
         ],
         "x0": " ",
         "xaxis": "x",
         "y": [
          35,
          31,
          26,
          29,
          35,
          23,
          33,
          30,
          20,
          37,
          24,
          41,
          30,
          35,
          36,
          28,
          22,
          35,
          28,
          30,
          39,
          29,
          30,
          32,
          31,
          25,
          20,
          43,
          23,
          28,
          31,
          29,
          27,
          34,
          29,
          32,
          29,
          25,
          46,
          22,
          33,
          27,
          28,
          31,
          36,
          26,
          26,
          34,
          23,
          40,
          21,
          20,
          40,
          25,
          32,
          22,
          32,
          31,
          31,
          26,
          27,
          31,
          45,
          27,
          37,
          29,
          23,
          38,
          31,
          44,
          41,
          25,
          35,
          33,
          27,
          38,
          27,
          35,
          33,
          31,
          24,
          31,
          34,
          47,
          31,
          26,
          35,
          22,
          34,
          41,
          29,
          31,
          33,
          36,
          31,
          27,
          40,
          29,
          31,
          29,
          28,
          30,
          28,
          27,
          40,
          37,
          27,
          42,
          31,
          23,
          33,
          30,
          32,
          32,
          30,
          24,
          53,
          36,
          33,
          28,
          32,
          39,
          28,
          38,
          34,
          26,
          37,
          33,
          37,
          28,
          35,
          32,
          26,
          28,
          35,
          22,
          37,
          32,
          33,
          36,
          36,
          35,
          31,
          31,
          25,
          28,
          33,
          35,
          32,
          34,
          49,
          33,
          41,
          21,
          25,
          31,
          37,
          30,
          35,
          41,
          32,
          25,
          26,
          31,
          34,
          40,
          35,
          28,
          40,
          22,
          38,
          28,
          21,
          25,
          37,
          28,
          23,
          30,
          44,
          36,
          34,
          28,
          42,
          29,
          40,
          36,
          25,
          26,
          25,
          24,
          37,
          39,
          30,
          29,
          26,
          37,
          33,
          40,
          36,
          44,
          28,
          26,
          20,
          40,
          27,
          34,
          29,
          41,
          29,
          20,
          39,
          29,
          24,
          43,
          45,
          33,
          31,
          32,
          35,
          36,
          39,
          27,
          27,
          23,
          35,
          32,
          44,
          22,
          34,
          25,
          33,
          25,
          26,
          27,
          45,
          25,
          37,
          24,
          29,
          33,
          24,
          22,
          40,
          25,
          40,
          30,
          31,
          30,
          35,
          29,
          27,
          37,
          26,
          42,
          31,
          33,
          26,
          33,
          41,
          32,
          32,
          32,
          41,
          21,
          34,
          51,
          39,
          30,
          32,
          23,
          26,
          35,
          34,
          36,
          39,
          33,
          29,
          28,
          39,
          33,
          35,
          36,
          31,
          37,
          28,
          26,
          31,
          44,
          37,
          26,
          30,
          42,
          37,
          33,
          35,
          36,
          23,
          38,
          46,
          38,
          32,
          25,
          24,
          27,
          37,
          36,
          24,
          26,
          30,
          31,
          31,
          31,
          38,
          24,
          24,
          31,
          35,
          27,
          27,
          26,
          29,
          36,
          31,
          40,
          23,
          28,
          36,
          22,
          46,
          27,
          29,
          38,
          33,
          32,
          46,
          26,
          31,
          46,
          39,
          26,
          33,
          29,
          31,
          26,
          33,
          28,
          38,
          34,
          26,
          28,
          27,
          37,
          28,
          36,
          28,
          33,
          37,
          33,
          38,
          25,
          28,
          29,
          19,
          28,
          40,
          26,
          41,
          31,
          35,
          21,
          29,
          51,
          34,
          40,
          25,
          27,
          24,
          30,
          34,
          28,
          19,
          35,
          41,
          29,
          28,
          30,
          28,
          29,
          42,
          31,
          28,
          31,
          36,
          34,
          40,
          31,
          27,
          30,
          19,
          40,
          30,
          35,
          29,
          29,
          22,
          29,
          26,
          29,
          27,
          34,
          46,
          24,
          28,
          30,
          32,
          28,
          34,
          39,
          34,
          39,
          31,
          32,
          28,
          36,
          31,
          27,
          34,
          23,
          38,
          37,
          36,
          32,
          33,
          26,
          30,
          25,
          43,
          29,
          25,
          39,
          50,
          32,
          40,
          25,
          36,
          27,
          33,
          32,
          34,
          34,
          43,
          22,
          31,
          29,
          39,
          31,
          31,
          25,
          36,
          26,
          32,
          30,
          26,
          27,
          31,
          24,
          37,
          31,
          32,
          25,
          34,
          22,
          38,
          29,
          36,
          33,
          36,
          19,
          36,
          34,
          31,
          28,
          29,
          37,
          26,
          21,
          42,
          24,
          25,
          28,
          30,
          31,
          46,
          32,
          31,
          28,
          48,
          31,
          27,
          19
         ],
         "y0": " ",
         "yaxis": "y"
        },
        {
         "alignmentgroup": "True",
         "boxpoints": "all",
         "hovertemplate": "Clicked on Ad=%{x}<br>Age=%{y}<extra></extra>",
         "legendgroup": "1",
         "marker": {
          "color": "#EF553B"
         },
         "name": "Clicked",
         "notched": false,
         "offsetgroup": "1",
         "orientation": "v",
         "showlegend": true,
         "type": "box",
         "x": [
          1,
          1,
          1,
          1,
          1,
          1,
          1,
          1,
          1,
          1,
          1,
          1,
          1,
          1,
          1,
          1,
          1,
          1,
          1,
          1,
          1,
          1,
          1,
          1,
          1,
          1,
          1,
          1,
          1,
          1,
          1,
          1,
          1,
          1,
          1,
          1,
          1,
          1,
          1,
          1,
          1,
          1,
          1,
          1,
          1,
          1,
          1,
          1,
          1,
          1,
          1,
          1,
          1,
          1,
          1,
          1,
          1,
          1,
          1,
          1,
          1,
          1,
          1,
          1,
          1,
          1,
          1,
          1,
          1,
          1,
          1,
          1,
          1,
          1,
          1,
          1,
          1,
          1,
          1,
          1,
          1,
          1,
          1,
          1,
          1,
          1,
          1,
          1,
          1,
          1,
          1,
          1,
          1,
          1,
          1,
          1,
          1,
          1,
          1,
          1,
          1,
          1,
          1,
          1,
          1,
          1,
          1,
          1,
          1,
          1,
          1,
          1,
          1,
          1,
          1,
          1,
          1,
          1,
          1,
          1,
          1,
          1,
          1,
          1,
          1,
          1,
          1,
          1,
          1,
          1,
          1,
          1,
          1,
          1,
          1,
          1,
          1,
          1,
          1,
          1,
          1,
          1,
          1,
          1,
          1,
          1,
          1,
          1,
          1,
          1,
          1,
          1,
          1,
          1,
          1,
          1,
          1,
          1,
          1,
          1,
          1,
          1,
          1,
          1,
          1,
          1,
          1,
          1,
          1,
          1,
          1,
          1,
          1,
          1,
          1,
          1,
          1,
          1,
          1,
          1,
          1,
          1,
          1,
          1,
          1,
          1,
          1,
          1,
          1,
          1,
          1,
          1,
          1,
          1,
          1,
          1,
          1,
          1,
          1,
          1,
          1,
          1,
          1,
          1,
          1,
          1,
          1,
          1,
          1,
          1,
          1,
          1,
          1,
          1,
          1,
          1,
          1,
          1,
          1,
          1,
          1,
          1,
          1,
          1,
          1,
          1,
          1,
          1,
          1,
          1,
          1,
          1,
          1,
          1,
          1,
          1,
          1,
          1,
          1,
          1,
          1,
          1,
          1,
          1,
          1,
          1,
          1,
          1,
          1,
          1,
          1,
          1,
          1,
          1,
          1,
          1,
          1,
          1,
          1,
          1,
          1,
          1,
          1,
          1,
          1,
          1,
          1,
          1,
          1,
          1,
          1,
          1,
          1,
          1,
          1,
          1,
          1,
          1,
          1,
          1,
          1,
          1,
          1,
          1,
          1,
          1,
          1,
          1,
          1,
          1,
          1,
          1,
          1,
          1,
          1,
          1,
          1,
          1,
          1,
          1,
          1,
          1,
          1,
          1,
          1,
          1,
          1,
          1,
          1,
          1,
          1,
          1,
          1,
          1,
          1,
          1,
          1,
          1,
          1,
          1,
          1,
          1,
          1,
          1,
          1,
          1,
          1,
          1,
          1,
          1,
          1,
          1,
          1,
          1,
          1,
          1,
          1,
          1,
          1,
          1,
          1,
          1,
          1,
          1,
          1,
          1,
          1,
          1,
          1,
          1,
          1,
          1,
          1,
          1,
          1,
          1,
          1,
          1,
          1,
          1,
          1,
          1,
          1,
          1,
          1,
          1,
          1,
          1,
          1,
          1,
          1,
          1,
          1,
          1,
          1,
          1,
          1,
          1,
          1,
          1,
          1,
          1,
          1,
          1,
          1,
          1,
          1,
          1,
          1,
          1,
          1,
          1,
          1,
          1,
          1,
          1,
          1,
          1,
          1,
          1,
          1,
          1,
          1,
          1,
          1,
          1,
          1,
          1,
          1,
          1,
          1,
          1,
          1,
          1,
          1,
          1,
          1,
          1,
          1,
          1,
          1,
          1,
          1,
          1,
          1,
          1,
          1,
          1,
          1,
          1,
          1,
          1,
          1,
          1,
          1,
          1,
          1,
          1,
          1,
          1,
          1,
          1,
          1,
          1,
          1,
          1,
          1,
          1,
          1,
          1,
          1,
          1,
          1,
          1,
          1,
          1,
          1,
          1,
          1,
          1,
          1,
          1,
          1,
          1,
          1,
          1,
          1,
          1,
          1,
          1,
          1,
          1,
          1,
          1,
          1,
          1,
          1,
          1,
          1,
          1,
          1,
          1,
          1,
          1,
          1,
          1,
          1,
          1,
          1,
          1,
          1,
          1,
          1,
          1,
          1,
          1,
          1,
          1,
          1,
          1
         ],
         "x0": " ",
         "xaxis": "x",
         "y": [
          48,
          49,
          48,
          33,
          23,
          37,
          36,
          40,
          52,
          41,
          28,
          52,
          34,
          57,
          23,
          57,
          53,
          46,
          39,
          52,
          37,
          46,
          45,
          50,
          47,
          36,
          49,
          41,
          45,
          40,
          32,
          34,
          31,
          39,
          43,
          42,
          35,
          38,
          45,
          38,
          54,
          41,
          34,
          34,
          37,
          43,
          24,
          40,
          31,
          36,
          41,
          46,
          53,
          42,
          30,
          60,
          53,
          46,
          55,
          42,
          50,
          45,
          36,
          43,
          44,
          50,
          36,
          36,
          47,
          39,
          36,
          38,
          30,
          44,
          44,
          49,
          41,
          46,
          57,
          48,
          36,
          28,
          36,
          50,
          32,
          55,
          42,
          52,
          48,
          44,
          31,
          38,
          27,
          60,
          54,
          57,
          30,
          36,
          30,
          35,
          49,
          53,
          32,
          45,
          40,
          29,
          58,
          38,
          38,
          43,
          23,
          53,
          34,
          40,
          38,
          39,
          41,
          30,
          29,
          38,
          32,
          38,
          28,
          50,
          45,
          36,
          33,
          44,
          47,
          45,
          41,
          56,
          25,
          45,
          30,
          48,
          38,
          31,
          35,
          35,
          44,
          43,
          26,
          26,
          53,
          29,
          52,
          24,
          35,
          51,
          26,
          42,
          24,
          31,
          39,
          50,
          39,
          38,
          43,
          24,
          54,
          22,
          39,
          44,
          34,
          36,
          48,
          31,
          49,
          41,
          47,
          48,
          26,
          52,
          19,
          52,
          47,
          39,
          59,
          33,
          41,
          36,
          54,
          50,
          45,
          47,
          42,
          31,
          41,
          27,
          42,
          38,
          47,
          51,
          28,
          47,
          43,
          52,
          50,
          27,
          49,
          45,
          33,
          40,
          43,
          32,
          41,
          35,
          31,
          36,
          42,
          37,
          29,
          43,
          42,
          36,
          32,
          39,
          38,
          40,
          34,
          50,
          28,
          24,
          52,
          35,
          42,
          40,
          45,
          52,
          33,
          35,
          23,
          47,
          36,
          31,
          50,
          41,
          28,
          30,
          37,
          35,
          48,
          40,
          33,
          28,
          30,
          39,
          37,
          46,
          37,
          49,
          41,
          58,
          30,
          44,
          37,
          34,
          55,
          40,
          42,
          29,
          43,
          39,
          52,
          49,
          42,
          38,
          55,
          58,
          35,
          33,
          49,
          44,
          41,
          36,
          42,
          40,
          23,
          45,
          54,
          39,
          46,
          36,
          27,
          33,
          25,
          45,
          28,
          25,
          42,
          38,
          36,
          48,
          48,
          50,
          40,
          35,
          51,
          40,
          30,
          37,
          31,
          53,
          41,
          39,
          60,
          23,
          49,
          39,
          37,
          55,
          51,
          49,
          41,
          45,
          28,
          41,
          28,
          43,
          49,
          26,
          50,
          55,
          32,
          31,
          33,
          61,
          55,
          29,
          38,
          46,
          28,
          36,
          34,
          47,
          29,
          54,
          54,
          30,
          23,
          48,
          57,
          43,
          53,
          38,
          35,
          45,
          36,
          43,
          41,
          26,
          52,
          43,
          38,
          37,
          29,
          50,
          29,
          32,
          58,
          59,
          37,
          35,
          29,
          32,
          54,
          25,
          51,
          33,
          29,
          42,
          41,
          60,
          45,
          54,
          26,
          44,
          41,
          36,
          39,
          40,
          33,
          33,
          31,
          47,
          32,
          49,
          29,
          34,
          50,
          49,
          41,
          43,
          44,
          35,
          43,
          29,
          48,
          23,
          38,
          30,
          45,
          35,
          49,
          30,
          34,
          42,
          33,
          46,
          49,
          40,
          46,
          40,
          45,
          42,
          37,
          52,
          35,
          45,
          34,
          24,
          51,
          45,
          33,
          27,
          29,
          44,
          33,
          42,
          45,
          53,
          44,
          36,
          20,
          40,
          41,
          37,
          45,
          51,
          38,
          43,
          50,
          50,
          52,
          47,
          42,
          39,
          34,
          42,
          37,
          49,
          56,
          51,
          45,
          45,
          34,
          38,
          34,
          45,
          48,
          38,
          46,
          51,
          39,
          32,
          30,
          31,
          30,
          50,
          43,
          27,
          36,
          29,
          44,
          36,
          28,
          50,
          52,
          38,
          27,
          29,
          48,
          50,
          40,
          48,
          45,
          31,
          57,
          38,
          44,
          43,
          44,
          38,
          40,
          28,
          30,
          45,
          51,
          26
         ],
         "y0": " ",
         "yaxis": "y"
        }
       ],
       "layout": {
        "boxmode": "overlay",
        "legend": {
         "title": {
          "text": "Ad Click Status"
         },
         "tracegroupgap": 0
        },
        "template": {
         "data": {
          "bar": [
           {
            "error_x": {
             "color": "#2a3f5f"
            },
            "error_y": {
             "color": "#2a3f5f"
            },
            "marker": {
             "line": {
              "color": "#E5ECF6",
              "width": 0.5
             },
             "pattern": {
              "fillmode": "overlay",
              "size": 10,
              "solidity": 0.2
             }
            },
            "type": "bar"
           }
          ],
          "barpolar": [
           {
            "marker": {
             "line": {
              "color": "#E5ECF6",
              "width": 0.5
             },
             "pattern": {
              "fillmode": "overlay",
              "size": 10,
              "solidity": 0.2
             }
            },
            "type": "barpolar"
           }
          ],
          "carpet": [
           {
            "aaxis": {
             "endlinecolor": "#2a3f5f",
             "gridcolor": "white",
             "linecolor": "white",
             "minorgridcolor": "white",
             "startlinecolor": "#2a3f5f"
            },
            "baxis": {
             "endlinecolor": "#2a3f5f",
             "gridcolor": "white",
             "linecolor": "white",
             "minorgridcolor": "white",
             "startlinecolor": "#2a3f5f"
            },
            "type": "carpet"
           }
          ],
          "choropleth": [
           {
            "colorbar": {
             "outlinewidth": 0,
             "ticks": ""
            },
            "type": "choropleth"
           }
          ],
          "contour": [
           {
            "colorbar": {
             "outlinewidth": 0,
             "ticks": ""
            },
            "colorscale": [
             [
              0,
              "#0d0887"
             ],
             [
              0.1111111111111111,
              "#46039f"
             ],
             [
              0.2222222222222222,
              "#7201a8"
             ],
             [
              0.3333333333333333,
              "#9c179e"
             ],
             [
              0.4444444444444444,
              "#bd3786"
             ],
             [
              0.5555555555555556,
              "#d8576b"
             ],
             [
              0.6666666666666666,
              "#ed7953"
             ],
             [
              0.7777777777777778,
              "#fb9f3a"
             ],
             [
              0.8888888888888888,
              "#fdca26"
             ],
             [
              1,
              "#f0f921"
             ]
            ],
            "type": "contour"
           }
          ],
          "contourcarpet": [
           {
            "colorbar": {
             "outlinewidth": 0,
             "ticks": ""
            },
            "type": "contourcarpet"
           }
          ],
          "heatmap": [
           {
            "colorbar": {
             "outlinewidth": 0,
             "ticks": ""
            },
            "colorscale": [
             [
              0,
              "#0d0887"
             ],
             [
              0.1111111111111111,
              "#46039f"
             ],
             [
              0.2222222222222222,
              "#7201a8"
             ],
             [
              0.3333333333333333,
              "#9c179e"
             ],
             [
              0.4444444444444444,
              "#bd3786"
             ],
             [
              0.5555555555555556,
              "#d8576b"
             ],
             [
              0.6666666666666666,
              "#ed7953"
             ],
             [
              0.7777777777777778,
              "#fb9f3a"
             ],
             [
              0.8888888888888888,
              "#fdca26"
             ],
             [
              1,
              "#f0f921"
             ]
            ],
            "type": "heatmap"
           }
          ],
          "heatmapgl": [
           {
            "colorbar": {
             "outlinewidth": 0,
             "ticks": ""
            },
            "colorscale": [
             [
              0,
              "#0d0887"
             ],
             [
              0.1111111111111111,
              "#46039f"
             ],
             [
              0.2222222222222222,
              "#7201a8"
             ],
             [
              0.3333333333333333,
              "#9c179e"
             ],
             [
              0.4444444444444444,
              "#bd3786"
             ],
             [
              0.5555555555555556,
              "#d8576b"
             ],
             [
              0.6666666666666666,
              "#ed7953"
             ],
             [
              0.7777777777777778,
              "#fb9f3a"
             ],
             [
              0.8888888888888888,
              "#fdca26"
             ],
             [
              1,
              "#f0f921"
             ]
            ],
            "type": "heatmapgl"
           }
          ],
          "histogram": [
           {
            "marker": {
             "pattern": {
              "fillmode": "overlay",
              "size": 10,
              "solidity": 0.2
             }
            },
            "type": "histogram"
           }
          ],
          "histogram2d": [
           {
            "colorbar": {
             "outlinewidth": 0,
             "ticks": ""
            },
            "colorscale": [
             [
              0,
              "#0d0887"
             ],
             [
              0.1111111111111111,
              "#46039f"
             ],
             [
              0.2222222222222222,
              "#7201a8"
             ],
             [
              0.3333333333333333,
              "#9c179e"
             ],
             [
              0.4444444444444444,
              "#bd3786"
             ],
             [
              0.5555555555555556,
              "#d8576b"
             ],
             [
              0.6666666666666666,
              "#ed7953"
             ],
             [
              0.7777777777777778,
              "#fb9f3a"
             ],
             [
              0.8888888888888888,
              "#fdca26"
             ],
             [
              1,
              "#f0f921"
             ]
            ],
            "type": "histogram2d"
           }
          ],
          "histogram2dcontour": [
           {
            "colorbar": {
             "outlinewidth": 0,
             "ticks": ""
            },
            "colorscale": [
             [
              0,
              "#0d0887"
             ],
             [
              0.1111111111111111,
              "#46039f"
             ],
             [
              0.2222222222222222,
              "#7201a8"
             ],
             [
              0.3333333333333333,
              "#9c179e"
             ],
             [
              0.4444444444444444,
              "#bd3786"
             ],
             [
              0.5555555555555556,
              "#d8576b"
             ],
             [
              0.6666666666666666,
              "#ed7953"
             ],
             [
              0.7777777777777778,
              "#fb9f3a"
             ],
             [
              0.8888888888888888,
              "#fdca26"
             ],
             [
              1,
              "#f0f921"
             ]
            ],
            "type": "histogram2dcontour"
           }
          ],
          "mesh3d": [
           {
            "colorbar": {
             "outlinewidth": 0,
             "ticks": ""
            },
            "type": "mesh3d"
           }
          ],
          "parcoords": [
           {
            "line": {
             "colorbar": {
              "outlinewidth": 0,
              "ticks": ""
             }
            },
            "type": "parcoords"
           }
          ],
          "pie": [
           {
            "automargin": true,
            "type": "pie"
           }
          ],
          "scatter": [
           {
            "fillpattern": {
             "fillmode": "overlay",
             "size": 10,
             "solidity": 0.2
            },
            "type": "scatter"
           }
          ],
          "scatter3d": [
           {
            "line": {
             "colorbar": {
              "outlinewidth": 0,
              "ticks": ""
             }
            },
            "marker": {
             "colorbar": {
              "outlinewidth": 0,
              "ticks": ""
             }
            },
            "type": "scatter3d"
           }
          ],
          "scattercarpet": [
           {
            "marker": {
             "colorbar": {
              "outlinewidth": 0,
              "ticks": ""
             }
            },
            "type": "scattercarpet"
           }
          ],
          "scattergeo": [
           {
            "marker": {
             "colorbar": {
              "outlinewidth": 0,
              "ticks": ""
             }
            },
            "type": "scattergeo"
           }
          ],
          "scattergl": [
           {
            "marker": {
             "colorbar": {
              "outlinewidth": 0,
              "ticks": ""
             }
            },
            "type": "scattergl"
           }
          ],
          "scattermapbox": [
           {
            "marker": {
             "colorbar": {
              "outlinewidth": 0,
              "ticks": ""
             }
            },
            "type": "scattermapbox"
           }
          ],
          "scatterpolar": [
           {
            "marker": {
             "colorbar": {
              "outlinewidth": 0,
              "ticks": ""
             }
            },
            "type": "scatterpolar"
           }
          ],
          "scatterpolargl": [
           {
            "marker": {
             "colorbar": {
              "outlinewidth": 0,
              "ticks": ""
             }
            },
            "type": "scatterpolargl"
           }
          ],
          "scatterternary": [
           {
            "marker": {
             "colorbar": {
              "outlinewidth": 0,
              "ticks": ""
             }
            },
            "type": "scatterternary"
           }
          ],
          "surface": [
           {
            "colorbar": {
             "outlinewidth": 0,
             "ticks": ""
            },
            "colorscale": [
             [
              0,
              "#0d0887"
             ],
             [
              0.1111111111111111,
              "#46039f"
             ],
             [
              0.2222222222222222,
              "#7201a8"
             ],
             [
              0.3333333333333333,
              "#9c179e"
             ],
             [
              0.4444444444444444,
              "#bd3786"
             ],
             [
              0.5555555555555556,
              "#d8576b"
             ],
             [
              0.6666666666666666,
              "#ed7953"
             ],
             [
              0.7777777777777778,
              "#fb9f3a"
             ],
             [
              0.8888888888888888,
              "#fdca26"
             ],
             [
              1,
              "#f0f921"
             ]
            ],
            "type": "surface"
           }
          ],
          "table": [
           {
            "cells": {
             "fill": {
              "color": "#EBF0F8"
             },
             "line": {
              "color": "white"
             }
            },
            "header": {
             "fill": {
              "color": "#C8D4E3"
             },
             "line": {
              "color": "white"
             }
            },
            "type": "table"
           }
          ]
         },
         "layout": {
          "annotationdefaults": {
           "arrowcolor": "#2a3f5f",
           "arrowhead": 0,
           "arrowwidth": 1
          },
          "autotypenumbers": "strict",
          "coloraxis": {
           "colorbar": {
            "outlinewidth": 0,
            "ticks": ""
           }
          },
          "colorscale": {
           "diverging": [
            [
             0,
             "#8e0152"
            ],
            [
             0.1,
             "#c51b7d"
            ],
            [
             0.2,
             "#de77ae"
            ],
            [
             0.3,
             "#f1b6da"
            ],
            [
             0.4,
             "#fde0ef"
            ],
            [
             0.5,
             "#f7f7f7"
            ],
            [
             0.6,
             "#e6f5d0"
            ],
            [
             0.7,
             "#b8e186"
            ],
            [
             0.8,
             "#7fbc41"
            ],
            [
             0.9,
             "#4d9221"
            ],
            [
             1,
             "#276419"
            ]
           ],
           "sequential": [
            [
             0,
             "#0d0887"
            ],
            [
             0.1111111111111111,
             "#46039f"
            ],
            [
             0.2222222222222222,
             "#7201a8"
            ],
            [
             0.3333333333333333,
             "#9c179e"
            ],
            [
             0.4444444444444444,
             "#bd3786"
            ],
            [
             0.5555555555555556,
             "#d8576b"
            ],
            [
             0.6666666666666666,
             "#ed7953"
            ],
            [
             0.7777777777777778,
             "#fb9f3a"
            ],
            [
             0.8888888888888888,
             "#fdca26"
            ],
            [
             1,
             "#f0f921"
            ]
           ],
           "sequentialminus": [
            [
             0,
             "#0d0887"
            ],
            [
             0.1111111111111111,
             "#46039f"
            ],
            [
             0.2222222222222222,
             "#7201a8"
            ],
            [
             0.3333333333333333,
             "#9c179e"
            ],
            [
             0.4444444444444444,
             "#bd3786"
            ],
            [
             0.5555555555555556,
             "#d8576b"
            ],
            [
             0.6666666666666666,
             "#ed7953"
            ],
            [
             0.7777777777777778,
             "#fb9f3a"
            ],
            [
             0.8888888888888888,
             "#fdca26"
            ],
            [
             1,
             "#f0f921"
            ]
           ]
          },
          "colorway": [
           "#636efa",
           "#EF553B",
           "#00cc96",
           "#ab63fa",
           "#FFA15A",
           "#19d3f3",
           "#FF6692",
           "#B6E880",
           "#FF97FF",
           "#FECB52"
          ],
          "font": {
           "color": "#2a3f5f"
          },
          "geo": {
           "bgcolor": "white",
           "lakecolor": "white",
           "landcolor": "#E5ECF6",
           "showlakes": true,
           "showland": true,
           "subunitcolor": "white"
          },
          "hoverlabel": {
           "align": "left"
          },
          "hovermode": "closest",
          "mapbox": {
           "style": "light"
          },
          "paper_bgcolor": "white",
          "plot_bgcolor": "#E5ECF6",
          "polar": {
           "angularaxis": {
            "gridcolor": "white",
            "linecolor": "white",
            "ticks": ""
           },
           "bgcolor": "#E5ECF6",
           "radialaxis": {
            "gridcolor": "white",
            "linecolor": "white",
            "ticks": ""
           }
          },
          "scene": {
           "xaxis": {
            "backgroundcolor": "#E5ECF6",
            "gridcolor": "white",
            "gridwidth": 2,
            "linecolor": "white",
            "showbackground": true,
            "ticks": "",
            "zerolinecolor": "white"
           },
           "yaxis": {
            "backgroundcolor": "#E5ECF6",
            "gridcolor": "white",
            "gridwidth": 2,
            "linecolor": "white",
            "showbackground": true,
            "ticks": "",
            "zerolinecolor": "white"
           },
           "zaxis": {
            "backgroundcolor": "#E5ECF6",
            "gridcolor": "white",
            "gridwidth": 2,
            "linecolor": "white",
            "showbackground": true,
            "ticks": "",
            "zerolinecolor": "white"
           }
          },
          "shapedefaults": {
           "line": {
            "color": "#2a3f5f"
           }
          },
          "ternary": {
           "aaxis": {
            "gridcolor": "white",
            "linecolor": "white",
            "ticks": ""
           },
           "baxis": {
            "gridcolor": "white",
            "linecolor": "white",
            "ticks": ""
           },
           "bgcolor": "#E5ECF6",
           "caxis": {
            "gridcolor": "white",
            "linecolor": "white",
            "ticks": ""
           }
          },
          "title": {
           "x": 0.05
          },
          "xaxis": {
           "automargin": true,
           "gridcolor": "white",
           "linecolor": "white",
           "ticks": "",
           "title": {
            "standoff": 15
           },
           "zerolinecolor": "white",
           "zerolinewidth": 2
          },
          "yaxis": {
           "automargin": true,
           "gridcolor": "white",
           "linecolor": "white",
           "ticks": "",
           "title": {
            "standoff": 15
           },
           "zerolinecolor": "white",
           "zerolinewidth": 2
          }
         }
        },
        "title": {
         "text": "Age Distribution by Clicked on Ad"
        },
        "xaxis": {
         "anchor": "y",
         "categoryarray": [
          0,
          1
         ],
         "categoryorder": "array",
         "domain": [
          0,
          1
         ],
         "ticktext": [
          "Not Clicked",
          "Clicked"
         ],
         "tickvals": [
          0,
          1
         ],
         "title": {
          "text": "Clicked on Ad"
         }
        },
        "yaxis": {
         "anchor": "x",
         "domain": [
          0,
          1
         ],
         "title": {
          "text": "Age"
         }
        }
       }
      }
     },
     "metadata": {},
     "output_type": "display_data"
    }
   ],
   "source": [
    "# How does age affect on clicked on ad\n",
    "fig = px.box(df, x=\"Clicked on Ad\", y=\"Age\", color=\"Clicked on Ad\", \n",
    "             title=\"Age Distribution by Clicked on Ad\", points=\"all\")\n",
    "fig.update_layout(xaxis_tickvals=[0, 1], xaxis_ticktext=[\"Not Clicked\", \"Clicked\"], \n",
    "                  legend_title=\"Ad Click Status\")\n",
    "\n",
    "# Change legend label to text\n",
    "fig.update_traces(name=\"Not Clicked\", selector=dict(name=\"0\"))\n",
    "fig.update_traces(name=\"Clicked\", selector=dict(name=\"1\"))\n",
    "fig.show()"
   ]
  },
  {
   "cell_type": "markdown",
   "metadata": {},
   "source": [
    "**Finding**: The box plot reveals that most users who did not click on the ad are aged between 19 and 49, with very few non-clickers above age 49. In contrast, users who clicked on the ad range from 19 to 61. This suggests that older users with age around 50 years plus are likely to click on the ad."
   ]
  },
  {
   "cell_type": "code",
   "execution_count": 171,
   "metadata": {},
   "outputs": [
    {
     "data": {
      "application/vnd.plotly.v1+json": {
       "config": {
        "plotlyServerURL": "https://plot.ly"
       },
       "data": [
        {
         "alignmentgroup": "True",
         "hovertemplate": "Gender=Female<br>Clicked on Ad=%{x}<br>count=%{text}<extra></extra>",
         "legendgroup": "Female",
         "marker": {
          "color": "#636efa",
          "pattern": {
           "shape": ""
          }
         },
         "name": "Female",
         "offsetgroup": "Female",
         "orientation": "v",
         "showlegend": true,
         "text": [
          269,
          252
         ],
         "textposition": "outside",
         "type": "bar",
         "x": [
          1,
          0
         ],
         "xaxis": "x",
         "y": [
          269,
          252
         ],
         "yaxis": "y"
        },
        {
         "alignmentgroup": "True",
         "hovertemplate": "Gender=Male<br>Clicked on Ad=%{x}<br>count=%{text}<extra></extra>",
         "legendgroup": "Male",
         "marker": {
          "color": "#EF553B",
          "pattern": {
           "shape": ""
          }
         },
         "name": "Male",
         "offsetgroup": "Male",
         "orientation": "v",
         "showlegend": true,
         "text": [
          248,
          231
         ],
         "textposition": "outside",
         "type": "bar",
         "x": [
          0,
          1
         ],
         "xaxis": "x",
         "y": [
          248,
          231
         ],
         "yaxis": "y"
        }
       ],
       "layout": {
        "barmode": "group",
        "legend": {
         "title": {
          "text": "Gender"
         },
         "tracegroupgap": 0
        },
        "template": {
         "data": {
          "bar": [
           {
            "error_x": {
             "color": "#2a3f5f"
            },
            "error_y": {
             "color": "#2a3f5f"
            },
            "marker": {
             "line": {
              "color": "#E5ECF6",
              "width": 0.5
             },
             "pattern": {
              "fillmode": "overlay",
              "size": 10,
              "solidity": 0.2
             }
            },
            "type": "bar"
           }
          ],
          "barpolar": [
           {
            "marker": {
             "line": {
              "color": "#E5ECF6",
              "width": 0.5
             },
             "pattern": {
              "fillmode": "overlay",
              "size": 10,
              "solidity": 0.2
             }
            },
            "type": "barpolar"
           }
          ],
          "carpet": [
           {
            "aaxis": {
             "endlinecolor": "#2a3f5f",
             "gridcolor": "white",
             "linecolor": "white",
             "minorgridcolor": "white",
             "startlinecolor": "#2a3f5f"
            },
            "baxis": {
             "endlinecolor": "#2a3f5f",
             "gridcolor": "white",
             "linecolor": "white",
             "minorgridcolor": "white",
             "startlinecolor": "#2a3f5f"
            },
            "type": "carpet"
           }
          ],
          "choropleth": [
           {
            "colorbar": {
             "outlinewidth": 0,
             "ticks": ""
            },
            "type": "choropleth"
           }
          ],
          "contour": [
           {
            "colorbar": {
             "outlinewidth": 0,
             "ticks": ""
            },
            "colorscale": [
             [
              0,
              "#0d0887"
             ],
             [
              0.1111111111111111,
              "#46039f"
             ],
             [
              0.2222222222222222,
              "#7201a8"
             ],
             [
              0.3333333333333333,
              "#9c179e"
             ],
             [
              0.4444444444444444,
              "#bd3786"
             ],
             [
              0.5555555555555556,
              "#d8576b"
             ],
             [
              0.6666666666666666,
              "#ed7953"
             ],
             [
              0.7777777777777778,
              "#fb9f3a"
             ],
             [
              0.8888888888888888,
              "#fdca26"
             ],
             [
              1,
              "#f0f921"
             ]
            ],
            "type": "contour"
           }
          ],
          "contourcarpet": [
           {
            "colorbar": {
             "outlinewidth": 0,
             "ticks": ""
            },
            "type": "contourcarpet"
           }
          ],
          "heatmap": [
           {
            "colorbar": {
             "outlinewidth": 0,
             "ticks": ""
            },
            "colorscale": [
             [
              0,
              "#0d0887"
             ],
             [
              0.1111111111111111,
              "#46039f"
             ],
             [
              0.2222222222222222,
              "#7201a8"
             ],
             [
              0.3333333333333333,
              "#9c179e"
             ],
             [
              0.4444444444444444,
              "#bd3786"
             ],
             [
              0.5555555555555556,
              "#d8576b"
             ],
             [
              0.6666666666666666,
              "#ed7953"
             ],
             [
              0.7777777777777778,
              "#fb9f3a"
             ],
             [
              0.8888888888888888,
              "#fdca26"
             ],
             [
              1,
              "#f0f921"
             ]
            ],
            "type": "heatmap"
           }
          ],
          "heatmapgl": [
           {
            "colorbar": {
             "outlinewidth": 0,
             "ticks": ""
            },
            "colorscale": [
             [
              0,
              "#0d0887"
             ],
             [
              0.1111111111111111,
              "#46039f"
             ],
             [
              0.2222222222222222,
              "#7201a8"
             ],
             [
              0.3333333333333333,
              "#9c179e"
             ],
             [
              0.4444444444444444,
              "#bd3786"
             ],
             [
              0.5555555555555556,
              "#d8576b"
             ],
             [
              0.6666666666666666,
              "#ed7953"
             ],
             [
              0.7777777777777778,
              "#fb9f3a"
             ],
             [
              0.8888888888888888,
              "#fdca26"
             ],
             [
              1,
              "#f0f921"
             ]
            ],
            "type": "heatmapgl"
           }
          ],
          "histogram": [
           {
            "marker": {
             "pattern": {
              "fillmode": "overlay",
              "size": 10,
              "solidity": 0.2
             }
            },
            "type": "histogram"
           }
          ],
          "histogram2d": [
           {
            "colorbar": {
             "outlinewidth": 0,
             "ticks": ""
            },
            "colorscale": [
             [
              0,
              "#0d0887"
             ],
             [
              0.1111111111111111,
              "#46039f"
             ],
             [
              0.2222222222222222,
              "#7201a8"
             ],
             [
              0.3333333333333333,
              "#9c179e"
             ],
             [
              0.4444444444444444,
              "#bd3786"
             ],
             [
              0.5555555555555556,
              "#d8576b"
             ],
             [
              0.6666666666666666,
              "#ed7953"
             ],
             [
              0.7777777777777778,
              "#fb9f3a"
             ],
             [
              0.8888888888888888,
              "#fdca26"
             ],
             [
              1,
              "#f0f921"
             ]
            ],
            "type": "histogram2d"
           }
          ],
          "histogram2dcontour": [
           {
            "colorbar": {
             "outlinewidth": 0,
             "ticks": ""
            },
            "colorscale": [
             [
              0,
              "#0d0887"
             ],
             [
              0.1111111111111111,
              "#46039f"
             ],
             [
              0.2222222222222222,
              "#7201a8"
             ],
             [
              0.3333333333333333,
              "#9c179e"
             ],
             [
              0.4444444444444444,
              "#bd3786"
             ],
             [
              0.5555555555555556,
              "#d8576b"
             ],
             [
              0.6666666666666666,
              "#ed7953"
             ],
             [
              0.7777777777777778,
              "#fb9f3a"
             ],
             [
              0.8888888888888888,
              "#fdca26"
             ],
             [
              1,
              "#f0f921"
             ]
            ],
            "type": "histogram2dcontour"
           }
          ],
          "mesh3d": [
           {
            "colorbar": {
             "outlinewidth": 0,
             "ticks": ""
            },
            "type": "mesh3d"
           }
          ],
          "parcoords": [
           {
            "line": {
             "colorbar": {
              "outlinewidth": 0,
              "ticks": ""
             }
            },
            "type": "parcoords"
           }
          ],
          "pie": [
           {
            "automargin": true,
            "type": "pie"
           }
          ],
          "scatter": [
           {
            "fillpattern": {
             "fillmode": "overlay",
             "size": 10,
             "solidity": 0.2
            },
            "type": "scatter"
           }
          ],
          "scatter3d": [
           {
            "line": {
             "colorbar": {
              "outlinewidth": 0,
              "ticks": ""
             }
            },
            "marker": {
             "colorbar": {
              "outlinewidth": 0,
              "ticks": ""
             }
            },
            "type": "scatter3d"
           }
          ],
          "scattercarpet": [
           {
            "marker": {
             "colorbar": {
              "outlinewidth": 0,
              "ticks": ""
             }
            },
            "type": "scattercarpet"
           }
          ],
          "scattergeo": [
           {
            "marker": {
             "colorbar": {
              "outlinewidth": 0,
              "ticks": ""
             }
            },
            "type": "scattergeo"
           }
          ],
          "scattergl": [
           {
            "marker": {
             "colorbar": {
              "outlinewidth": 0,
              "ticks": ""
             }
            },
            "type": "scattergl"
           }
          ],
          "scattermapbox": [
           {
            "marker": {
             "colorbar": {
              "outlinewidth": 0,
              "ticks": ""
             }
            },
            "type": "scattermapbox"
           }
          ],
          "scatterpolar": [
           {
            "marker": {
             "colorbar": {
              "outlinewidth": 0,
              "ticks": ""
             }
            },
            "type": "scatterpolar"
           }
          ],
          "scatterpolargl": [
           {
            "marker": {
             "colorbar": {
              "outlinewidth": 0,
              "ticks": ""
             }
            },
            "type": "scatterpolargl"
           }
          ],
          "scatterternary": [
           {
            "marker": {
             "colorbar": {
              "outlinewidth": 0,
              "ticks": ""
             }
            },
            "type": "scatterternary"
           }
          ],
          "surface": [
           {
            "colorbar": {
             "outlinewidth": 0,
             "ticks": ""
            },
            "colorscale": [
             [
              0,
              "#0d0887"
             ],
             [
              0.1111111111111111,
              "#46039f"
             ],
             [
              0.2222222222222222,
              "#7201a8"
             ],
             [
              0.3333333333333333,
              "#9c179e"
             ],
             [
              0.4444444444444444,
              "#bd3786"
             ],
             [
              0.5555555555555556,
              "#d8576b"
             ],
             [
              0.6666666666666666,
              "#ed7953"
             ],
             [
              0.7777777777777778,
              "#fb9f3a"
             ],
             [
              0.8888888888888888,
              "#fdca26"
             ],
             [
              1,
              "#f0f921"
             ]
            ],
            "type": "surface"
           }
          ],
          "table": [
           {
            "cells": {
             "fill": {
              "color": "#EBF0F8"
             },
             "line": {
              "color": "white"
             }
            },
            "header": {
             "fill": {
              "color": "#C8D4E3"
             },
             "line": {
              "color": "white"
             }
            },
            "type": "table"
           }
          ]
         },
         "layout": {
          "annotationdefaults": {
           "arrowcolor": "#2a3f5f",
           "arrowhead": 0,
           "arrowwidth": 1
          },
          "autotypenumbers": "strict",
          "coloraxis": {
           "colorbar": {
            "outlinewidth": 0,
            "ticks": ""
           }
          },
          "colorscale": {
           "diverging": [
            [
             0,
             "#8e0152"
            ],
            [
             0.1,
             "#c51b7d"
            ],
            [
             0.2,
             "#de77ae"
            ],
            [
             0.3,
             "#f1b6da"
            ],
            [
             0.4,
             "#fde0ef"
            ],
            [
             0.5,
             "#f7f7f7"
            ],
            [
             0.6,
             "#e6f5d0"
            ],
            [
             0.7,
             "#b8e186"
            ],
            [
             0.8,
             "#7fbc41"
            ],
            [
             0.9,
             "#4d9221"
            ],
            [
             1,
             "#276419"
            ]
           ],
           "sequential": [
            [
             0,
             "#0d0887"
            ],
            [
             0.1111111111111111,
             "#46039f"
            ],
            [
             0.2222222222222222,
             "#7201a8"
            ],
            [
             0.3333333333333333,
             "#9c179e"
            ],
            [
             0.4444444444444444,
             "#bd3786"
            ],
            [
             0.5555555555555556,
             "#d8576b"
            ],
            [
             0.6666666666666666,
             "#ed7953"
            ],
            [
             0.7777777777777778,
             "#fb9f3a"
            ],
            [
             0.8888888888888888,
             "#fdca26"
            ],
            [
             1,
             "#f0f921"
            ]
           ],
           "sequentialminus": [
            [
             0,
             "#0d0887"
            ],
            [
             0.1111111111111111,
             "#46039f"
            ],
            [
             0.2222222222222222,
             "#7201a8"
            ],
            [
             0.3333333333333333,
             "#9c179e"
            ],
            [
             0.4444444444444444,
             "#bd3786"
            ],
            [
             0.5555555555555556,
             "#d8576b"
            ],
            [
             0.6666666666666666,
             "#ed7953"
            ],
            [
             0.7777777777777778,
             "#fb9f3a"
            ],
            [
             0.8888888888888888,
             "#fdca26"
            ],
            [
             1,
             "#f0f921"
            ]
           ]
          },
          "colorway": [
           "#636efa",
           "#EF553B",
           "#00cc96",
           "#ab63fa",
           "#FFA15A",
           "#19d3f3",
           "#FF6692",
           "#B6E880",
           "#FF97FF",
           "#FECB52"
          ],
          "font": {
           "color": "#2a3f5f"
          },
          "geo": {
           "bgcolor": "white",
           "lakecolor": "white",
           "landcolor": "#E5ECF6",
           "showlakes": true,
           "showland": true,
           "subunitcolor": "white"
          },
          "hoverlabel": {
           "align": "left"
          },
          "hovermode": "closest",
          "mapbox": {
           "style": "light"
          },
          "paper_bgcolor": "white",
          "plot_bgcolor": "#E5ECF6",
          "polar": {
           "angularaxis": {
            "gridcolor": "white",
            "linecolor": "white",
            "ticks": ""
           },
           "bgcolor": "#E5ECF6",
           "radialaxis": {
            "gridcolor": "white",
            "linecolor": "white",
            "ticks": ""
           }
          },
          "scene": {
           "xaxis": {
            "backgroundcolor": "#E5ECF6",
            "gridcolor": "white",
            "gridwidth": 2,
            "linecolor": "white",
            "showbackground": true,
            "ticks": "",
            "zerolinecolor": "white"
           },
           "yaxis": {
            "backgroundcolor": "#E5ECF6",
            "gridcolor": "white",
            "gridwidth": 2,
            "linecolor": "white",
            "showbackground": true,
            "ticks": "",
            "zerolinecolor": "white"
           },
           "zaxis": {
            "backgroundcolor": "#E5ECF6",
            "gridcolor": "white",
            "gridwidth": 2,
            "linecolor": "white",
            "showbackground": true,
            "ticks": "",
            "zerolinecolor": "white"
           }
          },
          "shapedefaults": {
           "line": {
            "color": "#2a3f5f"
           }
          },
          "ternary": {
           "aaxis": {
            "gridcolor": "white",
            "linecolor": "white",
            "ticks": ""
           },
           "baxis": {
            "gridcolor": "white",
            "linecolor": "white",
            "ticks": ""
           },
           "bgcolor": "#E5ECF6",
           "caxis": {
            "gridcolor": "white",
            "linecolor": "white",
            "ticks": ""
           }
          },
          "title": {
           "x": 0.05
          },
          "xaxis": {
           "automargin": true,
           "gridcolor": "white",
           "linecolor": "white",
           "ticks": "",
           "title": {
            "standoff": 15
           },
           "zerolinecolor": "white",
           "zerolinewidth": 2
          },
          "yaxis": {
           "automargin": true,
           "gridcolor": "white",
           "linecolor": "white",
           "ticks": "",
           "title": {
            "standoff": 15
           },
           "zerolinecolor": "white",
           "zerolinewidth": 2
          }
         }
        },
        "title": {
         "text": "Gender Distribution by Clicked on Ad"
        },
        "xaxis": {
         "anchor": "y",
         "domain": [
          0,
          1
         ],
         "ticktext": [
          "Not Clicked",
          "Clicked"
         ],
         "tickvals": [
          0,
          1
         ],
         "title": {
          "text": "Clicked on Ad"
         }
        },
        "yaxis": {
         "anchor": "x",
         "domain": [
          0,
          1
         ],
         "range": [
          0,
          322.8
         ],
         "title": {
          "text": "Count"
         }
        }
       }
      }
     },
     "metadata": {},
     "output_type": "display_data"
    }
   ],
   "source": [
    "# How does gender affect the clicked on ad\n",
    "gender_clicks = df.groupby(\"Gender\")[\"Clicked on Ad\"].value_counts().reset_index()\n",
    "fig = px.bar(gender_clicks, x=\"Clicked on Ad\", y=\"count\", color=\"Gender\", text=\"count\",\n",
    "             barmode=\"group\", title=\"Gender Distribution by Clicked on Ad\")\n",
    "fig.update_layout(yaxis_title=\"Count\", xaxis_tickvals=[0, 1], \n",
    "                  xaxis_ticktext=[\"Not Clicked\", \"Clicked\"],\n",
    "                  yaxis_range=(0, gender_clicks[\"count\"].max() * 1.2))\n",
    "fig.update_traces(textposition=\"outside\")\n",
    "fig.show()"
   ]
  },
  {
   "cell_type": "markdown",
   "metadata": {},
   "source": [
    "**Finding**:  Based on the bar chart showing gender distribution for ad clicks, there is little difference between Male and Female users who did not click on the ad. However, among those who did click, around 40 more Female users engaged with the ad compared to Males. This suggests that Female users may have a slightly higher tendency to click on ads than Male users."
   ]
  },
  {
   "cell_type": "code",
   "execution_count": 212,
   "metadata": {},
   "outputs": [
    {
     "data": {
      "application/vnd.plotly.v1+json": {
       "config": {
        "plotlyServerURL": "https://plot.ly"
       },
       "data": [
        {
         "alignmentgroup": "True",
         "bingroup": "x",
         "hovertemplate": "Area Income=%{x}<br>count=%{y}<extra></extra>",
         "legendgroup": "",
         "marker": {
          "color": "#636efa",
          "pattern": {
           "shape": ""
          }
         },
         "name": "",
         "nbinsx": 40,
         "offsetgroup": "",
         "orientation": "v",
         "showlegend": false,
         "type": "histogram",
         "x": [
          61833.9,
          68441.85,
          59785.94,
          54806.18,
          73889.99,
          59761.56,
          53852.85,
          24593.33,
          68862,
          55642.32,
          45632.51,
          62491.01,
          51636.92,
          51739.63,
          30976,
          52182.23,
          23936.86,
          71511.08,
          31087.54,
          23821.72,
          64802.33,
          60015.57,
          32635.7,
          61628.72,
          68962.32,
          64828,
          38067.08,
          58295.82,
          32708.94,
          46179.97,
          51473.28,
          45593.93,
          57009.76,
          30227.98,
          45580.92,
          61389.5,
          56770.79,
          76435.3,
          57425.87,
          27508.41,
          57691.95,
          59784.18,
          66572.39,
          64929.61,
          57519.64,
          53575.48,
          57009.76,
          67058.72,
          52723.34,
          54286.1,
          61526.25,
          58526.04,
          53350.11,
          62657.53,
          62722.57,
          67479.62,
          75254.88,
          52336.64,
          56113.37,
          24852.9,
          47708.42,
          64654.66,
          71228.44,
          61601.05,
          66281.46,
          73910.9,
          51317.33,
          51510.18,
          61005.87,
          32536.98,
          60248.97,
          74543.81,
          75509.61,
          42650.32,
          58183.04,
          60465.72,
          57009.76,
          54541.56,
          32689.04,
          55605.92,
          63296.87,
          65653.47,
          61652.53,
          30726.26,
          74535.94,
          47861.93,
          73600.28,
          58543.94,
          42696.67,
          37334.78,
          57009.76,
          59550.05,
          64264.25,
          64147.86,
          25686.34,
          52968.22,
          22473.08,
          64927.19,
          51868.85,
          69456.83,
          31947.65,
          51864.77,
          59593.56,
          48376.14,
          56884.74,
          67186.54,
          46557.92,
          66541.05,
          33258.09,
          72272.9,
          60333.38,
          65229.13,
          56067.38,
          37838.72,
          72683.35,
          56729.78,
          66815.54,
          60223.52,
          29727.79,
          49269.98,
          57669.41,
          56791.75,
          63274.88,
          35466.8,
          68787.09,
          61227.59,
          56366.88,
          57868.44,
          66618.21,
          73104.47,
          21644.91,
          53817.02,
          76368.31,
          67633.44,
          50335.46,
          17709.98,
          41229.16,
          42581.23,
          61617.98,
          70575.6,
          64122.36,
          52097.32,
          65953.76,
          60192.72,
          77460.07,
          45716.48,
          65120.86,
          49995.63,
          71718.51,
          61770.34,
          69112.84,
          72524.86,
          36782.38,
          66699.12,
          64287.78,
          56637.59,
          55787.58,
          61142.33,
          57009.76,
          73234.87,
          74166.24,
          62669.59,
          57756.89,
          58019.64,
          50960.08,
          48246.6,
          28271.84,
          53767.12,
          43662.1,
          62238.58,
          49030.03,
          76003.47,
          68094.85,
          64395.85,
          70053.27,
          72423.97,
          42995.8,
          57009.76,
          38349.78,
          63115.34,
          31343.39,
          40763.13,
          36752.24,
          65044.59,
          53673.08,
          43444.86,
          44248.52,
          62572.88,
          39840.55,
          32593.59,
          41629.86,
          43313.73,
          42993.48,
          46004.31,
          49325.48,
          51633.34,
          63363.04,
          64045.93,
          73049.3,
          66624.6,
          77567.85,
          53431.35,
          31265.75,
          74780.74,
          70410.11,
          37345.24,
          66107.84,
          62336.39,
          39132.64,
          38745.29,
          65172.22,
          68519.96,
          54774.77,
          76246.96,
          65461.92,
          34127.21,
          35253.98,
          44893.71,
          59621.02,
          20856.54,
          55353.41,
          67516.07,
          68737.75,
          76893.84,
          59886.58,
          53441.69,
          41356.31,
          49942.66,
          74430.08,
          58633.63,
          72707.87,
          31092.93,
          74445.18,
          49309.14,
          56735.14,
          40183.75,
          58348.41,
          72209.99,
          62060.11,
          67113.46,
          24030.06,
          56180.93,
          62204.93,
          60372.64,
          65280.16,
          34309.24,
          59610.81,
          50278.89,
          43450.11,
          25408.21,
          71136.49,
          63883.81,
          64902.47,
          66784.81,
          62784.85,
          63727.5,
          61608.23,
          56782.18,
          64447.77,
          42042.95,
          67669.06,
          54875.95,
          73347.67,
          50199.77,
          50723.67,
          63450.96,
          56694.12,
          70547.16,
          47391.95,
          62312.23,
          63100.13,
          73687.5,
          52686.47,
          78119.5,
          57014.84,
          27086.4,
          58337.18,
          50216.01,
          53049.44,
          62927.96,
          32847.53,
          32006.82,
          48913.07,
          69285.69,
          53700.57,
          52011,
          46339.25,
          67938.77,
          66348.95,
          66873.9,
          72270.88,
          61610.05,
          76560.59,
          62667.51,
          75687.46,
          66744.65,
          67714.82,
          69710.51,
          66269.49,
          60843.32,
          55041.6,
          73863.25,
          62378.05,
          63336.85,
          42191.61,
          56194.56,
          61771.9,
          61383.79,
          63924.82,
          23975.35,
          70179.11,
          66524.8,
          41851.38,
          61275.18,
          60638.38,
          47160.53,
          48537.18,
          53058.91,
          68614.98,
          44174.25,
          67050.16,
          54520.14,
          54952.42,
          69476.42,
          54989.93,
          29398.61,
          42861.42,
          65883.39,
          65421.39,
          60953.93,
          58476.57,
          66636.84,
          67430.96,
          57260.41,
          66359.32,
          57587,
          63060.55,
          59998.5,
          74024.61,
          60550.66,
          57983.3,
          52736.33,
          46653.75,
          56986.73,
          55336.18,
          42162.9,
          39699.13,
          56394.82,
          75044.35,
          53309.61,
          58996.12,
          56605.12,
          62475.99,
          70492.6,
          43698.53,
          57737.51,
          31281.01,
          45800.48,
          42362.49,
          66691.23,
          56369.74,
          59397.89,
          66025.11,
          68211.35,
          73608.99,
          61228.96,
          72325.91,
          44559.43,
          73207.15,
          46722.07,
          45400.5,
          41417.27,
          60845.55,
          60812.77,
          64267.88,
          58151.87,
          52079.18,
          26023.99,
          62318.38,
          56216.57,
          61806.31,
          51662.24,
          67080.94,
          51975.41,
          28019.09,
          67744.56,
          66574,
          30487.48,
          74903.41,
          19991.72,
          66050.63,
          70449.04,
          64008.55,
          70203.74,
          27262.51,
          49544.41,
          28357.27,
          66929.03,
          75524.78,
          66265.34,
          55993.68,
          56379.3,
          31215.88,
          51015.11,
          46473.14,
          55479.62,
          68713.7,
          34191.23,
          57009.76,
          46693.76,
          19345.36,
          66225.72,
          38609.2,
          37713.23,
          63764.28,
          41866.55,
          57846.68,
          69428.73,
          60283.98,
          79332.33,
          53167.68,
          64564.07,
          60803.37,
          28387.42,
          58849.77,
          65963.37,
          75180.2,
          61270.14,
          56759.48,
          46160.63,
          43870.51,
          50439.49,
          28028.74,
          64238.71,
          65816.38,
          72684.44,
          38817.4,
          63976.44,
          37212.54,
          52691.79,
          65499.93,
          63966.72,
          52400.88,
          49111.47,
          41232.89,
          52140.04,
          60641.09,
          74180.05,
          51869.87,
          48852.58,
          59144.02,
          33951.63,
          58909.36,
          49850.52,
          28679.93,
          57009.76,
          48347.64,
          45959.86,
          70005.51,
          51512.66,
          25598.75,
          49282.87,
          67240.25,
          42136.33,
          62589.84,
          67384.31,
          25603.93,
          39616,
          28265.81,
          63879.72,
          70592.81,
          76408.19,
          55015.08,
          51636.12,
          29359.2,
          71296.67,
          46422.76,
          52802,
          59243.46,
          35350.55,
          59677.64,
          70225.6,
          65791.17,
          34191.13,
          51315.38,
          62790.96,
          66291.67,
          68030.18,
          43974.49,
          49457.48,
          33987.27,
          28210.03,
          75535.14,
          49158.5,
          39809.69,
          65826.53,
          61172.07,
          42898.21,
          68333.01,
          70232.95,
          63102.19,
          51847.26,
          63580.22,
          47575.44,
          39031.89,
          70505.06,
          62161.26,
          61068.26,
          49090.51,
          62330.75,
          18819.34,
          62053.37,
          61922.06,
          49525.37,
          53412.32,
          56681.65,
          43299.63,
          47997.75,
          39131.53,
          46033.73,
          65856.74,
          54787.37,
          69562.46,
          68447.17,
          62772.42,
          78092.95,
          63649.04,
          60637.62,
          27241.11,
          42760.22,
          59457.52,
          42907.89,
          46132.18,
          46964.11,
          70377.23,
          70012.83,
          56457.01,
          67279.06,
          57009.76,
          70783.94,
          70510.59,
          64021.55,
          72042.85,
          36037.33,
          67526.92,
          55121.65,
          63497.62,
          60879.48,
          61467.33,
          70495.64,
          71222.4,
          64698.58,
          32252.38,
          55316.97,
          47447.89,
          73474.82,
          53549.94,
          58576.12,
          63373.7,
          60283.47,
          37345.34,
          34886.01,
          67511.86,
          77988.71,
          63001.03,
          61747.98,
          48467.68,
          55130.96,
          79484.8,
          67307.43,
          27964.6,
          66431.87,
          63551.67,
          40135.06,
          49101.67,
          53188.69,
          49742.83,
          63394.41,
          64433.99,
          73884.48,
          36424.94,
          28275.48,
          48098.86,
          68448.94,
          66429.84,
          41768.13,
          57844.96,
          35684.82,
          62792.43,
          51171.23,
          58847.07,
          57739.03,
          64631.22,
          50337.93,
          67781.31,
          68863.95,
          55901.12,
          64775.1,
          67686.16,
          57777.11,
          46868.53,
          40926.93,
          22205.74,
          58920.44,
          63006.14,
          24316.61,
          68348.99,
          66263.37,
          63493.6,
          56984.09,
          51691.55,
          49911.25,
          33502.57,
          65834.97,
          66176.97,
          51463.17,
          41059.64,
          61428.18,
          51593.46,
          57518.73,
          52656.13,
          52178.98,
          46239.14,
          48918.55,
          65227.79,
          55002.05,
          52261.73,
          59448.44,
          47314.45,
          55411.06,
          66504.16,
          47169.14,
          70889.68,
          55358.88,
          56242.7,
          45522.44,
          46931.03,
          55499.69,
          75805.12,
          40345.49,
          15598.29,
          33239.2,
          68033.54,
          38427.66,
          53185.34,
          39723.97,
          43386.07,
          53922.43,
          71881.84,
          47139.21,
          68877.02,
          65186.58,
          55424.24,
          46500.11,
          58820.16,
          28495.21,
          57009.76,
          37908.29,
          69805.7,
          60315.19,
          67323,
          50055.33,
          43573.66,
          28186.65,
          66412.04,
          15879.1,
          63965.16,
          58342.63,
          33147.19,
          65899.68,
          64188.5,
          58966.22,
          44078.24,
          60968.62,
          65620.25,
          65496.78,
          52462.04,
          70582.55,
          51816.27,
          23410.75,
          62729.4,
          48867.67,
          50971.73,
          67990.84,
          43241.19,
          60082.66,
          65180.97,
          67301.39,
          70701.31,
          60997.84,
          60805.93,
          57009.76,
          14548.06,
          41335.84,
          76480.16,
          67132.46,
          52581.16,
          55195.61,
          48679.54,
          63109.74,
          44490.09,
          57667.99,
          51824.01,
          66198.66,
          73174.19,
          56593.8,
          31072.44,
          66773.83,
          72553.94,
          43708.88,
          48453.55,
          73413.87,
          58114.3,
          45465.25,
          50147.72,
          61004.51,
          53898.89,
          59797.64,
          74623.27,
          58677.69,
          62109.8,
          60583.02,
          65576.05,
          73882.91,
          50468.36,
          51409.45,
          60514.05,
          57195.96,
          52802.58,
          56570.06,
          51049.47,
          66629.61,
          70185.06,
          43111.41,
          56435.6,
          53223.58,
          57179.91,
          41521.28,
          73538.09,
          63664.32,
          61757.12,
          71727.51,
          72203.96,
          50671.6,
          47510.42,
          62466.1,
          59683.16,
          41097.17,
          39799.73,
          76984.21,
          57877.15,
          59047.91,
          72154.68,
          65704.79,
          72948.76,
          73941.91,
          57887.64,
          62463.7,
          42838.29,
          43778.88,
          71157.05,
          74159.69,
          50333.72,
          33293.78,
          38641.2,
          49822.78,
          63891.29,
          43881.73,
          13996.5,
          48761.14,
          69758.31,
          52530.1,
          58363.12,
          60575.99,
          48206.04,
          31523.09,
          66187.58,
          69438.04,
          14775.5,
          68016.9,
          78520.99,
          31998.72,
          56909.3,
          61161.29,
          52340.1,
          47338.94,
          50950.24,
          77143.61,
          57032.36,
          48554.45,
          39552.49,
          36884.23,
          68783.45,
          51119.93,
          44304.13,
          69718.19,
          63429.18,
          65756.36,
          77871.75,
          47258.59,
          55984.89,
          44275.13,
          25767.16,
          37605.11,
          25739.09,
          60188.38,
          67682.32,
          44307.18,
          25371.52,
          23942.61,
          50666.5,
          50356.06,
          63936.5,
          69874.18,
          50038.65,
          67866.95,
          54645.2,
          46780.09,
          67432.49,
          73392.28,
          47682.28,
          56735.83,
          51013.37,
          69481.85,
          67033.34,
          68717,
          59340.99,
          47968.32,
          48758.92,
          61230.03,
          54755.71,
          54324.73,
          52177.4,
          51163.14,
          66861.67,
          63107.88,
          49206.4,
          55942.04,
          33601.84,
          48867.36,
          56683.32,
          38260.89,
          54106.21,
          71055.22,
          46403.18,
          61690.93,
          26130.93,
          58638.75,
          47357.39,
          50086.17,
          51772.58,
          47638.3,
          38987.42,
          51363.16,
          35764.49,
          62939.5,
          58776.67,
          59106.12,
          50457.01,
          54251.78,
          51920.49,
          70324.8,
          52416.18,
          57009.76,
          60938.73,
          40243.82,
          60151.77,
          45945.88,
          63430.33,
          65882.81,
          64410.8,
          55677.12,
          75560.65,
          61067.58,
          72330.57,
          32549.95,
          51257.26,
          77220.42,
          52520.75,
          59422.47,
          22456.04,
          58443.99,
          50820.74,
          67575.12,
          66522.79,
          34903.67,
          43073.78,
          57594.7,
          66027.31,
          53012.94,
          61117.5,
          52563.22,
          65773.49,
          50506.44,
          66262.59,
          35521.88,
          62430.55,
          49597.08,
          42078.89,
          46197.59,
          49957,
          24078.93,
          53647.81,
          61039.13,
          46974.15,
          53042.51,
          48826.14,
          58287.86,
          21773.22,
          52252.91,
          27073.27,
          50628.31,
          36913.51,
          61009.1,
          53041.77,
          40182.84,
          59419.78,
          58235.21,
          68324.48,
          69646.35,
          54045.39,
          57009.76,
          53336.76,
          50491.45,
          71455.62,
          43241.88,
          58953.01,
          36834.04,
          66345.1,
          38645.4,
          60803,
          33553.9,
          63071.34,
          46737.34,
          55368.67,
          68305.91,
          39211.49,
          65956.71,
          40159.2,
          40478.83,
          40468.53,
          66980.27,
          34942.26,
          48335.2,
          42251.59,
          57330.43,
          75769.82,
          51812.71,
          75265.96,
          69868.48,
          72802.42,
          39193.45,
          18368.57,
          56129.89,
          58996.56,
          41547.62,
          59240.24,
          56725.47,
          55764.43,
          64235.51,
          39939.39,
          63319.99,
          54725.87,
          69775.75,
          57545.56,
          47051.02,
          51600.47,
          68357.96,
          35349.26,
          69784.85,
          50760.23,
          34418.09,
          20592.99,
          63528.8,
          44217.68,
          47929.83,
          46024.29,
          57009.76,
          72188.9,
          56974.51,
          25682.65,
          41884.64,
          72196.29,
          54429.17,
          58037.66,
          64011.26,
          59967.19,
          43155.19,
          51501.38,
          55187.85,
          33813.08,
          36497.22,
          66193.81,
          66200.96,
          63126.96,
          71384.57,
          67782.17,
          42415.72,
          41920.79,
          29875.8
         ],
         "xaxis": "x",
         "yaxis": "y"
        }
       ],
       "layout": {
        "barmode": "relative",
        "legend": {
         "tracegroupgap": 0
        },
        "template": {
         "data": {
          "bar": [
           {
            "error_x": {
             "color": "#2a3f5f"
            },
            "error_y": {
             "color": "#2a3f5f"
            },
            "marker": {
             "line": {
              "color": "#E5ECF6",
              "width": 0.5
             },
             "pattern": {
              "fillmode": "overlay",
              "size": 10,
              "solidity": 0.2
             }
            },
            "type": "bar"
           }
          ],
          "barpolar": [
           {
            "marker": {
             "line": {
              "color": "#E5ECF6",
              "width": 0.5
             },
             "pattern": {
              "fillmode": "overlay",
              "size": 10,
              "solidity": 0.2
             }
            },
            "type": "barpolar"
           }
          ],
          "carpet": [
           {
            "aaxis": {
             "endlinecolor": "#2a3f5f",
             "gridcolor": "white",
             "linecolor": "white",
             "minorgridcolor": "white",
             "startlinecolor": "#2a3f5f"
            },
            "baxis": {
             "endlinecolor": "#2a3f5f",
             "gridcolor": "white",
             "linecolor": "white",
             "minorgridcolor": "white",
             "startlinecolor": "#2a3f5f"
            },
            "type": "carpet"
           }
          ],
          "choropleth": [
           {
            "colorbar": {
             "outlinewidth": 0,
             "ticks": ""
            },
            "type": "choropleth"
           }
          ],
          "contour": [
           {
            "colorbar": {
             "outlinewidth": 0,
             "ticks": ""
            },
            "colorscale": [
             [
              0,
              "#0d0887"
             ],
             [
              0.1111111111111111,
              "#46039f"
             ],
             [
              0.2222222222222222,
              "#7201a8"
             ],
             [
              0.3333333333333333,
              "#9c179e"
             ],
             [
              0.4444444444444444,
              "#bd3786"
             ],
             [
              0.5555555555555556,
              "#d8576b"
             ],
             [
              0.6666666666666666,
              "#ed7953"
             ],
             [
              0.7777777777777778,
              "#fb9f3a"
             ],
             [
              0.8888888888888888,
              "#fdca26"
             ],
             [
              1,
              "#f0f921"
             ]
            ],
            "type": "contour"
           }
          ],
          "contourcarpet": [
           {
            "colorbar": {
             "outlinewidth": 0,
             "ticks": ""
            },
            "type": "contourcarpet"
           }
          ],
          "heatmap": [
           {
            "colorbar": {
             "outlinewidth": 0,
             "ticks": ""
            },
            "colorscale": [
             [
              0,
              "#0d0887"
             ],
             [
              0.1111111111111111,
              "#46039f"
             ],
             [
              0.2222222222222222,
              "#7201a8"
             ],
             [
              0.3333333333333333,
              "#9c179e"
             ],
             [
              0.4444444444444444,
              "#bd3786"
             ],
             [
              0.5555555555555556,
              "#d8576b"
             ],
             [
              0.6666666666666666,
              "#ed7953"
             ],
             [
              0.7777777777777778,
              "#fb9f3a"
             ],
             [
              0.8888888888888888,
              "#fdca26"
             ],
             [
              1,
              "#f0f921"
             ]
            ],
            "type": "heatmap"
           }
          ],
          "heatmapgl": [
           {
            "colorbar": {
             "outlinewidth": 0,
             "ticks": ""
            },
            "colorscale": [
             [
              0,
              "#0d0887"
             ],
             [
              0.1111111111111111,
              "#46039f"
             ],
             [
              0.2222222222222222,
              "#7201a8"
             ],
             [
              0.3333333333333333,
              "#9c179e"
             ],
             [
              0.4444444444444444,
              "#bd3786"
             ],
             [
              0.5555555555555556,
              "#d8576b"
             ],
             [
              0.6666666666666666,
              "#ed7953"
             ],
             [
              0.7777777777777778,
              "#fb9f3a"
             ],
             [
              0.8888888888888888,
              "#fdca26"
             ],
             [
              1,
              "#f0f921"
             ]
            ],
            "type": "heatmapgl"
           }
          ],
          "histogram": [
           {
            "marker": {
             "pattern": {
              "fillmode": "overlay",
              "size": 10,
              "solidity": 0.2
             }
            },
            "type": "histogram"
           }
          ],
          "histogram2d": [
           {
            "colorbar": {
             "outlinewidth": 0,
             "ticks": ""
            },
            "colorscale": [
             [
              0,
              "#0d0887"
             ],
             [
              0.1111111111111111,
              "#46039f"
             ],
             [
              0.2222222222222222,
              "#7201a8"
             ],
             [
              0.3333333333333333,
              "#9c179e"
             ],
             [
              0.4444444444444444,
              "#bd3786"
             ],
             [
              0.5555555555555556,
              "#d8576b"
             ],
             [
              0.6666666666666666,
              "#ed7953"
             ],
             [
              0.7777777777777778,
              "#fb9f3a"
             ],
             [
              0.8888888888888888,
              "#fdca26"
             ],
             [
              1,
              "#f0f921"
             ]
            ],
            "type": "histogram2d"
           }
          ],
          "histogram2dcontour": [
           {
            "colorbar": {
             "outlinewidth": 0,
             "ticks": ""
            },
            "colorscale": [
             [
              0,
              "#0d0887"
             ],
             [
              0.1111111111111111,
              "#46039f"
             ],
             [
              0.2222222222222222,
              "#7201a8"
             ],
             [
              0.3333333333333333,
              "#9c179e"
             ],
             [
              0.4444444444444444,
              "#bd3786"
             ],
             [
              0.5555555555555556,
              "#d8576b"
             ],
             [
              0.6666666666666666,
              "#ed7953"
             ],
             [
              0.7777777777777778,
              "#fb9f3a"
             ],
             [
              0.8888888888888888,
              "#fdca26"
             ],
             [
              1,
              "#f0f921"
             ]
            ],
            "type": "histogram2dcontour"
           }
          ],
          "mesh3d": [
           {
            "colorbar": {
             "outlinewidth": 0,
             "ticks": ""
            },
            "type": "mesh3d"
           }
          ],
          "parcoords": [
           {
            "line": {
             "colorbar": {
              "outlinewidth": 0,
              "ticks": ""
             }
            },
            "type": "parcoords"
           }
          ],
          "pie": [
           {
            "automargin": true,
            "type": "pie"
           }
          ],
          "scatter": [
           {
            "fillpattern": {
             "fillmode": "overlay",
             "size": 10,
             "solidity": 0.2
            },
            "type": "scatter"
           }
          ],
          "scatter3d": [
           {
            "line": {
             "colorbar": {
              "outlinewidth": 0,
              "ticks": ""
             }
            },
            "marker": {
             "colorbar": {
              "outlinewidth": 0,
              "ticks": ""
             }
            },
            "type": "scatter3d"
           }
          ],
          "scattercarpet": [
           {
            "marker": {
             "colorbar": {
              "outlinewidth": 0,
              "ticks": ""
             }
            },
            "type": "scattercarpet"
           }
          ],
          "scattergeo": [
           {
            "marker": {
             "colorbar": {
              "outlinewidth": 0,
              "ticks": ""
             }
            },
            "type": "scattergeo"
           }
          ],
          "scattergl": [
           {
            "marker": {
             "colorbar": {
              "outlinewidth": 0,
              "ticks": ""
             }
            },
            "type": "scattergl"
           }
          ],
          "scattermapbox": [
           {
            "marker": {
             "colorbar": {
              "outlinewidth": 0,
              "ticks": ""
             }
            },
            "type": "scattermapbox"
           }
          ],
          "scatterpolar": [
           {
            "marker": {
             "colorbar": {
              "outlinewidth": 0,
              "ticks": ""
             }
            },
            "type": "scatterpolar"
           }
          ],
          "scatterpolargl": [
           {
            "marker": {
             "colorbar": {
              "outlinewidth": 0,
              "ticks": ""
             }
            },
            "type": "scatterpolargl"
           }
          ],
          "scatterternary": [
           {
            "marker": {
             "colorbar": {
              "outlinewidth": 0,
              "ticks": ""
             }
            },
            "type": "scatterternary"
           }
          ],
          "surface": [
           {
            "colorbar": {
             "outlinewidth": 0,
             "ticks": ""
            },
            "colorscale": [
             [
              0,
              "#0d0887"
             ],
             [
              0.1111111111111111,
              "#46039f"
             ],
             [
              0.2222222222222222,
              "#7201a8"
             ],
             [
              0.3333333333333333,
              "#9c179e"
             ],
             [
              0.4444444444444444,
              "#bd3786"
             ],
             [
              0.5555555555555556,
              "#d8576b"
             ],
             [
              0.6666666666666666,
              "#ed7953"
             ],
             [
              0.7777777777777778,
              "#fb9f3a"
             ],
             [
              0.8888888888888888,
              "#fdca26"
             ],
             [
              1,
              "#f0f921"
             ]
            ],
            "type": "surface"
           }
          ],
          "table": [
           {
            "cells": {
             "fill": {
              "color": "#EBF0F8"
             },
             "line": {
              "color": "white"
             }
            },
            "header": {
             "fill": {
              "color": "#C8D4E3"
             },
             "line": {
              "color": "white"
             }
            },
            "type": "table"
           }
          ]
         },
         "layout": {
          "annotationdefaults": {
           "arrowcolor": "#2a3f5f",
           "arrowhead": 0,
           "arrowwidth": 1
          },
          "autotypenumbers": "strict",
          "coloraxis": {
           "colorbar": {
            "outlinewidth": 0,
            "ticks": ""
           }
          },
          "colorscale": {
           "diverging": [
            [
             0,
             "#8e0152"
            ],
            [
             0.1,
             "#c51b7d"
            ],
            [
             0.2,
             "#de77ae"
            ],
            [
             0.3,
             "#f1b6da"
            ],
            [
             0.4,
             "#fde0ef"
            ],
            [
             0.5,
             "#f7f7f7"
            ],
            [
             0.6,
             "#e6f5d0"
            ],
            [
             0.7,
             "#b8e186"
            ],
            [
             0.8,
             "#7fbc41"
            ],
            [
             0.9,
             "#4d9221"
            ],
            [
             1,
             "#276419"
            ]
           ],
           "sequential": [
            [
             0,
             "#0d0887"
            ],
            [
             0.1111111111111111,
             "#46039f"
            ],
            [
             0.2222222222222222,
             "#7201a8"
            ],
            [
             0.3333333333333333,
             "#9c179e"
            ],
            [
             0.4444444444444444,
             "#bd3786"
            ],
            [
             0.5555555555555556,
             "#d8576b"
            ],
            [
             0.6666666666666666,
             "#ed7953"
            ],
            [
             0.7777777777777778,
             "#fb9f3a"
            ],
            [
             0.8888888888888888,
             "#fdca26"
            ],
            [
             1,
             "#f0f921"
            ]
           ],
           "sequentialminus": [
            [
             0,
             "#0d0887"
            ],
            [
             0.1111111111111111,
             "#46039f"
            ],
            [
             0.2222222222222222,
             "#7201a8"
            ],
            [
             0.3333333333333333,
             "#9c179e"
            ],
            [
             0.4444444444444444,
             "#bd3786"
            ],
            [
             0.5555555555555556,
             "#d8576b"
            ],
            [
             0.6666666666666666,
             "#ed7953"
            ],
            [
             0.7777777777777778,
             "#fb9f3a"
            ],
            [
             0.8888888888888888,
             "#fdca26"
            ],
            [
             1,
             "#f0f921"
            ]
           ]
          },
          "colorway": [
           "#636efa",
           "#EF553B",
           "#00cc96",
           "#ab63fa",
           "#FFA15A",
           "#19d3f3",
           "#FF6692",
           "#B6E880",
           "#FF97FF",
           "#FECB52"
          ],
          "font": {
           "color": "#2a3f5f"
          },
          "geo": {
           "bgcolor": "white",
           "lakecolor": "white",
           "landcolor": "#E5ECF6",
           "showlakes": true,
           "showland": true,
           "subunitcolor": "white"
          },
          "hoverlabel": {
           "align": "left"
          },
          "hovermode": "closest",
          "mapbox": {
           "style": "light"
          },
          "paper_bgcolor": "white",
          "plot_bgcolor": "#E5ECF6",
          "polar": {
           "angularaxis": {
            "gridcolor": "white",
            "linecolor": "white",
            "ticks": ""
           },
           "bgcolor": "#E5ECF6",
           "radialaxis": {
            "gridcolor": "white",
            "linecolor": "white",
            "ticks": ""
           }
          },
          "scene": {
           "xaxis": {
            "backgroundcolor": "#E5ECF6",
            "gridcolor": "white",
            "gridwidth": 2,
            "linecolor": "white",
            "showbackground": true,
            "ticks": "",
            "zerolinecolor": "white"
           },
           "yaxis": {
            "backgroundcolor": "#E5ECF6",
            "gridcolor": "white",
            "gridwidth": 2,
            "linecolor": "white",
            "showbackground": true,
            "ticks": "",
            "zerolinecolor": "white"
           },
           "zaxis": {
            "backgroundcolor": "#E5ECF6",
            "gridcolor": "white",
            "gridwidth": 2,
            "linecolor": "white",
            "showbackground": true,
            "ticks": "",
            "zerolinecolor": "white"
           }
          },
          "shapedefaults": {
           "line": {
            "color": "#2a3f5f"
           }
          },
          "ternary": {
           "aaxis": {
            "gridcolor": "white",
            "linecolor": "white",
            "ticks": ""
           },
           "baxis": {
            "gridcolor": "white",
            "linecolor": "white",
            "ticks": ""
           },
           "bgcolor": "#E5ECF6",
           "caxis": {
            "gridcolor": "white",
            "linecolor": "white",
            "ticks": ""
           }
          },
          "title": {
           "x": 0.05
          },
          "xaxis": {
           "automargin": true,
           "gridcolor": "white",
           "linecolor": "white",
           "ticks": "",
           "title": {
            "standoff": 15
           },
           "zerolinecolor": "white",
           "zerolinewidth": 2
          },
          "yaxis": {
           "automargin": true,
           "gridcolor": "white",
           "linecolor": "white",
           "ticks": "",
           "title": {
            "standoff": 15
           },
           "zerolinecolor": "white",
           "zerolinewidth": 2
          }
         }
        },
        "title": {
         "text": "Distribution of Age"
        },
        "xaxis": {
         "anchor": "y",
         "domain": [
          0,
          1
         ],
         "title": {
          "text": "Area Income"
         }
        },
        "yaxis": {
         "anchor": "x",
         "domain": [
          0,
          1
         ],
         "title": {
          "text": "Count"
         }
        }
       }
      }
     },
     "metadata": {},
     "output_type": "display_data"
    }
   ],
   "source": [
    "# Check the distribution of area income\n",
    "fig = px.histogram(df, x=\"Area Income\", nbins=40, title=\"Distribution of Age\")\n",
    "fig.update_layout(xaxis_title=\"Area Income\", yaxis_title=\"Count\")\n",
    "fig.show()"
   ]
  },
  {
   "cell_type": "code",
   "execution_count": 172,
   "metadata": {},
   "outputs": [
    {
     "data": {
      "application/vnd.plotly.v1+json": {
       "config": {
        "plotlyServerURL": "https://plot.ly"
       },
       "data": [
        {
         "alignmentgroup": "True",
         "boxpoints": "all",
         "hovertemplate": "Clicked on Ad=%{x}<br>Area Income=%{y}<extra></extra>",
         "legendgroup": "0",
         "marker": {
          "color": "#636efa"
         },
         "name": "Not Clicked",
         "notched": false,
         "offsetgroup": "0",
         "orientation": "v",
         "showlegend": true,
         "type": "box",
         "x": [
          0,
          0,
          0,
          0,
          0,
          0,
          0,
          0,
          0,
          0,
          0,
          0,
          0,
          0,
          0,
          0,
          0,
          0,
          0,
          0,
          0,
          0,
          0,
          0,
          0,
          0,
          0,
          0,
          0,
          0,
          0,
          0,
          0,
          0,
          0,
          0,
          0,
          0,
          0,
          0,
          0,
          0,
          0,
          0,
          0,
          0,
          0,
          0,
          0,
          0,
          0,
          0,
          0,
          0,
          0,
          0,
          0,
          0,
          0,
          0,
          0,
          0,
          0,
          0,
          0,
          0,
          0,
          0,
          0,
          0,
          0,
          0,
          0,
          0,
          0,
          0,
          0,
          0,
          0,
          0,
          0,
          0,
          0,
          0,
          0,
          0,
          0,
          0,
          0,
          0,
          0,
          0,
          0,
          0,
          0,
          0,
          0,
          0,
          0,
          0,
          0,
          0,
          0,
          0,
          0,
          0,
          0,
          0,
          0,
          0,
          0,
          0,
          0,
          0,
          0,
          0,
          0,
          0,
          0,
          0,
          0,
          0,
          0,
          0,
          0,
          0,
          0,
          0,
          0,
          0,
          0,
          0,
          0,
          0,
          0,
          0,
          0,
          0,
          0,
          0,
          0,
          0,
          0,
          0,
          0,
          0,
          0,
          0,
          0,
          0,
          0,
          0,
          0,
          0,
          0,
          0,
          0,
          0,
          0,
          0,
          0,
          0,
          0,
          0,
          0,
          0,
          0,
          0,
          0,
          0,
          0,
          0,
          0,
          0,
          0,
          0,
          0,
          0,
          0,
          0,
          0,
          0,
          0,
          0,
          0,
          0,
          0,
          0,
          0,
          0,
          0,
          0,
          0,
          0,
          0,
          0,
          0,
          0,
          0,
          0,
          0,
          0,
          0,
          0,
          0,
          0,
          0,
          0,
          0,
          0,
          0,
          0,
          0,
          0,
          0,
          0,
          0,
          0,
          0,
          0,
          0,
          0,
          0,
          0,
          0,
          0,
          0,
          0,
          0,
          0,
          0,
          0,
          0,
          0,
          0,
          0,
          0,
          0,
          0,
          0,
          0,
          0,
          0,
          0,
          0,
          0,
          0,
          0,
          0,
          0,
          0,
          0,
          0,
          0,
          0,
          0,
          0,
          0,
          0,
          0,
          0,
          0,
          0,
          0,
          0,
          0,
          0,
          0,
          0,
          0,
          0,
          0,
          0,
          0,
          0,
          0,
          0,
          0,
          0,
          0,
          0,
          0,
          0,
          0,
          0,
          0,
          0,
          0,
          0,
          0,
          0,
          0,
          0,
          0,
          0,
          0,
          0,
          0,
          0,
          0,
          0,
          0,
          0,
          0,
          0,
          0,
          0,
          0,
          0,
          0,
          0,
          0,
          0,
          0,
          0,
          0,
          0,
          0,
          0,
          0,
          0,
          0,
          0,
          0,
          0,
          0,
          0,
          0,
          0,
          0,
          0,
          0,
          0,
          0,
          0,
          0,
          0,
          0,
          0,
          0,
          0,
          0,
          0,
          0,
          0,
          0,
          0,
          0,
          0,
          0,
          0,
          0,
          0,
          0,
          0,
          0,
          0,
          0,
          0,
          0,
          0,
          0,
          0,
          0,
          0,
          0,
          0,
          0,
          0,
          0,
          0,
          0,
          0,
          0,
          0,
          0,
          0,
          0,
          0,
          0,
          0,
          0,
          0,
          0,
          0,
          0,
          0,
          0,
          0,
          0,
          0,
          0,
          0,
          0,
          0,
          0,
          0,
          0,
          0,
          0,
          0,
          0,
          0,
          0,
          0,
          0,
          0,
          0,
          0,
          0,
          0,
          0,
          0,
          0,
          0,
          0,
          0,
          0,
          0,
          0,
          0,
          0,
          0,
          0,
          0,
          0,
          0,
          0,
          0,
          0,
          0,
          0,
          0,
          0,
          0,
          0,
          0,
          0,
          0,
          0,
          0,
          0,
          0,
          0,
          0,
          0,
          0,
          0,
          0,
          0,
          0,
          0,
          0,
          0,
          0,
          0,
          0,
          0,
          0,
          0,
          0,
          0,
          0,
          0,
          0,
          0,
          0,
          0,
          0,
          0,
          0,
          0,
          0,
          0,
          0,
          0,
          0,
          0,
          0,
          0,
          0,
          0,
          0,
          0,
          0,
          0,
          0,
          0,
          0,
          0,
          0,
          0,
          0,
          0,
          0,
          0,
          0,
          0,
          0,
          0
         ],
         "x0": " ",
         "xaxis": "x",
         "y": [
          61833.9,
          68441.85,
          59785.94,
          54806.18,
          73889.99,
          59761.56,
          53852.85,
          68862,
          55642.32,
          62491.01,
          51739.63,
          71511.08,
          64802.33,
          60015.57,
          61628.72,
          64828,
          46179.97,
          51473.28,
          45593.93,
          61389.5,
          76435.3,
          57691.95,
          59784.18,
          66572.39,
          64929.61,
          57519.64,
          57009.76,
          67058.72,
          61526.25,
          58526.04,
          67479.62,
          56113.37,
          47708.42,
          64654.66,
          71228.44,
          61601.05,
          73910.9,
          61005.87,
          74543.81,
          60465.72,
          54541.56,
          63296.87,
          65653.47,
          74535.94,
          73600.28,
          64264.25,
          52968.22,
          69456.83,
          51864.77,
          59593.56,
          48376.14,
          56884.74,
          67186.54,
          46557.92,
          72272.9,
          56067.38,
          72683.35,
          56729.78,
          57669.41,
          56791.75,
          63274.88,
          61227.59,
          57868.44,
          66618.21,
          73104.47,
          67633.44,
          61617.98,
          70575.6,
          64122.36,
          60192.72,
          77460.07,
          69112.84,
          72524.86,
          66699.12,
          64287.78,
          56637.59,
          57009.76,
          74166.24,
          62669.59,
          57756.89,
          58019.64,
          53767.12,
          62238.58,
          76003.47,
          68094.85,
          64395.85,
          72423.97,
          57009.76,
          63115.34,
          65044.59,
          53673.08,
          62572.88,
          49325.48,
          64045.93,
          73049.3,
          66624.6,
          77567.85,
          53431.35,
          74780.74,
          70410.11,
          66107.84,
          62336.39,
          65172.22,
          54774.77,
          65461.92,
          55353.41,
          67516.07,
          59886.58,
          74430.08,
          58633.63,
          72707.87,
          72209.99,
          67113.46,
          62204.93,
          60372.64,
          65280.16,
          34309.24,
          71136.49,
          64902.47,
          63727.5,
          61608.23,
          64447.77,
          67669.06,
          50723.67,
          70547.16,
          62312.23,
          73687.5,
          52686.47,
          78119.5,
          57014.84,
          58337.18,
          50216.01,
          53049.44,
          62927.96,
          69285.69,
          52011,
          67938.77,
          61610.05,
          62667.51,
          75687.46,
          66744.65,
          67714.82,
          69710.51,
          66269.49,
          60843.32,
          55041.6,
          61771.9,
          61383.79,
          63924.82,
          70179.11,
          66524.8,
          61275.18,
          60638.38,
          48537.18,
          53058.91,
          68614.98,
          54520.14,
          54952.42,
          69476.42,
          54989.93,
          65883.39,
          65421.39,
          58476.57,
          66636.84,
          57260.41,
          66359.32,
          63060.55,
          59998.5,
          74024.61,
          60550.66,
          46653.75,
          56986.73,
          42162.9,
          39699.13,
          75044.35,
          58996.12,
          56605.12,
          62475.99,
          70492.6,
          57737.51,
          66691.23,
          66025.11,
          73608.99,
          72325.91,
          44559.43,
          73207.15,
          46722.07,
          60845.55,
          64267.88,
          58151.87,
          52079.18,
          56216.57,
          61806.31,
          67080.94,
          51975.41,
          67744.56,
          66574,
          74903.41,
          66050.63,
          70449.04,
          64008.55,
          70203.74,
          49544.41,
          75524.78,
          66265.34,
          56379.3,
          51015.11,
          55479.62,
          66225.72,
          38609.2,
          63764.28,
          69428.73,
          60283.98,
          79332.33,
          64564.07,
          61270.14,
          46160.63,
          43870.51,
          50439.49,
          64238.71,
          65816.38,
          38817.4,
          63976.44,
          52691.79,
          63966.72,
          52140.04,
          74180.05,
          48852.58,
          58909.36,
          49850.52,
          57009.76,
          45959.86,
          51512.66,
          67240.25,
          62589.84,
          63879.72,
          76408.19,
          55015.08,
          51636.12,
          71296.67,
          46422.76,
          59677.64,
          70225.6,
          65791.17,
          66291.67,
          68030.18,
          49457.48,
          75535.14,
          65826.53,
          61172.07,
          68333.01,
          51847.26,
          63580.22,
          70505.06,
          62161.26,
          62330.75,
          62053.37,
          61922.06,
          53412.32,
          43299.63,
          69562.46,
          62772.42,
          78092.95,
          60637.62,
          42760.22,
          46132.18,
          46964.11,
          70377.23,
          70012.83,
          56457.01,
          67279.06,
          57009.76,
          70783.94,
          70510.59,
          64021.55,
          72042.85,
          67526.92,
          63497.62,
          60879.48,
          61467.33,
          70495.64,
          71222.4,
          64698.58,
          73474.82,
          58576.12,
          63373.7,
          60283.47,
          67511.86,
          77988.71,
          61747.98,
          55130.96,
          79484.8,
          67307.43,
          66431.87,
          63551.67,
          63394.41,
          64433.99,
          73884.48,
          41768.13,
          57844.96,
          62792.43,
          64631.22,
          50337.93,
          55901.12,
          64775.1,
          67686.16,
          58920.44,
          68348.99,
          66263.37,
          33502.57,
          65834.97,
          66176.97,
          61428.18,
          57518.73,
          52656.13,
          52178.98,
          48918.55,
          65227.79,
          52261.73,
          55411.06,
          66504.16,
          47169.14,
          70889.68,
          55499.69,
          40345.49,
          33239.2,
          68033.54,
          38427.66,
          53185.34,
          71881.84,
          47139.21,
          68877.02,
          65186.58,
          55424.24,
          46500.11,
          58820.16,
          57009.76,
          37908.29,
          69805.7,
          60315.19,
          66412.04,
          63965.16,
          58342.63,
          64188.5,
          44078.24,
          65620.25,
          65496.78,
          51816.27,
          62729.4,
          67990.84,
          60082.66,
          65180.97,
          67301.39,
          70701.31,
          60997.84,
          60805.93,
          57009.76,
          76480.16,
          67132.46,
          55195.61,
          48679.54,
          63109.74,
          44490.09,
          66198.66,
          73174.19,
          56593.8,
          66773.83,
          73413.87,
          58114.3,
          50147.72,
          59797.64,
          74623.27,
          62109.8,
          73882.91,
          50468.36,
          51409.45,
          60514.05,
          57195.96,
          52802.58,
          56570.06,
          51049.47,
          66629.61,
          70185.06,
          53223.58,
          57179.91,
          63664.32,
          71727.51,
          72203.96,
          76984.21,
          59047.91,
          72154.68,
          65704.79,
          72948.76,
          73941.91,
          71157.05,
          74159.69,
          48761.14,
          69758.31,
          52530.1,
          58363.12,
          69438.04,
          68016.9,
          56909.3,
          61161.29,
          50950.24,
          57032.36,
          68783.45,
          69718.19,
          63429.18,
          65756.36,
          77871.75,
          47258.59,
          60188.38,
          50356.06,
          63936.5,
          69874.18,
          50038.65,
          67866.95,
          67432.49,
          73392.28,
          56735.83,
          69481.85,
          67033.34,
          68717,
          59340.99,
          66861.67,
          63107.88,
          54106.21,
          71055.22,
          46403.18,
          58638.75,
          47357.39,
          51772.58,
          51363.16,
          58776.67,
          59106.12,
          54251.78,
          70324.8,
          52416.18,
          57009.76,
          60938.73,
          60151.77,
          45945.88,
          63430.33,
          65882.81,
          55677.12,
          75560.65,
          61067.58,
          72330.57,
          77220.42,
          52520.75,
          59422.47,
          58443.99,
          50820.74,
          66522.79,
          66027.31,
          61117.5,
          50506.44,
          66262.59,
          35521.88,
          62430.55,
          61039.13,
          46974.15,
          53042.51,
          58287.86,
          52252.91,
          61009.1,
          58235.21,
          68324.48,
          69646.35,
          54045.39,
          58953.01,
          36834.04,
          66345.1,
          60803,
          55368.67,
          68305.91,
          40478.83,
          57330.43,
          75769.82,
          58996.56,
          56725.47,
          55764.43,
          64235.51,
          63319.99,
          54725.87,
          69775.75,
          57545.56,
          68357.96,
          63528.8,
          72188.9,
          56974.51,
          41884.64,
          54429.17,
          58037.66,
          59967.19,
          51501.38,
          55187.85,
          66200.96,
          41920.79
         ],
         "y0": " ",
         "yaxis": "y"
        },
        {
         "alignmentgroup": "True",
         "boxpoints": "all",
         "hovertemplate": "Clicked on Ad=%{x}<br>Area Income=%{y}<extra></extra>",
         "legendgroup": "1",
         "marker": {
          "color": "#EF553B"
         },
         "name": "Clicked",
         "notched": false,
         "offsetgroup": "1",
         "orientation": "v",
         "showlegend": true,
         "type": "box",
         "x": [
          1,
          1,
          1,
          1,
          1,
          1,
          1,
          1,
          1,
          1,
          1,
          1,
          1,
          1,
          1,
          1,
          1,
          1,
          1,
          1,
          1,
          1,
          1,
          1,
          1,
          1,
          1,
          1,
          1,
          1,
          1,
          1,
          1,
          1,
          1,
          1,
          1,
          1,
          1,
          1,
          1,
          1,
          1,
          1,
          1,
          1,
          1,
          1,
          1,
          1,
          1,
          1,
          1,
          1,
          1,
          1,
          1,
          1,
          1,
          1,
          1,
          1,
          1,
          1,
          1,
          1,
          1,
          1,
          1,
          1,
          1,
          1,
          1,
          1,
          1,
          1,
          1,
          1,
          1,
          1,
          1,
          1,
          1,
          1,
          1,
          1,
          1,
          1,
          1,
          1,
          1,
          1,
          1,
          1,
          1,
          1,
          1,
          1,
          1,
          1,
          1,
          1,
          1,
          1,
          1,
          1,
          1,
          1,
          1,
          1,
          1,
          1,
          1,
          1,
          1,
          1,
          1,
          1,
          1,
          1,
          1,
          1,
          1,
          1,
          1,
          1,
          1,
          1,
          1,
          1,
          1,
          1,
          1,
          1,
          1,
          1,
          1,
          1,
          1,
          1,
          1,
          1,
          1,
          1,
          1,
          1,
          1,
          1,
          1,
          1,
          1,
          1,
          1,
          1,
          1,
          1,
          1,
          1,
          1,
          1,
          1,
          1,
          1,
          1,
          1,
          1,
          1,
          1,
          1,
          1,
          1,
          1,
          1,
          1,
          1,
          1,
          1,
          1,
          1,
          1,
          1,
          1,
          1,
          1,
          1,
          1,
          1,
          1,
          1,
          1,
          1,
          1,
          1,
          1,
          1,
          1,
          1,
          1,
          1,
          1,
          1,
          1,
          1,
          1,
          1,
          1,
          1,
          1,
          1,
          1,
          1,
          1,
          1,
          1,
          1,
          1,
          1,
          1,
          1,
          1,
          1,
          1,
          1,
          1,
          1,
          1,
          1,
          1,
          1,
          1,
          1,
          1,
          1,
          1,
          1,
          1,
          1,
          1,
          1,
          1,
          1,
          1,
          1,
          1,
          1,
          1,
          1,
          1,
          1,
          1,
          1,
          1,
          1,
          1,
          1,
          1,
          1,
          1,
          1,
          1,
          1,
          1,
          1,
          1,
          1,
          1,
          1,
          1,
          1,
          1,
          1,
          1,
          1,
          1,
          1,
          1,
          1,
          1,
          1,
          1,
          1,
          1,
          1,
          1,
          1,
          1,
          1,
          1,
          1,
          1,
          1,
          1,
          1,
          1,
          1,
          1,
          1,
          1,
          1,
          1,
          1,
          1,
          1,
          1,
          1,
          1,
          1,
          1,
          1,
          1,
          1,
          1,
          1,
          1,
          1,
          1,
          1,
          1,
          1,
          1,
          1,
          1,
          1,
          1,
          1,
          1,
          1,
          1,
          1,
          1,
          1,
          1,
          1,
          1,
          1,
          1,
          1,
          1,
          1,
          1,
          1,
          1,
          1,
          1,
          1,
          1,
          1,
          1,
          1,
          1,
          1,
          1,
          1,
          1,
          1,
          1,
          1,
          1,
          1,
          1,
          1,
          1,
          1,
          1,
          1,
          1,
          1,
          1,
          1,
          1,
          1,
          1,
          1,
          1,
          1,
          1,
          1,
          1,
          1,
          1,
          1,
          1,
          1,
          1,
          1,
          1,
          1,
          1,
          1,
          1,
          1,
          1,
          1,
          1,
          1,
          1,
          1,
          1,
          1,
          1,
          1,
          1,
          1,
          1,
          1,
          1,
          1,
          1,
          1,
          1,
          1,
          1,
          1,
          1,
          1,
          1,
          1,
          1,
          1,
          1,
          1,
          1,
          1,
          1,
          1,
          1,
          1,
          1,
          1,
          1,
          1,
          1,
          1,
          1,
          1,
          1,
          1,
          1,
          1,
          1,
          1,
          1,
          1,
          1,
          1,
          1,
          1,
          1,
          1,
          1,
          1,
          1,
          1,
          1,
          1,
          1,
          1,
          1,
          1,
          1,
          1,
          1,
          1,
          1,
          1,
          1,
          1,
          1,
          1,
          1,
          1,
          1,
          1,
          1,
          1,
          1,
          1,
          1,
          1,
          1,
          1,
          1,
          1,
          1,
          1,
          1,
          1,
          1,
          1,
          1,
          1,
          1,
          1,
          1,
          1,
          1,
          1,
          1,
          1,
          1
         ],
         "x0": " ",
         "xaxis": "x",
         "y": [
          24593.33,
          45632.51,
          51636.92,
          30976,
          52182.23,
          23936.86,
          31087.54,
          23821.72,
          32635.7,
          68962.32,
          38067.08,
          58295.82,
          32708.94,
          57009.76,
          30227.98,
          45580.92,
          56770.79,
          57425.87,
          27508.41,
          53575.48,
          52723.34,
          54286.1,
          53350.11,
          62657.53,
          62722.57,
          75254.88,
          52336.64,
          24852.9,
          66281.46,
          51317.33,
          51510.18,
          32536.98,
          60248.97,
          75509.61,
          42650.32,
          58183.04,
          57009.76,
          32689.04,
          55605.92,
          61652.53,
          30726.26,
          47861.93,
          58543.94,
          42696.67,
          37334.78,
          57009.76,
          59550.05,
          64147.86,
          25686.34,
          22473.08,
          64927.19,
          51868.85,
          31947.65,
          66541.05,
          33258.09,
          60333.38,
          65229.13,
          37838.72,
          66815.54,
          60223.52,
          29727.79,
          49269.98,
          35466.8,
          68787.09,
          56366.88,
          21644.91,
          53817.02,
          76368.31,
          50335.46,
          17709.98,
          41229.16,
          42581.23,
          52097.32,
          65953.76,
          45716.48,
          65120.86,
          49995.63,
          71718.51,
          61770.34,
          36782.38,
          55787.58,
          61142.33,
          73234.87,
          50960.08,
          48246.6,
          28271.84,
          43662.1,
          49030.03,
          70053.27,
          42995.8,
          38349.78,
          31343.39,
          40763.13,
          36752.24,
          43444.86,
          44248.52,
          39840.55,
          32593.59,
          41629.86,
          43313.73,
          42993.48,
          46004.31,
          51633.34,
          63363.04,
          31265.75,
          37345.24,
          39132.64,
          38745.29,
          68519.96,
          76246.96,
          34127.21,
          35253.98,
          44893.71,
          59621.02,
          20856.54,
          68737.75,
          76893.84,
          53441.69,
          41356.31,
          49942.66,
          31092.93,
          74445.18,
          49309.14,
          56735.14,
          40183.75,
          58348.41,
          62060.11,
          24030.06,
          56180.93,
          59610.81,
          50278.89,
          43450.11,
          25408.21,
          63883.81,
          66784.81,
          62784.85,
          56782.18,
          42042.95,
          54875.95,
          73347.67,
          50199.77,
          63450.96,
          56694.12,
          47391.95,
          63100.13,
          27086.4,
          32847.53,
          32006.82,
          48913.07,
          53700.57,
          46339.25,
          66348.95,
          66873.9,
          72270.88,
          76560.59,
          73863.25,
          62378.05,
          63336.85,
          42191.61,
          56194.56,
          23975.35,
          41851.38,
          47160.53,
          44174.25,
          67050.16,
          29398.61,
          42861.42,
          60953.93,
          67430.96,
          57587,
          57983.3,
          52736.33,
          55336.18,
          56394.82,
          53309.61,
          43698.53,
          31281.01,
          45800.48,
          42362.49,
          56369.74,
          59397.89,
          68211.35,
          61228.96,
          45400.5,
          41417.27,
          60812.77,
          26023.99,
          62318.38,
          51662.24,
          28019.09,
          30487.48,
          19991.72,
          27262.51,
          28357.27,
          66929.03,
          55993.68,
          31215.88,
          46473.14,
          68713.7,
          34191.23,
          57009.76,
          46693.76,
          19345.36,
          37713.23,
          41866.55,
          57846.68,
          53167.68,
          60803.37,
          28387.42,
          58849.77,
          65963.37,
          75180.2,
          56759.48,
          28028.74,
          72684.44,
          37212.54,
          65499.93,
          52400.88,
          49111.47,
          41232.89,
          60641.09,
          51869.87,
          59144.02,
          33951.63,
          28679.93,
          48347.64,
          70005.51,
          25598.75,
          49282.87,
          42136.33,
          67384.31,
          25603.93,
          39616,
          28265.81,
          70592.81,
          29359.2,
          52802,
          59243.46,
          35350.55,
          34191.13,
          51315.38,
          62790.96,
          43974.49,
          33987.27,
          28210.03,
          49158.5,
          39809.69,
          42898.21,
          70232.95,
          63102.19,
          47575.44,
          39031.89,
          61068.26,
          49090.51,
          18819.34,
          49525.37,
          56681.65,
          47997.75,
          39131.53,
          46033.73,
          65856.74,
          54787.37,
          68447.17,
          63649.04,
          27241.11,
          59457.52,
          42907.89,
          36037.33,
          55121.65,
          32252.38,
          55316.97,
          47447.89,
          53549.94,
          37345.34,
          34886.01,
          63001.03,
          48467.68,
          27964.6,
          40135.06,
          49101.67,
          53188.69,
          49742.83,
          36424.94,
          28275.48,
          48098.86,
          68448.94,
          66429.84,
          35684.82,
          51171.23,
          58847.07,
          57739.03,
          67781.31,
          68863.95,
          57777.11,
          46868.53,
          40926.93,
          22205.74,
          63006.14,
          24316.61,
          63493.6,
          56984.09,
          51691.55,
          49911.25,
          51463.17,
          41059.64,
          51593.46,
          46239.14,
          55002.05,
          59448.44,
          47314.45,
          55358.88,
          56242.7,
          45522.44,
          46931.03,
          75805.12,
          15598.29,
          39723.97,
          43386.07,
          53922.43,
          28495.21,
          67323,
          50055.33,
          43573.66,
          28186.65,
          15879.1,
          33147.19,
          65899.68,
          58966.22,
          60968.62,
          52462.04,
          70582.55,
          23410.75,
          48867.67,
          50971.73,
          43241.19,
          14548.06,
          41335.84,
          52581.16,
          57667.99,
          51824.01,
          31072.44,
          72553.94,
          43708.88,
          48453.55,
          45465.25,
          61004.51,
          53898.89,
          58677.69,
          60583.02,
          65576.05,
          43111.41,
          56435.6,
          41521.28,
          73538.09,
          61757.12,
          50671.6,
          47510.42,
          62466.1,
          59683.16,
          41097.17,
          39799.73,
          57877.15,
          57887.64,
          62463.7,
          42838.29,
          43778.88,
          50333.72,
          33293.78,
          38641.2,
          49822.78,
          63891.29,
          43881.73,
          13996.5,
          60575.99,
          48206.04,
          31523.09,
          66187.58,
          14775.5,
          78520.99,
          31998.72,
          52340.1,
          47338.94,
          77143.61,
          48554.45,
          39552.49,
          36884.23,
          51119.93,
          44304.13,
          55984.89,
          44275.13,
          25767.16,
          37605.11,
          25739.09,
          67682.32,
          44307.18,
          25371.52,
          23942.61,
          50666.5,
          54645.2,
          46780.09,
          47682.28,
          51013.37,
          47968.32,
          48758.92,
          61230.03,
          54755.71,
          54324.73,
          52177.4,
          51163.14,
          49206.4,
          55942.04,
          33601.84,
          48867.36,
          56683.32,
          38260.89,
          61690.93,
          26130.93,
          50086.17,
          47638.3,
          38987.42,
          35764.49,
          62939.5,
          50457.01,
          51920.49,
          40243.82,
          64410.8,
          32549.95,
          51257.26,
          22456.04,
          67575.12,
          34903.67,
          43073.78,
          57594.7,
          53012.94,
          52563.22,
          65773.49,
          49597.08,
          42078.89,
          46197.59,
          49957,
          24078.93,
          53647.81,
          48826.14,
          21773.22,
          27073.27,
          50628.31,
          36913.51,
          53041.77,
          40182.84,
          59419.78,
          57009.76,
          53336.76,
          50491.45,
          71455.62,
          43241.88,
          38645.4,
          33553.9,
          63071.34,
          46737.34,
          39211.49,
          65956.71,
          40159.2,
          40468.53,
          66980.27,
          34942.26,
          48335.2,
          42251.59,
          51812.71,
          75265.96,
          69868.48,
          72802.42,
          39193.45,
          18368.57,
          56129.89,
          41547.62,
          59240.24,
          39939.39,
          47051.02,
          51600.47,
          35349.26,
          69784.85,
          50760.23,
          34418.09,
          20592.99,
          44217.68,
          47929.83,
          46024.29,
          57009.76,
          25682.65,
          72196.29,
          64011.26,
          43155.19,
          33813.08,
          36497.22,
          66193.81,
          63126.96,
          71384.57,
          67782.17,
          42415.72,
          29875.8
         ],
         "y0": " ",
         "yaxis": "y"
        }
       ],
       "layout": {
        "boxmode": "overlay",
        "legend": {
         "title": {
          "text": "Clicked on Ad"
         },
         "tracegroupgap": 0
        },
        "template": {
         "data": {
          "bar": [
           {
            "error_x": {
             "color": "#2a3f5f"
            },
            "error_y": {
             "color": "#2a3f5f"
            },
            "marker": {
             "line": {
              "color": "#E5ECF6",
              "width": 0.5
             },
             "pattern": {
              "fillmode": "overlay",
              "size": 10,
              "solidity": 0.2
             }
            },
            "type": "bar"
           }
          ],
          "barpolar": [
           {
            "marker": {
             "line": {
              "color": "#E5ECF6",
              "width": 0.5
             },
             "pattern": {
              "fillmode": "overlay",
              "size": 10,
              "solidity": 0.2
             }
            },
            "type": "barpolar"
           }
          ],
          "carpet": [
           {
            "aaxis": {
             "endlinecolor": "#2a3f5f",
             "gridcolor": "white",
             "linecolor": "white",
             "minorgridcolor": "white",
             "startlinecolor": "#2a3f5f"
            },
            "baxis": {
             "endlinecolor": "#2a3f5f",
             "gridcolor": "white",
             "linecolor": "white",
             "minorgridcolor": "white",
             "startlinecolor": "#2a3f5f"
            },
            "type": "carpet"
           }
          ],
          "choropleth": [
           {
            "colorbar": {
             "outlinewidth": 0,
             "ticks": ""
            },
            "type": "choropleth"
           }
          ],
          "contour": [
           {
            "colorbar": {
             "outlinewidth": 0,
             "ticks": ""
            },
            "colorscale": [
             [
              0,
              "#0d0887"
             ],
             [
              0.1111111111111111,
              "#46039f"
             ],
             [
              0.2222222222222222,
              "#7201a8"
             ],
             [
              0.3333333333333333,
              "#9c179e"
             ],
             [
              0.4444444444444444,
              "#bd3786"
             ],
             [
              0.5555555555555556,
              "#d8576b"
             ],
             [
              0.6666666666666666,
              "#ed7953"
             ],
             [
              0.7777777777777778,
              "#fb9f3a"
             ],
             [
              0.8888888888888888,
              "#fdca26"
             ],
             [
              1,
              "#f0f921"
             ]
            ],
            "type": "contour"
           }
          ],
          "contourcarpet": [
           {
            "colorbar": {
             "outlinewidth": 0,
             "ticks": ""
            },
            "type": "contourcarpet"
           }
          ],
          "heatmap": [
           {
            "colorbar": {
             "outlinewidth": 0,
             "ticks": ""
            },
            "colorscale": [
             [
              0,
              "#0d0887"
             ],
             [
              0.1111111111111111,
              "#46039f"
             ],
             [
              0.2222222222222222,
              "#7201a8"
             ],
             [
              0.3333333333333333,
              "#9c179e"
             ],
             [
              0.4444444444444444,
              "#bd3786"
             ],
             [
              0.5555555555555556,
              "#d8576b"
             ],
             [
              0.6666666666666666,
              "#ed7953"
             ],
             [
              0.7777777777777778,
              "#fb9f3a"
             ],
             [
              0.8888888888888888,
              "#fdca26"
             ],
             [
              1,
              "#f0f921"
             ]
            ],
            "type": "heatmap"
           }
          ],
          "heatmapgl": [
           {
            "colorbar": {
             "outlinewidth": 0,
             "ticks": ""
            },
            "colorscale": [
             [
              0,
              "#0d0887"
             ],
             [
              0.1111111111111111,
              "#46039f"
             ],
             [
              0.2222222222222222,
              "#7201a8"
             ],
             [
              0.3333333333333333,
              "#9c179e"
             ],
             [
              0.4444444444444444,
              "#bd3786"
             ],
             [
              0.5555555555555556,
              "#d8576b"
             ],
             [
              0.6666666666666666,
              "#ed7953"
             ],
             [
              0.7777777777777778,
              "#fb9f3a"
             ],
             [
              0.8888888888888888,
              "#fdca26"
             ],
             [
              1,
              "#f0f921"
             ]
            ],
            "type": "heatmapgl"
           }
          ],
          "histogram": [
           {
            "marker": {
             "pattern": {
              "fillmode": "overlay",
              "size": 10,
              "solidity": 0.2
             }
            },
            "type": "histogram"
           }
          ],
          "histogram2d": [
           {
            "colorbar": {
             "outlinewidth": 0,
             "ticks": ""
            },
            "colorscale": [
             [
              0,
              "#0d0887"
             ],
             [
              0.1111111111111111,
              "#46039f"
             ],
             [
              0.2222222222222222,
              "#7201a8"
             ],
             [
              0.3333333333333333,
              "#9c179e"
             ],
             [
              0.4444444444444444,
              "#bd3786"
             ],
             [
              0.5555555555555556,
              "#d8576b"
             ],
             [
              0.6666666666666666,
              "#ed7953"
             ],
             [
              0.7777777777777778,
              "#fb9f3a"
             ],
             [
              0.8888888888888888,
              "#fdca26"
             ],
             [
              1,
              "#f0f921"
             ]
            ],
            "type": "histogram2d"
           }
          ],
          "histogram2dcontour": [
           {
            "colorbar": {
             "outlinewidth": 0,
             "ticks": ""
            },
            "colorscale": [
             [
              0,
              "#0d0887"
             ],
             [
              0.1111111111111111,
              "#46039f"
             ],
             [
              0.2222222222222222,
              "#7201a8"
             ],
             [
              0.3333333333333333,
              "#9c179e"
             ],
             [
              0.4444444444444444,
              "#bd3786"
             ],
             [
              0.5555555555555556,
              "#d8576b"
             ],
             [
              0.6666666666666666,
              "#ed7953"
             ],
             [
              0.7777777777777778,
              "#fb9f3a"
             ],
             [
              0.8888888888888888,
              "#fdca26"
             ],
             [
              1,
              "#f0f921"
             ]
            ],
            "type": "histogram2dcontour"
           }
          ],
          "mesh3d": [
           {
            "colorbar": {
             "outlinewidth": 0,
             "ticks": ""
            },
            "type": "mesh3d"
           }
          ],
          "parcoords": [
           {
            "line": {
             "colorbar": {
              "outlinewidth": 0,
              "ticks": ""
             }
            },
            "type": "parcoords"
           }
          ],
          "pie": [
           {
            "automargin": true,
            "type": "pie"
           }
          ],
          "scatter": [
           {
            "fillpattern": {
             "fillmode": "overlay",
             "size": 10,
             "solidity": 0.2
            },
            "type": "scatter"
           }
          ],
          "scatter3d": [
           {
            "line": {
             "colorbar": {
              "outlinewidth": 0,
              "ticks": ""
             }
            },
            "marker": {
             "colorbar": {
              "outlinewidth": 0,
              "ticks": ""
             }
            },
            "type": "scatter3d"
           }
          ],
          "scattercarpet": [
           {
            "marker": {
             "colorbar": {
              "outlinewidth": 0,
              "ticks": ""
             }
            },
            "type": "scattercarpet"
           }
          ],
          "scattergeo": [
           {
            "marker": {
             "colorbar": {
              "outlinewidth": 0,
              "ticks": ""
             }
            },
            "type": "scattergeo"
           }
          ],
          "scattergl": [
           {
            "marker": {
             "colorbar": {
              "outlinewidth": 0,
              "ticks": ""
             }
            },
            "type": "scattergl"
           }
          ],
          "scattermapbox": [
           {
            "marker": {
             "colorbar": {
              "outlinewidth": 0,
              "ticks": ""
             }
            },
            "type": "scattermapbox"
           }
          ],
          "scatterpolar": [
           {
            "marker": {
             "colorbar": {
              "outlinewidth": 0,
              "ticks": ""
             }
            },
            "type": "scatterpolar"
           }
          ],
          "scatterpolargl": [
           {
            "marker": {
             "colorbar": {
              "outlinewidth": 0,
              "ticks": ""
             }
            },
            "type": "scatterpolargl"
           }
          ],
          "scatterternary": [
           {
            "marker": {
             "colorbar": {
              "outlinewidth": 0,
              "ticks": ""
             }
            },
            "type": "scatterternary"
           }
          ],
          "surface": [
           {
            "colorbar": {
             "outlinewidth": 0,
             "ticks": ""
            },
            "colorscale": [
             [
              0,
              "#0d0887"
             ],
             [
              0.1111111111111111,
              "#46039f"
             ],
             [
              0.2222222222222222,
              "#7201a8"
             ],
             [
              0.3333333333333333,
              "#9c179e"
             ],
             [
              0.4444444444444444,
              "#bd3786"
             ],
             [
              0.5555555555555556,
              "#d8576b"
             ],
             [
              0.6666666666666666,
              "#ed7953"
             ],
             [
              0.7777777777777778,
              "#fb9f3a"
             ],
             [
              0.8888888888888888,
              "#fdca26"
             ],
             [
              1,
              "#f0f921"
             ]
            ],
            "type": "surface"
           }
          ],
          "table": [
           {
            "cells": {
             "fill": {
              "color": "#EBF0F8"
             },
             "line": {
              "color": "white"
             }
            },
            "header": {
             "fill": {
              "color": "#C8D4E3"
             },
             "line": {
              "color": "white"
             }
            },
            "type": "table"
           }
          ]
         },
         "layout": {
          "annotationdefaults": {
           "arrowcolor": "#2a3f5f",
           "arrowhead": 0,
           "arrowwidth": 1
          },
          "autotypenumbers": "strict",
          "coloraxis": {
           "colorbar": {
            "outlinewidth": 0,
            "ticks": ""
           }
          },
          "colorscale": {
           "diverging": [
            [
             0,
             "#8e0152"
            ],
            [
             0.1,
             "#c51b7d"
            ],
            [
             0.2,
             "#de77ae"
            ],
            [
             0.3,
             "#f1b6da"
            ],
            [
             0.4,
             "#fde0ef"
            ],
            [
             0.5,
             "#f7f7f7"
            ],
            [
             0.6,
             "#e6f5d0"
            ],
            [
             0.7,
             "#b8e186"
            ],
            [
             0.8,
             "#7fbc41"
            ],
            [
             0.9,
             "#4d9221"
            ],
            [
             1,
             "#276419"
            ]
           ],
           "sequential": [
            [
             0,
             "#0d0887"
            ],
            [
             0.1111111111111111,
             "#46039f"
            ],
            [
             0.2222222222222222,
             "#7201a8"
            ],
            [
             0.3333333333333333,
             "#9c179e"
            ],
            [
             0.4444444444444444,
             "#bd3786"
            ],
            [
             0.5555555555555556,
             "#d8576b"
            ],
            [
             0.6666666666666666,
             "#ed7953"
            ],
            [
             0.7777777777777778,
             "#fb9f3a"
            ],
            [
             0.8888888888888888,
             "#fdca26"
            ],
            [
             1,
             "#f0f921"
            ]
           ],
           "sequentialminus": [
            [
             0,
             "#0d0887"
            ],
            [
             0.1111111111111111,
             "#46039f"
            ],
            [
             0.2222222222222222,
             "#7201a8"
            ],
            [
             0.3333333333333333,
             "#9c179e"
            ],
            [
             0.4444444444444444,
             "#bd3786"
            ],
            [
             0.5555555555555556,
             "#d8576b"
            ],
            [
             0.6666666666666666,
             "#ed7953"
            ],
            [
             0.7777777777777778,
             "#fb9f3a"
            ],
            [
             0.8888888888888888,
             "#fdca26"
            ],
            [
             1,
             "#f0f921"
            ]
           ]
          },
          "colorway": [
           "#636efa",
           "#EF553B",
           "#00cc96",
           "#ab63fa",
           "#FFA15A",
           "#19d3f3",
           "#FF6692",
           "#B6E880",
           "#FF97FF",
           "#FECB52"
          ],
          "font": {
           "color": "#2a3f5f"
          },
          "geo": {
           "bgcolor": "white",
           "lakecolor": "white",
           "landcolor": "#E5ECF6",
           "showlakes": true,
           "showland": true,
           "subunitcolor": "white"
          },
          "hoverlabel": {
           "align": "left"
          },
          "hovermode": "closest",
          "mapbox": {
           "style": "light"
          },
          "paper_bgcolor": "white",
          "plot_bgcolor": "#E5ECF6",
          "polar": {
           "angularaxis": {
            "gridcolor": "white",
            "linecolor": "white",
            "ticks": ""
           },
           "bgcolor": "#E5ECF6",
           "radialaxis": {
            "gridcolor": "white",
            "linecolor": "white",
            "ticks": ""
           }
          },
          "scene": {
           "xaxis": {
            "backgroundcolor": "#E5ECF6",
            "gridcolor": "white",
            "gridwidth": 2,
            "linecolor": "white",
            "showbackground": true,
            "ticks": "",
            "zerolinecolor": "white"
           },
           "yaxis": {
            "backgroundcolor": "#E5ECF6",
            "gridcolor": "white",
            "gridwidth": 2,
            "linecolor": "white",
            "showbackground": true,
            "ticks": "",
            "zerolinecolor": "white"
           },
           "zaxis": {
            "backgroundcolor": "#E5ECF6",
            "gridcolor": "white",
            "gridwidth": 2,
            "linecolor": "white",
            "showbackground": true,
            "ticks": "",
            "zerolinecolor": "white"
           }
          },
          "shapedefaults": {
           "line": {
            "color": "#2a3f5f"
           }
          },
          "ternary": {
           "aaxis": {
            "gridcolor": "white",
            "linecolor": "white",
            "ticks": ""
           },
           "baxis": {
            "gridcolor": "white",
            "linecolor": "white",
            "ticks": ""
           },
           "bgcolor": "#E5ECF6",
           "caxis": {
            "gridcolor": "white",
            "linecolor": "white",
            "ticks": ""
           }
          },
          "title": {
           "x": 0.05
          },
          "xaxis": {
           "automargin": true,
           "gridcolor": "white",
           "linecolor": "white",
           "ticks": "",
           "title": {
            "standoff": 15
           },
           "zerolinecolor": "white",
           "zerolinewidth": 2
          },
          "yaxis": {
           "automargin": true,
           "gridcolor": "white",
           "linecolor": "white",
           "ticks": "",
           "title": {
            "standoff": 15
           },
           "zerolinecolor": "white",
           "zerolinewidth": 2
          }
         }
        },
        "title": {
         "text": "Area Income Distribution by Clicked on Ad"
        },
        "xaxis": {
         "anchor": "y",
         "categoryarray": [
          0,
          1
         ],
         "categoryorder": "array",
         "domain": [
          0,
          1
         ],
         "ticktext": [
          "Not Clicked",
          "Clicked"
         ],
         "tickvals": [
          0,
          1
         ],
         "title": {
          "text": "Clicked on Ad"
         }
        },
        "yaxis": {
         "anchor": "x",
         "domain": [
          0,
          1
         ],
         "title": {
          "text": "Area Income"
         }
        }
       }
      }
     },
     "metadata": {},
     "output_type": "display_data"
    }
   ],
   "source": [
    "# How does income affect clicked on ad\n",
    "fig = px.box(df, x=\"Clicked on Ad\", y=\"Area Income\", color=\"Clicked on Ad\", \n",
    "             title=\"Area Income Distribution by Clicked on Ad\", points=\"all\")\n",
    "fig.update_layout(xaxis_tickvals=[0, 1], xaxis_ticktext=[\"Not Clicked\", \"Clicked\"])\n",
    "\n",
    "# Change legend label to text\n",
    "fig.update_traces(name=\"Not Clicked\", selector=dict(name=\"0\"))\n",
    "fig.update_traces(name=\"Clicked\", selector=dict(name=\"1\"))\n",
    "fig.show()"
   ]
  },
  {
   "cell_type": "markdown",
   "metadata": {},
   "source": [
    "**Finding**: The box plot comparing Area Income for users who clicked and did not click on the ad shows a big difference between the two groups. We can see that those users who did not click the ad are located in area with average income between 33K to 80K. In contrast to those users who clicked the ad with area income range from as low as 14K to 79K, which indicates that for those users who are located in area with average income below 33K, they tend to click the ad."
   ]
  },
  {
   "cell_type": "code",
   "execution_count": 214,
   "metadata": {},
   "outputs": [
    {
     "data": {
      "application/vnd.plotly.v1+json": {
       "config": {
        "plotlyServerURL": "https://plot.ly"
       },
       "data": [
        {
         "hovertemplate": "Clicked Label=Not Clicked<br>Area Income=%{x}<br>Age=%{y}<extra></extra>",
         "legendgroup": "Not Clicked",
         "marker": {
          "color": "blue",
          "symbol": "circle"
         },
         "mode": "markers",
         "name": "Not Clicked",
         "orientation": "v",
         "showlegend": true,
         "type": "scatter",
         "x": [
          61833.9,
          68441.85,
          59785.94,
          54806.18,
          73889.99,
          59761.56,
          53852.85,
          68862,
          55642.32,
          62491.01,
          51739.63,
          71511.08,
          64802.33,
          60015.57,
          61628.72,
          64828,
          46179.97,
          51473.28,
          45593.93,
          61389.5,
          76435.3,
          57691.95,
          59784.18,
          66572.39,
          64929.61,
          57519.64,
          57009.76,
          67058.72,
          61526.25,
          58526.04,
          67479.62,
          56113.37,
          47708.42,
          64654.66,
          71228.44,
          61601.05,
          73910.9,
          61005.87,
          74543.81,
          60465.72,
          54541.56,
          63296.87,
          65653.47,
          74535.94,
          73600.28,
          64264.25,
          52968.22,
          69456.83,
          51864.77,
          59593.56,
          48376.14,
          56884.74,
          67186.54,
          46557.92,
          72272.9,
          56067.38,
          72683.35,
          56729.78,
          57669.41,
          56791.75,
          63274.88,
          61227.59,
          57868.44,
          66618.21,
          73104.47,
          67633.44,
          61617.98,
          70575.6,
          64122.36,
          60192.72,
          77460.07,
          69112.84,
          72524.86,
          66699.12,
          64287.78,
          56637.59,
          57009.76,
          74166.24,
          62669.59,
          57756.89,
          58019.64,
          53767.12,
          62238.58,
          76003.47,
          68094.85,
          64395.85,
          72423.97,
          57009.76,
          63115.34,
          65044.59,
          53673.08,
          62572.88,
          49325.48,
          64045.93,
          73049.3,
          66624.6,
          77567.85,
          53431.35,
          74780.74,
          70410.11,
          66107.84,
          62336.39,
          65172.22,
          54774.77,
          65461.92,
          55353.41,
          67516.07,
          59886.58,
          74430.08,
          58633.63,
          72707.87,
          72209.99,
          67113.46,
          62204.93,
          60372.64,
          65280.16,
          34309.24,
          71136.49,
          64902.47,
          63727.5,
          61608.23,
          64447.77,
          67669.06,
          50723.67,
          70547.16,
          62312.23,
          73687.5,
          52686.47,
          78119.5,
          57014.84,
          58337.18,
          50216.01,
          53049.44,
          62927.96,
          69285.69,
          52011,
          67938.77,
          61610.05,
          62667.51,
          75687.46,
          66744.65,
          67714.82,
          69710.51,
          66269.49,
          60843.32,
          55041.6,
          61771.9,
          61383.79,
          63924.82,
          70179.11,
          66524.8,
          61275.18,
          60638.38,
          48537.18,
          53058.91,
          68614.98,
          54520.14,
          54952.42,
          69476.42,
          54989.93,
          65883.39,
          65421.39,
          58476.57,
          66636.84,
          57260.41,
          66359.32,
          63060.55,
          59998.5,
          74024.61,
          60550.66,
          46653.75,
          56986.73,
          42162.9,
          39699.13,
          75044.35,
          58996.12,
          56605.12,
          62475.99,
          70492.6,
          57737.51,
          66691.23,
          66025.11,
          73608.99,
          72325.91,
          44559.43,
          73207.15,
          46722.07,
          60845.55,
          64267.88,
          58151.87,
          52079.18,
          56216.57,
          61806.31,
          67080.94,
          51975.41,
          67744.56,
          66574,
          74903.41,
          66050.63,
          70449.04,
          64008.55,
          70203.74,
          49544.41,
          75524.78,
          66265.34,
          56379.3,
          51015.11,
          55479.62,
          66225.72,
          38609.2,
          63764.28,
          69428.73,
          60283.98,
          79332.33,
          64564.07,
          61270.14,
          46160.63,
          43870.51,
          50439.49,
          64238.71,
          65816.38,
          38817.4,
          63976.44,
          52691.79,
          63966.72,
          52140.04,
          74180.05,
          48852.58,
          58909.36,
          49850.52,
          57009.76,
          45959.86,
          51512.66,
          67240.25,
          62589.84,
          63879.72,
          76408.19,
          55015.08,
          51636.12,
          71296.67,
          46422.76,
          59677.64,
          70225.6,
          65791.17,
          66291.67,
          68030.18,
          49457.48,
          75535.14,
          65826.53,
          61172.07,
          68333.01,
          51847.26,
          63580.22,
          70505.06,
          62161.26,
          62330.75,
          62053.37,
          61922.06,
          53412.32,
          43299.63,
          69562.46,
          62772.42,
          78092.95,
          60637.62,
          42760.22,
          46132.18,
          46964.11,
          70377.23,
          70012.83,
          56457.01,
          67279.06,
          57009.76,
          70783.94,
          70510.59,
          64021.55,
          72042.85,
          67526.92,
          63497.62,
          60879.48,
          61467.33,
          70495.64,
          71222.4,
          64698.58,
          73474.82,
          58576.12,
          63373.7,
          60283.47,
          67511.86,
          77988.71,
          61747.98,
          55130.96,
          79484.8,
          67307.43,
          66431.87,
          63551.67,
          63394.41,
          64433.99,
          73884.48,
          41768.13,
          57844.96,
          62792.43,
          64631.22,
          50337.93,
          55901.12,
          64775.1,
          67686.16,
          58920.44,
          68348.99,
          66263.37,
          33502.57,
          65834.97,
          66176.97,
          61428.18,
          57518.73,
          52656.13,
          52178.98,
          48918.55,
          65227.79,
          52261.73,
          55411.06,
          66504.16,
          47169.14,
          70889.68,
          55499.69,
          40345.49,
          33239.2,
          68033.54,
          38427.66,
          53185.34,
          71881.84,
          47139.21,
          68877.02,
          65186.58,
          55424.24,
          46500.11,
          58820.16,
          57009.76,
          37908.29,
          69805.7,
          60315.19,
          66412.04,
          63965.16,
          58342.63,
          64188.5,
          44078.24,
          65620.25,
          65496.78,
          51816.27,
          62729.4,
          67990.84,
          60082.66,
          65180.97,
          67301.39,
          70701.31,
          60997.84,
          60805.93,
          57009.76,
          76480.16,
          67132.46,
          55195.61,
          48679.54,
          63109.74,
          44490.09,
          66198.66,
          73174.19,
          56593.8,
          66773.83,
          73413.87,
          58114.3,
          50147.72,
          59797.64,
          74623.27,
          62109.8,
          73882.91,
          50468.36,
          51409.45,
          60514.05,
          57195.96,
          52802.58,
          56570.06,
          51049.47,
          66629.61,
          70185.06,
          53223.58,
          57179.91,
          63664.32,
          71727.51,
          72203.96,
          76984.21,
          59047.91,
          72154.68,
          65704.79,
          72948.76,
          73941.91,
          71157.05,
          74159.69,
          48761.14,
          69758.31,
          52530.1,
          58363.12,
          69438.04,
          68016.9,
          56909.3,
          61161.29,
          50950.24,
          57032.36,
          68783.45,
          69718.19,
          63429.18,
          65756.36,
          77871.75,
          47258.59,
          60188.38,
          50356.06,
          63936.5,
          69874.18,
          50038.65,
          67866.95,
          67432.49,
          73392.28,
          56735.83,
          69481.85,
          67033.34,
          68717,
          59340.99,
          66861.67,
          63107.88,
          54106.21,
          71055.22,
          46403.18,
          58638.75,
          47357.39,
          51772.58,
          51363.16,
          58776.67,
          59106.12,
          54251.78,
          70324.8,
          52416.18,
          57009.76,
          60938.73,
          60151.77,
          45945.88,
          63430.33,
          65882.81,
          55677.12,
          75560.65,
          61067.58,
          72330.57,
          77220.42,
          52520.75,
          59422.47,
          58443.99,
          50820.74,
          66522.79,
          66027.31,
          61117.5,
          50506.44,
          66262.59,
          35521.88,
          62430.55,
          61039.13,
          46974.15,
          53042.51,
          58287.86,
          52252.91,
          61009.1,
          58235.21,
          68324.48,
          69646.35,
          54045.39,
          58953.01,
          36834.04,
          66345.1,
          60803,
          55368.67,
          68305.91,
          40478.83,
          57330.43,
          75769.82,
          58996.56,
          56725.47,
          55764.43,
          64235.51,
          63319.99,
          54725.87,
          69775.75,
          57545.56,
          68357.96,
          63528.8,
          72188.9,
          56974.51,
          41884.64,
          54429.17,
          58037.66,
          59967.19,
          51501.38,
          55187.85,
          66200.96,
          41920.79
         ],
         "xaxis": "x",
         "y": [
          35,
          31,
          26,
          29,
          35,
          23,
          33,
          30,
          20,
          37,
          24,
          41,
          30,
          35,
          36,
          28,
          22,
          35,
          28,
          30,
          39,
          29,
          30,
          32,
          31,
          25,
          20,
          43,
          23,
          28,
          31,
          29,
          27,
          34,
          29,
          32,
          29,
          25,
          46,
          22,
          33,
          27,
          28,
          31,
          36,
          26,
          26,
          34,
          23,
          40,
          21,
          20,
          40,
          25,
          32,
          22,
          32,
          31,
          31,
          26,
          27,
          31,
          45,
          27,
          37,
          29,
          23,
          38,
          31,
          44,
          41,
          25,
          35,
          33,
          27,
          38,
          27,
          35,
          33,
          31,
          24,
          31,
          34,
          47,
          31,
          26,
          35,
          22,
          34,
          41,
          29,
          31,
          33,
          36,
          31,
          27,
          40,
          29,
          31,
          29,
          28,
          30,
          28,
          27,
          40,
          37,
          27,
          42,
          31,
          23,
          33,
          30,
          32,
          32,
          30,
          24,
          53,
          36,
          33,
          28,
          32,
          39,
          28,
          38,
          34,
          26,
          37,
          33,
          37,
          28,
          35,
          32,
          26,
          28,
          35,
          22,
          37,
          32,
          33,
          36,
          36,
          35,
          31,
          31,
          25,
          28,
          33,
          35,
          32,
          34,
          49,
          33,
          41,
          21,
          25,
          31,
          37,
          30,
          35,
          41,
          32,
          25,
          26,
          31,
          34,
          40,
          35,
          28,
          40,
          22,
          38,
          28,
          21,
          25,
          37,
          28,
          23,
          30,
          44,
          36,
          34,
          28,
          42,
          29,
          40,
          36,
          25,
          26,
          25,
          24,
          37,
          39,
          30,
          29,
          26,
          37,
          33,
          40,
          36,
          44,
          28,
          26,
          20,
          40,
          27,
          34,
          29,
          41,
          29,
          20,
          39,
          29,
          24,
          43,
          45,
          33,
          31,
          32,
          35,
          36,
          39,
          27,
          27,
          23,
          35,
          32,
          44,
          22,
          34,
          25,
          33,
          25,
          26,
          27,
          45,
          25,
          37,
          24,
          29,
          33,
          24,
          22,
          40,
          25,
          40,
          30,
          31,
          30,
          35,
          29,
          27,
          37,
          26,
          42,
          31,
          33,
          26,
          33,
          41,
          32,
          32,
          32,
          41,
          21,
          34,
          51,
          39,
          30,
          32,
          23,
          26,
          35,
          34,
          36,
          39,
          33,
          29,
          28,
          39,
          33,
          35,
          36,
          31,
          37,
          28,
          26,
          31,
          44,
          37,
          26,
          30,
          42,
          37,
          33,
          35,
          36,
          23,
          38,
          46,
          38,
          32,
          25,
          24,
          27,
          37,
          36,
          24,
          26,
          30,
          31,
          31,
          31,
          38,
          24,
          24,
          31,
          35,
          27,
          27,
          26,
          29,
          36,
          31,
          40,
          23,
          28,
          36,
          22,
          46,
          27,
          29,
          38,
          33,
          32,
          46,
          26,
          31,
          46,
          39,
          26,
          33,
          29,
          31,
          26,
          33,
          28,
          38,
          34,
          26,
          28,
          27,
          37,
          28,
          36,
          28,
          33,
          37,
          33,
          38,
          25,
          28,
          29,
          19,
          28,
          40,
          26,
          41,
          31,
          35,
          21,
          29,
          51,
          34,
          40,
          25,
          27,
          24,
          30,
          34,
          28,
          19,
          35,
          41,
          29,
          28,
          30,
          28,
          29,
          42,
          31,
          28,
          31,
          36,
          34,
          40,
          31,
          27,
          30,
          19,
          40,
          30,
          35,
          29,
          29,
          22,
          29,
          26,
          29,
          27,
          34,
          46,
          24,
          28,
          30,
          32,
          28,
          34,
          39,
          34,
          39,
          31,
          32,
          28,
          36,
          31,
          27,
          34,
          23,
          38,
          37,
          36,
          32,
          33,
          26,
          30,
          25,
          43,
          29,
          25,
          39,
          50,
          32,
          40,
          25,
          36,
          27,
          33,
          32,
          34,
          34,
          43,
          22,
          31,
          29,
          39,
          31,
          31,
          25,
          36,
          26,
          32,
          30,
          26,
          27,
          31,
          24,
          37,
          31,
          32,
          25,
          34,
          22,
          38,
          29,
          36,
          33,
          36,
          19,
          36,
          34,
          31,
          28,
          29,
          37,
          26,
          21,
          42,
          24,
          25,
          28,
          30,
          31,
          46,
          32,
          31,
          28,
          48,
          31,
          27,
          19
         ],
         "yaxis": "y"
        },
        {
         "hovertemplate": "Clicked Label=Clicked<br>Area Income=%{x}<br>Age=%{y}<extra></extra>",
         "legendgroup": "Clicked",
         "marker": {
          "color": "red",
          "symbol": "circle"
         },
         "mode": "markers",
         "name": "Clicked",
         "orientation": "v",
         "showlegend": true,
         "type": "scatter",
         "x": [
          24593.33,
          45632.51,
          51636.92,
          30976,
          52182.23,
          23936.86,
          31087.54,
          23821.72,
          32635.7,
          68962.32,
          38067.08,
          58295.82,
          32708.94,
          57009.76,
          30227.98,
          45580.92,
          56770.79,
          57425.87,
          27508.41,
          53575.48,
          52723.34,
          54286.1,
          53350.11,
          62657.53,
          62722.57,
          75254.88,
          52336.64,
          24852.9,
          66281.46,
          51317.33,
          51510.18,
          32536.98,
          60248.97,
          75509.61,
          42650.32,
          58183.04,
          57009.76,
          32689.04,
          55605.92,
          61652.53,
          30726.26,
          47861.93,
          58543.94,
          42696.67,
          37334.78,
          57009.76,
          59550.05,
          64147.86,
          25686.34,
          22473.08,
          64927.19,
          51868.85,
          31947.65,
          66541.05,
          33258.09,
          60333.38,
          65229.13,
          37838.72,
          66815.54,
          60223.52,
          29727.79,
          49269.98,
          35466.8,
          68787.09,
          56366.88,
          21644.91,
          53817.02,
          76368.31,
          50335.46,
          17709.98,
          41229.16,
          42581.23,
          52097.32,
          65953.76,
          45716.48,
          65120.86,
          49995.63,
          71718.51,
          61770.34,
          36782.38,
          55787.58,
          61142.33,
          73234.87,
          50960.08,
          48246.6,
          28271.84,
          43662.1,
          49030.03,
          70053.27,
          42995.8,
          38349.78,
          31343.39,
          40763.13,
          36752.24,
          43444.86,
          44248.52,
          39840.55,
          32593.59,
          41629.86,
          43313.73,
          42993.48,
          46004.31,
          51633.34,
          63363.04,
          31265.75,
          37345.24,
          39132.64,
          38745.29,
          68519.96,
          76246.96,
          34127.21,
          35253.98,
          44893.71,
          59621.02,
          20856.54,
          68737.75,
          76893.84,
          53441.69,
          41356.31,
          49942.66,
          31092.93,
          74445.18,
          49309.14,
          56735.14,
          40183.75,
          58348.41,
          62060.11,
          24030.06,
          56180.93,
          59610.81,
          50278.89,
          43450.11,
          25408.21,
          63883.81,
          66784.81,
          62784.85,
          56782.18,
          42042.95,
          54875.95,
          73347.67,
          50199.77,
          63450.96,
          56694.12,
          47391.95,
          63100.13,
          27086.4,
          32847.53,
          32006.82,
          48913.07,
          53700.57,
          46339.25,
          66348.95,
          66873.9,
          72270.88,
          76560.59,
          73863.25,
          62378.05,
          63336.85,
          42191.61,
          56194.56,
          23975.35,
          41851.38,
          47160.53,
          44174.25,
          67050.16,
          29398.61,
          42861.42,
          60953.93,
          67430.96,
          57587,
          57983.3,
          52736.33,
          55336.18,
          56394.82,
          53309.61,
          43698.53,
          31281.01,
          45800.48,
          42362.49,
          56369.74,
          59397.89,
          68211.35,
          61228.96,
          45400.5,
          41417.27,
          60812.77,
          26023.99,
          62318.38,
          51662.24,
          28019.09,
          30487.48,
          19991.72,
          27262.51,
          28357.27,
          66929.03,
          55993.68,
          31215.88,
          46473.14,
          68713.7,
          34191.23,
          57009.76,
          46693.76,
          19345.36,
          37713.23,
          41866.55,
          57846.68,
          53167.68,
          60803.37,
          28387.42,
          58849.77,
          65963.37,
          75180.2,
          56759.48,
          28028.74,
          72684.44,
          37212.54,
          65499.93,
          52400.88,
          49111.47,
          41232.89,
          60641.09,
          51869.87,
          59144.02,
          33951.63,
          28679.93,
          48347.64,
          70005.51,
          25598.75,
          49282.87,
          42136.33,
          67384.31,
          25603.93,
          39616,
          28265.81,
          70592.81,
          29359.2,
          52802,
          59243.46,
          35350.55,
          34191.13,
          51315.38,
          62790.96,
          43974.49,
          33987.27,
          28210.03,
          49158.5,
          39809.69,
          42898.21,
          70232.95,
          63102.19,
          47575.44,
          39031.89,
          61068.26,
          49090.51,
          18819.34,
          49525.37,
          56681.65,
          47997.75,
          39131.53,
          46033.73,
          65856.74,
          54787.37,
          68447.17,
          63649.04,
          27241.11,
          59457.52,
          42907.89,
          36037.33,
          55121.65,
          32252.38,
          55316.97,
          47447.89,
          53549.94,
          37345.34,
          34886.01,
          63001.03,
          48467.68,
          27964.6,
          40135.06,
          49101.67,
          53188.69,
          49742.83,
          36424.94,
          28275.48,
          48098.86,
          68448.94,
          66429.84,
          35684.82,
          51171.23,
          58847.07,
          57739.03,
          67781.31,
          68863.95,
          57777.11,
          46868.53,
          40926.93,
          22205.74,
          63006.14,
          24316.61,
          63493.6,
          56984.09,
          51691.55,
          49911.25,
          51463.17,
          41059.64,
          51593.46,
          46239.14,
          55002.05,
          59448.44,
          47314.45,
          55358.88,
          56242.7,
          45522.44,
          46931.03,
          75805.12,
          15598.29,
          39723.97,
          43386.07,
          53922.43,
          28495.21,
          67323,
          50055.33,
          43573.66,
          28186.65,
          15879.1,
          33147.19,
          65899.68,
          58966.22,
          60968.62,
          52462.04,
          70582.55,
          23410.75,
          48867.67,
          50971.73,
          43241.19,
          14548.06,
          41335.84,
          52581.16,
          57667.99,
          51824.01,
          31072.44,
          72553.94,
          43708.88,
          48453.55,
          45465.25,
          61004.51,
          53898.89,
          58677.69,
          60583.02,
          65576.05,
          43111.41,
          56435.6,
          41521.28,
          73538.09,
          61757.12,
          50671.6,
          47510.42,
          62466.1,
          59683.16,
          41097.17,
          39799.73,
          57877.15,
          57887.64,
          62463.7,
          42838.29,
          43778.88,
          50333.72,
          33293.78,
          38641.2,
          49822.78,
          63891.29,
          43881.73,
          13996.5,
          60575.99,
          48206.04,
          31523.09,
          66187.58,
          14775.5,
          78520.99,
          31998.72,
          52340.1,
          47338.94,
          77143.61,
          48554.45,
          39552.49,
          36884.23,
          51119.93,
          44304.13,
          55984.89,
          44275.13,
          25767.16,
          37605.11,
          25739.09,
          67682.32,
          44307.18,
          25371.52,
          23942.61,
          50666.5,
          54645.2,
          46780.09,
          47682.28,
          51013.37,
          47968.32,
          48758.92,
          61230.03,
          54755.71,
          54324.73,
          52177.4,
          51163.14,
          49206.4,
          55942.04,
          33601.84,
          48867.36,
          56683.32,
          38260.89,
          61690.93,
          26130.93,
          50086.17,
          47638.3,
          38987.42,
          35764.49,
          62939.5,
          50457.01,
          51920.49,
          40243.82,
          64410.8,
          32549.95,
          51257.26,
          22456.04,
          67575.12,
          34903.67,
          43073.78,
          57594.7,
          53012.94,
          52563.22,
          65773.49,
          49597.08,
          42078.89,
          46197.59,
          49957,
          24078.93,
          53647.81,
          48826.14,
          21773.22,
          27073.27,
          50628.31,
          36913.51,
          53041.77,
          40182.84,
          59419.78,
          57009.76,
          53336.76,
          50491.45,
          71455.62,
          43241.88,
          38645.4,
          33553.9,
          63071.34,
          46737.34,
          39211.49,
          65956.71,
          40159.2,
          40468.53,
          66980.27,
          34942.26,
          48335.2,
          42251.59,
          51812.71,
          75265.96,
          69868.48,
          72802.42,
          39193.45,
          18368.57,
          56129.89,
          41547.62,
          59240.24,
          39939.39,
          47051.02,
          51600.47,
          35349.26,
          69784.85,
          50760.23,
          34418.09,
          20592.99,
          44217.68,
          47929.83,
          46024.29,
          57009.76,
          25682.65,
          72196.29,
          64011.26,
          43155.19,
          33813.08,
          36497.22,
          66193.81,
          63126.96,
          71384.57,
          67782.17,
          42415.72,
          29875.8
         ],
         "xaxis": "x",
         "y": [
          48,
          49,
          48,
          33,
          23,
          37,
          36,
          40,
          52,
          41,
          28,
          52,
          34,
          57,
          23,
          57,
          53,
          46,
          39,
          52,
          37,
          46,
          45,
          50,
          47,
          36,
          49,
          41,
          45,
          40,
          32,
          34,
          31,
          39,
          43,
          42,
          35,
          38,
          45,
          38,
          54,
          41,
          34,
          34,
          37,
          43,
          24,
          40,
          31,
          36,
          41,
          46,
          53,
          42,
          30,
          60,
          53,
          46,
          55,
          42,
          50,
          45,
          36,
          43,
          44,
          50,
          36,
          36,
          47,
          39,
          36,
          38,
          30,
          44,
          44,
          49,
          41,
          46,
          57,
          48,
          36,
          28,
          36,
          50,
          32,
          55,
          42,
          52,
          48,
          44,
          31,
          38,
          27,
          60,
          54,
          57,
          30,
          36,
          30,
          35,
          49,
          53,
          32,
          45,
          40,
          29,
          58,
          38,
          38,
          43,
          23,
          53,
          34,
          40,
          38,
          39,
          41,
          30,
          29,
          38,
          32,
          38,
          28,
          50,
          45,
          36,
          33,
          44,
          47,
          45,
          41,
          56,
          25,
          45,
          30,
          48,
          38,
          31,
          35,
          35,
          44,
          43,
          26,
          26,
          53,
          29,
          52,
          24,
          35,
          51,
          26,
          42,
          24,
          31,
          39,
          50,
          39,
          38,
          43,
          24,
          54,
          22,
          39,
          44,
          34,
          36,
          48,
          31,
          49,
          41,
          47,
          48,
          26,
          52,
          19,
          52,
          47,
          39,
          59,
          33,
          41,
          36,
          54,
          50,
          45,
          47,
          42,
          31,
          41,
          27,
          42,
          38,
          47,
          51,
          28,
          47,
          43,
          52,
          50,
          27,
          49,
          45,
          33,
          40,
          43,
          32,
          41,
          35,
          31,
          36,
          42,
          37,
          29,
          43,
          42,
          36,
          32,
          39,
          38,
          40,
          34,
          50,
          28,
          24,
          52,
          35,
          42,
          40,
          45,
          52,
          33,
          35,
          23,
          47,
          36,
          31,
          50,
          41,
          28,
          30,
          37,
          35,
          48,
          40,
          33,
          28,
          30,
          39,
          37,
          46,
          37,
          49,
          41,
          58,
          30,
          44,
          37,
          34,
          55,
          40,
          42,
          29,
          43,
          39,
          52,
          49,
          42,
          38,
          55,
          58,
          35,
          33,
          49,
          44,
          41,
          36,
          42,
          40,
          23,
          45,
          54,
          39,
          46,
          36,
          27,
          33,
          25,
          45,
          28,
          25,
          42,
          38,
          36,
          48,
          48,
          50,
          40,
          35,
          51,
          40,
          30,
          37,
          31,
          53,
          41,
          39,
          60,
          23,
          49,
          39,
          37,
          55,
          51,
          49,
          41,
          45,
          28,
          41,
          28,
          43,
          49,
          26,
          50,
          55,
          32,
          31,
          33,
          61,
          55,
          29,
          38,
          46,
          28,
          36,
          34,
          47,
          29,
          54,
          54,
          30,
          23,
          48,
          57,
          43,
          53,
          38,
          35,
          45,
          36,
          43,
          41,
          26,
          52,
          43,
          38,
          37,
          29,
          50,
          29,
          32,
          58,
          59,
          37,
          35,
          29,
          32,
          54,
          25,
          51,
          33,
          29,
          42,
          41,
          60,
          45,
          54,
          26,
          44,
          41,
          36,
          39,
          40,
          33,
          33,
          31,
          47,
          32,
          49,
          29,
          34,
          50,
          49,
          41,
          43,
          44,
          35,
          43,
          29,
          48,
          23,
          38,
          30,
          45,
          35,
          49,
          30,
          34,
          42,
          33,
          46,
          49,
          40,
          46,
          40,
          45,
          42,
          37,
          52,
          35,
          45,
          34,
          24,
          51,
          45,
          33,
          27,
          29,
          44,
          33,
          42,
          45,
          53,
          44,
          36,
          20,
          40,
          41,
          37,
          45,
          51,
          38,
          43,
          50,
          50,
          52,
          47,
          42,
          39,
          34,
          42,
          37,
          49,
          56,
          51,
          45,
          45,
          34,
          38,
          34,
          45,
          48,
          38,
          46,
          51,
          39,
          32,
          30,
          31,
          30,
          50,
          43,
          27,
          36,
          29,
          44,
          36,
          28,
          50,
          52,
          38,
          27,
          29,
          48,
          50,
          40,
          48,
          45,
          31,
          57,
          38,
          44,
          43,
          44,
          38,
          40,
          28,
          30,
          45,
          51,
          26
         ],
         "yaxis": "y"
        }
       ],
       "layout": {
        "legend": {
         "title": {
          "text": "Clicked Label"
         },
         "tracegroupgap": 0
        },
        "template": {
         "data": {
          "bar": [
           {
            "error_x": {
             "color": "#2a3f5f"
            },
            "error_y": {
             "color": "#2a3f5f"
            },
            "marker": {
             "line": {
              "color": "#E5ECF6",
              "width": 0.5
             },
             "pattern": {
              "fillmode": "overlay",
              "size": 10,
              "solidity": 0.2
             }
            },
            "type": "bar"
           }
          ],
          "barpolar": [
           {
            "marker": {
             "line": {
              "color": "#E5ECF6",
              "width": 0.5
             },
             "pattern": {
              "fillmode": "overlay",
              "size": 10,
              "solidity": 0.2
             }
            },
            "type": "barpolar"
           }
          ],
          "carpet": [
           {
            "aaxis": {
             "endlinecolor": "#2a3f5f",
             "gridcolor": "white",
             "linecolor": "white",
             "minorgridcolor": "white",
             "startlinecolor": "#2a3f5f"
            },
            "baxis": {
             "endlinecolor": "#2a3f5f",
             "gridcolor": "white",
             "linecolor": "white",
             "minorgridcolor": "white",
             "startlinecolor": "#2a3f5f"
            },
            "type": "carpet"
           }
          ],
          "choropleth": [
           {
            "colorbar": {
             "outlinewidth": 0,
             "ticks": ""
            },
            "type": "choropleth"
           }
          ],
          "contour": [
           {
            "colorbar": {
             "outlinewidth": 0,
             "ticks": ""
            },
            "colorscale": [
             [
              0,
              "#0d0887"
             ],
             [
              0.1111111111111111,
              "#46039f"
             ],
             [
              0.2222222222222222,
              "#7201a8"
             ],
             [
              0.3333333333333333,
              "#9c179e"
             ],
             [
              0.4444444444444444,
              "#bd3786"
             ],
             [
              0.5555555555555556,
              "#d8576b"
             ],
             [
              0.6666666666666666,
              "#ed7953"
             ],
             [
              0.7777777777777778,
              "#fb9f3a"
             ],
             [
              0.8888888888888888,
              "#fdca26"
             ],
             [
              1,
              "#f0f921"
             ]
            ],
            "type": "contour"
           }
          ],
          "contourcarpet": [
           {
            "colorbar": {
             "outlinewidth": 0,
             "ticks": ""
            },
            "type": "contourcarpet"
           }
          ],
          "heatmap": [
           {
            "colorbar": {
             "outlinewidth": 0,
             "ticks": ""
            },
            "colorscale": [
             [
              0,
              "#0d0887"
             ],
             [
              0.1111111111111111,
              "#46039f"
             ],
             [
              0.2222222222222222,
              "#7201a8"
             ],
             [
              0.3333333333333333,
              "#9c179e"
             ],
             [
              0.4444444444444444,
              "#bd3786"
             ],
             [
              0.5555555555555556,
              "#d8576b"
             ],
             [
              0.6666666666666666,
              "#ed7953"
             ],
             [
              0.7777777777777778,
              "#fb9f3a"
             ],
             [
              0.8888888888888888,
              "#fdca26"
             ],
             [
              1,
              "#f0f921"
             ]
            ],
            "type": "heatmap"
           }
          ],
          "heatmapgl": [
           {
            "colorbar": {
             "outlinewidth": 0,
             "ticks": ""
            },
            "colorscale": [
             [
              0,
              "#0d0887"
             ],
             [
              0.1111111111111111,
              "#46039f"
             ],
             [
              0.2222222222222222,
              "#7201a8"
             ],
             [
              0.3333333333333333,
              "#9c179e"
             ],
             [
              0.4444444444444444,
              "#bd3786"
             ],
             [
              0.5555555555555556,
              "#d8576b"
             ],
             [
              0.6666666666666666,
              "#ed7953"
             ],
             [
              0.7777777777777778,
              "#fb9f3a"
             ],
             [
              0.8888888888888888,
              "#fdca26"
             ],
             [
              1,
              "#f0f921"
             ]
            ],
            "type": "heatmapgl"
           }
          ],
          "histogram": [
           {
            "marker": {
             "pattern": {
              "fillmode": "overlay",
              "size": 10,
              "solidity": 0.2
             }
            },
            "type": "histogram"
           }
          ],
          "histogram2d": [
           {
            "colorbar": {
             "outlinewidth": 0,
             "ticks": ""
            },
            "colorscale": [
             [
              0,
              "#0d0887"
             ],
             [
              0.1111111111111111,
              "#46039f"
             ],
             [
              0.2222222222222222,
              "#7201a8"
             ],
             [
              0.3333333333333333,
              "#9c179e"
             ],
             [
              0.4444444444444444,
              "#bd3786"
             ],
             [
              0.5555555555555556,
              "#d8576b"
             ],
             [
              0.6666666666666666,
              "#ed7953"
             ],
             [
              0.7777777777777778,
              "#fb9f3a"
             ],
             [
              0.8888888888888888,
              "#fdca26"
             ],
             [
              1,
              "#f0f921"
             ]
            ],
            "type": "histogram2d"
           }
          ],
          "histogram2dcontour": [
           {
            "colorbar": {
             "outlinewidth": 0,
             "ticks": ""
            },
            "colorscale": [
             [
              0,
              "#0d0887"
             ],
             [
              0.1111111111111111,
              "#46039f"
             ],
             [
              0.2222222222222222,
              "#7201a8"
             ],
             [
              0.3333333333333333,
              "#9c179e"
             ],
             [
              0.4444444444444444,
              "#bd3786"
             ],
             [
              0.5555555555555556,
              "#d8576b"
             ],
             [
              0.6666666666666666,
              "#ed7953"
             ],
             [
              0.7777777777777778,
              "#fb9f3a"
             ],
             [
              0.8888888888888888,
              "#fdca26"
             ],
             [
              1,
              "#f0f921"
             ]
            ],
            "type": "histogram2dcontour"
           }
          ],
          "mesh3d": [
           {
            "colorbar": {
             "outlinewidth": 0,
             "ticks": ""
            },
            "type": "mesh3d"
           }
          ],
          "parcoords": [
           {
            "line": {
             "colorbar": {
              "outlinewidth": 0,
              "ticks": ""
             }
            },
            "type": "parcoords"
           }
          ],
          "pie": [
           {
            "automargin": true,
            "type": "pie"
           }
          ],
          "scatter": [
           {
            "fillpattern": {
             "fillmode": "overlay",
             "size": 10,
             "solidity": 0.2
            },
            "type": "scatter"
           }
          ],
          "scatter3d": [
           {
            "line": {
             "colorbar": {
              "outlinewidth": 0,
              "ticks": ""
             }
            },
            "marker": {
             "colorbar": {
              "outlinewidth": 0,
              "ticks": ""
             }
            },
            "type": "scatter3d"
           }
          ],
          "scattercarpet": [
           {
            "marker": {
             "colorbar": {
              "outlinewidth": 0,
              "ticks": ""
             }
            },
            "type": "scattercarpet"
           }
          ],
          "scattergeo": [
           {
            "marker": {
             "colorbar": {
              "outlinewidth": 0,
              "ticks": ""
             }
            },
            "type": "scattergeo"
           }
          ],
          "scattergl": [
           {
            "marker": {
             "colorbar": {
              "outlinewidth": 0,
              "ticks": ""
             }
            },
            "type": "scattergl"
           }
          ],
          "scattermapbox": [
           {
            "marker": {
             "colorbar": {
              "outlinewidth": 0,
              "ticks": ""
             }
            },
            "type": "scattermapbox"
           }
          ],
          "scatterpolar": [
           {
            "marker": {
             "colorbar": {
              "outlinewidth": 0,
              "ticks": ""
             }
            },
            "type": "scatterpolar"
           }
          ],
          "scatterpolargl": [
           {
            "marker": {
             "colorbar": {
              "outlinewidth": 0,
              "ticks": ""
             }
            },
            "type": "scatterpolargl"
           }
          ],
          "scatterternary": [
           {
            "marker": {
             "colorbar": {
              "outlinewidth": 0,
              "ticks": ""
             }
            },
            "type": "scatterternary"
           }
          ],
          "surface": [
           {
            "colorbar": {
             "outlinewidth": 0,
             "ticks": ""
            },
            "colorscale": [
             [
              0,
              "#0d0887"
             ],
             [
              0.1111111111111111,
              "#46039f"
             ],
             [
              0.2222222222222222,
              "#7201a8"
             ],
             [
              0.3333333333333333,
              "#9c179e"
             ],
             [
              0.4444444444444444,
              "#bd3786"
             ],
             [
              0.5555555555555556,
              "#d8576b"
             ],
             [
              0.6666666666666666,
              "#ed7953"
             ],
             [
              0.7777777777777778,
              "#fb9f3a"
             ],
             [
              0.8888888888888888,
              "#fdca26"
             ],
             [
              1,
              "#f0f921"
             ]
            ],
            "type": "surface"
           }
          ],
          "table": [
           {
            "cells": {
             "fill": {
              "color": "#EBF0F8"
             },
             "line": {
              "color": "white"
             }
            },
            "header": {
             "fill": {
              "color": "#C8D4E3"
             },
             "line": {
              "color": "white"
             }
            },
            "type": "table"
           }
          ]
         },
         "layout": {
          "annotationdefaults": {
           "arrowcolor": "#2a3f5f",
           "arrowhead": 0,
           "arrowwidth": 1
          },
          "autotypenumbers": "strict",
          "coloraxis": {
           "colorbar": {
            "outlinewidth": 0,
            "ticks": ""
           }
          },
          "colorscale": {
           "diverging": [
            [
             0,
             "#8e0152"
            ],
            [
             0.1,
             "#c51b7d"
            ],
            [
             0.2,
             "#de77ae"
            ],
            [
             0.3,
             "#f1b6da"
            ],
            [
             0.4,
             "#fde0ef"
            ],
            [
             0.5,
             "#f7f7f7"
            ],
            [
             0.6,
             "#e6f5d0"
            ],
            [
             0.7,
             "#b8e186"
            ],
            [
             0.8,
             "#7fbc41"
            ],
            [
             0.9,
             "#4d9221"
            ],
            [
             1,
             "#276419"
            ]
           ],
           "sequential": [
            [
             0,
             "#0d0887"
            ],
            [
             0.1111111111111111,
             "#46039f"
            ],
            [
             0.2222222222222222,
             "#7201a8"
            ],
            [
             0.3333333333333333,
             "#9c179e"
            ],
            [
             0.4444444444444444,
             "#bd3786"
            ],
            [
             0.5555555555555556,
             "#d8576b"
            ],
            [
             0.6666666666666666,
             "#ed7953"
            ],
            [
             0.7777777777777778,
             "#fb9f3a"
            ],
            [
             0.8888888888888888,
             "#fdca26"
            ],
            [
             1,
             "#f0f921"
            ]
           ],
           "sequentialminus": [
            [
             0,
             "#0d0887"
            ],
            [
             0.1111111111111111,
             "#46039f"
            ],
            [
             0.2222222222222222,
             "#7201a8"
            ],
            [
             0.3333333333333333,
             "#9c179e"
            ],
            [
             0.4444444444444444,
             "#bd3786"
            ],
            [
             0.5555555555555556,
             "#d8576b"
            ],
            [
             0.6666666666666666,
             "#ed7953"
            ],
            [
             0.7777777777777778,
             "#fb9f3a"
            ],
            [
             0.8888888888888888,
             "#fdca26"
            ],
            [
             1,
             "#f0f921"
            ]
           ]
          },
          "colorway": [
           "#636efa",
           "#EF553B",
           "#00cc96",
           "#ab63fa",
           "#FFA15A",
           "#19d3f3",
           "#FF6692",
           "#B6E880",
           "#FF97FF",
           "#FECB52"
          ],
          "font": {
           "color": "#2a3f5f"
          },
          "geo": {
           "bgcolor": "white",
           "lakecolor": "white",
           "landcolor": "#E5ECF6",
           "showlakes": true,
           "showland": true,
           "subunitcolor": "white"
          },
          "hoverlabel": {
           "align": "left"
          },
          "hovermode": "closest",
          "mapbox": {
           "style": "light"
          },
          "paper_bgcolor": "white",
          "plot_bgcolor": "#E5ECF6",
          "polar": {
           "angularaxis": {
            "gridcolor": "white",
            "linecolor": "white",
            "ticks": ""
           },
           "bgcolor": "#E5ECF6",
           "radialaxis": {
            "gridcolor": "white",
            "linecolor": "white",
            "ticks": ""
           }
          },
          "scene": {
           "xaxis": {
            "backgroundcolor": "#E5ECF6",
            "gridcolor": "white",
            "gridwidth": 2,
            "linecolor": "white",
            "showbackground": true,
            "ticks": "",
            "zerolinecolor": "white"
           },
           "yaxis": {
            "backgroundcolor": "#E5ECF6",
            "gridcolor": "white",
            "gridwidth": 2,
            "linecolor": "white",
            "showbackground": true,
            "ticks": "",
            "zerolinecolor": "white"
           },
           "zaxis": {
            "backgroundcolor": "#E5ECF6",
            "gridcolor": "white",
            "gridwidth": 2,
            "linecolor": "white",
            "showbackground": true,
            "ticks": "",
            "zerolinecolor": "white"
           }
          },
          "shapedefaults": {
           "line": {
            "color": "#2a3f5f"
           }
          },
          "ternary": {
           "aaxis": {
            "gridcolor": "white",
            "linecolor": "white",
            "ticks": ""
           },
           "baxis": {
            "gridcolor": "white",
            "linecolor": "white",
            "ticks": ""
           },
           "bgcolor": "#E5ECF6",
           "caxis": {
            "gridcolor": "white",
            "linecolor": "white",
            "ticks": ""
           }
          },
          "title": {
           "x": 0.05
          },
          "xaxis": {
           "automargin": true,
           "gridcolor": "white",
           "linecolor": "white",
           "ticks": "",
           "title": {
            "standoff": 15
           },
           "zerolinecolor": "white",
           "zerolinewidth": 2
          },
          "yaxis": {
           "automargin": true,
           "gridcolor": "white",
           "linecolor": "white",
           "ticks": "",
           "title": {
            "standoff": 15
           },
           "zerolinecolor": "white",
           "zerolinewidth": 2
          }
         }
        },
        "title": {
         "text": "Age vs Area Income by Clicked on Ad"
        },
        "xaxis": {
         "anchor": "y",
         "domain": [
          0,
          1
         ],
         "title": {
          "text": "Area Income"
         }
        },
        "yaxis": {
         "anchor": "x",
         "domain": [
          0,
          1
         ],
         "title": {
          "text": "Age"
         }
        }
       }
      }
     },
     "metadata": {},
     "output_type": "display_data"
    }
   ],
   "source": [
    "# How does age and area income affect clicked on ad\n",
    "df['Clicked Label'] = df['Clicked on Ad'].map({0: 'Not Clicked', 1: 'Clicked'})\n",
    "fig = px.scatter(df, x=\"Area Income\", y=\"Age\", color=\"Clicked Label\",\n",
    "                 title=\"Age vs Area Income by Clicked on Ad\",\n",
    "                 color_discrete_sequence=[\"blue\", \"red\"])\n",
    "\n",
    "fig.show()"
   ]
  },
  {
   "cell_type": "markdown",
   "metadata": {},
   "source": [
    "**Finding**: Based on the scatter plot, we observe that users under 50 years old who are located in areas with an average income above $33K tend to not click on the ad. On the other hand, when the area income is below $46K, a clear pattern emerges where most users, regardless of age, tend to click on the ad."
   ]
  },
  {
   "cell_type": "code",
   "execution_count": 217,
   "metadata": {},
   "outputs": [
    {
     "data": {
      "application/vnd.plotly.v1+json": {
       "config": {
        "plotlyServerURL": "https://plot.ly"
       },
       "data": [
        {
         "alignmentgroup": "True",
         "bingroup": "x",
         "hovertemplate": "Daily Time Spent on Site=%{x}<br>count=%{y}<extra></extra>",
         "legendgroup": "",
         "marker": {
          "color": "#636efa",
          "pattern": {
           "shape": ""
          }
         },
         "name": "",
         "nbinsx": 30,
         "offsetgroup": "",
         "orientation": "v",
         "showlegend": false,
         "type": "histogram",
         "x": [
          68.95,
          80.23,
          69.47,
          74.15,
          68.37,
          59.99,
          88.91,
          66,
          74.53,
          69.88,
          47.64,
          83.07,
          69.57,
          79.52,
          42.95,
          63.45,
          55.39,
          82.03,
          54.7,
          74.58,
          77.22,
          84.59,
          41.49,
          87.29,
          41.39,
          68.11,
          48.53,
          51.95,
          70.2,
          76.02,
          67.64,
          86.41,
          59.05,
          55.6,
          57.64,
          84.37,
          62.26,
          65.82,
          50.43,
          68.11,
          84.98,
          64.24,
          82.52,
          81.38,
          80.47,
          37.68,
          69.62,
          85.4,
          44.33,
          48.01,
          73.18,
          79.94,
          33.33,
          50.33,
          62.31,
          80.6,
          65.19,
          44.98,
          77.63,
          41.82,
          85.61,
          85.84,
          72.08,
          68.11,
          45.96,
          62.42,
          63.89,
          35.33,
          75.74,
          78.53,
          46.13,
          69.01,
          55.35,
          33.21,
          38.46,
          64.1,
          49.81,
          82.73,
          56.14,
          55.13,
          78.11,
          73.46,
          56.64,
          68.94,
          70.79,
          57.76,
          77.51,
          52.7,
          57.7,
          56.89,
          69.9,
          55.79,
          70.03,
          50.08,
          43.67,
          72.84,
          45.72,
          39.94,
          35.61,
          79.71,
          41.49,
          63.6,
          89.91,
          68.18,
          66.49,
          80.49,
          72.23,
          42.39,
          47.53,
          74.02,
          68.11,
          63.24,
          71,
          46.13,
          69,
          76.99,
          72.6,
          61.88,
          84.45,
          88.97,
          86.19,
          49.58,
          77.65,
          37.75,
          62.33,
          79.57,
          80.31,
          89.05,
          70.41,
          67.36,
          46.98,
          41.67,
          51.24,
          75.7,
          43.49,
          49.89,
          38.37,
          38.52,
          71.89,
          75.8,
          83.86,
          37.51,
          55.6,
          83.67,
          69.08,
          37.47,
          56.04,
          70.92,
          49.78,
          68.61,
          58.18,
          68.11,
          37,
          65.4,
          79.52,
          87.98,
          44.64,
          41.73,
          80.46,
          75.55,
          76.32,
          82.68,
          72.01,
          75.83,
          41.28,
          34.66,
          66.18,
          86.06,
          59.59,
          86.69,
          43.77,
          71.84,
          80.23,
          74.41,
          63.36,
          71.74,
          60.72,
          72.04,
          44.57,
          85.86,
          39.85,
          84.53,
          62.95,
          67.58,
          85.56,
          46.88,
          46.31,
          77.95,
          84.73,
          39.86,
          50.08,
          60.23,
          60.7,
          43.67,
          77.2,
          71.86,
          44.78,
          78.57,
          73.41,
          77.05,
          66.4,
          69.35,
          35.65,
          70.04,
          69.78,
          58.22,
          76.9,
          84.08,
          59.51,
          40.15,
          76.81,
          41.89,
          76.87,
          67.28,
          81.98,
          66.01,
          61.57,
          53.3,
          34.87,
          43.6,
          77.88,
          75.83,
          49.95,
          60.94,
          89.15,
          78.7,
          57.35,
          34.86,
          70.68,
          76.06,
          66.67,
          46.77,
          62.42,
          78.32,
          37.32,
          40.42,
          76.77,
          65.65,
          74.32,
          73.27,
          80.03,
          53.68,
          85.84,
          85.03,
          70.44,
          81.22,
          39.96,
          57.05,
          42.44,
          62.2,
          76.7,
          61.22,
          84.54,
          46.08,
          56.7,
          81.03,
          68.11,
          40.06,
          83.47,
          73.84,
          74.65,
          60.25,
          59.21,
          43.02,
          84.04,
          70.66,
          70.58,
          72.44,
          40.17,
          79.15,
          44.49,
          73.04,
          76.28,
          68.88,
          73.1,
          47.66,
          87.3,
          89.34,
          81.37,
          81.67,
          46.37,
          54.88,
          40.67,
          71.76,
          47.51,
          75.15,
          56.01,
          82.87,
          45.05,
          60.53,
          50.52,
          84.71,
          55.2,
          81.61,
          71.55,
          82.4,
          73.95,
          72.07,
          80.39,
          65.8,
          69.97,
          52.62,
          39.25,
          77.56,
          33.52,
          79.81,
          84.79,
          82.7,
          84.88,
          54.92,
          76.56,
          69.74,
          75.55,
          72.19,
          84.29,
          73.89,
          75.84,
          73.38,
          80.72,
          62.06,
          51.5,
          90.97,
          86.78,
          66.18,
          84.33,
          36.87,
          34.78,
          76.84,
          67.05,
          41.47,
          80.71,
          80.09,
          56.3,
          79.36,
          86.38,
          38.94,
          87.26,
          75.32,
          74.38,
          65.9,
          36.31,
          72.23,
          88.12,
          83.97,
          61.09,
          65.77,
          81.58,
          37.87,
          76.2,
          60.91,
          74.49,
          73.71,
          78.19,
          79.54,
          74.87,
          87.09,
          37.45,
          49.84,
          51.38,
          83.4,
          38.91,
          62.14,
          79.72,
          73.3,
          68.11,
          71.9,
          72.45,
          77.07,
          74.62,
          82.07,
          58.6,
          36.08,
          79.44,
          41.73,
          73.19,
          77.6,
          89,
          69.2,
          67.56,
          81.11,
          80.22,
          43.63,
          77.66,
          74.63,
          49.67,
          80.59,
          83.49,
          44.46,
          68.1,
          63.88,
          78.83,
          79.97,
          80.51,
          62.26,
          66.99,
          71.05,
          42.05,
          50.52,
          76.24,
          77.29,
          35.98,
          84.95,
          39.34,
          87.23,
          57.24,
          81.58,
          56.34,
          48.73,
          51.68,
          35.34,
          48.09,
          78.68,
          68.82,
          56.99,
          86.63,
          41.18,
          71.03,
          72.92,
          77.14,
          60.7,
          34.3,
          83.71,
          53.38,
          58.03,
          43.59,
          60.07,
          54.43,
          81.99,
          60.53,
          84.69,
          88.72,
          88.89,
          69.58,
          85.23,
          83.55,
          56.66,
          56.39,
          76.24,
          57.64,
          78.18,
          46.04,
          79.4,
          36.44,
          53.14,
          32.84,
          73.72,
          38.1,
          73.93,
          51.87,
          77.69,
          43.41,
          55.92,
          80.67,
          83.42,
          82.12,
          66.17,
          43.01,
          80.05,
          64.88,
          79.82,
          48.03,
          32.99,
          74.88,
          36.49,
          88.04,
          45.7,
          82.38,
          52.68,
          65.59,
          65.65,
          43.84,
          67.69,
          78.37,
          81.46,
          47.48,
          75.15,
          78.76,
          44.96,
          39.56,
          39.76,
          57.11,
          83.26,
          69.42,
          50.6,
          46.2,
          66.88,
          83.97,
          76.56,
          35.49,
          80.29,
          50.19,
          59.12,
          59.88,
          59.7,
          67.8,
          81.59,
          81.1,
          41.7,
          73.94,
          58.35,
          51.56,
          79.81,
          66.17,
          58.21,
          66.12,
          80.47,
          77.05,
          49.99,
          80.3,
          79.36,
          57.86,
          70.29,
          84.53,
          59.13,
          81.51,
          42.94,
          84.81,
          82.79,
          59.22,
          35,
          46.61,
          63.26,
          79.16,
          67.94,
          79.91,
          66.14,
          43.65,
          59.61,
          46.61,
          89.37,
          65.1,
          53.44,
          79.53,
          91.43,
          73.57,
          78.76,
          76.49,
          61.72,
          84.53,
          72.03,
          77.47,
          75.65,
          78.15,
          63.8,
          76.59,
          42.6,
          78.77,
          83.4,
          79.53,
          73.89,
          75.8,
          81.95,
          56.39,
          44.73,
          38.35,
          72.53,
          56.2,
          79.67,
          75.42,
          78.64,
          67.69,
          38.35,
          59.52,
          62.26,
          64.75,
          79.97,
          47.9,
          80.38,
          64.51,
          71.28,
          50.32,
          72.76,
          72.8,
          74.59,
          46.66,
          48.86,
          37.05,
          81.21,
          66.89,
          68.11,
          69.15,
          65.72,
          40.04,
          68.6,
          56.16,
          78.6,
          78.29,
          43.83,
          77.31,
          39.86,
          66.77,
          57.2,
          73.15,
          82.07,
          49.84,
          43.97,
          77.25,
          74.84,
          83.53,
          38.63,
          84,
          52.13,
          71.83,
          78.36,
          50.18,
          64.67,
          69.5,
          65.22,
          62.06,
          84.29,
          32.91,
          39.5,
          75.19,
          76.21,
          67.76,
          40.01,
          52.7,
          68.41,
          35.55,
          74.54,
          81.75,
          87.85,
          60.23,
          87.97,
          78.17,
          67.91,
          85.77,
          41.16,
          53.54,
          73.94,
          63.43,
          84.59,
          70.13,
          40.19,
          58.95,
          35.76,
          59.36,
          91.1,
          61.04,
          74.06,
          64.63,
          81.29,
          76.07,
          75.92,
          78.35,
          46.14,
          44.33,
          46.43,
          66.04,
          84.31,
          83.66,
          81.25,
          85.26,
          86.53,
          68.11,
          52.84,
          85.24,
          74.71,
          82.95,
          76.42,
          42.04,
          46.28,
          48.26,
          71.03,
          81.37,
          58.05,
          75,
          79.61,
          52.56,
          62.18,
          77.89,
          66.08,
          89.21,
          49.96,
          77.44,
          82.58,
          39.36,
          47.23,
          87.85,
          65.57,
          78.01,
          44.15,
          43.57,
          76.83,
          42.06,
          76.27,
          74.27,
          73.27,
          74.58,
          77.5,
          87.16,
          87.16,
          66.26,
          65.15,
          68.25,
          73.49,
          39.19,
          80.15,
          68.11,
          73.88,
          58.6,
          69.77,
          87.27,
          77.65,
          76.02,
          78.84,
          71.33,
          81.9,
          46.89,
          77.8,
          45.44,
          69.96,
          87.35,
          49.42,
          71.27,
          49.19,
          39.96,
          85.01,
          68.95,
          67.59,
          75.71,
          43.07,
          39.47,
          48.22,
          76.76,
          78.74,
          67.47,
          81.17,
          89.66,
          79.6,
          65.53,
          61.87,
          83.16,
          44.11,
          56.57,
          83.91,
          79.8,
          71.23,
          47.23,
          82.37,
          43.63,
          70.9,
          71.9,
          68.11,
          67.35,
          57.99,
          66.8,
          49.13,
          45.11,
          54.35,
          61.82,
          77.75,
          70.61,
          82.72,
          76.87,
          65.07,
          56.93,
          48.86,
          36.56,
          85.73,
          75.81,
          72.94,
          53.63,
          52.35,
          52.84,
          51.58,
          42.32,
          55.04,
          68.58,
          85.54,
          71.14,
          64.38,
          88.85,
          66.79,
          32.6,
          43.88,
          56.46,
          72.18,
          52.67,
          80.55,
          67.85,
          75.55,
          80.46,
          82.69,
          35.21,
          36.37,
          74.07,
          59.96,
          85.62,
          40.88,
          36.98,
          35.49,
          56.56,
          36.62,
          49.35,
          75.64,
          79.22,
          77.05,
          66.83,
          76.2,
          56.64,
          53.33,
          50.63,
          41.84,
          53.92,
          83.89,
          55.32,
          53.22,
          43.16,
          67.51,
          43.16,
          79.89,
          84.25,
          74.18,
          85.78,
          80.96,
          36.91,
          54.47,
          81.98,
          79.6,
          57.51,
          82.3,
          73.21,
          79.09,
          68.47,
          83.69,
          83.48,
          43.49,
          66.69,
          48.46,
          42.51,
          42.83,
          41.46,
          45.99,
          68.72,
          63.11,
          49.21,
          55.77,
          44.13,
          57.82,
          72.46,
          61.88,
          78.24,
          74.61,
          89.18,
          44.16,
          55.74,
          88.82,
          70.39,
          59.05,
          78.58,
          35.11,
          60.39,
          81.56,
          75.03,
          50.87,
          82.8,
          78.51,
          37.65,
          83.17,
          91.37,
          68.25,
          81.32,
          76.64,
          74.06,
          39.53,
          86.58,
          90.75,
          67.71,
          82.41,
          45.82,
          76.79,
          70.05,
          72.19,
          77.35,
          40.34,
          67.39,
          68.68,
          81.75,
          66.03,
          68.11,
          79.18,
          86.81,
          41.53,
          70.92,
          46.84,
          44.4,
          52.17,
          81.45,
          54.08,
          76.65,
          54.39,
          37.74,
          69.86,
          85.37,
          80.99,
          78.84,
          77.36,
          55.46,
          35.66,
          50.78,
          40.47,
          45.62,
          84.76,
          80.64,
          75.94,
          37.01,
          87.18,
          56.91,
          75.24,
          42.84,
          67.56,
          34.96,
          87.46,
          41.86,
          34.04,
          54.96,
          87.14,
          78.79,
          65.56,
          81.05,
          55.71,
          45.48,
          47,
          59.64,
          35.98,
          72.55,
          68.11,
          80.53,
          82.49,
          80.94,
          61.76,
          63.3,
          36.73,
          78.41,
          83.98,
          63.18,
          50.6,
          32.6,
          60.83,
          44.72,
          78.76,
          79.51,
          39.3,
          64.79,
          89.8,
          72.82,
          38.65,
          59.01,
          78.96,
          63.99,
          41.35,
          62.79,
          45.53,
          51.65,
          54.55,
          35.66,
          69.95,
          79.83,
          85.35,
          56.78,
          78.67,
          70.09,
          60.75,
          65.07,
          35.25,
          37.58,
          68.01,
          45.08,
          63.04,
          40.18,
          45.17,
          50.48,
          80.87,
          41.88,
          39.87,
          61.84,
          54.97,
          71.4,
          70.29,
          67.26,
          76.58,
          54.37,
          82.79,
          66.47,
          72.88,
          76.44,
          63.37,
          89.71,
          70.96,
          35.79,
          38.96,
          69.17,
          64.2,
          43.7,
          72.97,
          51.3,
          68.11,
          55.55,
          45.01
         ],
         "xaxis": "x",
         "yaxis": "y"
        }
       ],
       "layout": {
        "barmode": "relative",
        "legend": {
         "tracegroupgap": 0
        },
        "template": {
         "data": {
          "bar": [
           {
            "error_x": {
             "color": "#2a3f5f"
            },
            "error_y": {
             "color": "#2a3f5f"
            },
            "marker": {
             "line": {
              "color": "#E5ECF6",
              "width": 0.5
             },
             "pattern": {
              "fillmode": "overlay",
              "size": 10,
              "solidity": 0.2
             }
            },
            "type": "bar"
           }
          ],
          "barpolar": [
           {
            "marker": {
             "line": {
              "color": "#E5ECF6",
              "width": 0.5
             },
             "pattern": {
              "fillmode": "overlay",
              "size": 10,
              "solidity": 0.2
             }
            },
            "type": "barpolar"
           }
          ],
          "carpet": [
           {
            "aaxis": {
             "endlinecolor": "#2a3f5f",
             "gridcolor": "white",
             "linecolor": "white",
             "minorgridcolor": "white",
             "startlinecolor": "#2a3f5f"
            },
            "baxis": {
             "endlinecolor": "#2a3f5f",
             "gridcolor": "white",
             "linecolor": "white",
             "minorgridcolor": "white",
             "startlinecolor": "#2a3f5f"
            },
            "type": "carpet"
           }
          ],
          "choropleth": [
           {
            "colorbar": {
             "outlinewidth": 0,
             "ticks": ""
            },
            "type": "choropleth"
           }
          ],
          "contour": [
           {
            "colorbar": {
             "outlinewidth": 0,
             "ticks": ""
            },
            "colorscale": [
             [
              0,
              "#0d0887"
             ],
             [
              0.1111111111111111,
              "#46039f"
             ],
             [
              0.2222222222222222,
              "#7201a8"
             ],
             [
              0.3333333333333333,
              "#9c179e"
             ],
             [
              0.4444444444444444,
              "#bd3786"
             ],
             [
              0.5555555555555556,
              "#d8576b"
             ],
             [
              0.6666666666666666,
              "#ed7953"
             ],
             [
              0.7777777777777778,
              "#fb9f3a"
             ],
             [
              0.8888888888888888,
              "#fdca26"
             ],
             [
              1,
              "#f0f921"
             ]
            ],
            "type": "contour"
           }
          ],
          "contourcarpet": [
           {
            "colorbar": {
             "outlinewidth": 0,
             "ticks": ""
            },
            "type": "contourcarpet"
           }
          ],
          "heatmap": [
           {
            "colorbar": {
             "outlinewidth": 0,
             "ticks": ""
            },
            "colorscale": [
             [
              0,
              "#0d0887"
             ],
             [
              0.1111111111111111,
              "#46039f"
             ],
             [
              0.2222222222222222,
              "#7201a8"
             ],
             [
              0.3333333333333333,
              "#9c179e"
             ],
             [
              0.4444444444444444,
              "#bd3786"
             ],
             [
              0.5555555555555556,
              "#d8576b"
             ],
             [
              0.6666666666666666,
              "#ed7953"
             ],
             [
              0.7777777777777778,
              "#fb9f3a"
             ],
             [
              0.8888888888888888,
              "#fdca26"
             ],
             [
              1,
              "#f0f921"
             ]
            ],
            "type": "heatmap"
           }
          ],
          "heatmapgl": [
           {
            "colorbar": {
             "outlinewidth": 0,
             "ticks": ""
            },
            "colorscale": [
             [
              0,
              "#0d0887"
             ],
             [
              0.1111111111111111,
              "#46039f"
             ],
             [
              0.2222222222222222,
              "#7201a8"
             ],
             [
              0.3333333333333333,
              "#9c179e"
             ],
             [
              0.4444444444444444,
              "#bd3786"
             ],
             [
              0.5555555555555556,
              "#d8576b"
             ],
             [
              0.6666666666666666,
              "#ed7953"
             ],
             [
              0.7777777777777778,
              "#fb9f3a"
             ],
             [
              0.8888888888888888,
              "#fdca26"
             ],
             [
              1,
              "#f0f921"
             ]
            ],
            "type": "heatmapgl"
           }
          ],
          "histogram": [
           {
            "marker": {
             "pattern": {
              "fillmode": "overlay",
              "size": 10,
              "solidity": 0.2
             }
            },
            "type": "histogram"
           }
          ],
          "histogram2d": [
           {
            "colorbar": {
             "outlinewidth": 0,
             "ticks": ""
            },
            "colorscale": [
             [
              0,
              "#0d0887"
             ],
             [
              0.1111111111111111,
              "#46039f"
             ],
             [
              0.2222222222222222,
              "#7201a8"
             ],
             [
              0.3333333333333333,
              "#9c179e"
             ],
             [
              0.4444444444444444,
              "#bd3786"
             ],
             [
              0.5555555555555556,
              "#d8576b"
             ],
             [
              0.6666666666666666,
              "#ed7953"
             ],
             [
              0.7777777777777778,
              "#fb9f3a"
             ],
             [
              0.8888888888888888,
              "#fdca26"
             ],
             [
              1,
              "#f0f921"
             ]
            ],
            "type": "histogram2d"
           }
          ],
          "histogram2dcontour": [
           {
            "colorbar": {
             "outlinewidth": 0,
             "ticks": ""
            },
            "colorscale": [
             [
              0,
              "#0d0887"
             ],
             [
              0.1111111111111111,
              "#46039f"
             ],
             [
              0.2222222222222222,
              "#7201a8"
             ],
             [
              0.3333333333333333,
              "#9c179e"
             ],
             [
              0.4444444444444444,
              "#bd3786"
             ],
             [
              0.5555555555555556,
              "#d8576b"
             ],
             [
              0.6666666666666666,
              "#ed7953"
             ],
             [
              0.7777777777777778,
              "#fb9f3a"
             ],
             [
              0.8888888888888888,
              "#fdca26"
             ],
             [
              1,
              "#f0f921"
             ]
            ],
            "type": "histogram2dcontour"
           }
          ],
          "mesh3d": [
           {
            "colorbar": {
             "outlinewidth": 0,
             "ticks": ""
            },
            "type": "mesh3d"
           }
          ],
          "parcoords": [
           {
            "line": {
             "colorbar": {
              "outlinewidth": 0,
              "ticks": ""
             }
            },
            "type": "parcoords"
           }
          ],
          "pie": [
           {
            "automargin": true,
            "type": "pie"
           }
          ],
          "scatter": [
           {
            "fillpattern": {
             "fillmode": "overlay",
             "size": 10,
             "solidity": 0.2
            },
            "type": "scatter"
           }
          ],
          "scatter3d": [
           {
            "line": {
             "colorbar": {
              "outlinewidth": 0,
              "ticks": ""
             }
            },
            "marker": {
             "colorbar": {
              "outlinewidth": 0,
              "ticks": ""
             }
            },
            "type": "scatter3d"
           }
          ],
          "scattercarpet": [
           {
            "marker": {
             "colorbar": {
              "outlinewidth": 0,
              "ticks": ""
             }
            },
            "type": "scattercarpet"
           }
          ],
          "scattergeo": [
           {
            "marker": {
             "colorbar": {
              "outlinewidth": 0,
              "ticks": ""
             }
            },
            "type": "scattergeo"
           }
          ],
          "scattergl": [
           {
            "marker": {
             "colorbar": {
              "outlinewidth": 0,
              "ticks": ""
             }
            },
            "type": "scattergl"
           }
          ],
          "scattermapbox": [
           {
            "marker": {
             "colorbar": {
              "outlinewidth": 0,
              "ticks": ""
             }
            },
            "type": "scattermapbox"
           }
          ],
          "scatterpolar": [
           {
            "marker": {
             "colorbar": {
              "outlinewidth": 0,
              "ticks": ""
             }
            },
            "type": "scatterpolar"
           }
          ],
          "scatterpolargl": [
           {
            "marker": {
             "colorbar": {
              "outlinewidth": 0,
              "ticks": ""
             }
            },
            "type": "scatterpolargl"
           }
          ],
          "scatterternary": [
           {
            "marker": {
             "colorbar": {
              "outlinewidth": 0,
              "ticks": ""
             }
            },
            "type": "scatterternary"
           }
          ],
          "surface": [
           {
            "colorbar": {
             "outlinewidth": 0,
             "ticks": ""
            },
            "colorscale": [
             [
              0,
              "#0d0887"
             ],
             [
              0.1111111111111111,
              "#46039f"
             ],
             [
              0.2222222222222222,
              "#7201a8"
             ],
             [
              0.3333333333333333,
              "#9c179e"
             ],
             [
              0.4444444444444444,
              "#bd3786"
             ],
             [
              0.5555555555555556,
              "#d8576b"
             ],
             [
              0.6666666666666666,
              "#ed7953"
             ],
             [
              0.7777777777777778,
              "#fb9f3a"
             ],
             [
              0.8888888888888888,
              "#fdca26"
             ],
             [
              1,
              "#f0f921"
             ]
            ],
            "type": "surface"
           }
          ],
          "table": [
           {
            "cells": {
             "fill": {
              "color": "#EBF0F8"
             },
             "line": {
              "color": "white"
             }
            },
            "header": {
             "fill": {
              "color": "#C8D4E3"
             },
             "line": {
              "color": "white"
             }
            },
            "type": "table"
           }
          ]
         },
         "layout": {
          "annotationdefaults": {
           "arrowcolor": "#2a3f5f",
           "arrowhead": 0,
           "arrowwidth": 1
          },
          "autotypenumbers": "strict",
          "coloraxis": {
           "colorbar": {
            "outlinewidth": 0,
            "ticks": ""
           }
          },
          "colorscale": {
           "diverging": [
            [
             0,
             "#8e0152"
            ],
            [
             0.1,
             "#c51b7d"
            ],
            [
             0.2,
             "#de77ae"
            ],
            [
             0.3,
             "#f1b6da"
            ],
            [
             0.4,
             "#fde0ef"
            ],
            [
             0.5,
             "#f7f7f7"
            ],
            [
             0.6,
             "#e6f5d0"
            ],
            [
             0.7,
             "#b8e186"
            ],
            [
             0.8,
             "#7fbc41"
            ],
            [
             0.9,
             "#4d9221"
            ],
            [
             1,
             "#276419"
            ]
           ],
           "sequential": [
            [
             0,
             "#0d0887"
            ],
            [
             0.1111111111111111,
             "#46039f"
            ],
            [
             0.2222222222222222,
             "#7201a8"
            ],
            [
             0.3333333333333333,
             "#9c179e"
            ],
            [
             0.4444444444444444,
             "#bd3786"
            ],
            [
             0.5555555555555556,
             "#d8576b"
            ],
            [
             0.6666666666666666,
             "#ed7953"
            ],
            [
             0.7777777777777778,
             "#fb9f3a"
            ],
            [
             0.8888888888888888,
             "#fdca26"
            ],
            [
             1,
             "#f0f921"
            ]
           ],
           "sequentialminus": [
            [
             0,
             "#0d0887"
            ],
            [
             0.1111111111111111,
             "#46039f"
            ],
            [
             0.2222222222222222,
             "#7201a8"
            ],
            [
             0.3333333333333333,
             "#9c179e"
            ],
            [
             0.4444444444444444,
             "#bd3786"
            ],
            [
             0.5555555555555556,
             "#d8576b"
            ],
            [
             0.6666666666666666,
             "#ed7953"
            ],
            [
             0.7777777777777778,
             "#fb9f3a"
            ],
            [
             0.8888888888888888,
             "#fdca26"
            ],
            [
             1,
             "#f0f921"
            ]
           ]
          },
          "colorway": [
           "#636efa",
           "#EF553B",
           "#00cc96",
           "#ab63fa",
           "#FFA15A",
           "#19d3f3",
           "#FF6692",
           "#B6E880",
           "#FF97FF",
           "#FECB52"
          ],
          "font": {
           "color": "#2a3f5f"
          },
          "geo": {
           "bgcolor": "white",
           "lakecolor": "white",
           "landcolor": "#E5ECF6",
           "showlakes": true,
           "showland": true,
           "subunitcolor": "white"
          },
          "hoverlabel": {
           "align": "left"
          },
          "hovermode": "closest",
          "mapbox": {
           "style": "light"
          },
          "paper_bgcolor": "white",
          "plot_bgcolor": "#E5ECF6",
          "polar": {
           "angularaxis": {
            "gridcolor": "white",
            "linecolor": "white",
            "ticks": ""
           },
           "bgcolor": "#E5ECF6",
           "radialaxis": {
            "gridcolor": "white",
            "linecolor": "white",
            "ticks": ""
           }
          },
          "scene": {
           "xaxis": {
            "backgroundcolor": "#E5ECF6",
            "gridcolor": "white",
            "gridwidth": 2,
            "linecolor": "white",
            "showbackground": true,
            "ticks": "",
            "zerolinecolor": "white"
           },
           "yaxis": {
            "backgroundcolor": "#E5ECF6",
            "gridcolor": "white",
            "gridwidth": 2,
            "linecolor": "white",
            "showbackground": true,
            "ticks": "",
            "zerolinecolor": "white"
           },
           "zaxis": {
            "backgroundcolor": "#E5ECF6",
            "gridcolor": "white",
            "gridwidth": 2,
            "linecolor": "white",
            "showbackground": true,
            "ticks": "",
            "zerolinecolor": "white"
           }
          },
          "shapedefaults": {
           "line": {
            "color": "#2a3f5f"
           }
          },
          "ternary": {
           "aaxis": {
            "gridcolor": "white",
            "linecolor": "white",
            "ticks": ""
           },
           "baxis": {
            "gridcolor": "white",
            "linecolor": "white",
            "ticks": ""
           },
           "bgcolor": "#E5ECF6",
           "caxis": {
            "gridcolor": "white",
            "linecolor": "white",
            "ticks": ""
           }
          },
          "title": {
           "x": 0.05
          },
          "xaxis": {
           "automargin": true,
           "gridcolor": "white",
           "linecolor": "white",
           "ticks": "",
           "title": {
            "standoff": 15
           },
           "zerolinecolor": "white",
           "zerolinewidth": 2
          },
          "yaxis": {
           "automargin": true,
           "gridcolor": "white",
           "linecolor": "white",
           "ticks": "",
           "title": {
            "standoff": 15
           },
           "zerolinecolor": "white",
           "zerolinewidth": 2
          }
         }
        },
        "title": {
         "text": "Distribution of Daily Time Spent on Site"
        },
        "xaxis": {
         "anchor": "y",
         "domain": [
          0,
          1
         ],
         "title": {
          "text": "Daily Time Spent on Site"
         }
        },
        "yaxis": {
         "anchor": "x",
         "domain": [
          0,
          1
         ],
         "title": {
          "text": "count"
         }
        }
       }
      }
     },
     "metadata": {},
     "output_type": "display_data"
    }
   ],
   "source": [
    "# Check the distribution of daily time spent on site\n",
    "fig = px.histogram(df, x=\"Daily Time Spent on Site\", nbins=30, title=\"Distribution of Daily Time Spent on Site\")\n",
    "fig.show()"
   ]
  },
  {
   "cell_type": "code",
   "execution_count": 219,
   "metadata": {},
   "outputs": [
    {
     "data": {
      "application/vnd.plotly.v1+json": {
       "config": {
        "plotlyServerURL": "https://plot.ly"
       },
       "data": [
        {
         "alignmentgroup": "True",
         "boxpoints": "all",
         "hovertemplate": "Clicked on Ad=%{x}<br>Daily Time Spent on Site=%{y}<extra></extra>",
         "legendgroup": "0",
         "marker": {
          "color": "#636efa"
         },
         "name": "Not Clicked",
         "notched": false,
         "offsetgroup": "0",
         "orientation": "v",
         "showlegend": true,
         "type": "box",
         "x": [
          0,
          0,
          0,
          0,
          0,
          0,
          0,
          0,
          0,
          0,
          0,
          0,
          0,
          0,
          0,
          0,
          0,
          0,
          0,
          0,
          0,
          0,
          0,
          0,
          0,
          0,
          0,
          0,
          0,
          0,
          0,
          0,
          0,
          0,
          0,
          0,
          0,
          0,
          0,
          0,
          0,
          0,
          0,
          0,
          0,
          0,
          0,
          0,
          0,
          0,
          0,
          0,
          0,
          0,
          0,
          0,
          0,
          0,
          0,
          0,
          0,
          0,
          0,
          0,
          0,
          0,
          0,
          0,
          0,
          0,
          0,
          0,
          0,
          0,
          0,
          0,
          0,
          0,
          0,
          0,
          0,
          0,
          0,
          0,
          0,
          0,
          0,
          0,
          0,
          0,
          0,
          0,
          0,
          0,
          0,
          0,
          0,
          0,
          0,
          0,
          0,
          0,
          0,
          0,
          0,
          0,
          0,
          0,
          0,
          0,
          0,
          0,
          0,
          0,
          0,
          0,
          0,
          0,
          0,
          0,
          0,
          0,
          0,
          0,
          0,
          0,
          0,
          0,
          0,
          0,
          0,
          0,
          0,
          0,
          0,
          0,
          0,
          0,
          0,
          0,
          0,
          0,
          0,
          0,
          0,
          0,
          0,
          0,
          0,
          0,
          0,
          0,
          0,
          0,
          0,
          0,
          0,
          0,
          0,
          0,
          0,
          0,
          0,
          0,
          0,
          0,
          0,
          0,
          0,
          0,
          0,
          0,
          0,
          0,
          0,
          0,
          0,
          0,
          0,
          0,
          0,
          0,
          0,
          0,
          0,
          0,
          0,
          0,
          0,
          0,
          0,
          0,
          0,
          0,
          0,
          0,
          0,
          0,
          0,
          0,
          0,
          0,
          0,
          0,
          0,
          0,
          0,
          0,
          0,
          0,
          0,
          0,
          0,
          0,
          0,
          0,
          0,
          0,
          0,
          0,
          0,
          0,
          0,
          0,
          0,
          0,
          0,
          0,
          0,
          0,
          0,
          0,
          0,
          0,
          0,
          0,
          0,
          0,
          0,
          0,
          0,
          0,
          0,
          0,
          0,
          0,
          0,
          0,
          0,
          0,
          0,
          0,
          0,
          0,
          0,
          0,
          0,
          0,
          0,
          0,
          0,
          0,
          0,
          0,
          0,
          0,
          0,
          0,
          0,
          0,
          0,
          0,
          0,
          0,
          0,
          0,
          0,
          0,
          0,
          0,
          0,
          0,
          0,
          0,
          0,
          0,
          0,
          0,
          0,
          0,
          0,
          0,
          0,
          0,
          0,
          0,
          0,
          0,
          0,
          0,
          0,
          0,
          0,
          0,
          0,
          0,
          0,
          0,
          0,
          0,
          0,
          0,
          0,
          0,
          0,
          0,
          0,
          0,
          0,
          0,
          0,
          0,
          0,
          0,
          0,
          0,
          0,
          0,
          0,
          0,
          0,
          0,
          0,
          0,
          0,
          0,
          0,
          0,
          0,
          0,
          0,
          0,
          0,
          0,
          0,
          0,
          0,
          0,
          0,
          0,
          0,
          0,
          0,
          0,
          0,
          0,
          0,
          0,
          0,
          0,
          0,
          0,
          0,
          0,
          0,
          0,
          0,
          0,
          0,
          0,
          0,
          0,
          0,
          0,
          0,
          0,
          0,
          0,
          0,
          0,
          0,
          0,
          0,
          0,
          0,
          0,
          0,
          0,
          0,
          0,
          0,
          0,
          0,
          0,
          0,
          0,
          0,
          0,
          0,
          0,
          0,
          0,
          0,
          0,
          0,
          0,
          0,
          0,
          0,
          0,
          0,
          0,
          0,
          0,
          0,
          0,
          0,
          0,
          0,
          0,
          0,
          0,
          0,
          0,
          0,
          0,
          0,
          0,
          0,
          0,
          0,
          0,
          0,
          0,
          0,
          0,
          0,
          0,
          0,
          0,
          0,
          0,
          0,
          0,
          0,
          0,
          0,
          0,
          0,
          0,
          0,
          0,
          0,
          0,
          0,
          0,
          0,
          0,
          0,
          0,
          0,
          0,
          0,
          0,
          0,
          0,
          0,
          0,
          0,
          0,
          0,
          0,
          0,
          0,
          0,
          0,
          0,
          0,
          0,
          0,
          0,
          0,
          0,
          0,
          0,
          0,
          0,
          0,
          0,
          0,
          0,
          0,
          0,
          0,
          0,
          0,
          0,
          0,
          0,
          0
         ],
         "x0": " ",
         "xaxis": "x",
         "y": [
          68.95,
          80.23,
          69.47,
          74.15,
          68.37,
          59.99,
          88.91,
          74.53,
          69.88,
          83.07,
          79.52,
          82.03,
          77.22,
          84.59,
          87.29,
          68.11,
          76.02,
          67.64,
          86.41,
          84.37,
          65.82,
          84.98,
          64.24,
          82.52,
          81.38,
          80.47,
          69.62,
          85.4,
          73.18,
          79.94,
          80.6,
          77.63,
          85.61,
          85.84,
          72.08,
          68.11,
          62.42,
          75.74,
          69.01,
          64.1,
          82.73,
          78.11,
          73.46,
          70.79,
          77.51,
          70.03,
          72.84,
          79.71,
          63.6,
          89.91,
          68.18,
          66.49,
          80.49,
          72.23,
          74.02,
          71,
          69,
          76.99,
          86.19,
          49.58,
          77.65,
          79.57,
          89.05,
          70.41,
          67.36,
          75.7,
          71.89,
          75.8,
          83.86,
          83.67,
          69.08,
          58.18,
          68.11,
          65.4,
          79.52,
          87.98,
          80.46,
          76.32,
          82.68,
          72.01,
          75.83,
          86.06,
          86.69,
          71.84,
          80.23,
          74.41,
          71.74,
          72.04,
          85.86,
          67.58,
          85.56,
          77.95,
          77.2,
          78.57,
          73.41,
          77.05,
          66.4,
          69.35,
          70.04,
          69.78,
          76.9,
          84.08,
          76.81,
          76.87,
          81.98,
          77.88,
          75.83,
          89.15,
          70.68,
          76.06,
          66.67,
          65.65,
          73.27,
          85.84,
          85.03,
          70.44,
          81.22,
          76.7,
          84.54,
          81.03,
          68.11,
          83.47,
          74.65,
          84.04,
          72.44,
          79.15,
          73.04,
          76.28,
          68.88,
          73.1,
          87.3,
          89.34,
          81.37,
          81.67,
          71.76,
          75.15,
          82.87,
          84.71,
          81.61,
          71.55,
          82.4,
          73.95,
          72.07,
          80.39,
          65.8,
          69.97,
          84.79,
          82.7,
          84.88,
          76.56,
          69.74,
          72.19,
          84.29,
          75.84,
          73.38,
          80.72,
          90.97,
          86.78,
          66.18,
          84.33,
          76.84,
          67.05,
          80.71,
          80.09,
          79.36,
          86.38,
          87.26,
          75.32,
          74.38,
          65.9,
          88.12,
          83.97,
          65.77,
          81.58,
          76.2,
          74.49,
          73.71,
          78.19,
          79.54,
          87.09,
          83.4,
          79.72,
          68.11,
          72.45,
          77.07,
          74.62,
          82.07,
          79.44,
          73.19,
          77.6,
          89,
          81.11,
          80.22,
          77.66,
          74.63,
          80.59,
          83.49,
          68.1,
          78.83,
          79.97,
          80.51,
          62.26,
          71.05,
          76.24,
          77.29,
          84.95,
          87.23,
          81.58,
          78.68,
          68.82,
          86.63,
          72.92,
          77.14,
          60.7,
          83.71,
          81.99,
          84.69,
          88.72,
          88.89,
          85.23,
          83.55,
          56.39,
          76.24,
          78.18,
          79.4,
          73.72,
          73.93,
          77.69,
          80.67,
          83.42,
          66.17,
          80.05,
          79.82,
          74.88,
          88.04,
          65.65,
          67.69,
          78.37,
          81.46,
          75.15,
          78.76,
          57.11,
          83.26,
          69.42,
          83.97,
          76.56,
          80.29,
          59.88,
          81.59,
          81.1,
          73.94,
          79.81,
          66.17,
          80.47,
          77.05,
          79.36,
          70.29,
          84.53,
          81.51,
          84.81,
          79.16,
          79.91,
          66.14,
          59.61,
          89.37,
          79.53,
          91.43,
          73.57,
          78.76,
          76.49,
          61.72,
          84.53,
          72.03,
          77.47,
          75.65,
          78.15,
          76.59,
          78.77,
          83.4,
          79.53,
          73.89,
          75.8,
          81.95,
          72.53,
          79.67,
          75.42,
          78.64,
          59.52,
          62.26,
          79.97,
          80.38,
          64.51,
          71.28,
          72.76,
          72.8,
          81.21,
          66.89,
          68.11,
          78.6,
          78.29,
          77.31,
          73.15,
          82.07,
          77.25,
          74.84,
          83.53,
          78.36,
          69.5,
          65.22,
          75.19,
          76.21,
          67.76,
          68.41,
          74.54,
          81.75,
          87.85,
          87.97,
          78.17,
          85.77,
          73.94,
          63.43,
          84.59,
          70.13,
          91.1,
          74.06,
          81.29,
          76.07,
          75.92,
          78.35,
          66.04,
          84.31,
          83.66,
          81.25,
          85.26,
          86.53,
          68.11,
          85.24,
          74.71,
          82.95,
          76.42,
          81.37,
          75,
          79.61,
          77.89,
          89.21,
          77.44,
          82.58,
          87.85,
          78.01,
          76.83,
          76.27,
          74.27,
          73.27,
          74.58,
          77.5,
          87.16,
          87.16,
          68.25,
          73.49,
          80.15,
          68.11,
          73.88,
          58.6,
          77.65,
          76.02,
          78.84,
          81.9,
          69.96,
          87.35,
          71.27,
          85.01,
          68.95,
          75.71,
          48.22,
          76.76,
          78.74,
          67.47,
          81.17,
          89.66,
          79.6,
          65.53,
          61.87,
          83.16,
          83.91,
          79.8,
          82.37,
          70.9,
          71.9,
          54.35,
          77.75,
          70.61,
          82.72,
          76.87,
          65.07,
          75.81,
          72.94,
          85.54,
          71.14,
          64.38,
          88.85,
          72.18,
          80.55,
          80.46,
          82.69,
          74.07,
          85.62,
          56.56,
          75.64,
          79.22,
          77.05,
          66.83,
          76.2,
          83.89,
          79.89,
          84.25,
          74.18,
          85.78,
          80.96,
          81.98,
          79.6,
          82.3,
          79.09,
          68.47,
          83.69,
          83.48,
          68.72,
          63.11,
          78.24,
          74.61,
          89.18,
          88.82,
          70.39,
          78.58,
          81.56,
          82.8,
          78.51,
          83.17,
          68.25,
          81.32,
          76.64,
          74.06,
          86.58,
          90.75,
          67.71,
          82.41,
          76.79,
          70.05,
          72.19,
          77.35,
          68.68,
          81.75,
          66.03,
          79.18,
          86.81,
          70.92,
          81.45,
          76.65,
          69.86,
          85.37,
          80.99,
          78.84,
          84.76,
          80.64,
          75.94,
          87.18,
          75.24,
          87.46,
          87.14,
          78.79,
          65.56,
          81.05,
          72.55,
          68.11,
          80.53,
          80.94,
          78.41,
          83.98,
          60.83,
          89.8,
          72.82,
          51.65,
          69.95,
          79.83,
          85.35,
          78.67,
          70.09,
          60.75,
          65.07,
          68.01,
          80.87,
          71.4,
          70.29,
          76.58,
          82.79,
          66.47,
          76.44,
          89.71,
          70.96,
          64.2,
          55.55
         ],
         "y0": " ",
         "yaxis": "y"
        },
        {
         "alignmentgroup": "True",
         "boxpoints": "all",
         "hovertemplate": "Clicked on Ad=%{x}<br>Daily Time Spent on Site=%{y}<extra></extra>",
         "legendgroup": "1",
         "marker": {
          "color": "#EF553B"
         },
         "name": "Clicked",
         "notched": false,
         "offsetgroup": "1",
         "orientation": "v",
         "showlegend": true,
         "type": "box",
         "x": [
          1,
          1,
          1,
          1,
          1,
          1,
          1,
          1,
          1,
          1,
          1,
          1,
          1,
          1,
          1,
          1,
          1,
          1,
          1,
          1,
          1,
          1,
          1,
          1,
          1,
          1,
          1,
          1,
          1,
          1,
          1,
          1,
          1,
          1,
          1,
          1,
          1,
          1,
          1,
          1,
          1,
          1,
          1,
          1,
          1,
          1,
          1,
          1,
          1,
          1,
          1,
          1,
          1,
          1,
          1,
          1,
          1,
          1,
          1,
          1,
          1,
          1,
          1,
          1,
          1,
          1,
          1,
          1,
          1,
          1,
          1,
          1,
          1,
          1,
          1,
          1,
          1,
          1,
          1,
          1,
          1,
          1,
          1,
          1,
          1,
          1,
          1,
          1,
          1,
          1,
          1,
          1,
          1,
          1,
          1,
          1,
          1,
          1,
          1,
          1,
          1,
          1,
          1,
          1,
          1,
          1,
          1,
          1,
          1,
          1,
          1,
          1,
          1,
          1,
          1,
          1,
          1,
          1,
          1,
          1,
          1,
          1,
          1,
          1,
          1,
          1,
          1,
          1,
          1,
          1,
          1,
          1,
          1,
          1,
          1,
          1,
          1,
          1,
          1,
          1,
          1,
          1,
          1,
          1,
          1,
          1,
          1,
          1,
          1,
          1,
          1,
          1,
          1,
          1,
          1,
          1,
          1,
          1,
          1,
          1,
          1,
          1,
          1,
          1,
          1,
          1,
          1,
          1,
          1,
          1,
          1,
          1,
          1,
          1,
          1,
          1,
          1,
          1,
          1,
          1,
          1,
          1,
          1,
          1,
          1,
          1,
          1,
          1,
          1,
          1,
          1,
          1,
          1,
          1,
          1,
          1,
          1,
          1,
          1,
          1,
          1,
          1,
          1,
          1,
          1,
          1,
          1,
          1,
          1,
          1,
          1,
          1,
          1,
          1,
          1,
          1,
          1,
          1,
          1,
          1,
          1,
          1,
          1,
          1,
          1,
          1,
          1,
          1,
          1,
          1,
          1,
          1,
          1,
          1,
          1,
          1,
          1,
          1,
          1,
          1,
          1,
          1,
          1,
          1,
          1,
          1,
          1,
          1,
          1,
          1,
          1,
          1,
          1,
          1,
          1,
          1,
          1,
          1,
          1,
          1,
          1,
          1,
          1,
          1,
          1,
          1,
          1,
          1,
          1,
          1,
          1,
          1,
          1,
          1,
          1,
          1,
          1,
          1,
          1,
          1,
          1,
          1,
          1,
          1,
          1,
          1,
          1,
          1,
          1,
          1,
          1,
          1,
          1,
          1,
          1,
          1,
          1,
          1,
          1,
          1,
          1,
          1,
          1,
          1,
          1,
          1,
          1,
          1,
          1,
          1,
          1,
          1,
          1,
          1,
          1,
          1,
          1,
          1,
          1,
          1,
          1,
          1,
          1,
          1,
          1,
          1,
          1,
          1,
          1,
          1,
          1,
          1,
          1,
          1,
          1,
          1,
          1,
          1,
          1,
          1,
          1,
          1,
          1,
          1,
          1,
          1,
          1,
          1,
          1,
          1,
          1,
          1,
          1,
          1,
          1,
          1,
          1,
          1,
          1,
          1,
          1,
          1,
          1,
          1,
          1,
          1,
          1,
          1,
          1,
          1,
          1,
          1,
          1,
          1,
          1,
          1,
          1,
          1,
          1,
          1,
          1,
          1,
          1,
          1,
          1,
          1,
          1,
          1,
          1,
          1,
          1,
          1,
          1,
          1,
          1,
          1,
          1,
          1,
          1,
          1,
          1,
          1,
          1,
          1,
          1,
          1,
          1,
          1,
          1,
          1,
          1,
          1,
          1,
          1,
          1,
          1,
          1,
          1,
          1,
          1,
          1,
          1,
          1,
          1,
          1,
          1,
          1,
          1,
          1,
          1,
          1,
          1,
          1,
          1,
          1,
          1,
          1,
          1,
          1,
          1,
          1,
          1,
          1,
          1,
          1,
          1,
          1,
          1,
          1,
          1,
          1,
          1,
          1,
          1,
          1,
          1,
          1,
          1,
          1,
          1,
          1,
          1,
          1,
          1,
          1,
          1,
          1,
          1,
          1,
          1,
          1,
          1,
          1,
          1,
          1,
          1,
          1,
          1,
          1,
          1,
          1,
          1,
          1,
          1,
          1,
          1,
          1,
          1,
          1,
          1,
          1,
          1,
          1,
          1,
          1,
          1,
          1,
          1,
          1,
          1
         ],
         "x0": " ",
         "xaxis": "x",
         "y": [
          66,
          47.64,
          69.57,
          42.95,
          63.45,
          55.39,
          54.7,
          74.58,
          41.49,
          41.39,
          48.53,
          51.95,
          70.2,
          59.05,
          55.6,
          57.64,
          62.26,
          50.43,
          68.11,
          37.68,
          44.33,
          48.01,
          33.33,
          50.33,
          62.31,
          65.19,
          44.98,
          41.82,
          45.96,
          63.89,
          35.33,
          78.53,
          46.13,
          55.35,
          33.21,
          38.46,
          49.81,
          56.14,
          55.13,
          56.64,
          68.94,
          57.76,
          52.7,
          57.7,
          56.89,
          69.9,
          55.79,
          50.08,
          43.67,
          45.72,
          39.94,
          35.61,
          41.49,
          42.39,
          47.53,
          68.11,
          63.24,
          46.13,
          72.6,
          61.88,
          84.45,
          88.97,
          37.75,
          62.33,
          80.31,
          46.98,
          41.67,
          51.24,
          43.49,
          49.89,
          38.37,
          38.52,
          37.51,
          55.6,
          37.47,
          56.04,
          70.92,
          49.78,
          68.61,
          37,
          44.64,
          41.73,
          75.55,
          41.28,
          34.66,
          66.18,
          59.59,
          43.77,
          63.36,
          60.72,
          44.57,
          39.85,
          84.53,
          62.95,
          46.88,
          46.31,
          84.73,
          39.86,
          50.08,
          60.23,
          60.7,
          43.67,
          71.86,
          44.78,
          35.65,
          58.22,
          59.51,
          40.15,
          41.89,
          67.28,
          66.01,
          61.57,
          53.3,
          34.87,
          43.6,
          49.95,
          60.94,
          78.7,
          57.35,
          34.86,
          46.77,
          62.42,
          78.32,
          37.32,
          40.42,
          76.77,
          74.32,
          80.03,
          53.68,
          39.96,
          57.05,
          42.44,
          62.2,
          61.22,
          46.08,
          56.7,
          40.06,
          73.84,
          60.25,
          59.21,
          43.02,
          70.66,
          70.58,
          40.17,
          44.49,
          47.66,
          46.37,
          54.88,
          40.67,
          47.51,
          56.01,
          45.05,
          60.53,
          50.52,
          55.2,
          52.62,
          39.25,
          77.56,
          33.52,
          79.81,
          54.92,
          75.55,
          73.89,
          62.06,
          51.5,
          36.87,
          34.78,
          41.47,
          56.3,
          38.94,
          36.31,
          72.23,
          61.09,
          37.87,
          60.91,
          74.87,
          37.45,
          49.84,
          51.38,
          38.91,
          62.14,
          73.3,
          71.9,
          58.6,
          36.08,
          41.73,
          69.2,
          67.56,
          43.63,
          49.67,
          44.46,
          63.88,
          66.99,
          42.05,
          50.52,
          35.98,
          39.34,
          57.24,
          56.34,
          48.73,
          51.68,
          35.34,
          48.09,
          56.99,
          41.18,
          71.03,
          34.3,
          53.38,
          58.03,
          43.59,
          60.07,
          54.43,
          60.53,
          69.58,
          56.66,
          57.64,
          46.04,
          36.44,
          53.14,
          32.84,
          38.1,
          51.87,
          43.41,
          55.92,
          82.12,
          43.01,
          64.88,
          48.03,
          32.99,
          36.49,
          45.7,
          82.38,
          52.68,
          65.59,
          43.84,
          47.48,
          44.96,
          39.56,
          39.76,
          50.6,
          46.2,
          66.88,
          35.49,
          50.19,
          59.12,
          59.7,
          67.8,
          41.7,
          58.35,
          51.56,
          58.21,
          66.12,
          49.99,
          80.3,
          57.86,
          59.13,
          42.94,
          82.79,
          59.22,
          35,
          46.61,
          63.26,
          67.94,
          43.65,
          46.61,
          65.1,
          53.44,
          63.8,
          42.6,
          56.39,
          44.73,
          38.35,
          56.2,
          67.69,
          38.35,
          64.75,
          47.9,
          50.32,
          74.59,
          46.66,
          48.86,
          37.05,
          69.15,
          65.72,
          40.04,
          68.6,
          56.16,
          43.83,
          39.86,
          66.77,
          57.2,
          49.84,
          43.97,
          38.63,
          84,
          52.13,
          71.83,
          50.18,
          64.67,
          62.06,
          84.29,
          32.91,
          39.5,
          40.01,
          52.7,
          35.55,
          60.23,
          67.91,
          41.16,
          53.54,
          40.19,
          58.95,
          35.76,
          59.36,
          61.04,
          64.63,
          46.14,
          44.33,
          46.43,
          52.84,
          42.04,
          46.28,
          48.26,
          71.03,
          58.05,
          52.56,
          62.18,
          66.08,
          49.96,
          39.36,
          47.23,
          65.57,
          44.15,
          43.57,
          42.06,
          66.26,
          65.15,
          39.19,
          69.77,
          87.27,
          71.33,
          46.89,
          77.8,
          45.44,
          49.42,
          49.19,
          39.96,
          67.59,
          43.07,
          39.47,
          44.11,
          56.57,
          71.23,
          47.23,
          43.63,
          68.11,
          67.35,
          57.99,
          66.8,
          49.13,
          45.11,
          61.82,
          56.93,
          48.86,
          36.56,
          85.73,
          53.63,
          52.35,
          52.84,
          51.58,
          42.32,
          55.04,
          68.58,
          66.79,
          32.6,
          43.88,
          56.46,
          52.67,
          67.85,
          75.55,
          35.21,
          36.37,
          59.96,
          40.88,
          36.98,
          35.49,
          36.62,
          49.35,
          56.64,
          53.33,
          50.63,
          41.84,
          53.92,
          55.32,
          53.22,
          43.16,
          67.51,
          43.16,
          36.91,
          54.47,
          57.51,
          73.21,
          43.49,
          66.69,
          48.46,
          42.51,
          42.83,
          41.46,
          45.99,
          49.21,
          55.77,
          44.13,
          57.82,
          72.46,
          61.88,
          44.16,
          55.74,
          59.05,
          35.11,
          60.39,
          75.03,
          50.87,
          37.65,
          91.37,
          39.53,
          45.82,
          40.34,
          67.39,
          68.11,
          41.53,
          46.84,
          44.4,
          52.17,
          54.08,
          54.39,
          37.74,
          77.36,
          55.46,
          35.66,
          50.78,
          40.47,
          45.62,
          37.01,
          56.91,
          42.84,
          67.56,
          34.96,
          41.86,
          34.04,
          54.96,
          55.71,
          45.48,
          47,
          59.64,
          35.98,
          82.49,
          61.76,
          63.3,
          36.73,
          63.18,
          50.6,
          32.6,
          44.72,
          78.76,
          79.51,
          39.3,
          64.79,
          38.65,
          59.01,
          78.96,
          63.99,
          41.35,
          62.79,
          45.53,
          54.55,
          35.66,
          56.78,
          35.25,
          37.58,
          45.08,
          63.04,
          40.18,
          45.17,
          50.48,
          41.88,
          39.87,
          61.84,
          54.97,
          67.26,
          54.37,
          72.88,
          63.37,
          35.79,
          38.96,
          69.17,
          43.7,
          72.97,
          51.3,
          68.11,
          45.01
         ],
         "y0": " ",
         "yaxis": "y"
        }
       ],
       "layout": {
        "boxmode": "overlay",
        "legend": {
         "title": {
          "text": "Clicked on Ad"
         },
         "tracegroupgap": 0
        },
        "template": {
         "data": {
          "bar": [
           {
            "error_x": {
             "color": "#2a3f5f"
            },
            "error_y": {
             "color": "#2a3f5f"
            },
            "marker": {
             "line": {
              "color": "#E5ECF6",
              "width": 0.5
             },
             "pattern": {
              "fillmode": "overlay",
              "size": 10,
              "solidity": 0.2
             }
            },
            "type": "bar"
           }
          ],
          "barpolar": [
           {
            "marker": {
             "line": {
              "color": "#E5ECF6",
              "width": 0.5
             },
             "pattern": {
              "fillmode": "overlay",
              "size": 10,
              "solidity": 0.2
             }
            },
            "type": "barpolar"
           }
          ],
          "carpet": [
           {
            "aaxis": {
             "endlinecolor": "#2a3f5f",
             "gridcolor": "white",
             "linecolor": "white",
             "minorgridcolor": "white",
             "startlinecolor": "#2a3f5f"
            },
            "baxis": {
             "endlinecolor": "#2a3f5f",
             "gridcolor": "white",
             "linecolor": "white",
             "minorgridcolor": "white",
             "startlinecolor": "#2a3f5f"
            },
            "type": "carpet"
           }
          ],
          "choropleth": [
           {
            "colorbar": {
             "outlinewidth": 0,
             "ticks": ""
            },
            "type": "choropleth"
           }
          ],
          "contour": [
           {
            "colorbar": {
             "outlinewidth": 0,
             "ticks": ""
            },
            "colorscale": [
             [
              0,
              "#0d0887"
             ],
             [
              0.1111111111111111,
              "#46039f"
             ],
             [
              0.2222222222222222,
              "#7201a8"
             ],
             [
              0.3333333333333333,
              "#9c179e"
             ],
             [
              0.4444444444444444,
              "#bd3786"
             ],
             [
              0.5555555555555556,
              "#d8576b"
             ],
             [
              0.6666666666666666,
              "#ed7953"
             ],
             [
              0.7777777777777778,
              "#fb9f3a"
             ],
             [
              0.8888888888888888,
              "#fdca26"
             ],
             [
              1,
              "#f0f921"
             ]
            ],
            "type": "contour"
           }
          ],
          "contourcarpet": [
           {
            "colorbar": {
             "outlinewidth": 0,
             "ticks": ""
            },
            "type": "contourcarpet"
           }
          ],
          "heatmap": [
           {
            "colorbar": {
             "outlinewidth": 0,
             "ticks": ""
            },
            "colorscale": [
             [
              0,
              "#0d0887"
             ],
             [
              0.1111111111111111,
              "#46039f"
             ],
             [
              0.2222222222222222,
              "#7201a8"
             ],
             [
              0.3333333333333333,
              "#9c179e"
             ],
             [
              0.4444444444444444,
              "#bd3786"
             ],
             [
              0.5555555555555556,
              "#d8576b"
             ],
             [
              0.6666666666666666,
              "#ed7953"
             ],
             [
              0.7777777777777778,
              "#fb9f3a"
             ],
             [
              0.8888888888888888,
              "#fdca26"
             ],
             [
              1,
              "#f0f921"
             ]
            ],
            "type": "heatmap"
           }
          ],
          "heatmapgl": [
           {
            "colorbar": {
             "outlinewidth": 0,
             "ticks": ""
            },
            "colorscale": [
             [
              0,
              "#0d0887"
             ],
             [
              0.1111111111111111,
              "#46039f"
             ],
             [
              0.2222222222222222,
              "#7201a8"
             ],
             [
              0.3333333333333333,
              "#9c179e"
             ],
             [
              0.4444444444444444,
              "#bd3786"
             ],
             [
              0.5555555555555556,
              "#d8576b"
             ],
             [
              0.6666666666666666,
              "#ed7953"
             ],
             [
              0.7777777777777778,
              "#fb9f3a"
             ],
             [
              0.8888888888888888,
              "#fdca26"
             ],
             [
              1,
              "#f0f921"
             ]
            ],
            "type": "heatmapgl"
           }
          ],
          "histogram": [
           {
            "marker": {
             "pattern": {
              "fillmode": "overlay",
              "size": 10,
              "solidity": 0.2
             }
            },
            "type": "histogram"
           }
          ],
          "histogram2d": [
           {
            "colorbar": {
             "outlinewidth": 0,
             "ticks": ""
            },
            "colorscale": [
             [
              0,
              "#0d0887"
             ],
             [
              0.1111111111111111,
              "#46039f"
             ],
             [
              0.2222222222222222,
              "#7201a8"
             ],
             [
              0.3333333333333333,
              "#9c179e"
             ],
             [
              0.4444444444444444,
              "#bd3786"
             ],
             [
              0.5555555555555556,
              "#d8576b"
             ],
             [
              0.6666666666666666,
              "#ed7953"
             ],
             [
              0.7777777777777778,
              "#fb9f3a"
             ],
             [
              0.8888888888888888,
              "#fdca26"
             ],
             [
              1,
              "#f0f921"
             ]
            ],
            "type": "histogram2d"
           }
          ],
          "histogram2dcontour": [
           {
            "colorbar": {
             "outlinewidth": 0,
             "ticks": ""
            },
            "colorscale": [
             [
              0,
              "#0d0887"
             ],
             [
              0.1111111111111111,
              "#46039f"
             ],
             [
              0.2222222222222222,
              "#7201a8"
             ],
             [
              0.3333333333333333,
              "#9c179e"
             ],
             [
              0.4444444444444444,
              "#bd3786"
             ],
             [
              0.5555555555555556,
              "#d8576b"
             ],
             [
              0.6666666666666666,
              "#ed7953"
             ],
             [
              0.7777777777777778,
              "#fb9f3a"
             ],
             [
              0.8888888888888888,
              "#fdca26"
             ],
             [
              1,
              "#f0f921"
             ]
            ],
            "type": "histogram2dcontour"
           }
          ],
          "mesh3d": [
           {
            "colorbar": {
             "outlinewidth": 0,
             "ticks": ""
            },
            "type": "mesh3d"
           }
          ],
          "parcoords": [
           {
            "line": {
             "colorbar": {
              "outlinewidth": 0,
              "ticks": ""
             }
            },
            "type": "parcoords"
           }
          ],
          "pie": [
           {
            "automargin": true,
            "type": "pie"
           }
          ],
          "scatter": [
           {
            "fillpattern": {
             "fillmode": "overlay",
             "size": 10,
             "solidity": 0.2
            },
            "type": "scatter"
           }
          ],
          "scatter3d": [
           {
            "line": {
             "colorbar": {
              "outlinewidth": 0,
              "ticks": ""
             }
            },
            "marker": {
             "colorbar": {
              "outlinewidth": 0,
              "ticks": ""
             }
            },
            "type": "scatter3d"
           }
          ],
          "scattercarpet": [
           {
            "marker": {
             "colorbar": {
              "outlinewidth": 0,
              "ticks": ""
             }
            },
            "type": "scattercarpet"
           }
          ],
          "scattergeo": [
           {
            "marker": {
             "colorbar": {
              "outlinewidth": 0,
              "ticks": ""
             }
            },
            "type": "scattergeo"
           }
          ],
          "scattergl": [
           {
            "marker": {
             "colorbar": {
              "outlinewidth": 0,
              "ticks": ""
             }
            },
            "type": "scattergl"
           }
          ],
          "scattermapbox": [
           {
            "marker": {
             "colorbar": {
              "outlinewidth": 0,
              "ticks": ""
             }
            },
            "type": "scattermapbox"
           }
          ],
          "scatterpolar": [
           {
            "marker": {
             "colorbar": {
              "outlinewidth": 0,
              "ticks": ""
             }
            },
            "type": "scatterpolar"
           }
          ],
          "scatterpolargl": [
           {
            "marker": {
             "colorbar": {
              "outlinewidth": 0,
              "ticks": ""
             }
            },
            "type": "scatterpolargl"
           }
          ],
          "scatterternary": [
           {
            "marker": {
             "colorbar": {
              "outlinewidth": 0,
              "ticks": ""
             }
            },
            "type": "scatterternary"
           }
          ],
          "surface": [
           {
            "colorbar": {
             "outlinewidth": 0,
             "ticks": ""
            },
            "colorscale": [
             [
              0,
              "#0d0887"
             ],
             [
              0.1111111111111111,
              "#46039f"
             ],
             [
              0.2222222222222222,
              "#7201a8"
             ],
             [
              0.3333333333333333,
              "#9c179e"
             ],
             [
              0.4444444444444444,
              "#bd3786"
             ],
             [
              0.5555555555555556,
              "#d8576b"
             ],
             [
              0.6666666666666666,
              "#ed7953"
             ],
             [
              0.7777777777777778,
              "#fb9f3a"
             ],
             [
              0.8888888888888888,
              "#fdca26"
             ],
             [
              1,
              "#f0f921"
             ]
            ],
            "type": "surface"
           }
          ],
          "table": [
           {
            "cells": {
             "fill": {
              "color": "#EBF0F8"
             },
             "line": {
              "color": "white"
             }
            },
            "header": {
             "fill": {
              "color": "#C8D4E3"
             },
             "line": {
              "color": "white"
             }
            },
            "type": "table"
           }
          ]
         },
         "layout": {
          "annotationdefaults": {
           "arrowcolor": "#2a3f5f",
           "arrowhead": 0,
           "arrowwidth": 1
          },
          "autotypenumbers": "strict",
          "coloraxis": {
           "colorbar": {
            "outlinewidth": 0,
            "ticks": ""
           }
          },
          "colorscale": {
           "diverging": [
            [
             0,
             "#8e0152"
            ],
            [
             0.1,
             "#c51b7d"
            ],
            [
             0.2,
             "#de77ae"
            ],
            [
             0.3,
             "#f1b6da"
            ],
            [
             0.4,
             "#fde0ef"
            ],
            [
             0.5,
             "#f7f7f7"
            ],
            [
             0.6,
             "#e6f5d0"
            ],
            [
             0.7,
             "#b8e186"
            ],
            [
             0.8,
             "#7fbc41"
            ],
            [
             0.9,
             "#4d9221"
            ],
            [
             1,
             "#276419"
            ]
           ],
           "sequential": [
            [
             0,
             "#0d0887"
            ],
            [
             0.1111111111111111,
             "#46039f"
            ],
            [
             0.2222222222222222,
             "#7201a8"
            ],
            [
             0.3333333333333333,
             "#9c179e"
            ],
            [
             0.4444444444444444,
             "#bd3786"
            ],
            [
             0.5555555555555556,
             "#d8576b"
            ],
            [
             0.6666666666666666,
             "#ed7953"
            ],
            [
             0.7777777777777778,
             "#fb9f3a"
            ],
            [
             0.8888888888888888,
             "#fdca26"
            ],
            [
             1,
             "#f0f921"
            ]
           ],
           "sequentialminus": [
            [
             0,
             "#0d0887"
            ],
            [
             0.1111111111111111,
             "#46039f"
            ],
            [
             0.2222222222222222,
             "#7201a8"
            ],
            [
             0.3333333333333333,
             "#9c179e"
            ],
            [
             0.4444444444444444,
             "#bd3786"
            ],
            [
             0.5555555555555556,
             "#d8576b"
            ],
            [
             0.6666666666666666,
             "#ed7953"
            ],
            [
             0.7777777777777778,
             "#fb9f3a"
            ],
            [
             0.8888888888888888,
             "#fdca26"
            ],
            [
             1,
             "#f0f921"
            ]
           ]
          },
          "colorway": [
           "#636efa",
           "#EF553B",
           "#00cc96",
           "#ab63fa",
           "#FFA15A",
           "#19d3f3",
           "#FF6692",
           "#B6E880",
           "#FF97FF",
           "#FECB52"
          ],
          "font": {
           "color": "#2a3f5f"
          },
          "geo": {
           "bgcolor": "white",
           "lakecolor": "white",
           "landcolor": "#E5ECF6",
           "showlakes": true,
           "showland": true,
           "subunitcolor": "white"
          },
          "hoverlabel": {
           "align": "left"
          },
          "hovermode": "closest",
          "mapbox": {
           "style": "light"
          },
          "paper_bgcolor": "white",
          "plot_bgcolor": "#E5ECF6",
          "polar": {
           "angularaxis": {
            "gridcolor": "white",
            "linecolor": "white",
            "ticks": ""
           },
           "bgcolor": "#E5ECF6",
           "radialaxis": {
            "gridcolor": "white",
            "linecolor": "white",
            "ticks": ""
           }
          },
          "scene": {
           "xaxis": {
            "backgroundcolor": "#E5ECF6",
            "gridcolor": "white",
            "gridwidth": 2,
            "linecolor": "white",
            "showbackground": true,
            "ticks": "",
            "zerolinecolor": "white"
           },
           "yaxis": {
            "backgroundcolor": "#E5ECF6",
            "gridcolor": "white",
            "gridwidth": 2,
            "linecolor": "white",
            "showbackground": true,
            "ticks": "",
            "zerolinecolor": "white"
           },
           "zaxis": {
            "backgroundcolor": "#E5ECF6",
            "gridcolor": "white",
            "gridwidth": 2,
            "linecolor": "white",
            "showbackground": true,
            "ticks": "",
            "zerolinecolor": "white"
           }
          },
          "shapedefaults": {
           "line": {
            "color": "#2a3f5f"
           }
          },
          "ternary": {
           "aaxis": {
            "gridcolor": "white",
            "linecolor": "white",
            "ticks": ""
           },
           "baxis": {
            "gridcolor": "white",
            "linecolor": "white",
            "ticks": ""
           },
           "bgcolor": "#E5ECF6",
           "caxis": {
            "gridcolor": "white",
            "linecolor": "white",
            "ticks": ""
           }
          },
          "title": {
           "x": 0.05
          },
          "xaxis": {
           "automargin": true,
           "gridcolor": "white",
           "linecolor": "white",
           "ticks": "",
           "title": {
            "standoff": 15
           },
           "zerolinecolor": "white",
           "zerolinewidth": 2
          },
          "yaxis": {
           "automargin": true,
           "gridcolor": "white",
           "linecolor": "white",
           "ticks": "",
           "title": {
            "standoff": 15
           },
           "zerolinecolor": "white",
           "zerolinewidth": 2
          }
         }
        },
        "title": {
         "text": "Daily Time Spent on Site Distribution by Clicked on Ad"
        },
        "xaxis": {
         "anchor": "y",
         "categoryarray": [
          0,
          1
         ],
         "categoryorder": "array",
         "domain": [
          0,
          1
         ],
         "ticktext": [
          "Not Clicked",
          "Clicked"
         ],
         "tickvals": [
          0,
          1
         ],
         "title": {
          "text": "Clicked on Ad"
         }
        },
        "yaxis": {
         "anchor": "x",
         "domain": [
          0,
          1
         ],
         "title": {
          "text": "Daily Time Spent on Site"
         }
        }
       }
      }
     },
     "metadata": {},
     "output_type": "display_data"
    }
   ],
   "source": [
    "# How does daily spent on site affect clicked on ad\n",
    "fig = px.box(df, x=\"Clicked on Ad\", y=\"Daily Time Spent on Site\", color=\"Clicked on Ad\", \n",
    "             title=\"Daily Time Spent on Site Distribution by Clicked on Ad\", points=\"all\")\n",
    "fig.update_layout(xaxis_tickvals=[0, 1], xaxis_ticktext=[\"Not Clicked\", \"Clicked\"])\n",
    "\n",
    "# Change legend label to text\n",
    "fig.update_traces(name=\"Not Clicked\", selector=dict(name=\"0\"))\n",
    "fig.update_traces(name=\"Clicked\", selector=dict(name=\"1\"))\n",
    "fig.show()"
   ]
  },
  {
   "cell_type": "markdown",
   "metadata": {},
   "source": [
    "**Finding**: We can see that most users who clicked on the ad tend to spend less time on the site daily compared to those who did not click on the ad. "
   ]
  },
  {
   "cell_type": "code",
   "execution_count": 223,
   "metadata": {},
   "outputs": [
    {
     "data": {
      "application/vnd.plotly.v1+json": {
       "config": {
        "plotlyServerURL": "https://plot.ly"
       },
       "data": [
        {
         "alignmentgroup": "True",
         "bingroup": "x",
         "hovertemplate": "Daily Internet Usage=%{x}<br>count=%{y}<extra></extra>",
         "legendgroup": "",
         "marker": {
          "color": "#636efa",
          "pattern": {
           "shape": ""
          }
         },
         "name": "",
         "nbinsx": 30,
         "offsetgroup": "",
         "orientation": "v",
         "showlegend": false,
         "type": "histogram",
         "x": [
          256.09,
          193.77,
          236.5,
          245.89,
          225.58,
          226.74,
          208.36,
          131.76,
          221.51,
          183.82,
          122.02,
          230.87,
          113.12,
          214.23,
          143.56,
          140.64,
          129.41,
          187.53,
          182.65,
          135.51,
          224.44,
          226.54,
          164.83,
          209.93,
          167.22,
          204.79,
          134.14,
          129.23,
          119.2,
          209.82,
          267.01,
          207.48,
          169.23,
          212.58,
          133.81,
          201.58,
          125.45,
          221.94,
          119.32,
          162.08,
          202.61,
          252.36,
          198.11,
          212.3,
          204.86,
          172.83,
          202.25,
          198.72,
          123.72,
          119.93,
          196.71,
          225.29,
          193.58,
          133.2,
          119.3,
          177.55,
          150.61,
          129.31,
          239.22,
          156.36,
          183.43,
          192.93,
          169.5,
          182.65,
          141.22,
          198.5,
          105.22,
          200.22,
          215.25,
          131.72,
          139.01,
          222.63,
          153.17,
          167.07,
          145.98,
          215.93,
          120.06,
          238.99,
          113.53,
          111.71,
          209.25,
          222.75,
          115.91,
          138.71,
          184.1,
          105.15,
          200.55,
          118.6,
          109.07,
          109.29,
          138.35,
          149.67,
          227.72,
          125.85,
          166.29,
          238.63,
          154.02,
          156.3,
          158.22,
          182.65,
          169.18,
          235.28,
          194.23,
          218.17,
          202.16,
          229.12,
          241.03,
          150.99,
          135.18,
          210.54,
          176.98,
          235.78,
          211.87,
          123.64,
          221.21,
          244.34,
          162.95,
          112.19,
          207.18,
          152.49,
          210.26,
          231.94,
          212.79,
          225.24,
          127.11,
          230.93,
          127.07,
          206.98,
          223.03,
          233.56,
          175.37,
          132.55,
          176.73,
          215.44,
          127.83,
          160.03,
          140.46,
          137.28,
          172.81,
          146.19,
          190.25,
          163,
          124.38,
          234.26,
          210.6,
          141.89,
          128.95,
          108.16,
          152.24,
          150.29,
          176.28,
          172.1,
          158.22,
          247.31,
          183.48,
          222.11,
          127.01,
          202.18,
          182.65,
          159.24,
          195.31,
          222.77,
          251,
          162.44,
          140.39,
          194.83,
          143.42,
          219.72,
          104.78,
          198.56,
          138.55,
          199.79,
          196.23,
          163.05,
          137.43,
          227.56,
          105.69,
          199.43,
          133.17,
          208.23,
          145.96,
          168.34,
          157.04,
          255.61,
          210.46,
          136.64,
          153.98,
          233.65,
          153.76,
          145.85,
          123.91,
          106.86,
          110.57,
          143.79,
          254.05,
          116.53,
          137.24,
          239.32,
          201.26,
          191.14,
          214.42,
          252.77,
          172.58,
          183.85,
          218.79,
          120.9,
          212.67,
          187.36,
          140.83,
          134.88,
          217.85,
          163.38,
          235.35,
          155.8,
          229.22,
          151.95,
          125.94,
          111.94,
          200.23,
          170.49,
          254.57,
          200.59,
          136.59,
          154.97,
          171.07,
          133.99,
          119.84,
          154.75,
          199.08,
          201.04,
          228.03,
          136.4,
          143.94,
          239.52,
          199.25,
          133.9,
          123.51,
          158.05,
          128.17,
          234.75,
          150.84,
          115.26,
          192.85,
          204.52,
          178.75,
          223.09,
          146.13,
          182.65,
          168.27,
          161.16,
          222.25,
          119.03,
          204.02,
          164.63,
          123.13,
          201.15,
          231.42,
          138.68,
          226.11,
          121.05,
          212.56,
          109.77,
          144.62,
          125.22,
          244.55,
          120.95,
          136.94,
          230.14,
          171.31,
          203.23,
          168,
          221.79,
          254.34,
          179.58,
          242.37,
          156.54,
          216.87,
          177.78,
          156.48,
          196.76,
          144.27,
          148.61,
          133.18,
          237.39,
          130.41,
          212.87,
          127.26,
          213.36,
          141.36,
          167.22,
          171.62,
          210.23,
          159.46,
          228.76,
          163.99,
          218.97,
          238.58,
          226.45,
          214.74,
          231.49,
          250,
          176.52,
          152.36,
          130.83,
          165.56,
          178.85,
          214.53,
          231.07,
          186.48,
          161.16,
          221.53,
          243.37,
          169.4,
          250.35,
          232.54,
          110.68,
          186.98,
          236.19,
          186.37,
          105,
          135.31,
          180.77,
          170.13,
          243.61,
          240.95,
          195.91,
          208.21,
          231.59,
          220.92,
          219.79,
          200.58,
          214.08,
          135.24,
          245.78,
          188.27,
          142.67,
          184.03,
          233.6,
          220.05,
          211.39,
          168.92,
          115.35,
          230.91,
          205.5,
          131.68,
          218.61,
          199.39,
          188.56,
          178.51,
          184.94,
          237.34,
          211.38,
          228.81,
          217.68,
          126.97,
          221.98,
          167.86,
          111.59,
          158.56,
          207.87,
          150.8,
          110.93,
          193.8,
          135.72,
          231.48,
          140.15,
          195.36,
          261.02,
          217.79,
          205.38,
          113.7,
          151.47,
          206.79,
          144.71,
          203.74,
          197.33,
          222.26,
          123.8,
          125.45,
          248.19,
          224.58,
          123.25,
          168.15,
          235.99,
          153.69,
          224.23,
          190.75,
          132.66,
          227.73,
          136.85,
          234.64,
          216,
          200.28,
          202.77,
          124.44,
          204.22,
          174.55,
          219.69,
          198.32,
          201.24,
          165.52,
          230.36,
          148.93,
          202.12,
          117.35,
          248.16,
          139.02,
          142.04,
          258.62,
          152.86,
          180.42,
          208.05,
          205.64,
          108.15,
          209.64,
          129.25,
          120.85,
          217.1,
          184.88,
          192.6,
          160.74,
          220.48,
          120.06,
          129.33,
          132.31,
          120.75,
          154.74,
          230.9,
          123.28,
          231.85,
          211.87,
          218.8,
          255.07,
          212.92,
          221.18,
          139.42,
          248.12,
          214.42,
          110.25,
          167.67,
          147.92,
          236.87,
          147.64,
          109,
          171.72,
          256.4,
          214.38,
          218.22,
          119.65,
          169.88,
          160.73,
          145.08,
          239.76,
          183.42,
          201.15,
          238.45,
          127.37,
          219.94,
          129.8,
          223.28,
          134.6,
          177.46,
          175.17,
          196.61,
          191.17,
          151.12,
          159.6,
          149.2,
          121.81,
          224.92,
          167.42,
          216.57,
          207.27,
          231.54,
          141.34,
          219.49,
          219.98,
          132.71,
          143.13,
          196.83,
          207.17,
          187.76,
          213.38,
          129.88,
          119.3,
          119.47,
          158.42,
          213.75,
          159.77,
          244.87,
          117.3,
          182.65,
          193.63,
          120.25,
          117.75,
          223.16,
          216.49,
          126.95,
          173.49,
          132.63,
          124.85,
          253.17,
          228.7,
          105.94,
          113.8,
          215.18,
          236.64,
          121.07,
          173.43,
          234.72,
          166.86,
          231.37,
          215.18,
          106.04,
          250.03,
          130.4,
          233.93,
          132.08,
          126.39,
          151.25,
          136.18,
          120.46,
          202.9,
          128.16,
          230.18,
          165.27,
          138.87,
          198.45,
          156.99,
          162.03,
          118.1,
          108.17,
          244.91,
          209.91,
          212.38,
          208.02,
          181.11,
          218.49,
          236.29,
          230.95,
          222.91,
          247.9,
          194.37,
          108.7,
          211.64,
          168.29,
          211.83,
          235.01,
          236.72,
          229.99,
          224.9,
          208.76,
          154.23,
          127.56,
          145.48,
          223.93,
          114.85,
          226.79,
          164.25,
          235.28,
          109.22,
          144.69,
          251.08,
          166.19,
          117.66,
          185.45,
          114.53,
          238.06,
          190.71,
          246.72,
          125.65,
          240.63,
          249.54,
          158.35,
          118.16,
          134.46,
          142.81,
          233.04,
          208.24,
          231.21,
          112.72,
          120.12,
          161.58,
          135.08,
          164.25,
          254.59,
          252.07,
          129.01,
          238.1,
          161.24,
          141.13,
          110.66,
          211.12,
          193.97,
          135.24,
          156.97,
          231.38,
          246.44,
          204.56,
          222.11,
          136.21,
          118.27,
          135.48,
          196.77,
          127.82,
          138.35,
          203.84,
          240.09,
          116.27,
          160.33,
          181.02,
          148.19,
          245.76,
          228.94,
          242.59,
          161.77,
          109.34,
          259.76,
          151.18,
          182.65,
          190.08,
          210.27,
          151.54,
          149.25,
          192.27,
          146.8,
          191.78,
          150.83,
          108.03,
          236.15,
          236.75,
          241.8,
          224.98,
          136.99,
          131.29,
          195.07,
          110.84,
          198.13,
          149.21,
          225.99,
          158.8,
          219.72,
          235.56,
          182.65,
          253.48,
          137.97,
          120.63,
          137.2,
          199.76,
          225.87,
          175.14,
          222.35,
          224.07,
          182.65,
          224.2,
          122.31,
          182.84,
          258.06,
          201.29,
          223.16,
          182.11,
          228.78,
          122.45,
          150.77,
          215.04,
          195.54,
          230.36,
          235.97,
          250.36,
          126.44,
          201.54,
          184.23,
          210.53,
          151.94,
          210.39,
          225.23,
          161.79,
          149.8,
          153.01,
          130.86,
          200.71,
          141.96,
          125.2,
          192.81,
          131.55,
          226.69,
          247.05,
          216.24,
          230.52,
          225.34,
          197.15,
          231.95,
          179.04,
          117.3,
          198.86,
          244.23,
          173.05,
          214.49,
          189.91,
          233.61,
          197.93,
          132.27,
          204.27,
          208.01,
          219.55,
          217.66,
          169.4,
          225.47,
          176.78,
          152.94,
          119.27,
          214.06,
          158.29,
          128,
          216.03,
          123.08,
          138.52,
          192.5,
          185.85,
          113.69,
          246.06,
          137.63,
          163.48,
          214.33,
          230.77,
          234.75,
          225.05,
          231.91,
          171.23,
          227.37,
          190.17,
          250.2,
          194.95,
          121.24,
          131.98,
          222.87,
          229.88,
          122.59,
          210.87,
          182.65,
          135.25,
          190.95,
          193.29,
          105.86,
          118.69,
          124.58,
          248.51,
          120.49,
          195.69,
          164.02,
          151.93,
          240.64,
          190.12,
          179.82,
          212.59,
          227.53,
          111.8,
          128.37,
          195.89,
          147.75,
          229.19,
          190.84,
          126.29,
          147.61,
          121.57,
          115.91,
          187.09,
          106.96,
          171.54,
          175.43,
          224.82,
          180.47,
          213.96,
          198.3,
          185.47,
          166.85,
          151.63,
          225.02,
          191.26,
          219.91,
          202.7,
          123.71,
          230.78,
          167.41,
          154,
          144.53,
          165.43,
          197.66,
          195.68,
          136.18,
          167.87,
          170.04,
          204.47,
          162.44,
          119.86,
          204.82,
          198.79,
          236.08,
          196.17,
          228.81,
          123.24,
          111.63,
          142.23,
          139.32,
          125.46,
          180.88,
          127.65,
          108.85,
          156.11,
          127.2,
          143.04,
          241.38,
          170.9,
          203.87,
          232.78,
          225,
          159.69,
          141.52,
          212.88,
          194.23,
          105.71,
          232.21,
          252.6,
          209.72,
          226.64,
          192.57,
          222.72,
          124.67,
          108.27,
          132.38,
          144.77,
          132.38,
          128.98,
          124.61,
          225.97,
          254.94,
          115.6,
          117.33,
          128.48,
          107.56,
          113.53,
          108.18,
          199.29,
          231.28,
          224.01,
          133.42,
          124.34,
          169.1,
          261.52,
          118.45,
          250.11,
          158.03,
          108.25,
          213.7,
          255.57,
          190.41,
          223.2,
          205.71,
          161.29,
          244.4,
          182.65,
          220.08,
          165.65,
          241.5,
          246.29,
          142.21,
          195.93,
          216.5,
          225.76,
          222.08,
          171.24,
          235.94,
          203.44,
          250.32,
          167.26,
          173.75,
          107.19,
          187.03,
          249.45,
          217.37,
          154.93,
          236.96,
          199.62,
          158.81,
          249.81,
          123.22,
          140.95,
          115.37,
          205.84,
          111.02,
          238.43,
          171.9,
          190.95,
          241.36,
          194.56,
          207.53,
          235.29,
          115.79,
          108.1,
          151.72,
          122.04,
          203.9,
          121.28,
          178.69,
          221.59,
          236.96,
          216.01,
          193.6,
          146.44,
          226.49,
          182.2,
          109.98,
          160.49,
          211.56,
          128.62,
          174.88,
          113.75,
          199.4,
          215.29,
          181.25,
          245.5,
          112.52,
          129.16,
          149.53,
          153.12,
          150.79,
          182.65,
          184.98,
          187.64,
          130.84,
          239.94,
          114.69,
          116.19,
          149.79,
          248.23,
          194.62,
          107.92,
          135.67,
          190.05,
          185.46,
          123.86,
          162.05,
          125.11,
          145.73,
          116.07,
          198.24,
          191.82,
          154.77,
          178.75,
          193.15,
          138.46,
          162.46,
          231.87,
          141.58,
          249.99,
          109.04,
          172.57,
          247.01,
          234.23,
          161.42,
          124.32,
          195.56,
          211.17,
          247.05,
          233.85,
          194.44,
          176.7,
          188.32,
          125.27,
          159.05,
          151.96,
          132.07,
          162.43,
          203.3,
          126.11,
          139.34,
          105.63,
          116.38,
          166.31,
          254.65,
          168.41,
          258.26,
          140.77,
          234.81,
          256.39,
          125.12,
          232.68,
          105.04,
          204.4,
          256.4,
          165.62,
          182.65,
          123.62,
          227.63,
          173.01,
          208.58,
          134.42,
          120.37,
          187.95,
          178.35
         ],
         "xaxis": "x",
         "yaxis": "y"
        }
       ],
       "layout": {
        "barmode": "relative",
        "legend": {
         "tracegroupgap": 0
        },
        "template": {
         "data": {
          "bar": [
           {
            "error_x": {
             "color": "#2a3f5f"
            },
            "error_y": {
             "color": "#2a3f5f"
            },
            "marker": {
             "line": {
              "color": "#E5ECF6",
              "width": 0.5
             },
             "pattern": {
              "fillmode": "overlay",
              "size": 10,
              "solidity": 0.2
             }
            },
            "type": "bar"
           }
          ],
          "barpolar": [
           {
            "marker": {
             "line": {
              "color": "#E5ECF6",
              "width": 0.5
             },
             "pattern": {
              "fillmode": "overlay",
              "size": 10,
              "solidity": 0.2
             }
            },
            "type": "barpolar"
           }
          ],
          "carpet": [
           {
            "aaxis": {
             "endlinecolor": "#2a3f5f",
             "gridcolor": "white",
             "linecolor": "white",
             "minorgridcolor": "white",
             "startlinecolor": "#2a3f5f"
            },
            "baxis": {
             "endlinecolor": "#2a3f5f",
             "gridcolor": "white",
             "linecolor": "white",
             "minorgridcolor": "white",
             "startlinecolor": "#2a3f5f"
            },
            "type": "carpet"
           }
          ],
          "choropleth": [
           {
            "colorbar": {
             "outlinewidth": 0,
             "ticks": ""
            },
            "type": "choropleth"
           }
          ],
          "contour": [
           {
            "colorbar": {
             "outlinewidth": 0,
             "ticks": ""
            },
            "colorscale": [
             [
              0,
              "#0d0887"
             ],
             [
              0.1111111111111111,
              "#46039f"
             ],
             [
              0.2222222222222222,
              "#7201a8"
             ],
             [
              0.3333333333333333,
              "#9c179e"
             ],
             [
              0.4444444444444444,
              "#bd3786"
             ],
             [
              0.5555555555555556,
              "#d8576b"
             ],
             [
              0.6666666666666666,
              "#ed7953"
             ],
             [
              0.7777777777777778,
              "#fb9f3a"
             ],
             [
              0.8888888888888888,
              "#fdca26"
             ],
             [
              1,
              "#f0f921"
             ]
            ],
            "type": "contour"
           }
          ],
          "contourcarpet": [
           {
            "colorbar": {
             "outlinewidth": 0,
             "ticks": ""
            },
            "type": "contourcarpet"
           }
          ],
          "heatmap": [
           {
            "colorbar": {
             "outlinewidth": 0,
             "ticks": ""
            },
            "colorscale": [
             [
              0,
              "#0d0887"
             ],
             [
              0.1111111111111111,
              "#46039f"
             ],
             [
              0.2222222222222222,
              "#7201a8"
             ],
             [
              0.3333333333333333,
              "#9c179e"
             ],
             [
              0.4444444444444444,
              "#bd3786"
             ],
             [
              0.5555555555555556,
              "#d8576b"
             ],
             [
              0.6666666666666666,
              "#ed7953"
             ],
             [
              0.7777777777777778,
              "#fb9f3a"
             ],
             [
              0.8888888888888888,
              "#fdca26"
             ],
             [
              1,
              "#f0f921"
             ]
            ],
            "type": "heatmap"
           }
          ],
          "heatmapgl": [
           {
            "colorbar": {
             "outlinewidth": 0,
             "ticks": ""
            },
            "colorscale": [
             [
              0,
              "#0d0887"
             ],
             [
              0.1111111111111111,
              "#46039f"
             ],
             [
              0.2222222222222222,
              "#7201a8"
             ],
             [
              0.3333333333333333,
              "#9c179e"
             ],
             [
              0.4444444444444444,
              "#bd3786"
             ],
             [
              0.5555555555555556,
              "#d8576b"
             ],
             [
              0.6666666666666666,
              "#ed7953"
             ],
             [
              0.7777777777777778,
              "#fb9f3a"
             ],
             [
              0.8888888888888888,
              "#fdca26"
             ],
             [
              1,
              "#f0f921"
             ]
            ],
            "type": "heatmapgl"
           }
          ],
          "histogram": [
           {
            "marker": {
             "pattern": {
              "fillmode": "overlay",
              "size": 10,
              "solidity": 0.2
             }
            },
            "type": "histogram"
           }
          ],
          "histogram2d": [
           {
            "colorbar": {
             "outlinewidth": 0,
             "ticks": ""
            },
            "colorscale": [
             [
              0,
              "#0d0887"
             ],
             [
              0.1111111111111111,
              "#46039f"
             ],
             [
              0.2222222222222222,
              "#7201a8"
             ],
             [
              0.3333333333333333,
              "#9c179e"
             ],
             [
              0.4444444444444444,
              "#bd3786"
             ],
             [
              0.5555555555555556,
              "#d8576b"
             ],
             [
              0.6666666666666666,
              "#ed7953"
             ],
             [
              0.7777777777777778,
              "#fb9f3a"
             ],
             [
              0.8888888888888888,
              "#fdca26"
             ],
             [
              1,
              "#f0f921"
             ]
            ],
            "type": "histogram2d"
           }
          ],
          "histogram2dcontour": [
           {
            "colorbar": {
             "outlinewidth": 0,
             "ticks": ""
            },
            "colorscale": [
             [
              0,
              "#0d0887"
             ],
             [
              0.1111111111111111,
              "#46039f"
             ],
             [
              0.2222222222222222,
              "#7201a8"
             ],
             [
              0.3333333333333333,
              "#9c179e"
             ],
             [
              0.4444444444444444,
              "#bd3786"
             ],
             [
              0.5555555555555556,
              "#d8576b"
             ],
             [
              0.6666666666666666,
              "#ed7953"
             ],
             [
              0.7777777777777778,
              "#fb9f3a"
             ],
             [
              0.8888888888888888,
              "#fdca26"
             ],
             [
              1,
              "#f0f921"
             ]
            ],
            "type": "histogram2dcontour"
           }
          ],
          "mesh3d": [
           {
            "colorbar": {
             "outlinewidth": 0,
             "ticks": ""
            },
            "type": "mesh3d"
           }
          ],
          "parcoords": [
           {
            "line": {
             "colorbar": {
              "outlinewidth": 0,
              "ticks": ""
             }
            },
            "type": "parcoords"
           }
          ],
          "pie": [
           {
            "automargin": true,
            "type": "pie"
           }
          ],
          "scatter": [
           {
            "fillpattern": {
             "fillmode": "overlay",
             "size": 10,
             "solidity": 0.2
            },
            "type": "scatter"
           }
          ],
          "scatter3d": [
           {
            "line": {
             "colorbar": {
              "outlinewidth": 0,
              "ticks": ""
             }
            },
            "marker": {
             "colorbar": {
              "outlinewidth": 0,
              "ticks": ""
             }
            },
            "type": "scatter3d"
           }
          ],
          "scattercarpet": [
           {
            "marker": {
             "colorbar": {
              "outlinewidth": 0,
              "ticks": ""
             }
            },
            "type": "scattercarpet"
           }
          ],
          "scattergeo": [
           {
            "marker": {
             "colorbar": {
              "outlinewidth": 0,
              "ticks": ""
             }
            },
            "type": "scattergeo"
           }
          ],
          "scattergl": [
           {
            "marker": {
             "colorbar": {
              "outlinewidth": 0,
              "ticks": ""
             }
            },
            "type": "scattergl"
           }
          ],
          "scattermapbox": [
           {
            "marker": {
             "colorbar": {
              "outlinewidth": 0,
              "ticks": ""
             }
            },
            "type": "scattermapbox"
           }
          ],
          "scatterpolar": [
           {
            "marker": {
             "colorbar": {
              "outlinewidth": 0,
              "ticks": ""
             }
            },
            "type": "scatterpolar"
           }
          ],
          "scatterpolargl": [
           {
            "marker": {
             "colorbar": {
              "outlinewidth": 0,
              "ticks": ""
             }
            },
            "type": "scatterpolargl"
           }
          ],
          "scatterternary": [
           {
            "marker": {
             "colorbar": {
              "outlinewidth": 0,
              "ticks": ""
             }
            },
            "type": "scatterternary"
           }
          ],
          "surface": [
           {
            "colorbar": {
             "outlinewidth": 0,
             "ticks": ""
            },
            "colorscale": [
             [
              0,
              "#0d0887"
             ],
             [
              0.1111111111111111,
              "#46039f"
             ],
             [
              0.2222222222222222,
              "#7201a8"
             ],
             [
              0.3333333333333333,
              "#9c179e"
             ],
             [
              0.4444444444444444,
              "#bd3786"
             ],
             [
              0.5555555555555556,
              "#d8576b"
             ],
             [
              0.6666666666666666,
              "#ed7953"
             ],
             [
              0.7777777777777778,
              "#fb9f3a"
             ],
             [
              0.8888888888888888,
              "#fdca26"
             ],
             [
              1,
              "#f0f921"
             ]
            ],
            "type": "surface"
           }
          ],
          "table": [
           {
            "cells": {
             "fill": {
              "color": "#EBF0F8"
             },
             "line": {
              "color": "white"
             }
            },
            "header": {
             "fill": {
              "color": "#C8D4E3"
             },
             "line": {
              "color": "white"
             }
            },
            "type": "table"
           }
          ]
         },
         "layout": {
          "annotationdefaults": {
           "arrowcolor": "#2a3f5f",
           "arrowhead": 0,
           "arrowwidth": 1
          },
          "autotypenumbers": "strict",
          "coloraxis": {
           "colorbar": {
            "outlinewidth": 0,
            "ticks": ""
           }
          },
          "colorscale": {
           "diverging": [
            [
             0,
             "#8e0152"
            ],
            [
             0.1,
             "#c51b7d"
            ],
            [
             0.2,
             "#de77ae"
            ],
            [
             0.3,
             "#f1b6da"
            ],
            [
             0.4,
             "#fde0ef"
            ],
            [
             0.5,
             "#f7f7f7"
            ],
            [
             0.6,
             "#e6f5d0"
            ],
            [
             0.7,
             "#b8e186"
            ],
            [
             0.8,
             "#7fbc41"
            ],
            [
             0.9,
             "#4d9221"
            ],
            [
             1,
             "#276419"
            ]
           ],
           "sequential": [
            [
             0,
             "#0d0887"
            ],
            [
             0.1111111111111111,
             "#46039f"
            ],
            [
             0.2222222222222222,
             "#7201a8"
            ],
            [
             0.3333333333333333,
             "#9c179e"
            ],
            [
             0.4444444444444444,
             "#bd3786"
            ],
            [
             0.5555555555555556,
             "#d8576b"
            ],
            [
             0.6666666666666666,
             "#ed7953"
            ],
            [
             0.7777777777777778,
             "#fb9f3a"
            ],
            [
             0.8888888888888888,
             "#fdca26"
            ],
            [
             1,
             "#f0f921"
            ]
           ],
           "sequentialminus": [
            [
             0,
             "#0d0887"
            ],
            [
             0.1111111111111111,
             "#46039f"
            ],
            [
             0.2222222222222222,
             "#7201a8"
            ],
            [
             0.3333333333333333,
             "#9c179e"
            ],
            [
             0.4444444444444444,
             "#bd3786"
            ],
            [
             0.5555555555555556,
             "#d8576b"
            ],
            [
             0.6666666666666666,
             "#ed7953"
            ],
            [
             0.7777777777777778,
             "#fb9f3a"
            ],
            [
             0.8888888888888888,
             "#fdca26"
            ],
            [
             1,
             "#f0f921"
            ]
           ]
          },
          "colorway": [
           "#636efa",
           "#EF553B",
           "#00cc96",
           "#ab63fa",
           "#FFA15A",
           "#19d3f3",
           "#FF6692",
           "#B6E880",
           "#FF97FF",
           "#FECB52"
          ],
          "font": {
           "color": "#2a3f5f"
          },
          "geo": {
           "bgcolor": "white",
           "lakecolor": "white",
           "landcolor": "#E5ECF6",
           "showlakes": true,
           "showland": true,
           "subunitcolor": "white"
          },
          "hoverlabel": {
           "align": "left"
          },
          "hovermode": "closest",
          "mapbox": {
           "style": "light"
          },
          "paper_bgcolor": "white",
          "plot_bgcolor": "#E5ECF6",
          "polar": {
           "angularaxis": {
            "gridcolor": "white",
            "linecolor": "white",
            "ticks": ""
           },
           "bgcolor": "#E5ECF6",
           "radialaxis": {
            "gridcolor": "white",
            "linecolor": "white",
            "ticks": ""
           }
          },
          "scene": {
           "xaxis": {
            "backgroundcolor": "#E5ECF6",
            "gridcolor": "white",
            "gridwidth": 2,
            "linecolor": "white",
            "showbackground": true,
            "ticks": "",
            "zerolinecolor": "white"
           },
           "yaxis": {
            "backgroundcolor": "#E5ECF6",
            "gridcolor": "white",
            "gridwidth": 2,
            "linecolor": "white",
            "showbackground": true,
            "ticks": "",
            "zerolinecolor": "white"
           },
           "zaxis": {
            "backgroundcolor": "#E5ECF6",
            "gridcolor": "white",
            "gridwidth": 2,
            "linecolor": "white",
            "showbackground": true,
            "ticks": "",
            "zerolinecolor": "white"
           }
          },
          "shapedefaults": {
           "line": {
            "color": "#2a3f5f"
           }
          },
          "ternary": {
           "aaxis": {
            "gridcolor": "white",
            "linecolor": "white",
            "ticks": ""
           },
           "baxis": {
            "gridcolor": "white",
            "linecolor": "white",
            "ticks": ""
           },
           "bgcolor": "#E5ECF6",
           "caxis": {
            "gridcolor": "white",
            "linecolor": "white",
            "ticks": ""
           }
          },
          "title": {
           "x": 0.05
          },
          "xaxis": {
           "automargin": true,
           "gridcolor": "white",
           "linecolor": "white",
           "ticks": "",
           "title": {
            "standoff": 15
           },
           "zerolinecolor": "white",
           "zerolinewidth": 2
          },
          "yaxis": {
           "automargin": true,
           "gridcolor": "white",
           "linecolor": "white",
           "ticks": "",
           "title": {
            "standoff": 15
           },
           "zerolinecolor": "white",
           "zerolinewidth": 2
          }
         }
        },
        "title": {
         "text": "Distribution of Daily Internet Usage"
        },
        "xaxis": {
         "anchor": "y",
         "domain": [
          0,
          1
         ],
         "title": {
          "text": "Daily Internet Usage"
         }
        },
        "yaxis": {
         "anchor": "x",
         "domain": [
          0,
          1
         ],
         "title": {
          "text": "count"
         }
        }
       }
      }
     },
     "metadata": {},
     "output_type": "display_data"
    }
   ],
   "source": [
    "# Check the distribution of daily internet usage\n",
    "fig = px.histogram(df, x=\"Daily Internet Usage\", nbins=30, title=\"Distribution of Daily Internet Usage\")\n",
    "fig.show()"
   ]
  },
  {
   "cell_type": "code",
   "execution_count": 224,
   "metadata": {},
   "outputs": [
    {
     "data": {
      "application/vnd.plotly.v1+json": {
       "config": {
        "plotlyServerURL": "https://plot.ly"
       },
       "data": [
        {
         "alignmentgroup": "True",
         "boxpoints": "all",
         "hovertemplate": "Clicked on Ad=%{x}<br>Daily Internet Usage=%{y}<extra></extra>",
         "legendgroup": "0",
         "marker": {
          "color": "#636efa"
         },
         "name": "Not Clicked",
         "notched": false,
         "offsetgroup": "0",
         "orientation": "v",
         "showlegend": true,
         "type": "box",
         "x": [
          0,
          0,
          0,
          0,
          0,
          0,
          0,
          0,
          0,
          0,
          0,
          0,
          0,
          0,
          0,
          0,
          0,
          0,
          0,
          0,
          0,
          0,
          0,
          0,
          0,
          0,
          0,
          0,
          0,
          0,
          0,
          0,
          0,
          0,
          0,
          0,
          0,
          0,
          0,
          0,
          0,
          0,
          0,
          0,
          0,
          0,
          0,
          0,
          0,
          0,
          0,
          0,
          0,
          0,
          0,
          0,
          0,
          0,
          0,
          0,
          0,
          0,
          0,
          0,
          0,
          0,
          0,
          0,
          0,
          0,
          0,
          0,
          0,
          0,
          0,
          0,
          0,
          0,
          0,
          0,
          0,
          0,
          0,
          0,
          0,
          0,
          0,
          0,
          0,
          0,
          0,
          0,
          0,
          0,
          0,
          0,
          0,
          0,
          0,
          0,
          0,
          0,
          0,
          0,
          0,
          0,
          0,
          0,
          0,
          0,
          0,
          0,
          0,
          0,
          0,
          0,
          0,
          0,
          0,
          0,
          0,
          0,
          0,
          0,
          0,
          0,
          0,
          0,
          0,
          0,
          0,
          0,
          0,
          0,
          0,
          0,
          0,
          0,
          0,
          0,
          0,
          0,
          0,
          0,
          0,
          0,
          0,
          0,
          0,
          0,
          0,
          0,
          0,
          0,
          0,
          0,
          0,
          0,
          0,
          0,
          0,
          0,
          0,
          0,
          0,
          0,
          0,
          0,
          0,
          0,
          0,
          0,
          0,
          0,
          0,
          0,
          0,
          0,
          0,
          0,
          0,
          0,
          0,
          0,
          0,
          0,
          0,
          0,
          0,
          0,
          0,
          0,
          0,
          0,
          0,
          0,
          0,
          0,
          0,
          0,
          0,
          0,
          0,
          0,
          0,
          0,
          0,
          0,
          0,
          0,
          0,
          0,
          0,
          0,
          0,
          0,
          0,
          0,
          0,
          0,
          0,
          0,
          0,
          0,
          0,
          0,
          0,
          0,
          0,
          0,
          0,
          0,
          0,
          0,
          0,
          0,
          0,
          0,
          0,
          0,
          0,
          0,
          0,
          0,
          0,
          0,
          0,
          0,
          0,
          0,
          0,
          0,
          0,
          0,
          0,
          0,
          0,
          0,
          0,
          0,
          0,
          0,
          0,
          0,
          0,
          0,
          0,
          0,
          0,
          0,
          0,
          0,
          0,
          0,
          0,
          0,
          0,
          0,
          0,
          0,
          0,
          0,
          0,
          0,
          0,
          0,
          0,
          0,
          0,
          0,
          0,
          0,
          0,
          0,
          0,
          0,
          0,
          0,
          0,
          0,
          0,
          0,
          0,
          0,
          0,
          0,
          0,
          0,
          0,
          0,
          0,
          0,
          0,
          0,
          0,
          0,
          0,
          0,
          0,
          0,
          0,
          0,
          0,
          0,
          0,
          0,
          0,
          0,
          0,
          0,
          0,
          0,
          0,
          0,
          0,
          0,
          0,
          0,
          0,
          0,
          0,
          0,
          0,
          0,
          0,
          0,
          0,
          0,
          0,
          0,
          0,
          0,
          0,
          0,
          0,
          0,
          0,
          0,
          0,
          0,
          0,
          0,
          0,
          0,
          0,
          0,
          0,
          0,
          0,
          0,
          0,
          0,
          0,
          0,
          0,
          0,
          0,
          0,
          0,
          0,
          0,
          0,
          0,
          0,
          0,
          0,
          0,
          0,
          0,
          0,
          0,
          0,
          0,
          0,
          0,
          0,
          0,
          0,
          0,
          0,
          0,
          0,
          0,
          0,
          0,
          0,
          0,
          0,
          0,
          0,
          0,
          0,
          0,
          0,
          0,
          0,
          0,
          0,
          0,
          0,
          0,
          0,
          0,
          0,
          0,
          0,
          0,
          0,
          0,
          0,
          0,
          0,
          0,
          0,
          0,
          0,
          0,
          0,
          0,
          0,
          0,
          0,
          0,
          0,
          0,
          0,
          0,
          0,
          0,
          0,
          0,
          0,
          0,
          0,
          0,
          0,
          0,
          0,
          0,
          0,
          0,
          0,
          0,
          0,
          0,
          0,
          0,
          0,
          0,
          0,
          0,
          0,
          0,
          0,
          0,
          0,
          0,
          0,
          0,
          0,
          0,
          0,
          0,
          0,
          0,
          0,
          0,
          0,
          0,
          0,
          0,
          0,
          0,
          0,
          0,
          0,
          0,
          0,
          0,
          0
         ],
         "x0": " ",
         "xaxis": "x",
         "y": [
          256.09,
          193.77,
          236.5,
          245.89,
          225.58,
          226.74,
          208.36,
          221.51,
          183.82,
          230.87,
          214.23,
          187.53,
          224.44,
          226.54,
          209.93,
          204.79,
          209.82,
          267.01,
          207.48,
          201.58,
          221.94,
          202.61,
          252.36,
          198.11,
          212.3,
          204.86,
          202.25,
          198.72,
          196.71,
          225.29,
          177.55,
          239.22,
          183.43,
          192.93,
          169.5,
          182.65,
          198.5,
          215.25,
          222.63,
          215.93,
          238.99,
          209.25,
          222.75,
          184.1,
          200.55,
          227.72,
          238.63,
          182.65,
          235.28,
          194.23,
          218.17,
          202.16,
          229.12,
          241.03,
          210.54,
          211.87,
          221.21,
          244.34,
          210.26,
          231.94,
          212.79,
          230.93,
          206.98,
          223.03,
          233.56,
          215.44,
          172.81,
          146.19,
          190.25,
          234.26,
          210.6,
          176.28,
          172.1,
          247.31,
          183.48,
          222.11,
          182.65,
          195.31,
          222.77,
          251,
          162.44,
          219.72,
          198.56,
          199.79,
          196.23,
          163.05,
          227.56,
          199.43,
          208.23,
          255.61,
          210.46,
          233.65,
          254.05,
          239.32,
          201.26,
          191.14,
          214.42,
          252.77,
          183.85,
          218.79,
          212.67,
          187.36,
          217.85,
          235.35,
          229.22,
          254.57,
          200.59,
          171.07,
          199.08,
          201.04,
          228.03,
          158.05,
          234.75,
          192.85,
          204.52,
          178.75,
          223.09,
          222.25,
          204.02,
          201.15,
          231.42,
          226.11,
          212.56,
          244.55,
          230.14,
          203.23,
          221.79,
          254.34,
          179.58,
          242.37,
          216.87,
          177.78,
          156.48,
          196.76,
          237.39,
          212.87,
          213.36,
          210.23,
          228.76,
          163.99,
          218.97,
          238.58,
          226.45,
          214.74,
          231.49,
          250,
          214.53,
          231.07,
          186.48,
          221.53,
          243.37,
          250.35,
          232.54,
          186.98,
          236.19,
          186.37,
          180.77,
          170.13,
          243.61,
          240.95,
          231.59,
          220.92,
          200.58,
          214.08,
          245.78,
          188.27,
          184.03,
          233.6,
          220.05,
          211.39,
          230.91,
          205.5,
          218.61,
          199.39,
          178.51,
          237.34,
          211.38,
          228.81,
          217.68,
          221.98,
          207.87,
          193.8,
          231.48,
          195.36,
          261.02,
          217.79,
          205.38,
          206.79,
          203.74,
          197.33,
          222.26,
          248.19,
          224.58,
          168.15,
          235.99,
          224.23,
          190.75,
          227.73,
          234.64,
          216,
          200.28,
          202.77,
          204.22,
          198.32,
          201.24,
          230.36,
          202.12,
          248.16,
          208.05,
          205.64,
          209.64,
          217.1,
          184.88,
          192.6,
          220.48,
          230.9,
          231.85,
          211.87,
          218.8,
          212.92,
          221.18,
          248.12,
          214.42,
          167.67,
          236.87,
          256.4,
          218.22,
          169.88,
          239.76,
          183.42,
          238.45,
          219.94,
          223.28,
          175.17,
          191.17,
          224.92,
          216.57,
          207.27,
          231.54,
          219.49,
          219.98,
          207.17,
          187.76,
          213.38,
          158.42,
          213.75,
          244.87,
          193.63,
          223.16,
          216.49,
          173.49,
          253.17,
          228.7,
          215.18,
          236.64,
          234.72,
          231.37,
          215.18,
          250.03,
          233.93,
          202.9,
          230.18,
          165.27,
          198.45,
          162.03,
          244.91,
          209.91,
          212.38,
          208.02,
          181.11,
          218.49,
          236.29,
          230.95,
          222.91,
          247.9,
          194.37,
          211.64,
          211.83,
          235.01,
          236.72,
          229.99,
          224.9,
          208.76,
          223.93,
          226.79,
          164.25,
          235.28,
          251.08,
          166.19,
          185.45,
          238.06,
          190.71,
          246.72,
          240.63,
          249.54,
          233.04,
          208.24,
          231.21,
          254.59,
          252.07,
          238.1,
          211.12,
          193.97,
          231.38,
          246.44,
          204.56,
          196.77,
          203.84,
          240.09,
          245.76,
          228.94,
          242.59,
          259.76,
          182.65,
          190.08,
          210.27,
          149.25,
          192.27,
          191.78,
          236.15,
          236.75,
          241.8,
          224.98,
          198.13,
          225.99,
          219.72,
          235.56,
          182.65,
          253.48,
          199.76,
          225.87,
          175.14,
          222.35,
          224.07,
          182.65,
          224.2,
          182.84,
          258.06,
          201.29,
          223.16,
          215.04,
          230.36,
          235.97,
          201.54,
          210.53,
          210.39,
          225.23,
          153.01,
          200.71,
          192.81,
          226.69,
          247.05,
          216.24,
          230.52,
          225.34,
          197.15,
          231.95,
          198.86,
          244.23,
          214.49,
          189.91,
          233.61,
          197.93,
          208.01,
          219.55,
          217.66,
          225.47,
          214.06,
          158.29,
          216.03,
          192.5,
          185.85,
          246.06,
          214.33,
          230.77,
          234.75,
          225.05,
          231.91,
          171.23,
          227.37,
          190.17,
          250.2,
          194.95,
          222.87,
          229.88,
          182.65,
          190.95,
          193.29,
          164.02,
          240.64,
          190.12,
          179.82,
          212.59,
          227.53,
          229.19,
          190.84,
          175.43,
          224.82,
          180.47,
          213.96,
          225.02,
          219.91,
          230.78,
          167.41,
          165.43,
          195.68,
          204.47,
          204.82,
          198.79,
          236.08,
          196.17,
          228.81,
          180.88,
          241.38,
          170.9,
          203.87,
          232.78,
          225,
          212.88,
          194.23,
          232.21,
          209.72,
          226.64,
          192.57,
          222.72,
          225.97,
          254.94,
          199.29,
          231.28,
          224.01,
          169.1,
          261.52,
          250.11,
          213.7,
          223.2,
          205.71,
          244.4,
          220.08,
          165.65,
          241.5,
          246.29,
          195.93,
          216.5,
          225.76,
          222.08,
          235.94,
          203.44,
          250.32,
          167.26,
          187.03,
          249.45,
          217.37,
          236.96,
          199.62,
          249.81,
          205.84,
          238.43,
          241.36,
          194.56,
          207.53,
          235.29,
          178.69,
          221.59,
          236.96,
          193.6,
          226.49,
          211.56,
          199.4,
          215.29,
          181.25,
          245.5,
          182.65,
          184.98,
          187.64,
          239.94,
          248.23,
          194.62,
          185.46,
          198.24,
          191.82,
          249.99,
          247.01,
          234.23,
          161.42,
          195.56,
          211.17,
          247.05,
          233.85,
          188.32,
          203.3,
          166.31,
          254.65,
          258.26,
          234.81,
          256.39,
          232.68,
          204.4,
          256.4,
          227.63,
          187.95
         ],
         "y0": " ",
         "yaxis": "y"
        },
        {
         "alignmentgroup": "True",
         "boxpoints": "all",
         "hovertemplate": "Clicked on Ad=%{x}<br>Daily Internet Usage=%{y}<extra></extra>",
         "legendgroup": "1",
         "marker": {
          "color": "#EF553B"
         },
         "name": "Clicked",
         "notched": false,
         "offsetgroup": "1",
         "orientation": "v",
         "showlegend": true,
         "type": "box",
         "x": [
          1,
          1,
          1,
          1,
          1,
          1,
          1,
          1,
          1,
          1,
          1,
          1,
          1,
          1,
          1,
          1,
          1,
          1,
          1,
          1,
          1,
          1,
          1,
          1,
          1,
          1,
          1,
          1,
          1,
          1,
          1,
          1,
          1,
          1,
          1,
          1,
          1,
          1,
          1,
          1,
          1,
          1,
          1,
          1,
          1,
          1,
          1,
          1,
          1,
          1,
          1,
          1,
          1,
          1,
          1,
          1,
          1,
          1,
          1,
          1,
          1,
          1,
          1,
          1,
          1,
          1,
          1,
          1,
          1,
          1,
          1,
          1,
          1,
          1,
          1,
          1,
          1,
          1,
          1,
          1,
          1,
          1,
          1,
          1,
          1,
          1,
          1,
          1,
          1,
          1,
          1,
          1,
          1,
          1,
          1,
          1,
          1,
          1,
          1,
          1,
          1,
          1,
          1,
          1,
          1,
          1,
          1,
          1,
          1,
          1,
          1,
          1,
          1,
          1,
          1,
          1,
          1,
          1,
          1,
          1,
          1,
          1,
          1,
          1,
          1,
          1,
          1,
          1,
          1,
          1,
          1,
          1,
          1,
          1,
          1,
          1,
          1,
          1,
          1,
          1,
          1,
          1,
          1,
          1,
          1,
          1,
          1,
          1,
          1,
          1,
          1,
          1,
          1,
          1,
          1,
          1,
          1,
          1,
          1,
          1,
          1,
          1,
          1,
          1,
          1,
          1,
          1,
          1,
          1,
          1,
          1,
          1,
          1,
          1,
          1,
          1,
          1,
          1,
          1,
          1,
          1,
          1,
          1,
          1,
          1,
          1,
          1,
          1,
          1,
          1,
          1,
          1,
          1,
          1,
          1,
          1,
          1,
          1,
          1,
          1,
          1,
          1,
          1,
          1,
          1,
          1,
          1,
          1,
          1,
          1,
          1,
          1,
          1,
          1,
          1,
          1,
          1,
          1,
          1,
          1,
          1,
          1,
          1,
          1,
          1,
          1,
          1,
          1,
          1,
          1,
          1,
          1,
          1,
          1,
          1,
          1,
          1,
          1,
          1,
          1,
          1,
          1,
          1,
          1,
          1,
          1,
          1,
          1,
          1,
          1,
          1,
          1,
          1,
          1,
          1,
          1,
          1,
          1,
          1,
          1,
          1,
          1,
          1,
          1,
          1,
          1,
          1,
          1,
          1,
          1,
          1,
          1,
          1,
          1,
          1,
          1,
          1,
          1,
          1,
          1,
          1,
          1,
          1,
          1,
          1,
          1,
          1,
          1,
          1,
          1,
          1,
          1,
          1,
          1,
          1,
          1,
          1,
          1,
          1,
          1,
          1,
          1,
          1,
          1,
          1,
          1,
          1,
          1,
          1,
          1,
          1,
          1,
          1,
          1,
          1,
          1,
          1,
          1,
          1,
          1,
          1,
          1,
          1,
          1,
          1,
          1,
          1,
          1,
          1,
          1,
          1,
          1,
          1,
          1,
          1,
          1,
          1,
          1,
          1,
          1,
          1,
          1,
          1,
          1,
          1,
          1,
          1,
          1,
          1,
          1,
          1,
          1,
          1,
          1,
          1,
          1,
          1,
          1,
          1,
          1,
          1,
          1,
          1,
          1,
          1,
          1,
          1,
          1,
          1,
          1,
          1,
          1,
          1,
          1,
          1,
          1,
          1,
          1,
          1,
          1,
          1,
          1,
          1,
          1,
          1,
          1,
          1,
          1,
          1,
          1,
          1,
          1,
          1,
          1,
          1,
          1,
          1,
          1,
          1,
          1,
          1,
          1,
          1,
          1,
          1,
          1,
          1,
          1,
          1,
          1,
          1,
          1,
          1,
          1,
          1,
          1,
          1,
          1,
          1,
          1,
          1,
          1,
          1,
          1,
          1,
          1,
          1,
          1,
          1,
          1,
          1,
          1,
          1,
          1,
          1,
          1,
          1,
          1,
          1,
          1,
          1,
          1,
          1,
          1,
          1,
          1,
          1,
          1,
          1,
          1,
          1,
          1,
          1,
          1,
          1,
          1,
          1,
          1,
          1,
          1,
          1,
          1,
          1,
          1,
          1,
          1,
          1,
          1,
          1,
          1,
          1,
          1,
          1,
          1,
          1,
          1,
          1,
          1,
          1,
          1,
          1,
          1,
          1,
          1,
          1,
          1,
          1,
          1,
          1,
          1,
          1,
          1,
          1,
          1,
          1,
          1,
          1,
          1,
          1,
          1
         ],
         "x0": " ",
         "xaxis": "x",
         "y": [
          131.76,
          122.02,
          113.12,
          143.56,
          140.64,
          129.41,
          182.65,
          135.51,
          164.83,
          167.22,
          134.14,
          129.23,
          119.2,
          169.23,
          212.58,
          133.81,
          125.45,
          119.32,
          162.08,
          172.83,
          123.72,
          119.93,
          193.58,
          133.2,
          119.3,
          150.61,
          129.31,
          156.36,
          141.22,
          105.22,
          200.22,
          131.72,
          139.01,
          153.17,
          167.07,
          145.98,
          120.06,
          113.53,
          111.71,
          115.91,
          138.71,
          105.15,
          118.6,
          109.07,
          109.29,
          138.35,
          149.67,
          125.85,
          166.29,
          154.02,
          156.3,
          158.22,
          169.18,
          150.99,
          135.18,
          176.98,
          235.78,
          123.64,
          162.95,
          112.19,
          207.18,
          152.49,
          225.24,
          127.11,
          127.07,
          175.37,
          132.55,
          176.73,
          127.83,
          160.03,
          140.46,
          137.28,
          163,
          124.38,
          141.89,
          128.95,
          108.16,
          152.24,
          150.29,
          158.22,
          127.01,
          202.18,
          159.24,
          140.39,
          194.83,
          143.42,
          104.78,
          138.55,
          137.43,
          105.69,
          133.17,
          145.96,
          168.34,
          157.04,
          136.64,
          153.98,
          153.76,
          145.85,
          123.91,
          106.86,
          110.57,
          143.79,
          116.53,
          137.24,
          172.58,
          120.9,
          140.83,
          134.88,
          163.38,
          155.8,
          151.95,
          125.94,
          111.94,
          200.23,
          170.49,
          136.59,
          154.97,
          133.99,
          119.84,
          154.75,
          136.4,
          143.94,
          239.52,
          199.25,
          133.9,
          123.51,
          128.17,
          150.84,
          115.26,
          146.13,
          182.65,
          168.27,
          161.16,
          119.03,
          164.63,
          123.13,
          138.68,
          121.05,
          109.77,
          144.62,
          125.22,
          120.95,
          136.94,
          171.31,
          168,
          156.54,
          144.27,
          148.61,
          133.18,
          130.41,
          127.26,
          141.36,
          167.22,
          171.62,
          159.46,
          176.52,
          152.36,
          130.83,
          165.56,
          178.85,
          161.16,
          169.4,
          110.68,
          105,
          135.31,
          195.91,
          208.21,
          219.79,
          135.24,
          142.67,
          168.92,
          115.35,
          131.68,
          188.56,
          184.94,
          126.97,
          167.86,
          111.59,
          158.56,
          150.8,
          110.93,
          135.72,
          140.15,
          113.7,
          151.47,
          144.71,
          123.8,
          125.45,
          123.25,
          153.69,
          132.66,
          136.85,
          124.44,
          174.55,
          219.69,
          165.52,
          148.93,
          117.35,
          139.02,
          142.04,
          258.62,
          152.86,
          180.42,
          108.15,
          129.25,
          120.85,
          160.74,
          120.06,
          129.33,
          132.31,
          120.75,
          154.74,
          123.28,
          255.07,
          139.42,
          110.25,
          147.92,
          147.64,
          109,
          171.72,
          214.38,
          119.65,
          160.73,
          145.08,
          201.15,
          127.37,
          129.8,
          134.6,
          177.46,
          196.61,
          151.12,
          159.6,
          149.2,
          121.81,
          167.42,
          141.34,
          132.71,
          143.13,
          196.83,
          129.88,
          119.3,
          119.47,
          159.77,
          117.3,
          182.65,
          120.25,
          117.75,
          126.95,
          132.63,
          124.85,
          105.94,
          113.8,
          121.07,
          173.43,
          166.86,
          106.04,
          130.4,
          132.08,
          126.39,
          151.25,
          136.18,
          120.46,
          128.16,
          138.87,
          156.99,
          118.1,
          108.17,
          108.7,
          168.29,
          154.23,
          127.56,
          145.48,
          114.85,
          109.22,
          144.69,
          117.66,
          114.53,
          125.65,
          158.35,
          118.16,
          134.46,
          142.81,
          112.72,
          120.12,
          161.58,
          135.08,
          164.25,
          129.01,
          161.24,
          141.13,
          110.66,
          135.24,
          156.97,
          222.11,
          136.21,
          118.27,
          135.48,
          127.82,
          138.35,
          116.27,
          160.33,
          181.02,
          148.19,
          161.77,
          109.34,
          151.18,
          151.54,
          146.8,
          150.83,
          108.03,
          136.99,
          131.29,
          195.07,
          110.84,
          149.21,
          158.8,
          137.97,
          120.63,
          137.2,
          122.31,
          182.11,
          228.78,
          122.45,
          150.77,
          195.54,
          250.36,
          126.44,
          184.23,
          151.94,
          161.79,
          149.8,
          130.86,
          141.96,
          125.2,
          131.55,
          179.04,
          117.3,
          173.05,
          132.27,
          204.27,
          169.4,
          176.78,
          152.94,
          119.27,
          128,
          123.08,
          138.52,
          113.69,
          137.63,
          163.48,
          121.24,
          131.98,
          122.59,
          210.87,
          135.25,
          105.86,
          118.69,
          124.58,
          248.51,
          120.49,
          195.69,
          151.93,
          111.8,
          128.37,
          195.89,
          147.75,
          126.29,
          147.61,
          121.57,
          115.91,
          187.09,
          106.96,
          171.54,
          198.3,
          185.47,
          166.85,
          151.63,
          191.26,
          202.7,
          123.71,
          154,
          144.53,
          197.66,
          136.18,
          167.87,
          170.04,
          162.44,
          119.86,
          123.24,
          111.63,
          142.23,
          139.32,
          125.46,
          127.65,
          108.85,
          156.11,
          127.2,
          143.04,
          159.69,
          141.52,
          105.71,
          252.6,
          124.67,
          108.27,
          132.38,
          144.77,
          132.38,
          128.98,
          124.61,
          115.6,
          117.33,
          128.48,
          107.56,
          113.53,
          108.18,
          133.42,
          124.34,
          118.45,
          158.03,
          108.25,
          255.57,
          190.41,
          161.29,
          182.65,
          142.21,
          171.24,
          173.75,
          107.19,
          154.93,
          158.81,
          123.22,
          140.95,
          115.37,
          111.02,
          171.9,
          190.95,
          115.79,
          108.1,
          151.72,
          122.04,
          203.9,
          121.28,
          216.01,
          146.44,
          182.2,
          109.98,
          160.49,
          128.62,
          174.88,
          113.75,
          112.52,
          129.16,
          149.53,
          153.12,
          150.79,
          130.84,
          114.69,
          116.19,
          149.79,
          107.92,
          135.67,
          190.05,
          123.86,
          162.05,
          125.11,
          145.73,
          116.07,
          154.77,
          178.75,
          193.15,
          138.46,
          162.46,
          231.87,
          141.58,
          109.04,
          172.57,
          124.32,
          194.44,
          176.7,
          125.27,
          159.05,
          151.96,
          132.07,
          162.43,
          126.11,
          139.34,
          105.63,
          116.38,
          168.41,
          140.77,
          125.12,
          105.04,
          165.62,
          182.65,
          123.62,
          173.01,
          208.58,
          134.42,
          120.37,
          178.35
         ],
         "y0": " ",
         "yaxis": "y"
        }
       ],
       "layout": {
        "boxmode": "overlay",
        "legend": {
         "title": {
          "text": "Clicked on Ad"
         },
         "tracegroupgap": 0
        },
        "template": {
         "data": {
          "bar": [
           {
            "error_x": {
             "color": "#2a3f5f"
            },
            "error_y": {
             "color": "#2a3f5f"
            },
            "marker": {
             "line": {
              "color": "#E5ECF6",
              "width": 0.5
             },
             "pattern": {
              "fillmode": "overlay",
              "size": 10,
              "solidity": 0.2
             }
            },
            "type": "bar"
           }
          ],
          "barpolar": [
           {
            "marker": {
             "line": {
              "color": "#E5ECF6",
              "width": 0.5
             },
             "pattern": {
              "fillmode": "overlay",
              "size": 10,
              "solidity": 0.2
             }
            },
            "type": "barpolar"
           }
          ],
          "carpet": [
           {
            "aaxis": {
             "endlinecolor": "#2a3f5f",
             "gridcolor": "white",
             "linecolor": "white",
             "minorgridcolor": "white",
             "startlinecolor": "#2a3f5f"
            },
            "baxis": {
             "endlinecolor": "#2a3f5f",
             "gridcolor": "white",
             "linecolor": "white",
             "minorgridcolor": "white",
             "startlinecolor": "#2a3f5f"
            },
            "type": "carpet"
           }
          ],
          "choropleth": [
           {
            "colorbar": {
             "outlinewidth": 0,
             "ticks": ""
            },
            "type": "choropleth"
           }
          ],
          "contour": [
           {
            "colorbar": {
             "outlinewidth": 0,
             "ticks": ""
            },
            "colorscale": [
             [
              0,
              "#0d0887"
             ],
             [
              0.1111111111111111,
              "#46039f"
             ],
             [
              0.2222222222222222,
              "#7201a8"
             ],
             [
              0.3333333333333333,
              "#9c179e"
             ],
             [
              0.4444444444444444,
              "#bd3786"
             ],
             [
              0.5555555555555556,
              "#d8576b"
             ],
             [
              0.6666666666666666,
              "#ed7953"
             ],
             [
              0.7777777777777778,
              "#fb9f3a"
             ],
             [
              0.8888888888888888,
              "#fdca26"
             ],
             [
              1,
              "#f0f921"
             ]
            ],
            "type": "contour"
           }
          ],
          "contourcarpet": [
           {
            "colorbar": {
             "outlinewidth": 0,
             "ticks": ""
            },
            "type": "contourcarpet"
           }
          ],
          "heatmap": [
           {
            "colorbar": {
             "outlinewidth": 0,
             "ticks": ""
            },
            "colorscale": [
             [
              0,
              "#0d0887"
             ],
             [
              0.1111111111111111,
              "#46039f"
             ],
             [
              0.2222222222222222,
              "#7201a8"
             ],
             [
              0.3333333333333333,
              "#9c179e"
             ],
             [
              0.4444444444444444,
              "#bd3786"
             ],
             [
              0.5555555555555556,
              "#d8576b"
             ],
             [
              0.6666666666666666,
              "#ed7953"
             ],
             [
              0.7777777777777778,
              "#fb9f3a"
             ],
             [
              0.8888888888888888,
              "#fdca26"
             ],
             [
              1,
              "#f0f921"
             ]
            ],
            "type": "heatmap"
           }
          ],
          "heatmapgl": [
           {
            "colorbar": {
             "outlinewidth": 0,
             "ticks": ""
            },
            "colorscale": [
             [
              0,
              "#0d0887"
             ],
             [
              0.1111111111111111,
              "#46039f"
             ],
             [
              0.2222222222222222,
              "#7201a8"
             ],
             [
              0.3333333333333333,
              "#9c179e"
             ],
             [
              0.4444444444444444,
              "#bd3786"
             ],
             [
              0.5555555555555556,
              "#d8576b"
             ],
             [
              0.6666666666666666,
              "#ed7953"
             ],
             [
              0.7777777777777778,
              "#fb9f3a"
             ],
             [
              0.8888888888888888,
              "#fdca26"
             ],
             [
              1,
              "#f0f921"
             ]
            ],
            "type": "heatmapgl"
           }
          ],
          "histogram": [
           {
            "marker": {
             "pattern": {
              "fillmode": "overlay",
              "size": 10,
              "solidity": 0.2
             }
            },
            "type": "histogram"
           }
          ],
          "histogram2d": [
           {
            "colorbar": {
             "outlinewidth": 0,
             "ticks": ""
            },
            "colorscale": [
             [
              0,
              "#0d0887"
             ],
             [
              0.1111111111111111,
              "#46039f"
             ],
             [
              0.2222222222222222,
              "#7201a8"
             ],
             [
              0.3333333333333333,
              "#9c179e"
             ],
             [
              0.4444444444444444,
              "#bd3786"
             ],
             [
              0.5555555555555556,
              "#d8576b"
             ],
             [
              0.6666666666666666,
              "#ed7953"
             ],
             [
              0.7777777777777778,
              "#fb9f3a"
             ],
             [
              0.8888888888888888,
              "#fdca26"
             ],
             [
              1,
              "#f0f921"
             ]
            ],
            "type": "histogram2d"
           }
          ],
          "histogram2dcontour": [
           {
            "colorbar": {
             "outlinewidth": 0,
             "ticks": ""
            },
            "colorscale": [
             [
              0,
              "#0d0887"
             ],
             [
              0.1111111111111111,
              "#46039f"
             ],
             [
              0.2222222222222222,
              "#7201a8"
             ],
             [
              0.3333333333333333,
              "#9c179e"
             ],
             [
              0.4444444444444444,
              "#bd3786"
             ],
             [
              0.5555555555555556,
              "#d8576b"
             ],
             [
              0.6666666666666666,
              "#ed7953"
             ],
             [
              0.7777777777777778,
              "#fb9f3a"
             ],
             [
              0.8888888888888888,
              "#fdca26"
             ],
             [
              1,
              "#f0f921"
             ]
            ],
            "type": "histogram2dcontour"
           }
          ],
          "mesh3d": [
           {
            "colorbar": {
             "outlinewidth": 0,
             "ticks": ""
            },
            "type": "mesh3d"
           }
          ],
          "parcoords": [
           {
            "line": {
             "colorbar": {
              "outlinewidth": 0,
              "ticks": ""
             }
            },
            "type": "parcoords"
           }
          ],
          "pie": [
           {
            "automargin": true,
            "type": "pie"
           }
          ],
          "scatter": [
           {
            "fillpattern": {
             "fillmode": "overlay",
             "size": 10,
             "solidity": 0.2
            },
            "type": "scatter"
           }
          ],
          "scatter3d": [
           {
            "line": {
             "colorbar": {
              "outlinewidth": 0,
              "ticks": ""
             }
            },
            "marker": {
             "colorbar": {
              "outlinewidth": 0,
              "ticks": ""
             }
            },
            "type": "scatter3d"
           }
          ],
          "scattercarpet": [
           {
            "marker": {
             "colorbar": {
              "outlinewidth": 0,
              "ticks": ""
             }
            },
            "type": "scattercarpet"
           }
          ],
          "scattergeo": [
           {
            "marker": {
             "colorbar": {
              "outlinewidth": 0,
              "ticks": ""
             }
            },
            "type": "scattergeo"
           }
          ],
          "scattergl": [
           {
            "marker": {
             "colorbar": {
              "outlinewidth": 0,
              "ticks": ""
             }
            },
            "type": "scattergl"
           }
          ],
          "scattermapbox": [
           {
            "marker": {
             "colorbar": {
              "outlinewidth": 0,
              "ticks": ""
             }
            },
            "type": "scattermapbox"
           }
          ],
          "scatterpolar": [
           {
            "marker": {
             "colorbar": {
              "outlinewidth": 0,
              "ticks": ""
             }
            },
            "type": "scatterpolar"
           }
          ],
          "scatterpolargl": [
           {
            "marker": {
             "colorbar": {
              "outlinewidth": 0,
              "ticks": ""
             }
            },
            "type": "scatterpolargl"
           }
          ],
          "scatterternary": [
           {
            "marker": {
             "colorbar": {
              "outlinewidth": 0,
              "ticks": ""
             }
            },
            "type": "scatterternary"
           }
          ],
          "surface": [
           {
            "colorbar": {
             "outlinewidth": 0,
             "ticks": ""
            },
            "colorscale": [
             [
              0,
              "#0d0887"
             ],
             [
              0.1111111111111111,
              "#46039f"
             ],
             [
              0.2222222222222222,
              "#7201a8"
             ],
             [
              0.3333333333333333,
              "#9c179e"
             ],
             [
              0.4444444444444444,
              "#bd3786"
             ],
             [
              0.5555555555555556,
              "#d8576b"
             ],
             [
              0.6666666666666666,
              "#ed7953"
             ],
             [
              0.7777777777777778,
              "#fb9f3a"
             ],
             [
              0.8888888888888888,
              "#fdca26"
             ],
             [
              1,
              "#f0f921"
             ]
            ],
            "type": "surface"
           }
          ],
          "table": [
           {
            "cells": {
             "fill": {
              "color": "#EBF0F8"
             },
             "line": {
              "color": "white"
             }
            },
            "header": {
             "fill": {
              "color": "#C8D4E3"
             },
             "line": {
              "color": "white"
             }
            },
            "type": "table"
           }
          ]
         },
         "layout": {
          "annotationdefaults": {
           "arrowcolor": "#2a3f5f",
           "arrowhead": 0,
           "arrowwidth": 1
          },
          "autotypenumbers": "strict",
          "coloraxis": {
           "colorbar": {
            "outlinewidth": 0,
            "ticks": ""
           }
          },
          "colorscale": {
           "diverging": [
            [
             0,
             "#8e0152"
            ],
            [
             0.1,
             "#c51b7d"
            ],
            [
             0.2,
             "#de77ae"
            ],
            [
             0.3,
             "#f1b6da"
            ],
            [
             0.4,
             "#fde0ef"
            ],
            [
             0.5,
             "#f7f7f7"
            ],
            [
             0.6,
             "#e6f5d0"
            ],
            [
             0.7,
             "#b8e186"
            ],
            [
             0.8,
             "#7fbc41"
            ],
            [
             0.9,
             "#4d9221"
            ],
            [
             1,
             "#276419"
            ]
           ],
           "sequential": [
            [
             0,
             "#0d0887"
            ],
            [
             0.1111111111111111,
             "#46039f"
            ],
            [
             0.2222222222222222,
             "#7201a8"
            ],
            [
             0.3333333333333333,
             "#9c179e"
            ],
            [
             0.4444444444444444,
             "#bd3786"
            ],
            [
             0.5555555555555556,
             "#d8576b"
            ],
            [
             0.6666666666666666,
             "#ed7953"
            ],
            [
             0.7777777777777778,
             "#fb9f3a"
            ],
            [
             0.8888888888888888,
             "#fdca26"
            ],
            [
             1,
             "#f0f921"
            ]
           ],
           "sequentialminus": [
            [
             0,
             "#0d0887"
            ],
            [
             0.1111111111111111,
             "#46039f"
            ],
            [
             0.2222222222222222,
             "#7201a8"
            ],
            [
             0.3333333333333333,
             "#9c179e"
            ],
            [
             0.4444444444444444,
             "#bd3786"
            ],
            [
             0.5555555555555556,
             "#d8576b"
            ],
            [
             0.6666666666666666,
             "#ed7953"
            ],
            [
             0.7777777777777778,
             "#fb9f3a"
            ],
            [
             0.8888888888888888,
             "#fdca26"
            ],
            [
             1,
             "#f0f921"
            ]
           ]
          },
          "colorway": [
           "#636efa",
           "#EF553B",
           "#00cc96",
           "#ab63fa",
           "#FFA15A",
           "#19d3f3",
           "#FF6692",
           "#B6E880",
           "#FF97FF",
           "#FECB52"
          ],
          "font": {
           "color": "#2a3f5f"
          },
          "geo": {
           "bgcolor": "white",
           "lakecolor": "white",
           "landcolor": "#E5ECF6",
           "showlakes": true,
           "showland": true,
           "subunitcolor": "white"
          },
          "hoverlabel": {
           "align": "left"
          },
          "hovermode": "closest",
          "mapbox": {
           "style": "light"
          },
          "paper_bgcolor": "white",
          "plot_bgcolor": "#E5ECF6",
          "polar": {
           "angularaxis": {
            "gridcolor": "white",
            "linecolor": "white",
            "ticks": ""
           },
           "bgcolor": "#E5ECF6",
           "radialaxis": {
            "gridcolor": "white",
            "linecolor": "white",
            "ticks": ""
           }
          },
          "scene": {
           "xaxis": {
            "backgroundcolor": "#E5ECF6",
            "gridcolor": "white",
            "gridwidth": 2,
            "linecolor": "white",
            "showbackground": true,
            "ticks": "",
            "zerolinecolor": "white"
           },
           "yaxis": {
            "backgroundcolor": "#E5ECF6",
            "gridcolor": "white",
            "gridwidth": 2,
            "linecolor": "white",
            "showbackground": true,
            "ticks": "",
            "zerolinecolor": "white"
           },
           "zaxis": {
            "backgroundcolor": "#E5ECF6",
            "gridcolor": "white",
            "gridwidth": 2,
            "linecolor": "white",
            "showbackground": true,
            "ticks": "",
            "zerolinecolor": "white"
           }
          },
          "shapedefaults": {
           "line": {
            "color": "#2a3f5f"
           }
          },
          "ternary": {
           "aaxis": {
            "gridcolor": "white",
            "linecolor": "white",
            "ticks": ""
           },
           "baxis": {
            "gridcolor": "white",
            "linecolor": "white",
            "ticks": ""
           },
           "bgcolor": "#E5ECF6",
           "caxis": {
            "gridcolor": "white",
            "linecolor": "white",
            "ticks": ""
           }
          },
          "title": {
           "x": 0.05
          },
          "xaxis": {
           "automargin": true,
           "gridcolor": "white",
           "linecolor": "white",
           "ticks": "",
           "title": {
            "standoff": 15
           },
           "zerolinecolor": "white",
           "zerolinewidth": 2
          },
          "yaxis": {
           "automargin": true,
           "gridcolor": "white",
           "linecolor": "white",
           "ticks": "",
           "title": {
            "standoff": 15
           },
           "zerolinecolor": "white",
           "zerolinewidth": 2
          }
         }
        },
        "title": {
         "text": "Daily Internet Usage Distribution by Clicked on Ad"
        },
        "xaxis": {
         "anchor": "y",
         "categoryarray": [
          0,
          1
         ],
         "categoryorder": "array",
         "domain": [
          0,
          1
         ],
         "ticktext": [
          "Not Clicked",
          "Clicked"
         ],
         "tickvals": [
          0,
          1
         ],
         "title": {
          "text": "Clicked on Ad"
         }
        },
        "yaxis": {
         "anchor": "x",
         "domain": [
          0,
          1
         ],
         "title": {
          "text": "Daily Internet Usage"
         }
        }
       }
      }
     },
     "metadata": {},
     "output_type": "display_data"
    }
   ],
   "source": [
    "# How does daily spent on site affect clicked on ad\n",
    "fig = px.box(df, x=\"Clicked on Ad\", y=\"Daily Internet Usage\", color=\"Clicked on Ad\", \n",
    "             title=\"Daily Internet Usage Distribution by Clicked on Ad\", points=\"all\")\n",
    "fig.update_layout(xaxis_tickvals=[0, 1], xaxis_ticktext=[\"Not Clicked\", \"Clicked\"])\n",
    "\n",
    "# Change legend label to text\n",
    "fig.update_traces(name=\"Not Clicked\", selector=dict(name=\"0\"))\n",
    "fig.update_traces(name=\"Clicked\", selector=dict(name=\"1\"))\n",
    "fig.show()"
   ]
  },
  {
   "cell_type": "code",
   "execution_count": 229,
   "metadata": {},
   "outputs": [
    {
     "data": {
      "application/vnd.plotly.v1+json": {
       "config": {
        "plotlyServerURL": "https://plot.ly"
       },
       "data": [
        {
         "hovertemplate": "Clicked Label=Not Clicked<br>Daily Time Spent on Site=%{x}<br>Daily Internet Usage=%{y}<extra></extra>",
         "legendgroup": "Not Clicked",
         "marker": {
          "color": "blue",
          "symbol": "circle"
         },
         "mode": "markers",
         "name": "Not Clicked",
         "orientation": "v",
         "showlegend": true,
         "type": "scatter",
         "x": [
          68.95,
          80.23,
          69.47,
          74.15,
          68.37,
          59.99,
          88.91,
          74.53,
          69.88,
          83.07,
          79.52,
          82.03,
          77.22,
          84.59,
          87.29,
          68.11,
          76.02,
          67.64,
          86.41,
          84.37,
          65.82,
          84.98,
          64.24,
          82.52,
          81.38,
          80.47,
          69.62,
          85.4,
          73.18,
          79.94,
          80.6,
          77.63,
          85.61,
          85.84,
          72.08,
          68.11,
          62.42,
          75.74,
          69.01,
          64.1,
          82.73,
          78.11,
          73.46,
          70.79,
          77.51,
          70.03,
          72.84,
          79.71,
          63.6,
          89.91,
          68.18,
          66.49,
          80.49,
          72.23,
          74.02,
          71,
          69,
          76.99,
          86.19,
          49.58,
          77.65,
          79.57,
          89.05,
          70.41,
          67.36,
          75.7,
          71.89,
          75.8,
          83.86,
          83.67,
          69.08,
          58.18,
          68.11,
          65.4,
          79.52,
          87.98,
          80.46,
          76.32,
          82.68,
          72.01,
          75.83,
          86.06,
          86.69,
          71.84,
          80.23,
          74.41,
          71.74,
          72.04,
          85.86,
          67.58,
          85.56,
          77.95,
          77.2,
          78.57,
          73.41,
          77.05,
          66.4,
          69.35,
          70.04,
          69.78,
          76.9,
          84.08,
          76.81,
          76.87,
          81.98,
          77.88,
          75.83,
          89.15,
          70.68,
          76.06,
          66.67,
          65.65,
          73.27,
          85.84,
          85.03,
          70.44,
          81.22,
          76.7,
          84.54,
          81.03,
          68.11,
          83.47,
          74.65,
          84.04,
          72.44,
          79.15,
          73.04,
          76.28,
          68.88,
          73.1,
          87.3,
          89.34,
          81.37,
          81.67,
          71.76,
          75.15,
          82.87,
          84.71,
          81.61,
          71.55,
          82.4,
          73.95,
          72.07,
          80.39,
          65.8,
          69.97,
          84.79,
          82.7,
          84.88,
          76.56,
          69.74,
          72.19,
          84.29,
          75.84,
          73.38,
          80.72,
          90.97,
          86.78,
          66.18,
          84.33,
          76.84,
          67.05,
          80.71,
          80.09,
          79.36,
          86.38,
          87.26,
          75.32,
          74.38,
          65.9,
          88.12,
          83.97,
          65.77,
          81.58,
          76.2,
          74.49,
          73.71,
          78.19,
          79.54,
          87.09,
          83.4,
          79.72,
          68.11,
          72.45,
          77.07,
          74.62,
          82.07,
          79.44,
          73.19,
          77.6,
          89,
          81.11,
          80.22,
          77.66,
          74.63,
          80.59,
          83.49,
          68.1,
          78.83,
          79.97,
          80.51,
          62.26,
          71.05,
          76.24,
          77.29,
          84.95,
          87.23,
          81.58,
          78.68,
          68.82,
          86.63,
          72.92,
          77.14,
          60.7,
          83.71,
          81.99,
          84.69,
          88.72,
          88.89,
          85.23,
          83.55,
          56.39,
          76.24,
          78.18,
          79.4,
          73.72,
          73.93,
          77.69,
          80.67,
          83.42,
          66.17,
          80.05,
          79.82,
          74.88,
          88.04,
          65.65,
          67.69,
          78.37,
          81.46,
          75.15,
          78.76,
          57.11,
          83.26,
          69.42,
          83.97,
          76.56,
          80.29,
          59.88,
          81.59,
          81.1,
          73.94,
          79.81,
          66.17,
          80.47,
          77.05,
          79.36,
          70.29,
          84.53,
          81.51,
          84.81,
          79.16,
          79.91,
          66.14,
          59.61,
          89.37,
          79.53,
          91.43,
          73.57,
          78.76,
          76.49,
          61.72,
          84.53,
          72.03,
          77.47,
          75.65,
          78.15,
          76.59,
          78.77,
          83.4,
          79.53,
          73.89,
          75.8,
          81.95,
          72.53,
          79.67,
          75.42,
          78.64,
          59.52,
          62.26,
          79.97,
          80.38,
          64.51,
          71.28,
          72.76,
          72.8,
          81.21,
          66.89,
          68.11,
          78.6,
          78.29,
          77.31,
          73.15,
          82.07,
          77.25,
          74.84,
          83.53,
          78.36,
          69.5,
          65.22,
          75.19,
          76.21,
          67.76,
          68.41,
          74.54,
          81.75,
          87.85,
          87.97,
          78.17,
          85.77,
          73.94,
          63.43,
          84.59,
          70.13,
          91.1,
          74.06,
          81.29,
          76.07,
          75.92,
          78.35,
          66.04,
          84.31,
          83.66,
          81.25,
          85.26,
          86.53,
          68.11,
          85.24,
          74.71,
          82.95,
          76.42,
          81.37,
          75,
          79.61,
          77.89,
          89.21,
          77.44,
          82.58,
          87.85,
          78.01,
          76.83,
          76.27,
          74.27,
          73.27,
          74.58,
          77.5,
          87.16,
          87.16,
          68.25,
          73.49,
          80.15,
          68.11,
          73.88,
          58.6,
          77.65,
          76.02,
          78.84,
          81.9,
          69.96,
          87.35,
          71.27,
          85.01,
          68.95,
          75.71,
          48.22,
          76.76,
          78.74,
          67.47,
          81.17,
          89.66,
          79.6,
          65.53,
          61.87,
          83.16,
          83.91,
          79.8,
          82.37,
          70.9,
          71.9,
          54.35,
          77.75,
          70.61,
          82.72,
          76.87,
          65.07,
          75.81,
          72.94,
          85.54,
          71.14,
          64.38,
          88.85,
          72.18,
          80.55,
          80.46,
          82.69,
          74.07,
          85.62,
          56.56,
          75.64,
          79.22,
          77.05,
          66.83,
          76.2,
          83.89,
          79.89,
          84.25,
          74.18,
          85.78,
          80.96,
          81.98,
          79.6,
          82.3,
          79.09,
          68.47,
          83.69,
          83.48,
          68.72,
          63.11,
          78.24,
          74.61,
          89.18,
          88.82,
          70.39,
          78.58,
          81.56,
          82.8,
          78.51,
          83.17,
          68.25,
          81.32,
          76.64,
          74.06,
          86.58,
          90.75,
          67.71,
          82.41,
          76.79,
          70.05,
          72.19,
          77.35,
          68.68,
          81.75,
          66.03,
          79.18,
          86.81,
          70.92,
          81.45,
          76.65,
          69.86,
          85.37,
          80.99,
          78.84,
          84.76,
          80.64,
          75.94,
          87.18,
          75.24,
          87.46,
          87.14,
          78.79,
          65.56,
          81.05,
          72.55,
          68.11,
          80.53,
          80.94,
          78.41,
          83.98,
          60.83,
          89.8,
          72.82,
          51.65,
          69.95,
          79.83,
          85.35,
          78.67,
          70.09,
          60.75,
          65.07,
          68.01,
          80.87,
          71.4,
          70.29,
          76.58,
          82.79,
          66.47,
          76.44,
          89.71,
          70.96,
          64.2,
          55.55
         ],
         "xaxis": "x",
         "y": [
          256.09,
          193.77,
          236.5,
          245.89,
          225.58,
          226.74,
          208.36,
          221.51,
          183.82,
          230.87,
          214.23,
          187.53,
          224.44,
          226.54,
          209.93,
          204.79,
          209.82,
          267.01,
          207.48,
          201.58,
          221.94,
          202.61,
          252.36,
          198.11,
          212.3,
          204.86,
          202.25,
          198.72,
          196.71,
          225.29,
          177.55,
          239.22,
          183.43,
          192.93,
          169.5,
          182.65,
          198.5,
          215.25,
          222.63,
          215.93,
          238.99,
          209.25,
          222.75,
          184.1,
          200.55,
          227.72,
          238.63,
          182.65,
          235.28,
          194.23,
          218.17,
          202.16,
          229.12,
          241.03,
          210.54,
          211.87,
          221.21,
          244.34,
          210.26,
          231.94,
          212.79,
          230.93,
          206.98,
          223.03,
          233.56,
          215.44,
          172.81,
          146.19,
          190.25,
          234.26,
          210.6,
          176.28,
          172.1,
          247.31,
          183.48,
          222.11,
          182.65,
          195.31,
          222.77,
          251,
          162.44,
          219.72,
          198.56,
          199.79,
          196.23,
          163.05,
          227.56,
          199.43,
          208.23,
          255.61,
          210.46,
          233.65,
          254.05,
          239.32,
          201.26,
          191.14,
          214.42,
          252.77,
          183.85,
          218.79,
          212.67,
          187.36,
          217.85,
          235.35,
          229.22,
          254.57,
          200.59,
          171.07,
          199.08,
          201.04,
          228.03,
          158.05,
          234.75,
          192.85,
          204.52,
          178.75,
          223.09,
          222.25,
          204.02,
          201.15,
          231.42,
          226.11,
          212.56,
          244.55,
          230.14,
          203.23,
          221.79,
          254.34,
          179.58,
          242.37,
          216.87,
          177.78,
          156.48,
          196.76,
          237.39,
          212.87,
          213.36,
          210.23,
          228.76,
          163.99,
          218.97,
          238.58,
          226.45,
          214.74,
          231.49,
          250,
          214.53,
          231.07,
          186.48,
          221.53,
          243.37,
          250.35,
          232.54,
          186.98,
          236.19,
          186.37,
          180.77,
          170.13,
          243.61,
          240.95,
          231.59,
          220.92,
          200.58,
          214.08,
          245.78,
          188.27,
          184.03,
          233.6,
          220.05,
          211.39,
          230.91,
          205.5,
          218.61,
          199.39,
          178.51,
          237.34,
          211.38,
          228.81,
          217.68,
          221.98,
          207.87,
          193.8,
          231.48,
          195.36,
          261.02,
          217.79,
          205.38,
          206.79,
          203.74,
          197.33,
          222.26,
          248.19,
          224.58,
          168.15,
          235.99,
          224.23,
          190.75,
          227.73,
          234.64,
          216,
          200.28,
          202.77,
          204.22,
          198.32,
          201.24,
          230.36,
          202.12,
          248.16,
          208.05,
          205.64,
          209.64,
          217.1,
          184.88,
          192.6,
          220.48,
          230.9,
          231.85,
          211.87,
          218.8,
          212.92,
          221.18,
          248.12,
          214.42,
          167.67,
          236.87,
          256.4,
          218.22,
          169.88,
          239.76,
          183.42,
          238.45,
          219.94,
          223.28,
          175.17,
          191.17,
          224.92,
          216.57,
          207.27,
          231.54,
          219.49,
          219.98,
          207.17,
          187.76,
          213.38,
          158.42,
          213.75,
          244.87,
          193.63,
          223.16,
          216.49,
          173.49,
          253.17,
          228.7,
          215.18,
          236.64,
          234.72,
          231.37,
          215.18,
          250.03,
          233.93,
          202.9,
          230.18,
          165.27,
          198.45,
          162.03,
          244.91,
          209.91,
          212.38,
          208.02,
          181.11,
          218.49,
          236.29,
          230.95,
          222.91,
          247.9,
          194.37,
          211.64,
          211.83,
          235.01,
          236.72,
          229.99,
          224.9,
          208.76,
          223.93,
          226.79,
          164.25,
          235.28,
          251.08,
          166.19,
          185.45,
          238.06,
          190.71,
          246.72,
          240.63,
          249.54,
          233.04,
          208.24,
          231.21,
          254.59,
          252.07,
          238.1,
          211.12,
          193.97,
          231.38,
          246.44,
          204.56,
          196.77,
          203.84,
          240.09,
          245.76,
          228.94,
          242.59,
          259.76,
          182.65,
          190.08,
          210.27,
          149.25,
          192.27,
          191.78,
          236.15,
          236.75,
          241.8,
          224.98,
          198.13,
          225.99,
          219.72,
          235.56,
          182.65,
          253.48,
          199.76,
          225.87,
          175.14,
          222.35,
          224.07,
          182.65,
          224.2,
          182.84,
          258.06,
          201.29,
          223.16,
          215.04,
          230.36,
          235.97,
          201.54,
          210.53,
          210.39,
          225.23,
          153.01,
          200.71,
          192.81,
          226.69,
          247.05,
          216.24,
          230.52,
          225.34,
          197.15,
          231.95,
          198.86,
          244.23,
          214.49,
          189.91,
          233.61,
          197.93,
          208.01,
          219.55,
          217.66,
          225.47,
          214.06,
          158.29,
          216.03,
          192.5,
          185.85,
          246.06,
          214.33,
          230.77,
          234.75,
          225.05,
          231.91,
          171.23,
          227.37,
          190.17,
          250.2,
          194.95,
          222.87,
          229.88,
          182.65,
          190.95,
          193.29,
          164.02,
          240.64,
          190.12,
          179.82,
          212.59,
          227.53,
          229.19,
          190.84,
          175.43,
          224.82,
          180.47,
          213.96,
          225.02,
          219.91,
          230.78,
          167.41,
          165.43,
          195.68,
          204.47,
          204.82,
          198.79,
          236.08,
          196.17,
          228.81,
          180.88,
          241.38,
          170.9,
          203.87,
          232.78,
          225,
          212.88,
          194.23,
          232.21,
          209.72,
          226.64,
          192.57,
          222.72,
          225.97,
          254.94,
          199.29,
          231.28,
          224.01,
          169.1,
          261.52,
          250.11,
          213.7,
          223.2,
          205.71,
          244.4,
          220.08,
          165.65,
          241.5,
          246.29,
          195.93,
          216.5,
          225.76,
          222.08,
          235.94,
          203.44,
          250.32,
          167.26,
          187.03,
          249.45,
          217.37,
          236.96,
          199.62,
          249.81,
          205.84,
          238.43,
          241.36,
          194.56,
          207.53,
          235.29,
          178.69,
          221.59,
          236.96,
          193.6,
          226.49,
          211.56,
          199.4,
          215.29,
          181.25,
          245.5,
          182.65,
          184.98,
          187.64,
          239.94,
          248.23,
          194.62,
          185.46,
          198.24,
          191.82,
          249.99,
          247.01,
          234.23,
          161.42,
          195.56,
          211.17,
          247.05,
          233.85,
          188.32,
          203.3,
          166.31,
          254.65,
          258.26,
          234.81,
          256.39,
          232.68,
          204.4,
          256.4,
          227.63,
          187.95
         ],
         "yaxis": "y"
        },
        {
         "hovertemplate": "Clicked Label=Clicked<br>Daily Time Spent on Site=%{x}<br>Daily Internet Usage=%{y}<extra></extra>",
         "legendgroup": "Clicked",
         "marker": {
          "color": "red",
          "symbol": "circle"
         },
         "mode": "markers",
         "name": "Clicked",
         "orientation": "v",
         "showlegend": true,
         "type": "scatter",
         "x": [
          66,
          47.64,
          69.57,
          42.95,
          63.45,
          55.39,
          54.7,
          74.58,
          41.49,
          41.39,
          48.53,
          51.95,
          70.2,
          59.05,
          55.6,
          57.64,
          62.26,
          50.43,
          68.11,
          37.68,
          44.33,
          48.01,
          33.33,
          50.33,
          62.31,
          65.19,
          44.98,
          41.82,
          45.96,
          63.89,
          35.33,
          78.53,
          46.13,
          55.35,
          33.21,
          38.46,
          49.81,
          56.14,
          55.13,
          56.64,
          68.94,
          57.76,
          52.7,
          57.7,
          56.89,
          69.9,
          55.79,
          50.08,
          43.67,
          45.72,
          39.94,
          35.61,
          41.49,
          42.39,
          47.53,
          68.11,
          63.24,
          46.13,
          72.6,
          61.88,
          84.45,
          88.97,
          37.75,
          62.33,
          80.31,
          46.98,
          41.67,
          51.24,
          43.49,
          49.89,
          38.37,
          38.52,
          37.51,
          55.6,
          37.47,
          56.04,
          70.92,
          49.78,
          68.61,
          37,
          44.64,
          41.73,
          75.55,
          41.28,
          34.66,
          66.18,
          59.59,
          43.77,
          63.36,
          60.72,
          44.57,
          39.85,
          84.53,
          62.95,
          46.88,
          46.31,
          84.73,
          39.86,
          50.08,
          60.23,
          60.7,
          43.67,
          71.86,
          44.78,
          35.65,
          58.22,
          59.51,
          40.15,
          41.89,
          67.28,
          66.01,
          61.57,
          53.3,
          34.87,
          43.6,
          49.95,
          60.94,
          78.7,
          57.35,
          34.86,
          46.77,
          62.42,
          78.32,
          37.32,
          40.42,
          76.77,
          74.32,
          80.03,
          53.68,
          39.96,
          57.05,
          42.44,
          62.2,
          61.22,
          46.08,
          56.7,
          40.06,
          73.84,
          60.25,
          59.21,
          43.02,
          70.66,
          70.58,
          40.17,
          44.49,
          47.66,
          46.37,
          54.88,
          40.67,
          47.51,
          56.01,
          45.05,
          60.53,
          50.52,
          55.2,
          52.62,
          39.25,
          77.56,
          33.52,
          79.81,
          54.92,
          75.55,
          73.89,
          62.06,
          51.5,
          36.87,
          34.78,
          41.47,
          56.3,
          38.94,
          36.31,
          72.23,
          61.09,
          37.87,
          60.91,
          74.87,
          37.45,
          49.84,
          51.38,
          38.91,
          62.14,
          73.3,
          71.9,
          58.6,
          36.08,
          41.73,
          69.2,
          67.56,
          43.63,
          49.67,
          44.46,
          63.88,
          66.99,
          42.05,
          50.52,
          35.98,
          39.34,
          57.24,
          56.34,
          48.73,
          51.68,
          35.34,
          48.09,
          56.99,
          41.18,
          71.03,
          34.3,
          53.38,
          58.03,
          43.59,
          60.07,
          54.43,
          60.53,
          69.58,
          56.66,
          57.64,
          46.04,
          36.44,
          53.14,
          32.84,
          38.1,
          51.87,
          43.41,
          55.92,
          82.12,
          43.01,
          64.88,
          48.03,
          32.99,
          36.49,
          45.7,
          82.38,
          52.68,
          65.59,
          43.84,
          47.48,
          44.96,
          39.56,
          39.76,
          50.6,
          46.2,
          66.88,
          35.49,
          50.19,
          59.12,
          59.7,
          67.8,
          41.7,
          58.35,
          51.56,
          58.21,
          66.12,
          49.99,
          80.3,
          57.86,
          59.13,
          42.94,
          82.79,
          59.22,
          35,
          46.61,
          63.26,
          67.94,
          43.65,
          46.61,
          65.1,
          53.44,
          63.8,
          42.6,
          56.39,
          44.73,
          38.35,
          56.2,
          67.69,
          38.35,
          64.75,
          47.9,
          50.32,
          74.59,
          46.66,
          48.86,
          37.05,
          69.15,
          65.72,
          40.04,
          68.6,
          56.16,
          43.83,
          39.86,
          66.77,
          57.2,
          49.84,
          43.97,
          38.63,
          84,
          52.13,
          71.83,
          50.18,
          64.67,
          62.06,
          84.29,
          32.91,
          39.5,
          40.01,
          52.7,
          35.55,
          60.23,
          67.91,
          41.16,
          53.54,
          40.19,
          58.95,
          35.76,
          59.36,
          61.04,
          64.63,
          46.14,
          44.33,
          46.43,
          52.84,
          42.04,
          46.28,
          48.26,
          71.03,
          58.05,
          52.56,
          62.18,
          66.08,
          49.96,
          39.36,
          47.23,
          65.57,
          44.15,
          43.57,
          42.06,
          66.26,
          65.15,
          39.19,
          69.77,
          87.27,
          71.33,
          46.89,
          77.8,
          45.44,
          49.42,
          49.19,
          39.96,
          67.59,
          43.07,
          39.47,
          44.11,
          56.57,
          71.23,
          47.23,
          43.63,
          68.11,
          67.35,
          57.99,
          66.8,
          49.13,
          45.11,
          61.82,
          56.93,
          48.86,
          36.56,
          85.73,
          53.63,
          52.35,
          52.84,
          51.58,
          42.32,
          55.04,
          68.58,
          66.79,
          32.6,
          43.88,
          56.46,
          52.67,
          67.85,
          75.55,
          35.21,
          36.37,
          59.96,
          40.88,
          36.98,
          35.49,
          36.62,
          49.35,
          56.64,
          53.33,
          50.63,
          41.84,
          53.92,
          55.32,
          53.22,
          43.16,
          67.51,
          43.16,
          36.91,
          54.47,
          57.51,
          73.21,
          43.49,
          66.69,
          48.46,
          42.51,
          42.83,
          41.46,
          45.99,
          49.21,
          55.77,
          44.13,
          57.82,
          72.46,
          61.88,
          44.16,
          55.74,
          59.05,
          35.11,
          60.39,
          75.03,
          50.87,
          37.65,
          91.37,
          39.53,
          45.82,
          40.34,
          67.39,
          68.11,
          41.53,
          46.84,
          44.4,
          52.17,
          54.08,
          54.39,
          37.74,
          77.36,
          55.46,
          35.66,
          50.78,
          40.47,
          45.62,
          37.01,
          56.91,
          42.84,
          67.56,
          34.96,
          41.86,
          34.04,
          54.96,
          55.71,
          45.48,
          47,
          59.64,
          35.98,
          82.49,
          61.76,
          63.3,
          36.73,
          63.18,
          50.6,
          32.6,
          44.72,
          78.76,
          79.51,
          39.3,
          64.79,
          38.65,
          59.01,
          78.96,
          63.99,
          41.35,
          62.79,
          45.53,
          54.55,
          35.66,
          56.78,
          35.25,
          37.58,
          45.08,
          63.04,
          40.18,
          45.17,
          50.48,
          41.88,
          39.87,
          61.84,
          54.97,
          67.26,
          54.37,
          72.88,
          63.37,
          35.79,
          38.96,
          69.17,
          43.7,
          72.97,
          51.3,
          68.11,
          45.01
         ],
         "xaxis": "x",
         "y": [
          131.76,
          122.02,
          113.12,
          143.56,
          140.64,
          129.41,
          182.65,
          135.51,
          164.83,
          167.22,
          134.14,
          129.23,
          119.2,
          169.23,
          212.58,
          133.81,
          125.45,
          119.32,
          162.08,
          172.83,
          123.72,
          119.93,
          193.58,
          133.2,
          119.3,
          150.61,
          129.31,
          156.36,
          141.22,
          105.22,
          200.22,
          131.72,
          139.01,
          153.17,
          167.07,
          145.98,
          120.06,
          113.53,
          111.71,
          115.91,
          138.71,
          105.15,
          118.6,
          109.07,
          109.29,
          138.35,
          149.67,
          125.85,
          166.29,
          154.02,
          156.3,
          158.22,
          169.18,
          150.99,
          135.18,
          176.98,
          235.78,
          123.64,
          162.95,
          112.19,
          207.18,
          152.49,
          225.24,
          127.11,
          127.07,
          175.37,
          132.55,
          176.73,
          127.83,
          160.03,
          140.46,
          137.28,
          163,
          124.38,
          141.89,
          128.95,
          108.16,
          152.24,
          150.29,
          158.22,
          127.01,
          202.18,
          159.24,
          140.39,
          194.83,
          143.42,
          104.78,
          138.55,
          137.43,
          105.69,
          133.17,
          145.96,
          168.34,
          157.04,
          136.64,
          153.98,
          153.76,
          145.85,
          123.91,
          106.86,
          110.57,
          143.79,
          116.53,
          137.24,
          172.58,
          120.9,
          140.83,
          134.88,
          163.38,
          155.8,
          151.95,
          125.94,
          111.94,
          200.23,
          170.49,
          136.59,
          154.97,
          133.99,
          119.84,
          154.75,
          136.4,
          143.94,
          239.52,
          199.25,
          133.9,
          123.51,
          128.17,
          150.84,
          115.26,
          146.13,
          182.65,
          168.27,
          161.16,
          119.03,
          164.63,
          123.13,
          138.68,
          121.05,
          109.77,
          144.62,
          125.22,
          120.95,
          136.94,
          171.31,
          168,
          156.54,
          144.27,
          148.61,
          133.18,
          130.41,
          127.26,
          141.36,
          167.22,
          171.62,
          159.46,
          176.52,
          152.36,
          130.83,
          165.56,
          178.85,
          161.16,
          169.4,
          110.68,
          105,
          135.31,
          195.91,
          208.21,
          219.79,
          135.24,
          142.67,
          168.92,
          115.35,
          131.68,
          188.56,
          184.94,
          126.97,
          167.86,
          111.59,
          158.56,
          150.8,
          110.93,
          135.72,
          140.15,
          113.7,
          151.47,
          144.71,
          123.8,
          125.45,
          123.25,
          153.69,
          132.66,
          136.85,
          124.44,
          174.55,
          219.69,
          165.52,
          148.93,
          117.35,
          139.02,
          142.04,
          258.62,
          152.86,
          180.42,
          108.15,
          129.25,
          120.85,
          160.74,
          120.06,
          129.33,
          132.31,
          120.75,
          154.74,
          123.28,
          255.07,
          139.42,
          110.25,
          147.92,
          147.64,
          109,
          171.72,
          214.38,
          119.65,
          160.73,
          145.08,
          201.15,
          127.37,
          129.8,
          134.6,
          177.46,
          196.61,
          151.12,
          159.6,
          149.2,
          121.81,
          167.42,
          141.34,
          132.71,
          143.13,
          196.83,
          129.88,
          119.3,
          119.47,
          159.77,
          117.3,
          182.65,
          120.25,
          117.75,
          126.95,
          132.63,
          124.85,
          105.94,
          113.8,
          121.07,
          173.43,
          166.86,
          106.04,
          130.4,
          132.08,
          126.39,
          151.25,
          136.18,
          120.46,
          128.16,
          138.87,
          156.99,
          118.1,
          108.17,
          108.7,
          168.29,
          154.23,
          127.56,
          145.48,
          114.85,
          109.22,
          144.69,
          117.66,
          114.53,
          125.65,
          158.35,
          118.16,
          134.46,
          142.81,
          112.72,
          120.12,
          161.58,
          135.08,
          164.25,
          129.01,
          161.24,
          141.13,
          110.66,
          135.24,
          156.97,
          222.11,
          136.21,
          118.27,
          135.48,
          127.82,
          138.35,
          116.27,
          160.33,
          181.02,
          148.19,
          161.77,
          109.34,
          151.18,
          151.54,
          146.8,
          150.83,
          108.03,
          136.99,
          131.29,
          195.07,
          110.84,
          149.21,
          158.8,
          137.97,
          120.63,
          137.2,
          122.31,
          182.11,
          228.78,
          122.45,
          150.77,
          195.54,
          250.36,
          126.44,
          184.23,
          151.94,
          161.79,
          149.8,
          130.86,
          141.96,
          125.2,
          131.55,
          179.04,
          117.3,
          173.05,
          132.27,
          204.27,
          169.4,
          176.78,
          152.94,
          119.27,
          128,
          123.08,
          138.52,
          113.69,
          137.63,
          163.48,
          121.24,
          131.98,
          122.59,
          210.87,
          135.25,
          105.86,
          118.69,
          124.58,
          248.51,
          120.49,
          195.69,
          151.93,
          111.8,
          128.37,
          195.89,
          147.75,
          126.29,
          147.61,
          121.57,
          115.91,
          187.09,
          106.96,
          171.54,
          198.3,
          185.47,
          166.85,
          151.63,
          191.26,
          202.7,
          123.71,
          154,
          144.53,
          197.66,
          136.18,
          167.87,
          170.04,
          162.44,
          119.86,
          123.24,
          111.63,
          142.23,
          139.32,
          125.46,
          127.65,
          108.85,
          156.11,
          127.2,
          143.04,
          159.69,
          141.52,
          105.71,
          252.6,
          124.67,
          108.27,
          132.38,
          144.77,
          132.38,
          128.98,
          124.61,
          115.6,
          117.33,
          128.48,
          107.56,
          113.53,
          108.18,
          133.42,
          124.34,
          118.45,
          158.03,
          108.25,
          255.57,
          190.41,
          161.29,
          182.65,
          142.21,
          171.24,
          173.75,
          107.19,
          154.93,
          158.81,
          123.22,
          140.95,
          115.37,
          111.02,
          171.9,
          190.95,
          115.79,
          108.1,
          151.72,
          122.04,
          203.9,
          121.28,
          216.01,
          146.44,
          182.2,
          109.98,
          160.49,
          128.62,
          174.88,
          113.75,
          112.52,
          129.16,
          149.53,
          153.12,
          150.79,
          130.84,
          114.69,
          116.19,
          149.79,
          107.92,
          135.67,
          190.05,
          123.86,
          162.05,
          125.11,
          145.73,
          116.07,
          154.77,
          178.75,
          193.15,
          138.46,
          162.46,
          231.87,
          141.58,
          109.04,
          172.57,
          124.32,
          194.44,
          176.7,
          125.27,
          159.05,
          151.96,
          132.07,
          162.43,
          126.11,
          139.34,
          105.63,
          116.38,
          168.41,
          140.77,
          125.12,
          105.04,
          165.62,
          182.65,
          123.62,
          173.01,
          208.58,
          134.42,
          120.37,
          178.35
         ],
         "yaxis": "y"
        }
       ],
       "layout": {
        "legend": {
         "title": {
          "text": "Clicked Label"
         },
         "tracegroupgap": 0
        },
        "template": {
         "data": {
          "bar": [
           {
            "error_x": {
             "color": "#2a3f5f"
            },
            "error_y": {
             "color": "#2a3f5f"
            },
            "marker": {
             "line": {
              "color": "#E5ECF6",
              "width": 0.5
             },
             "pattern": {
              "fillmode": "overlay",
              "size": 10,
              "solidity": 0.2
             }
            },
            "type": "bar"
           }
          ],
          "barpolar": [
           {
            "marker": {
             "line": {
              "color": "#E5ECF6",
              "width": 0.5
             },
             "pattern": {
              "fillmode": "overlay",
              "size": 10,
              "solidity": 0.2
             }
            },
            "type": "barpolar"
           }
          ],
          "carpet": [
           {
            "aaxis": {
             "endlinecolor": "#2a3f5f",
             "gridcolor": "white",
             "linecolor": "white",
             "minorgridcolor": "white",
             "startlinecolor": "#2a3f5f"
            },
            "baxis": {
             "endlinecolor": "#2a3f5f",
             "gridcolor": "white",
             "linecolor": "white",
             "minorgridcolor": "white",
             "startlinecolor": "#2a3f5f"
            },
            "type": "carpet"
           }
          ],
          "choropleth": [
           {
            "colorbar": {
             "outlinewidth": 0,
             "ticks": ""
            },
            "type": "choropleth"
           }
          ],
          "contour": [
           {
            "colorbar": {
             "outlinewidth": 0,
             "ticks": ""
            },
            "colorscale": [
             [
              0,
              "#0d0887"
             ],
             [
              0.1111111111111111,
              "#46039f"
             ],
             [
              0.2222222222222222,
              "#7201a8"
             ],
             [
              0.3333333333333333,
              "#9c179e"
             ],
             [
              0.4444444444444444,
              "#bd3786"
             ],
             [
              0.5555555555555556,
              "#d8576b"
             ],
             [
              0.6666666666666666,
              "#ed7953"
             ],
             [
              0.7777777777777778,
              "#fb9f3a"
             ],
             [
              0.8888888888888888,
              "#fdca26"
             ],
             [
              1,
              "#f0f921"
             ]
            ],
            "type": "contour"
           }
          ],
          "contourcarpet": [
           {
            "colorbar": {
             "outlinewidth": 0,
             "ticks": ""
            },
            "type": "contourcarpet"
           }
          ],
          "heatmap": [
           {
            "colorbar": {
             "outlinewidth": 0,
             "ticks": ""
            },
            "colorscale": [
             [
              0,
              "#0d0887"
             ],
             [
              0.1111111111111111,
              "#46039f"
             ],
             [
              0.2222222222222222,
              "#7201a8"
             ],
             [
              0.3333333333333333,
              "#9c179e"
             ],
             [
              0.4444444444444444,
              "#bd3786"
             ],
             [
              0.5555555555555556,
              "#d8576b"
             ],
             [
              0.6666666666666666,
              "#ed7953"
             ],
             [
              0.7777777777777778,
              "#fb9f3a"
             ],
             [
              0.8888888888888888,
              "#fdca26"
             ],
             [
              1,
              "#f0f921"
             ]
            ],
            "type": "heatmap"
           }
          ],
          "heatmapgl": [
           {
            "colorbar": {
             "outlinewidth": 0,
             "ticks": ""
            },
            "colorscale": [
             [
              0,
              "#0d0887"
             ],
             [
              0.1111111111111111,
              "#46039f"
             ],
             [
              0.2222222222222222,
              "#7201a8"
             ],
             [
              0.3333333333333333,
              "#9c179e"
             ],
             [
              0.4444444444444444,
              "#bd3786"
             ],
             [
              0.5555555555555556,
              "#d8576b"
             ],
             [
              0.6666666666666666,
              "#ed7953"
             ],
             [
              0.7777777777777778,
              "#fb9f3a"
             ],
             [
              0.8888888888888888,
              "#fdca26"
             ],
             [
              1,
              "#f0f921"
             ]
            ],
            "type": "heatmapgl"
           }
          ],
          "histogram": [
           {
            "marker": {
             "pattern": {
              "fillmode": "overlay",
              "size": 10,
              "solidity": 0.2
             }
            },
            "type": "histogram"
           }
          ],
          "histogram2d": [
           {
            "colorbar": {
             "outlinewidth": 0,
             "ticks": ""
            },
            "colorscale": [
             [
              0,
              "#0d0887"
             ],
             [
              0.1111111111111111,
              "#46039f"
             ],
             [
              0.2222222222222222,
              "#7201a8"
             ],
             [
              0.3333333333333333,
              "#9c179e"
             ],
             [
              0.4444444444444444,
              "#bd3786"
             ],
             [
              0.5555555555555556,
              "#d8576b"
             ],
             [
              0.6666666666666666,
              "#ed7953"
             ],
             [
              0.7777777777777778,
              "#fb9f3a"
             ],
             [
              0.8888888888888888,
              "#fdca26"
             ],
             [
              1,
              "#f0f921"
             ]
            ],
            "type": "histogram2d"
           }
          ],
          "histogram2dcontour": [
           {
            "colorbar": {
             "outlinewidth": 0,
             "ticks": ""
            },
            "colorscale": [
             [
              0,
              "#0d0887"
             ],
             [
              0.1111111111111111,
              "#46039f"
             ],
             [
              0.2222222222222222,
              "#7201a8"
             ],
             [
              0.3333333333333333,
              "#9c179e"
             ],
             [
              0.4444444444444444,
              "#bd3786"
             ],
             [
              0.5555555555555556,
              "#d8576b"
             ],
             [
              0.6666666666666666,
              "#ed7953"
             ],
             [
              0.7777777777777778,
              "#fb9f3a"
             ],
             [
              0.8888888888888888,
              "#fdca26"
             ],
             [
              1,
              "#f0f921"
             ]
            ],
            "type": "histogram2dcontour"
           }
          ],
          "mesh3d": [
           {
            "colorbar": {
             "outlinewidth": 0,
             "ticks": ""
            },
            "type": "mesh3d"
           }
          ],
          "parcoords": [
           {
            "line": {
             "colorbar": {
              "outlinewidth": 0,
              "ticks": ""
             }
            },
            "type": "parcoords"
           }
          ],
          "pie": [
           {
            "automargin": true,
            "type": "pie"
           }
          ],
          "scatter": [
           {
            "fillpattern": {
             "fillmode": "overlay",
             "size": 10,
             "solidity": 0.2
            },
            "type": "scatter"
           }
          ],
          "scatter3d": [
           {
            "line": {
             "colorbar": {
              "outlinewidth": 0,
              "ticks": ""
             }
            },
            "marker": {
             "colorbar": {
              "outlinewidth": 0,
              "ticks": ""
             }
            },
            "type": "scatter3d"
           }
          ],
          "scattercarpet": [
           {
            "marker": {
             "colorbar": {
              "outlinewidth": 0,
              "ticks": ""
             }
            },
            "type": "scattercarpet"
           }
          ],
          "scattergeo": [
           {
            "marker": {
             "colorbar": {
              "outlinewidth": 0,
              "ticks": ""
             }
            },
            "type": "scattergeo"
           }
          ],
          "scattergl": [
           {
            "marker": {
             "colorbar": {
              "outlinewidth": 0,
              "ticks": ""
             }
            },
            "type": "scattergl"
           }
          ],
          "scattermapbox": [
           {
            "marker": {
             "colorbar": {
              "outlinewidth": 0,
              "ticks": ""
             }
            },
            "type": "scattermapbox"
           }
          ],
          "scatterpolar": [
           {
            "marker": {
             "colorbar": {
              "outlinewidth": 0,
              "ticks": ""
             }
            },
            "type": "scatterpolar"
           }
          ],
          "scatterpolargl": [
           {
            "marker": {
             "colorbar": {
              "outlinewidth": 0,
              "ticks": ""
             }
            },
            "type": "scatterpolargl"
           }
          ],
          "scatterternary": [
           {
            "marker": {
             "colorbar": {
              "outlinewidth": 0,
              "ticks": ""
             }
            },
            "type": "scatterternary"
           }
          ],
          "surface": [
           {
            "colorbar": {
             "outlinewidth": 0,
             "ticks": ""
            },
            "colorscale": [
             [
              0,
              "#0d0887"
             ],
             [
              0.1111111111111111,
              "#46039f"
             ],
             [
              0.2222222222222222,
              "#7201a8"
             ],
             [
              0.3333333333333333,
              "#9c179e"
             ],
             [
              0.4444444444444444,
              "#bd3786"
             ],
             [
              0.5555555555555556,
              "#d8576b"
             ],
             [
              0.6666666666666666,
              "#ed7953"
             ],
             [
              0.7777777777777778,
              "#fb9f3a"
             ],
             [
              0.8888888888888888,
              "#fdca26"
             ],
             [
              1,
              "#f0f921"
             ]
            ],
            "type": "surface"
           }
          ],
          "table": [
           {
            "cells": {
             "fill": {
              "color": "#EBF0F8"
             },
             "line": {
              "color": "white"
             }
            },
            "header": {
             "fill": {
              "color": "#C8D4E3"
             },
             "line": {
              "color": "white"
             }
            },
            "type": "table"
           }
          ]
         },
         "layout": {
          "annotationdefaults": {
           "arrowcolor": "#2a3f5f",
           "arrowhead": 0,
           "arrowwidth": 1
          },
          "autotypenumbers": "strict",
          "coloraxis": {
           "colorbar": {
            "outlinewidth": 0,
            "ticks": ""
           }
          },
          "colorscale": {
           "diverging": [
            [
             0,
             "#8e0152"
            ],
            [
             0.1,
             "#c51b7d"
            ],
            [
             0.2,
             "#de77ae"
            ],
            [
             0.3,
             "#f1b6da"
            ],
            [
             0.4,
             "#fde0ef"
            ],
            [
             0.5,
             "#f7f7f7"
            ],
            [
             0.6,
             "#e6f5d0"
            ],
            [
             0.7,
             "#b8e186"
            ],
            [
             0.8,
             "#7fbc41"
            ],
            [
             0.9,
             "#4d9221"
            ],
            [
             1,
             "#276419"
            ]
           ],
           "sequential": [
            [
             0,
             "#0d0887"
            ],
            [
             0.1111111111111111,
             "#46039f"
            ],
            [
             0.2222222222222222,
             "#7201a8"
            ],
            [
             0.3333333333333333,
             "#9c179e"
            ],
            [
             0.4444444444444444,
             "#bd3786"
            ],
            [
             0.5555555555555556,
             "#d8576b"
            ],
            [
             0.6666666666666666,
             "#ed7953"
            ],
            [
             0.7777777777777778,
             "#fb9f3a"
            ],
            [
             0.8888888888888888,
             "#fdca26"
            ],
            [
             1,
             "#f0f921"
            ]
           ],
           "sequentialminus": [
            [
             0,
             "#0d0887"
            ],
            [
             0.1111111111111111,
             "#46039f"
            ],
            [
             0.2222222222222222,
             "#7201a8"
            ],
            [
             0.3333333333333333,
             "#9c179e"
            ],
            [
             0.4444444444444444,
             "#bd3786"
            ],
            [
             0.5555555555555556,
             "#d8576b"
            ],
            [
             0.6666666666666666,
             "#ed7953"
            ],
            [
             0.7777777777777778,
             "#fb9f3a"
            ],
            [
             0.8888888888888888,
             "#fdca26"
            ],
            [
             1,
             "#f0f921"
            ]
           ]
          },
          "colorway": [
           "#636efa",
           "#EF553B",
           "#00cc96",
           "#ab63fa",
           "#FFA15A",
           "#19d3f3",
           "#FF6692",
           "#B6E880",
           "#FF97FF",
           "#FECB52"
          ],
          "font": {
           "color": "#2a3f5f"
          },
          "geo": {
           "bgcolor": "white",
           "lakecolor": "white",
           "landcolor": "#E5ECF6",
           "showlakes": true,
           "showland": true,
           "subunitcolor": "white"
          },
          "hoverlabel": {
           "align": "left"
          },
          "hovermode": "closest",
          "mapbox": {
           "style": "light"
          },
          "paper_bgcolor": "white",
          "plot_bgcolor": "#E5ECF6",
          "polar": {
           "angularaxis": {
            "gridcolor": "white",
            "linecolor": "white",
            "ticks": ""
           },
           "bgcolor": "#E5ECF6",
           "radialaxis": {
            "gridcolor": "white",
            "linecolor": "white",
            "ticks": ""
           }
          },
          "scene": {
           "xaxis": {
            "backgroundcolor": "#E5ECF6",
            "gridcolor": "white",
            "gridwidth": 2,
            "linecolor": "white",
            "showbackground": true,
            "ticks": "",
            "zerolinecolor": "white"
           },
           "yaxis": {
            "backgroundcolor": "#E5ECF6",
            "gridcolor": "white",
            "gridwidth": 2,
            "linecolor": "white",
            "showbackground": true,
            "ticks": "",
            "zerolinecolor": "white"
           },
           "zaxis": {
            "backgroundcolor": "#E5ECF6",
            "gridcolor": "white",
            "gridwidth": 2,
            "linecolor": "white",
            "showbackground": true,
            "ticks": "",
            "zerolinecolor": "white"
           }
          },
          "shapedefaults": {
           "line": {
            "color": "#2a3f5f"
           }
          },
          "ternary": {
           "aaxis": {
            "gridcolor": "white",
            "linecolor": "white",
            "ticks": ""
           },
           "baxis": {
            "gridcolor": "white",
            "linecolor": "white",
            "ticks": ""
           },
           "bgcolor": "#E5ECF6",
           "caxis": {
            "gridcolor": "white",
            "linecolor": "white",
            "ticks": ""
           }
          },
          "title": {
           "x": 0.05
          },
          "xaxis": {
           "automargin": true,
           "gridcolor": "white",
           "linecolor": "white",
           "ticks": "",
           "title": {
            "standoff": 15
           },
           "zerolinecolor": "white",
           "zerolinewidth": 2
          },
          "yaxis": {
           "automargin": true,
           "gridcolor": "white",
           "linecolor": "white",
           "ticks": "",
           "title": {
            "standoff": 15
           },
           "zerolinecolor": "white",
           "zerolinewidth": 2
          }
         }
        },
        "title": {
         "text": "Daily Time Spent on Site vs Daily Internet Usage by Clicked on Ad"
        },
        "xaxis": {
         "anchor": "y",
         "domain": [
          0,
          1
         ],
         "title": {
          "text": "Daily Time Spent on Site"
         }
        },
        "yaxis": {
         "anchor": "x",
         "domain": [
          0,
          1
         ],
         "title": {
          "text": "Daily Internet Usage"
         }
        }
       }
      }
     },
     "metadata": {},
     "output_type": "display_data"
    }
   ],
   "source": [
    "# Check the correlation between daily time spent on site and daily internet usage\n",
    "fig = px.scatter(df, x=\"Daily Time Spent on Site\", y=\"Daily Internet Usage\", color=\"Clicked Label\",\n",
    "                 title=\"Daily Time Spent on Site vs Daily Internet Usage by Clicked on Ad\",\n",
    "                 color_discrete_sequence=[\"blue\", \"red\"])\n",
    "\n",
    "fig.show()"
   ]
  },
  {
   "cell_type": "code",
   "execution_count": 227,
   "metadata": {},
   "outputs": [
    {
     "data": {
      "text/plain": [
       "Clicked on Ad\n",
       "1    352\n",
       "0      3\n",
       "Name: count, dtype: int64"
      ]
     },
     "execution_count": 227,
     "metadata": {},
     "output_type": "execute_result"
    }
   ],
   "source": [
    "df[(df[\"Daily Internet Usage\"] < 180) & (df[\"Daily Time Spent on Site\"] < 65)][\"Clicked on Ad\"].value_counts()"
   ]
  },
  {
   "cell_type": "code",
   "execution_count": 228,
   "metadata": {},
   "outputs": [
    {
     "data": {
      "text/plain": [
       "Clicked on Ad\n",
       "0    429\n",
       "1     14\n",
       "Name: count, dtype: int64"
      ]
     },
     "execution_count": 228,
     "metadata": {},
     "output_type": "execute_result"
    }
   ],
   "source": [
    "df[(df[\"Daily Internet Usage\"] > 180) & (df[\"Daily Time Spent on Site\"] > 65)][\"Clicked on Ad\"].value_counts()"
   ]
  },
  {
   "cell_type": "markdown",
   "metadata": {},
   "source": [
    "**Finding**: The scatterplot between daily time spent on site and daily internet usage reveals a trend in ad engagement. Users who spend more than 65 minutes on the site and have high overall internet usage (over 180 minutes) tend to not click on the ad, possibly indicating ad fatigue or that these users are more selective or desensitized to ads. In contrast, users with moderate site engagement (below 65 minutes) and lower internet usage (below 180 minutes) are more likely to click on ads, suggesting that less frequent users may be more responsive to targeted advertisements."
   ]
  },
  {
   "cell_type": "code",
   "execution_count": 247,
   "metadata": {},
   "outputs": [
    {
     "data": {
      "application/vnd.plotly.v1+json": {
       "config": {
        "plotlyServerURL": "https://plot.ly"
       },
       "data": [
        {
         "alignmentgroup": "True",
         "hovertemplate": "Clicked on Ad=Clicked<br>Hour=%{x}<br>count=%{y}<extra></extra>",
         "legendgroup": "Clicked",
         "marker": {
          "color": "#d62728",
          "pattern": {
           "shape": ""
          }
         },
         "name": "Clicked",
         "offsetgroup": "Clicked",
         "orientation": "v",
         "showlegend": true,
         "textposition": "auto",
         "type": "bar",
         "x": [
          0,
          1,
          2,
          3,
          4,
          5,
          6,
          7,
          8,
          9,
          10,
          11,
          12,
          13,
          14,
          15,
          16,
          17,
          18,
          19,
          20,
          21,
          22,
          23
         ],
         "xaxis": "x",
         "y": [
          26,
          16,
          17,
          23,
          21,
          21,
          23,
          26,
          21,
          28,
          14,
          24,
          16,
          21,
          21,
          19,
          16,
          23,
          25,
          19,
          24,
          19,
          19,
          18
         ],
         "yaxis": "y"
        },
        {
         "alignmentgroup": "True",
         "hovertemplate": "Clicked on Ad=Not Clicked<br>Hour=%{x}<br>count=%{y}<extra></extra>",
         "legendgroup": "Not Clicked",
         "marker": {
          "color": "#0000FF",
          "pattern": {
           "shape": ""
          }
         },
         "name": "Not Clicked",
         "offsetgroup": "Not Clicked",
         "orientation": "v",
         "showlegend": true,
         "textposition": "auto",
         "type": "bar",
         "x": [
          0,
          1,
          2,
          3,
          4,
          5,
          6,
          7,
          8,
          9,
          10,
          11,
          12,
          13,
          14,
          15,
          16,
          17,
          18,
          19,
          20,
          21,
          22,
          23
         ],
         "xaxis": "x",
         "y": [
          19,
          16,
          19,
          19,
          21,
          23,
          16,
          28,
          22,
          21,
          17,
          16,
          22,
          21,
          22,
          16,
          23,
          18,
          16,
          20,
          26,
          29,
          24,
          26
         ],
         "yaxis": "y"
        }
       ],
       "layout": {
        "barmode": "group",
        "legend": {
         "title": {
          "text": "Ad Engagement"
         },
         "tracegroupgap": 0
        },
        "template": {
         "data": {
          "bar": [
           {
            "error_x": {
             "color": "#2a3f5f"
            },
            "error_y": {
             "color": "#2a3f5f"
            },
            "marker": {
             "line": {
              "color": "#E5ECF6",
              "width": 0.5
             },
             "pattern": {
              "fillmode": "overlay",
              "size": 10,
              "solidity": 0.2
             }
            },
            "type": "bar"
           }
          ],
          "barpolar": [
           {
            "marker": {
             "line": {
              "color": "#E5ECF6",
              "width": 0.5
             },
             "pattern": {
              "fillmode": "overlay",
              "size": 10,
              "solidity": 0.2
             }
            },
            "type": "barpolar"
           }
          ],
          "carpet": [
           {
            "aaxis": {
             "endlinecolor": "#2a3f5f",
             "gridcolor": "white",
             "linecolor": "white",
             "minorgridcolor": "white",
             "startlinecolor": "#2a3f5f"
            },
            "baxis": {
             "endlinecolor": "#2a3f5f",
             "gridcolor": "white",
             "linecolor": "white",
             "minorgridcolor": "white",
             "startlinecolor": "#2a3f5f"
            },
            "type": "carpet"
           }
          ],
          "choropleth": [
           {
            "colorbar": {
             "outlinewidth": 0,
             "ticks": ""
            },
            "type": "choropleth"
           }
          ],
          "contour": [
           {
            "colorbar": {
             "outlinewidth": 0,
             "ticks": ""
            },
            "colorscale": [
             [
              0,
              "#0d0887"
             ],
             [
              0.1111111111111111,
              "#46039f"
             ],
             [
              0.2222222222222222,
              "#7201a8"
             ],
             [
              0.3333333333333333,
              "#9c179e"
             ],
             [
              0.4444444444444444,
              "#bd3786"
             ],
             [
              0.5555555555555556,
              "#d8576b"
             ],
             [
              0.6666666666666666,
              "#ed7953"
             ],
             [
              0.7777777777777778,
              "#fb9f3a"
             ],
             [
              0.8888888888888888,
              "#fdca26"
             ],
             [
              1,
              "#f0f921"
             ]
            ],
            "type": "contour"
           }
          ],
          "contourcarpet": [
           {
            "colorbar": {
             "outlinewidth": 0,
             "ticks": ""
            },
            "type": "contourcarpet"
           }
          ],
          "heatmap": [
           {
            "colorbar": {
             "outlinewidth": 0,
             "ticks": ""
            },
            "colorscale": [
             [
              0,
              "#0d0887"
             ],
             [
              0.1111111111111111,
              "#46039f"
             ],
             [
              0.2222222222222222,
              "#7201a8"
             ],
             [
              0.3333333333333333,
              "#9c179e"
             ],
             [
              0.4444444444444444,
              "#bd3786"
             ],
             [
              0.5555555555555556,
              "#d8576b"
             ],
             [
              0.6666666666666666,
              "#ed7953"
             ],
             [
              0.7777777777777778,
              "#fb9f3a"
             ],
             [
              0.8888888888888888,
              "#fdca26"
             ],
             [
              1,
              "#f0f921"
             ]
            ],
            "type": "heatmap"
           }
          ],
          "heatmapgl": [
           {
            "colorbar": {
             "outlinewidth": 0,
             "ticks": ""
            },
            "colorscale": [
             [
              0,
              "#0d0887"
             ],
             [
              0.1111111111111111,
              "#46039f"
             ],
             [
              0.2222222222222222,
              "#7201a8"
             ],
             [
              0.3333333333333333,
              "#9c179e"
             ],
             [
              0.4444444444444444,
              "#bd3786"
             ],
             [
              0.5555555555555556,
              "#d8576b"
             ],
             [
              0.6666666666666666,
              "#ed7953"
             ],
             [
              0.7777777777777778,
              "#fb9f3a"
             ],
             [
              0.8888888888888888,
              "#fdca26"
             ],
             [
              1,
              "#f0f921"
             ]
            ],
            "type": "heatmapgl"
           }
          ],
          "histogram": [
           {
            "marker": {
             "pattern": {
              "fillmode": "overlay",
              "size": 10,
              "solidity": 0.2
             }
            },
            "type": "histogram"
           }
          ],
          "histogram2d": [
           {
            "colorbar": {
             "outlinewidth": 0,
             "ticks": ""
            },
            "colorscale": [
             [
              0,
              "#0d0887"
             ],
             [
              0.1111111111111111,
              "#46039f"
             ],
             [
              0.2222222222222222,
              "#7201a8"
             ],
             [
              0.3333333333333333,
              "#9c179e"
             ],
             [
              0.4444444444444444,
              "#bd3786"
             ],
             [
              0.5555555555555556,
              "#d8576b"
             ],
             [
              0.6666666666666666,
              "#ed7953"
             ],
             [
              0.7777777777777778,
              "#fb9f3a"
             ],
             [
              0.8888888888888888,
              "#fdca26"
             ],
             [
              1,
              "#f0f921"
             ]
            ],
            "type": "histogram2d"
           }
          ],
          "histogram2dcontour": [
           {
            "colorbar": {
             "outlinewidth": 0,
             "ticks": ""
            },
            "colorscale": [
             [
              0,
              "#0d0887"
             ],
             [
              0.1111111111111111,
              "#46039f"
             ],
             [
              0.2222222222222222,
              "#7201a8"
             ],
             [
              0.3333333333333333,
              "#9c179e"
             ],
             [
              0.4444444444444444,
              "#bd3786"
             ],
             [
              0.5555555555555556,
              "#d8576b"
             ],
             [
              0.6666666666666666,
              "#ed7953"
             ],
             [
              0.7777777777777778,
              "#fb9f3a"
             ],
             [
              0.8888888888888888,
              "#fdca26"
             ],
             [
              1,
              "#f0f921"
             ]
            ],
            "type": "histogram2dcontour"
           }
          ],
          "mesh3d": [
           {
            "colorbar": {
             "outlinewidth": 0,
             "ticks": ""
            },
            "type": "mesh3d"
           }
          ],
          "parcoords": [
           {
            "line": {
             "colorbar": {
              "outlinewidth": 0,
              "ticks": ""
             }
            },
            "type": "parcoords"
           }
          ],
          "pie": [
           {
            "automargin": true,
            "type": "pie"
           }
          ],
          "scatter": [
           {
            "fillpattern": {
             "fillmode": "overlay",
             "size": 10,
             "solidity": 0.2
            },
            "type": "scatter"
           }
          ],
          "scatter3d": [
           {
            "line": {
             "colorbar": {
              "outlinewidth": 0,
              "ticks": ""
             }
            },
            "marker": {
             "colorbar": {
              "outlinewidth": 0,
              "ticks": ""
             }
            },
            "type": "scatter3d"
           }
          ],
          "scattercarpet": [
           {
            "marker": {
             "colorbar": {
              "outlinewidth": 0,
              "ticks": ""
             }
            },
            "type": "scattercarpet"
           }
          ],
          "scattergeo": [
           {
            "marker": {
             "colorbar": {
              "outlinewidth": 0,
              "ticks": ""
             }
            },
            "type": "scattergeo"
           }
          ],
          "scattergl": [
           {
            "marker": {
             "colorbar": {
              "outlinewidth": 0,
              "ticks": ""
             }
            },
            "type": "scattergl"
           }
          ],
          "scattermapbox": [
           {
            "marker": {
             "colorbar": {
              "outlinewidth": 0,
              "ticks": ""
             }
            },
            "type": "scattermapbox"
           }
          ],
          "scatterpolar": [
           {
            "marker": {
             "colorbar": {
              "outlinewidth": 0,
              "ticks": ""
             }
            },
            "type": "scatterpolar"
           }
          ],
          "scatterpolargl": [
           {
            "marker": {
             "colorbar": {
              "outlinewidth": 0,
              "ticks": ""
             }
            },
            "type": "scatterpolargl"
           }
          ],
          "scatterternary": [
           {
            "marker": {
             "colorbar": {
              "outlinewidth": 0,
              "ticks": ""
             }
            },
            "type": "scatterternary"
           }
          ],
          "surface": [
           {
            "colorbar": {
             "outlinewidth": 0,
             "ticks": ""
            },
            "colorscale": [
             [
              0,
              "#0d0887"
             ],
             [
              0.1111111111111111,
              "#46039f"
             ],
             [
              0.2222222222222222,
              "#7201a8"
             ],
             [
              0.3333333333333333,
              "#9c179e"
             ],
             [
              0.4444444444444444,
              "#bd3786"
             ],
             [
              0.5555555555555556,
              "#d8576b"
             ],
             [
              0.6666666666666666,
              "#ed7953"
             ],
             [
              0.7777777777777778,
              "#fb9f3a"
             ],
             [
              0.8888888888888888,
              "#fdca26"
             ],
             [
              1,
              "#f0f921"
             ]
            ],
            "type": "surface"
           }
          ],
          "table": [
           {
            "cells": {
             "fill": {
              "color": "#EBF0F8"
             },
             "line": {
              "color": "white"
             }
            },
            "header": {
             "fill": {
              "color": "#C8D4E3"
             },
             "line": {
              "color": "white"
             }
            },
            "type": "table"
           }
          ]
         },
         "layout": {
          "annotationdefaults": {
           "arrowcolor": "#2a3f5f",
           "arrowhead": 0,
           "arrowwidth": 1
          },
          "autotypenumbers": "strict",
          "coloraxis": {
           "colorbar": {
            "outlinewidth": 0,
            "ticks": ""
           }
          },
          "colorscale": {
           "diverging": [
            [
             0,
             "#8e0152"
            ],
            [
             0.1,
             "#c51b7d"
            ],
            [
             0.2,
             "#de77ae"
            ],
            [
             0.3,
             "#f1b6da"
            ],
            [
             0.4,
             "#fde0ef"
            ],
            [
             0.5,
             "#f7f7f7"
            ],
            [
             0.6,
             "#e6f5d0"
            ],
            [
             0.7,
             "#b8e186"
            ],
            [
             0.8,
             "#7fbc41"
            ],
            [
             0.9,
             "#4d9221"
            ],
            [
             1,
             "#276419"
            ]
           ],
           "sequential": [
            [
             0,
             "#0d0887"
            ],
            [
             0.1111111111111111,
             "#46039f"
            ],
            [
             0.2222222222222222,
             "#7201a8"
            ],
            [
             0.3333333333333333,
             "#9c179e"
            ],
            [
             0.4444444444444444,
             "#bd3786"
            ],
            [
             0.5555555555555556,
             "#d8576b"
            ],
            [
             0.6666666666666666,
             "#ed7953"
            ],
            [
             0.7777777777777778,
             "#fb9f3a"
            ],
            [
             0.8888888888888888,
             "#fdca26"
            ],
            [
             1,
             "#f0f921"
            ]
           ],
           "sequentialminus": [
            [
             0,
             "#0d0887"
            ],
            [
             0.1111111111111111,
             "#46039f"
            ],
            [
             0.2222222222222222,
             "#7201a8"
            ],
            [
             0.3333333333333333,
             "#9c179e"
            ],
            [
             0.4444444444444444,
             "#bd3786"
            ],
            [
             0.5555555555555556,
             "#d8576b"
            ],
            [
             0.6666666666666666,
             "#ed7953"
            ],
            [
             0.7777777777777778,
             "#fb9f3a"
            ],
            [
             0.8888888888888888,
             "#fdca26"
            ],
            [
             1,
             "#f0f921"
            ]
           ]
          },
          "colorway": [
           "#636efa",
           "#EF553B",
           "#00cc96",
           "#ab63fa",
           "#FFA15A",
           "#19d3f3",
           "#FF6692",
           "#B6E880",
           "#FF97FF",
           "#FECB52"
          ],
          "font": {
           "color": "#2a3f5f"
          },
          "geo": {
           "bgcolor": "white",
           "lakecolor": "white",
           "landcolor": "#E5ECF6",
           "showlakes": true,
           "showland": true,
           "subunitcolor": "white"
          },
          "hoverlabel": {
           "align": "left"
          },
          "hovermode": "closest",
          "mapbox": {
           "style": "light"
          },
          "paper_bgcolor": "white",
          "plot_bgcolor": "#E5ECF6",
          "polar": {
           "angularaxis": {
            "gridcolor": "white",
            "linecolor": "white",
            "ticks": ""
           },
           "bgcolor": "#E5ECF6",
           "radialaxis": {
            "gridcolor": "white",
            "linecolor": "white",
            "ticks": ""
           }
          },
          "scene": {
           "xaxis": {
            "backgroundcolor": "#E5ECF6",
            "gridcolor": "white",
            "gridwidth": 2,
            "linecolor": "white",
            "showbackground": true,
            "ticks": "",
            "zerolinecolor": "white"
           },
           "yaxis": {
            "backgroundcolor": "#E5ECF6",
            "gridcolor": "white",
            "gridwidth": 2,
            "linecolor": "white",
            "showbackground": true,
            "ticks": "",
            "zerolinecolor": "white"
           },
           "zaxis": {
            "backgroundcolor": "#E5ECF6",
            "gridcolor": "white",
            "gridwidth": 2,
            "linecolor": "white",
            "showbackground": true,
            "ticks": "",
            "zerolinecolor": "white"
           }
          },
          "shapedefaults": {
           "line": {
            "color": "#2a3f5f"
           }
          },
          "ternary": {
           "aaxis": {
            "gridcolor": "white",
            "linecolor": "white",
            "ticks": ""
           },
           "baxis": {
            "gridcolor": "white",
            "linecolor": "white",
            "ticks": ""
           },
           "bgcolor": "#E5ECF6",
           "caxis": {
            "gridcolor": "white",
            "linecolor": "white",
            "ticks": ""
           }
          },
          "title": {
           "x": 0.05
          },
          "xaxis": {
           "automargin": true,
           "gridcolor": "white",
           "linecolor": "white",
           "ticks": "",
           "title": {
            "standoff": 15
           },
           "zerolinecolor": "white",
           "zerolinewidth": 2
          },
          "yaxis": {
           "automargin": true,
           "gridcolor": "white",
           "linecolor": "white",
           "ticks": "",
           "title": {
            "standoff": 15
           },
           "zerolinecolor": "white",
           "zerolinewidth": 2
          }
         }
        },
        "title": {
         "text": "Ad Clicks by Hour of Day"
        },
        "xaxis": {
         "anchor": "y",
         "domain": [
          0,
          1
         ],
         "title": {
          "text": "Hour of Day"
         }
        },
        "yaxis": {
         "anchor": "x",
         "domain": [
          0,
          1
         ],
         "range": [
          0,
          34.8
         ],
         "title": {
          "text": "Count"
         }
        }
       }
      }
     },
     "metadata": {},
     "output_type": "display_data"
    }
   ],
   "source": [
    "# Are there specific times of day when ads perform better?\n",
    "hour_clicks = df.groupby(\"Hour\")[\"Clicked on Ad\"].value_counts().reset_index()\n",
    "hour_clicks[\"Clicked on Ad\"] = hour_clicks[\"Clicked on Ad\"].map({0: \"Not Clicked\", 1: \"Clicked\"})\n",
    "\n",
    "fig = px.bar(hour_clicks, x=\"Hour\", y=\"count\", color=\"Clicked on Ad\", barmode=\"group\",\n",
    "            color_discrete_map={\"Clicked\": \"#d62728\", \"Not Clicked\": \"#0000FF\"}, \n",
    "            title=\"Ad Clicks by Hour of Day\" )\n",
    "fig.update_layout(xaxis_title=\"Hour of Day\", yaxis_title=\"Count\",\n",
    "                  legend_title=\"Ad Engagement\", yaxis_range=[0, hour_clicks[\"count\"].max() * 1.2])\n",
    "fig.show()"
   ]
  },
  {
   "cell_type": "markdown",
   "metadata": {},
   "source": [
    "**Finding**: Based on the chart, there is no significant pattern in ad clicks across different hours of the day. The number of users who clicked or did not click the ad remains relatively stable throughout the day, suggesting that time of day may not be a strong factor influencing ad engagement in this dataset."
   ]
  },
  {
   "cell_type": "code",
   "execution_count": 251,
   "metadata": {},
   "outputs": [
    {
     "data": {
      "application/vnd.plotly.v1+json": {
       "config": {
        "plotlyServerURL": "https://plot.ly"
       },
       "data": [
        {
         "alignmentgroup": "True",
         "hovertemplate": "Clicked on Ad=Not Clicked<br>Month=%{x}<br>count=%{y}<extra></extra>",
         "legendgroup": "Not Clicked",
         "marker": {
          "color": "#0000FF",
          "pattern": {
           "shape": ""
          }
         },
         "name": "Not Clicked",
         "offsetgroup": "Not Clicked",
         "orientation": "v",
         "showlegend": true,
         "textposition": "auto",
         "type": "bar",
         "x": [
          1,
          2,
          3,
          4,
          5,
          6,
          7
         ],
         "xaxis": "x",
         "y": [
          78,
          77,
          82,
          73,
          68,
          71,
          51
         ],
         "yaxis": "y"
        },
        {
         "alignmentgroup": "True",
         "hovertemplate": "Clicked on Ad=Clicked<br>Month=%{x}<br>count=%{y}<extra></extra>",
         "legendgroup": "Clicked",
         "marker": {
          "color": "#d62728",
          "pattern": {
           "shape": ""
          }
         },
         "name": "Clicked",
         "offsetgroup": "Clicked",
         "orientation": "v",
         "showlegend": true,
         "textposition": "auto",
         "type": "bar",
         "x": [
          1,
          2,
          3,
          4,
          5,
          6,
          7
         ],
         "xaxis": "x",
         "y": [
          69,
          83,
          74,
          74,
          79,
          71,
          50
         ],
         "yaxis": "y"
        }
       ],
       "layout": {
        "barmode": "group",
        "legend": {
         "title": {
          "text": "Ad Engagement"
         },
         "tracegroupgap": 0
        },
        "template": {
         "data": {
          "bar": [
           {
            "error_x": {
             "color": "#2a3f5f"
            },
            "error_y": {
             "color": "#2a3f5f"
            },
            "marker": {
             "line": {
              "color": "#E5ECF6",
              "width": 0.5
             },
             "pattern": {
              "fillmode": "overlay",
              "size": 10,
              "solidity": 0.2
             }
            },
            "type": "bar"
           }
          ],
          "barpolar": [
           {
            "marker": {
             "line": {
              "color": "#E5ECF6",
              "width": 0.5
             },
             "pattern": {
              "fillmode": "overlay",
              "size": 10,
              "solidity": 0.2
             }
            },
            "type": "barpolar"
           }
          ],
          "carpet": [
           {
            "aaxis": {
             "endlinecolor": "#2a3f5f",
             "gridcolor": "white",
             "linecolor": "white",
             "minorgridcolor": "white",
             "startlinecolor": "#2a3f5f"
            },
            "baxis": {
             "endlinecolor": "#2a3f5f",
             "gridcolor": "white",
             "linecolor": "white",
             "minorgridcolor": "white",
             "startlinecolor": "#2a3f5f"
            },
            "type": "carpet"
           }
          ],
          "choropleth": [
           {
            "colorbar": {
             "outlinewidth": 0,
             "ticks": ""
            },
            "type": "choropleth"
           }
          ],
          "contour": [
           {
            "colorbar": {
             "outlinewidth": 0,
             "ticks": ""
            },
            "colorscale": [
             [
              0,
              "#0d0887"
             ],
             [
              0.1111111111111111,
              "#46039f"
             ],
             [
              0.2222222222222222,
              "#7201a8"
             ],
             [
              0.3333333333333333,
              "#9c179e"
             ],
             [
              0.4444444444444444,
              "#bd3786"
             ],
             [
              0.5555555555555556,
              "#d8576b"
             ],
             [
              0.6666666666666666,
              "#ed7953"
             ],
             [
              0.7777777777777778,
              "#fb9f3a"
             ],
             [
              0.8888888888888888,
              "#fdca26"
             ],
             [
              1,
              "#f0f921"
             ]
            ],
            "type": "contour"
           }
          ],
          "contourcarpet": [
           {
            "colorbar": {
             "outlinewidth": 0,
             "ticks": ""
            },
            "type": "contourcarpet"
           }
          ],
          "heatmap": [
           {
            "colorbar": {
             "outlinewidth": 0,
             "ticks": ""
            },
            "colorscale": [
             [
              0,
              "#0d0887"
             ],
             [
              0.1111111111111111,
              "#46039f"
             ],
             [
              0.2222222222222222,
              "#7201a8"
             ],
             [
              0.3333333333333333,
              "#9c179e"
             ],
             [
              0.4444444444444444,
              "#bd3786"
             ],
             [
              0.5555555555555556,
              "#d8576b"
             ],
             [
              0.6666666666666666,
              "#ed7953"
             ],
             [
              0.7777777777777778,
              "#fb9f3a"
             ],
             [
              0.8888888888888888,
              "#fdca26"
             ],
             [
              1,
              "#f0f921"
             ]
            ],
            "type": "heatmap"
           }
          ],
          "heatmapgl": [
           {
            "colorbar": {
             "outlinewidth": 0,
             "ticks": ""
            },
            "colorscale": [
             [
              0,
              "#0d0887"
             ],
             [
              0.1111111111111111,
              "#46039f"
             ],
             [
              0.2222222222222222,
              "#7201a8"
             ],
             [
              0.3333333333333333,
              "#9c179e"
             ],
             [
              0.4444444444444444,
              "#bd3786"
             ],
             [
              0.5555555555555556,
              "#d8576b"
             ],
             [
              0.6666666666666666,
              "#ed7953"
             ],
             [
              0.7777777777777778,
              "#fb9f3a"
             ],
             [
              0.8888888888888888,
              "#fdca26"
             ],
             [
              1,
              "#f0f921"
             ]
            ],
            "type": "heatmapgl"
           }
          ],
          "histogram": [
           {
            "marker": {
             "pattern": {
              "fillmode": "overlay",
              "size": 10,
              "solidity": 0.2
             }
            },
            "type": "histogram"
           }
          ],
          "histogram2d": [
           {
            "colorbar": {
             "outlinewidth": 0,
             "ticks": ""
            },
            "colorscale": [
             [
              0,
              "#0d0887"
             ],
             [
              0.1111111111111111,
              "#46039f"
             ],
             [
              0.2222222222222222,
              "#7201a8"
             ],
             [
              0.3333333333333333,
              "#9c179e"
             ],
             [
              0.4444444444444444,
              "#bd3786"
             ],
             [
              0.5555555555555556,
              "#d8576b"
             ],
             [
              0.6666666666666666,
              "#ed7953"
             ],
             [
              0.7777777777777778,
              "#fb9f3a"
             ],
             [
              0.8888888888888888,
              "#fdca26"
             ],
             [
              1,
              "#f0f921"
             ]
            ],
            "type": "histogram2d"
           }
          ],
          "histogram2dcontour": [
           {
            "colorbar": {
             "outlinewidth": 0,
             "ticks": ""
            },
            "colorscale": [
             [
              0,
              "#0d0887"
             ],
             [
              0.1111111111111111,
              "#46039f"
             ],
             [
              0.2222222222222222,
              "#7201a8"
             ],
             [
              0.3333333333333333,
              "#9c179e"
             ],
             [
              0.4444444444444444,
              "#bd3786"
             ],
             [
              0.5555555555555556,
              "#d8576b"
             ],
             [
              0.6666666666666666,
              "#ed7953"
             ],
             [
              0.7777777777777778,
              "#fb9f3a"
             ],
             [
              0.8888888888888888,
              "#fdca26"
             ],
             [
              1,
              "#f0f921"
             ]
            ],
            "type": "histogram2dcontour"
           }
          ],
          "mesh3d": [
           {
            "colorbar": {
             "outlinewidth": 0,
             "ticks": ""
            },
            "type": "mesh3d"
           }
          ],
          "parcoords": [
           {
            "line": {
             "colorbar": {
              "outlinewidth": 0,
              "ticks": ""
             }
            },
            "type": "parcoords"
           }
          ],
          "pie": [
           {
            "automargin": true,
            "type": "pie"
           }
          ],
          "scatter": [
           {
            "fillpattern": {
             "fillmode": "overlay",
             "size": 10,
             "solidity": 0.2
            },
            "type": "scatter"
           }
          ],
          "scatter3d": [
           {
            "line": {
             "colorbar": {
              "outlinewidth": 0,
              "ticks": ""
             }
            },
            "marker": {
             "colorbar": {
              "outlinewidth": 0,
              "ticks": ""
             }
            },
            "type": "scatter3d"
           }
          ],
          "scattercarpet": [
           {
            "marker": {
             "colorbar": {
              "outlinewidth": 0,
              "ticks": ""
             }
            },
            "type": "scattercarpet"
           }
          ],
          "scattergeo": [
           {
            "marker": {
             "colorbar": {
              "outlinewidth": 0,
              "ticks": ""
             }
            },
            "type": "scattergeo"
           }
          ],
          "scattergl": [
           {
            "marker": {
             "colorbar": {
              "outlinewidth": 0,
              "ticks": ""
             }
            },
            "type": "scattergl"
           }
          ],
          "scattermapbox": [
           {
            "marker": {
             "colorbar": {
              "outlinewidth": 0,
              "ticks": ""
             }
            },
            "type": "scattermapbox"
           }
          ],
          "scatterpolar": [
           {
            "marker": {
             "colorbar": {
              "outlinewidth": 0,
              "ticks": ""
             }
            },
            "type": "scatterpolar"
           }
          ],
          "scatterpolargl": [
           {
            "marker": {
             "colorbar": {
              "outlinewidth": 0,
              "ticks": ""
             }
            },
            "type": "scatterpolargl"
           }
          ],
          "scatterternary": [
           {
            "marker": {
             "colorbar": {
              "outlinewidth": 0,
              "ticks": ""
             }
            },
            "type": "scatterternary"
           }
          ],
          "surface": [
           {
            "colorbar": {
             "outlinewidth": 0,
             "ticks": ""
            },
            "colorscale": [
             [
              0,
              "#0d0887"
             ],
             [
              0.1111111111111111,
              "#46039f"
             ],
             [
              0.2222222222222222,
              "#7201a8"
             ],
             [
              0.3333333333333333,
              "#9c179e"
             ],
             [
              0.4444444444444444,
              "#bd3786"
             ],
             [
              0.5555555555555556,
              "#d8576b"
             ],
             [
              0.6666666666666666,
              "#ed7953"
             ],
             [
              0.7777777777777778,
              "#fb9f3a"
             ],
             [
              0.8888888888888888,
              "#fdca26"
             ],
             [
              1,
              "#f0f921"
             ]
            ],
            "type": "surface"
           }
          ],
          "table": [
           {
            "cells": {
             "fill": {
              "color": "#EBF0F8"
             },
             "line": {
              "color": "white"
             }
            },
            "header": {
             "fill": {
              "color": "#C8D4E3"
             },
             "line": {
              "color": "white"
             }
            },
            "type": "table"
           }
          ]
         },
         "layout": {
          "annotationdefaults": {
           "arrowcolor": "#2a3f5f",
           "arrowhead": 0,
           "arrowwidth": 1
          },
          "autotypenumbers": "strict",
          "coloraxis": {
           "colorbar": {
            "outlinewidth": 0,
            "ticks": ""
           }
          },
          "colorscale": {
           "diverging": [
            [
             0,
             "#8e0152"
            ],
            [
             0.1,
             "#c51b7d"
            ],
            [
             0.2,
             "#de77ae"
            ],
            [
             0.3,
             "#f1b6da"
            ],
            [
             0.4,
             "#fde0ef"
            ],
            [
             0.5,
             "#f7f7f7"
            ],
            [
             0.6,
             "#e6f5d0"
            ],
            [
             0.7,
             "#b8e186"
            ],
            [
             0.8,
             "#7fbc41"
            ],
            [
             0.9,
             "#4d9221"
            ],
            [
             1,
             "#276419"
            ]
           ],
           "sequential": [
            [
             0,
             "#0d0887"
            ],
            [
             0.1111111111111111,
             "#46039f"
            ],
            [
             0.2222222222222222,
             "#7201a8"
            ],
            [
             0.3333333333333333,
             "#9c179e"
            ],
            [
             0.4444444444444444,
             "#bd3786"
            ],
            [
             0.5555555555555556,
             "#d8576b"
            ],
            [
             0.6666666666666666,
             "#ed7953"
            ],
            [
             0.7777777777777778,
             "#fb9f3a"
            ],
            [
             0.8888888888888888,
             "#fdca26"
            ],
            [
             1,
             "#f0f921"
            ]
           ],
           "sequentialminus": [
            [
             0,
             "#0d0887"
            ],
            [
             0.1111111111111111,
             "#46039f"
            ],
            [
             0.2222222222222222,
             "#7201a8"
            ],
            [
             0.3333333333333333,
             "#9c179e"
            ],
            [
             0.4444444444444444,
             "#bd3786"
            ],
            [
             0.5555555555555556,
             "#d8576b"
            ],
            [
             0.6666666666666666,
             "#ed7953"
            ],
            [
             0.7777777777777778,
             "#fb9f3a"
            ],
            [
             0.8888888888888888,
             "#fdca26"
            ],
            [
             1,
             "#f0f921"
            ]
           ]
          },
          "colorway": [
           "#636efa",
           "#EF553B",
           "#00cc96",
           "#ab63fa",
           "#FFA15A",
           "#19d3f3",
           "#FF6692",
           "#B6E880",
           "#FF97FF",
           "#FECB52"
          ],
          "font": {
           "color": "#2a3f5f"
          },
          "geo": {
           "bgcolor": "white",
           "lakecolor": "white",
           "landcolor": "#E5ECF6",
           "showlakes": true,
           "showland": true,
           "subunitcolor": "white"
          },
          "hoverlabel": {
           "align": "left"
          },
          "hovermode": "closest",
          "mapbox": {
           "style": "light"
          },
          "paper_bgcolor": "white",
          "plot_bgcolor": "#E5ECF6",
          "polar": {
           "angularaxis": {
            "gridcolor": "white",
            "linecolor": "white",
            "ticks": ""
           },
           "bgcolor": "#E5ECF6",
           "radialaxis": {
            "gridcolor": "white",
            "linecolor": "white",
            "ticks": ""
           }
          },
          "scene": {
           "xaxis": {
            "backgroundcolor": "#E5ECF6",
            "gridcolor": "white",
            "gridwidth": 2,
            "linecolor": "white",
            "showbackground": true,
            "ticks": "",
            "zerolinecolor": "white"
           },
           "yaxis": {
            "backgroundcolor": "#E5ECF6",
            "gridcolor": "white",
            "gridwidth": 2,
            "linecolor": "white",
            "showbackground": true,
            "ticks": "",
            "zerolinecolor": "white"
           },
           "zaxis": {
            "backgroundcolor": "#E5ECF6",
            "gridcolor": "white",
            "gridwidth": 2,
            "linecolor": "white",
            "showbackground": true,
            "ticks": "",
            "zerolinecolor": "white"
           }
          },
          "shapedefaults": {
           "line": {
            "color": "#2a3f5f"
           }
          },
          "ternary": {
           "aaxis": {
            "gridcolor": "white",
            "linecolor": "white",
            "ticks": ""
           },
           "baxis": {
            "gridcolor": "white",
            "linecolor": "white",
            "ticks": ""
           },
           "bgcolor": "#E5ECF6",
           "caxis": {
            "gridcolor": "white",
            "linecolor": "white",
            "ticks": ""
           }
          },
          "title": {
           "x": 0.05
          },
          "xaxis": {
           "automargin": true,
           "gridcolor": "white",
           "linecolor": "white",
           "ticks": "",
           "title": {
            "standoff": 15
           },
           "zerolinecolor": "white",
           "zerolinewidth": 2
          },
          "yaxis": {
           "automargin": true,
           "gridcolor": "white",
           "linecolor": "white",
           "ticks": "",
           "title": {
            "standoff": 15
           },
           "zerolinecolor": "white",
           "zerolinewidth": 2
          }
         }
        },
        "title": {
         "text": "Ad Clicks by Month "
        },
        "xaxis": {
         "anchor": "y",
         "domain": [
          0,
          1
         ],
         "title": {
          "text": "Month"
         }
        },
        "yaxis": {
         "anchor": "x",
         "domain": [
          0,
          1
         ],
         "range": [
          0,
          99.6
         ],
         "title": {
          "text": "Count"
         }
        }
       }
      }
     },
     "metadata": {},
     "output_type": "display_data"
    }
   ],
   "source": [
    "# Are there specific month when ads perform better?\n",
    "hour_clicks = df.groupby(\"Month\")[\"Clicked on Ad\"].value_counts().reset_index()\n",
    "hour_clicks[\"Clicked on Ad\"] = hour_clicks[\"Clicked on Ad\"].map({0: \"Not Clicked\", 1: \"Clicked\"})\n",
    "\n",
    "fig = px.bar(hour_clicks, x=\"Month\", y=\"count\", color=\"Clicked on Ad\", barmode=\"group\",\n",
    "            color_discrete_map={\"Clicked\": \"#d62728\", \"Not Clicked\": \"#0000FF\"}, \n",
    "            title=\"Ad Clicks by Month \" )\n",
    "fig.update_layout(xaxis_title=\"Month\", yaxis_title=\"Count\",\n",
    "                  legend_title=\"Ad Engagement\", yaxis_range=[0, hour_clicks[\"count\"].max() * 1.2])\n",
    "fig.show()"
   ]
  },
  {
   "cell_type": "code",
   "execution_count": 252,
   "metadata": {},
   "outputs": [
    {
     "data": {
      "application/vnd.plotly.v1+json": {
       "config": {
        "plotlyServerURL": "https://plot.ly"
       },
       "data": [
        {
         "alignmentgroup": "True",
         "hovertemplate": "Clicked on Ad=Clicked<br>Day of Week=%{x}<br>count=%{y}<extra></extra>",
         "legendgroup": "Clicked",
         "marker": {
          "color": "#d62728",
          "pattern": {
           "shape": ""
          }
         },
         "name": "Clicked",
         "offsetgroup": "Clicked",
         "orientation": "v",
         "showlegend": true,
         "textposition": "auto",
         "type": "bar",
         "x": [
          0,
          1,
          2,
          3,
          4,
          5,
          6
         ],
         "xaxis": "x",
         "y": [
          72,
          55,
          79,
          79,
          71,
          64,
          80
         ],
         "yaxis": "y"
        },
        {
         "alignmentgroup": "True",
         "hovertemplate": "Clicked on Ad=Not Clicked<br>Day of Week=%{x}<br>count=%{y}<extra></extra>",
         "legendgroup": "Not Clicked",
         "marker": {
          "color": "#0000FF",
          "pattern": {
           "shape": ""
          }
         },
         "name": "Not Clicked",
         "offsetgroup": "Not Clicked",
         "orientation": "v",
         "showlegend": true,
         "textposition": "auto",
         "type": "bar",
         "x": [
          0,
          1,
          2,
          3,
          4,
          5,
          6
         ],
         "xaxis": "x",
         "y": [
          68,
          67,
          77,
          63,
          84,
          62,
          79
         ],
         "yaxis": "y"
        }
       ],
       "layout": {
        "barmode": "group",
        "legend": {
         "title": {
          "text": "Ad Engagement"
         },
         "tracegroupgap": 0
        },
        "template": {
         "data": {
          "bar": [
           {
            "error_x": {
             "color": "#2a3f5f"
            },
            "error_y": {
             "color": "#2a3f5f"
            },
            "marker": {
             "line": {
              "color": "#E5ECF6",
              "width": 0.5
             },
             "pattern": {
              "fillmode": "overlay",
              "size": 10,
              "solidity": 0.2
             }
            },
            "type": "bar"
           }
          ],
          "barpolar": [
           {
            "marker": {
             "line": {
              "color": "#E5ECF6",
              "width": 0.5
             },
             "pattern": {
              "fillmode": "overlay",
              "size": 10,
              "solidity": 0.2
             }
            },
            "type": "barpolar"
           }
          ],
          "carpet": [
           {
            "aaxis": {
             "endlinecolor": "#2a3f5f",
             "gridcolor": "white",
             "linecolor": "white",
             "minorgridcolor": "white",
             "startlinecolor": "#2a3f5f"
            },
            "baxis": {
             "endlinecolor": "#2a3f5f",
             "gridcolor": "white",
             "linecolor": "white",
             "minorgridcolor": "white",
             "startlinecolor": "#2a3f5f"
            },
            "type": "carpet"
           }
          ],
          "choropleth": [
           {
            "colorbar": {
             "outlinewidth": 0,
             "ticks": ""
            },
            "type": "choropleth"
           }
          ],
          "contour": [
           {
            "colorbar": {
             "outlinewidth": 0,
             "ticks": ""
            },
            "colorscale": [
             [
              0,
              "#0d0887"
             ],
             [
              0.1111111111111111,
              "#46039f"
             ],
             [
              0.2222222222222222,
              "#7201a8"
             ],
             [
              0.3333333333333333,
              "#9c179e"
             ],
             [
              0.4444444444444444,
              "#bd3786"
             ],
             [
              0.5555555555555556,
              "#d8576b"
             ],
             [
              0.6666666666666666,
              "#ed7953"
             ],
             [
              0.7777777777777778,
              "#fb9f3a"
             ],
             [
              0.8888888888888888,
              "#fdca26"
             ],
             [
              1,
              "#f0f921"
             ]
            ],
            "type": "contour"
           }
          ],
          "contourcarpet": [
           {
            "colorbar": {
             "outlinewidth": 0,
             "ticks": ""
            },
            "type": "contourcarpet"
           }
          ],
          "heatmap": [
           {
            "colorbar": {
             "outlinewidth": 0,
             "ticks": ""
            },
            "colorscale": [
             [
              0,
              "#0d0887"
             ],
             [
              0.1111111111111111,
              "#46039f"
             ],
             [
              0.2222222222222222,
              "#7201a8"
             ],
             [
              0.3333333333333333,
              "#9c179e"
             ],
             [
              0.4444444444444444,
              "#bd3786"
             ],
             [
              0.5555555555555556,
              "#d8576b"
             ],
             [
              0.6666666666666666,
              "#ed7953"
             ],
             [
              0.7777777777777778,
              "#fb9f3a"
             ],
             [
              0.8888888888888888,
              "#fdca26"
             ],
             [
              1,
              "#f0f921"
             ]
            ],
            "type": "heatmap"
           }
          ],
          "heatmapgl": [
           {
            "colorbar": {
             "outlinewidth": 0,
             "ticks": ""
            },
            "colorscale": [
             [
              0,
              "#0d0887"
             ],
             [
              0.1111111111111111,
              "#46039f"
             ],
             [
              0.2222222222222222,
              "#7201a8"
             ],
             [
              0.3333333333333333,
              "#9c179e"
             ],
             [
              0.4444444444444444,
              "#bd3786"
             ],
             [
              0.5555555555555556,
              "#d8576b"
             ],
             [
              0.6666666666666666,
              "#ed7953"
             ],
             [
              0.7777777777777778,
              "#fb9f3a"
             ],
             [
              0.8888888888888888,
              "#fdca26"
             ],
             [
              1,
              "#f0f921"
             ]
            ],
            "type": "heatmapgl"
           }
          ],
          "histogram": [
           {
            "marker": {
             "pattern": {
              "fillmode": "overlay",
              "size": 10,
              "solidity": 0.2
             }
            },
            "type": "histogram"
           }
          ],
          "histogram2d": [
           {
            "colorbar": {
             "outlinewidth": 0,
             "ticks": ""
            },
            "colorscale": [
             [
              0,
              "#0d0887"
             ],
             [
              0.1111111111111111,
              "#46039f"
             ],
             [
              0.2222222222222222,
              "#7201a8"
             ],
             [
              0.3333333333333333,
              "#9c179e"
             ],
             [
              0.4444444444444444,
              "#bd3786"
             ],
             [
              0.5555555555555556,
              "#d8576b"
             ],
             [
              0.6666666666666666,
              "#ed7953"
             ],
             [
              0.7777777777777778,
              "#fb9f3a"
             ],
             [
              0.8888888888888888,
              "#fdca26"
             ],
             [
              1,
              "#f0f921"
             ]
            ],
            "type": "histogram2d"
           }
          ],
          "histogram2dcontour": [
           {
            "colorbar": {
             "outlinewidth": 0,
             "ticks": ""
            },
            "colorscale": [
             [
              0,
              "#0d0887"
             ],
             [
              0.1111111111111111,
              "#46039f"
             ],
             [
              0.2222222222222222,
              "#7201a8"
             ],
             [
              0.3333333333333333,
              "#9c179e"
             ],
             [
              0.4444444444444444,
              "#bd3786"
             ],
             [
              0.5555555555555556,
              "#d8576b"
             ],
             [
              0.6666666666666666,
              "#ed7953"
             ],
             [
              0.7777777777777778,
              "#fb9f3a"
             ],
             [
              0.8888888888888888,
              "#fdca26"
             ],
             [
              1,
              "#f0f921"
             ]
            ],
            "type": "histogram2dcontour"
           }
          ],
          "mesh3d": [
           {
            "colorbar": {
             "outlinewidth": 0,
             "ticks": ""
            },
            "type": "mesh3d"
           }
          ],
          "parcoords": [
           {
            "line": {
             "colorbar": {
              "outlinewidth": 0,
              "ticks": ""
             }
            },
            "type": "parcoords"
           }
          ],
          "pie": [
           {
            "automargin": true,
            "type": "pie"
           }
          ],
          "scatter": [
           {
            "fillpattern": {
             "fillmode": "overlay",
             "size": 10,
             "solidity": 0.2
            },
            "type": "scatter"
           }
          ],
          "scatter3d": [
           {
            "line": {
             "colorbar": {
              "outlinewidth": 0,
              "ticks": ""
             }
            },
            "marker": {
             "colorbar": {
              "outlinewidth": 0,
              "ticks": ""
             }
            },
            "type": "scatter3d"
           }
          ],
          "scattercarpet": [
           {
            "marker": {
             "colorbar": {
              "outlinewidth": 0,
              "ticks": ""
             }
            },
            "type": "scattercarpet"
           }
          ],
          "scattergeo": [
           {
            "marker": {
             "colorbar": {
              "outlinewidth": 0,
              "ticks": ""
             }
            },
            "type": "scattergeo"
           }
          ],
          "scattergl": [
           {
            "marker": {
             "colorbar": {
              "outlinewidth": 0,
              "ticks": ""
             }
            },
            "type": "scattergl"
           }
          ],
          "scattermapbox": [
           {
            "marker": {
             "colorbar": {
              "outlinewidth": 0,
              "ticks": ""
             }
            },
            "type": "scattermapbox"
           }
          ],
          "scatterpolar": [
           {
            "marker": {
             "colorbar": {
              "outlinewidth": 0,
              "ticks": ""
             }
            },
            "type": "scatterpolar"
           }
          ],
          "scatterpolargl": [
           {
            "marker": {
             "colorbar": {
              "outlinewidth": 0,
              "ticks": ""
             }
            },
            "type": "scatterpolargl"
           }
          ],
          "scatterternary": [
           {
            "marker": {
             "colorbar": {
              "outlinewidth": 0,
              "ticks": ""
             }
            },
            "type": "scatterternary"
           }
          ],
          "surface": [
           {
            "colorbar": {
             "outlinewidth": 0,
             "ticks": ""
            },
            "colorscale": [
             [
              0,
              "#0d0887"
             ],
             [
              0.1111111111111111,
              "#46039f"
             ],
             [
              0.2222222222222222,
              "#7201a8"
             ],
             [
              0.3333333333333333,
              "#9c179e"
             ],
             [
              0.4444444444444444,
              "#bd3786"
             ],
             [
              0.5555555555555556,
              "#d8576b"
             ],
             [
              0.6666666666666666,
              "#ed7953"
             ],
             [
              0.7777777777777778,
              "#fb9f3a"
             ],
             [
              0.8888888888888888,
              "#fdca26"
             ],
             [
              1,
              "#f0f921"
             ]
            ],
            "type": "surface"
           }
          ],
          "table": [
           {
            "cells": {
             "fill": {
              "color": "#EBF0F8"
             },
             "line": {
              "color": "white"
             }
            },
            "header": {
             "fill": {
              "color": "#C8D4E3"
             },
             "line": {
              "color": "white"
             }
            },
            "type": "table"
           }
          ]
         },
         "layout": {
          "annotationdefaults": {
           "arrowcolor": "#2a3f5f",
           "arrowhead": 0,
           "arrowwidth": 1
          },
          "autotypenumbers": "strict",
          "coloraxis": {
           "colorbar": {
            "outlinewidth": 0,
            "ticks": ""
           }
          },
          "colorscale": {
           "diverging": [
            [
             0,
             "#8e0152"
            ],
            [
             0.1,
             "#c51b7d"
            ],
            [
             0.2,
             "#de77ae"
            ],
            [
             0.3,
             "#f1b6da"
            ],
            [
             0.4,
             "#fde0ef"
            ],
            [
             0.5,
             "#f7f7f7"
            ],
            [
             0.6,
             "#e6f5d0"
            ],
            [
             0.7,
             "#b8e186"
            ],
            [
             0.8,
             "#7fbc41"
            ],
            [
             0.9,
             "#4d9221"
            ],
            [
             1,
             "#276419"
            ]
           ],
           "sequential": [
            [
             0,
             "#0d0887"
            ],
            [
             0.1111111111111111,
             "#46039f"
            ],
            [
             0.2222222222222222,
             "#7201a8"
            ],
            [
             0.3333333333333333,
             "#9c179e"
            ],
            [
             0.4444444444444444,
             "#bd3786"
            ],
            [
             0.5555555555555556,
             "#d8576b"
            ],
            [
             0.6666666666666666,
             "#ed7953"
            ],
            [
             0.7777777777777778,
             "#fb9f3a"
            ],
            [
             0.8888888888888888,
             "#fdca26"
            ],
            [
             1,
             "#f0f921"
            ]
           ],
           "sequentialminus": [
            [
             0,
             "#0d0887"
            ],
            [
             0.1111111111111111,
             "#46039f"
            ],
            [
             0.2222222222222222,
             "#7201a8"
            ],
            [
             0.3333333333333333,
             "#9c179e"
            ],
            [
             0.4444444444444444,
             "#bd3786"
            ],
            [
             0.5555555555555556,
             "#d8576b"
            ],
            [
             0.6666666666666666,
             "#ed7953"
            ],
            [
             0.7777777777777778,
             "#fb9f3a"
            ],
            [
             0.8888888888888888,
             "#fdca26"
            ],
            [
             1,
             "#f0f921"
            ]
           ]
          },
          "colorway": [
           "#636efa",
           "#EF553B",
           "#00cc96",
           "#ab63fa",
           "#FFA15A",
           "#19d3f3",
           "#FF6692",
           "#B6E880",
           "#FF97FF",
           "#FECB52"
          ],
          "font": {
           "color": "#2a3f5f"
          },
          "geo": {
           "bgcolor": "white",
           "lakecolor": "white",
           "landcolor": "#E5ECF6",
           "showlakes": true,
           "showland": true,
           "subunitcolor": "white"
          },
          "hoverlabel": {
           "align": "left"
          },
          "hovermode": "closest",
          "mapbox": {
           "style": "light"
          },
          "paper_bgcolor": "white",
          "plot_bgcolor": "#E5ECF6",
          "polar": {
           "angularaxis": {
            "gridcolor": "white",
            "linecolor": "white",
            "ticks": ""
           },
           "bgcolor": "#E5ECF6",
           "radialaxis": {
            "gridcolor": "white",
            "linecolor": "white",
            "ticks": ""
           }
          },
          "scene": {
           "xaxis": {
            "backgroundcolor": "#E5ECF6",
            "gridcolor": "white",
            "gridwidth": 2,
            "linecolor": "white",
            "showbackground": true,
            "ticks": "",
            "zerolinecolor": "white"
           },
           "yaxis": {
            "backgroundcolor": "#E5ECF6",
            "gridcolor": "white",
            "gridwidth": 2,
            "linecolor": "white",
            "showbackground": true,
            "ticks": "",
            "zerolinecolor": "white"
           },
           "zaxis": {
            "backgroundcolor": "#E5ECF6",
            "gridcolor": "white",
            "gridwidth": 2,
            "linecolor": "white",
            "showbackground": true,
            "ticks": "",
            "zerolinecolor": "white"
           }
          },
          "shapedefaults": {
           "line": {
            "color": "#2a3f5f"
           }
          },
          "ternary": {
           "aaxis": {
            "gridcolor": "white",
            "linecolor": "white",
            "ticks": ""
           },
           "baxis": {
            "gridcolor": "white",
            "linecolor": "white",
            "ticks": ""
           },
           "bgcolor": "#E5ECF6",
           "caxis": {
            "gridcolor": "white",
            "linecolor": "white",
            "ticks": ""
           }
          },
          "title": {
           "x": 0.05
          },
          "xaxis": {
           "automargin": true,
           "gridcolor": "white",
           "linecolor": "white",
           "ticks": "",
           "title": {
            "standoff": 15
           },
           "zerolinecolor": "white",
           "zerolinewidth": 2
          },
          "yaxis": {
           "automargin": true,
           "gridcolor": "white",
           "linecolor": "white",
           "ticks": "",
           "title": {
            "standoff": 15
           },
           "zerolinecolor": "white",
           "zerolinewidth": 2
          }
         }
        },
        "title": {
         "text": "Ad Clicks by Day of Week "
        },
        "xaxis": {
         "anchor": "y",
         "domain": [
          0,
          1
         ],
         "title": {
          "text": "Day of Week"
         }
        },
        "yaxis": {
         "anchor": "x",
         "domain": [
          0,
          1
         ],
         "range": [
          0,
          100.8
         ],
         "title": {
          "text": "Count"
         }
        }
       }
      }
     },
     "metadata": {},
     "output_type": "display_data"
    }
   ],
   "source": [
    "# Are there specific month when ads perform better?\n",
    "hour_clicks = df.groupby(\"Day of Week\")[\"Clicked on Ad\"].value_counts().reset_index()\n",
    "hour_clicks[\"Clicked on Ad\"] = hour_clicks[\"Clicked on Ad\"].map({0: \"Not Clicked\", 1: \"Clicked\"})\n",
    "\n",
    "fig = px.bar(hour_clicks, x=\"Day of Week\", y=\"count\", color=\"Clicked on Ad\", barmode=\"group\",\n",
    "            color_discrete_map={\"Clicked\": \"#d62728\", \"Not Clicked\": \"#0000FF\"}, \n",
    "            title=\"Ad Clicks by Day of Week \" )\n",
    "fig.update_layout(xaxis_title=\"Day of Week\", yaxis_title=\"Count\",\n",
    "                  legend_title=\"Ad Engagement\", yaxis_range=[0, hour_clicks[\"count\"].max() * 1.2])\n",
    "fig.show()"
   ]
  },
  {
   "cell_type": "markdown",
   "metadata": {},
   "source": [
    "**EDA Conclusion**: Based on our exploratory analysis, we can draw the following insights:\n",
    "\n",
    "- **Age and Ad Engagement**: \n",
    "    - Users who clicked on ads ranged broadly in age (19 to 61), while those who did not click were mainly aged 19 to 49.\n",
    "    - This suggests that older users (50+) are more likely to engage with ads, possibly due to more purchase intent or different browsing behaviors.\n",
    "\n",
    "- **Gender**:\n",
    "    - There is no strong correlation between gender and ad clicks.\n",
    "    - Therefore, gender does not appear to be a significant predictor of ad engagement in this dataset.\n",
    "\n",
    "- **Area Income**:\n",
    "    - Users in areas with lower average incomes (< $33K) are more likely to click on ads.\n",
    "    - Those in higher income areas ($33K to $80K), particularly under age 50, tend not to engage with ads.\n",
    "    - This implies that area income level, combined with age, can influence ad responsiveness.\n",
    "\n",
    "- **Daily Time Spent on Site**: \n",
    "    - Users who spend more time on the site are less likely to click on ads.\n",
    "    - Conversely, those who spend less time tend to engage more, suggesting that quick, casual users may be more susceptible to ads.\n",
    "\n",
    "- **Internet Usage and Site Time**:\n",
    "    - Users with high internet usage (>180 mins) and high site time (>65 mins) are less likely to click, indicating ad fatigue or selective behavior.\n",
    "    - Moderate users (site time < 65 mins, internet usage < 180 mins) are more responsive, offering a prime opportunity for targeting.\n",
    "\n",
    "- **Hourly Trends**:\n",
    "    - Ad engagement is evenly distributed throughout the day with no significant hourly variation, suggesting no need for time-based ad optimization in this context."
   ]
  },
  {
   "cell_type": "markdown",
   "metadata": {},
   "source": [
    "#### **Model Development**"
   ]
  },
  {
   "cell_type": "code",
   "execution_count": 253,
   "metadata": {},
   "outputs": [],
   "source": [
    "# Feature selection\n",
    "selected_features = [\"Area Income\", \"Age\", \"Daily Time Spent on Site\", \"Daily Internet Usage\", \"Clicked on Ad\"]\n",
    "selected_df = df[selected_features]\n",
    "\n",
    "# Split the data into features and target variable\n",
    "X = selected_df.drop(\"Clicked on Ad\", axis=1)\n",
    "y = selected_df[\"Clicked on Ad\"]\n",
    "\n",
    "# Split the data into training and testing sets\n",
    "X_train, X_test, y_train, y_test = train_test_split(X, y, test_size=0.2, random_state=42)"
   ]
  },
  {
   "cell_type": "code",
   "execution_count": 254,
   "metadata": {},
   "outputs": [
    {
     "data": {
      "text/plain": [
       "(array([[-0.66798368, -1.59171433,  0.68619206,  0.64875708],\n",
       "        [ 1.1232608 , -0.45872077,  0.85925995,  0.60745522],\n",
       "        [ 0.90677621,  0.22107537,  0.5263885 ,  1.43831108],\n",
       "        [ 0.26369364, -0.91191819,  0.9167387 ,  1.03814189],\n",
       "        [-0.44052143,  1.12747022, -1.00722036, -1.51316612]]),\n",
       " array([[-0.02106352, -0.79861884, -0.11977371, -1.40165109],\n",
       "        [-1.01812432,  1.80726636,  0.38363908, -1.35277721],\n",
       "        [ 0.50277316,  0.22107537, -1.35967247, -1.06228742],\n",
       "        [ 0.92109693,  1.46736829, -1.46010238,  0.01293781],\n",
       "        [ 0.8386269 , -0.79861884,  0.85420687,  0.60814358]]))"
      ]
     },
     "execution_count": 254,
     "metadata": {},
     "output_type": "execute_result"
    }
   ],
   "source": [
    "# Feature scaling \n",
    "scaler = StandardScaler()\n",
    "X_train_scaled = scaler.fit_transform(X_train)\n",
    "X_test_scaled = scaler.transform(X_test)\n",
    "# Check the scaled data\n",
    "X_train_scaled[:5], X_test_scaled[:5]"
   ]
  },
  {
   "cell_type": "code",
   "execution_count": 255,
   "metadata": {},
   "outputs": [
    {
     "data": {
      "text/html": [
       "<style>#sk-container-id-1 {\n",
       "  /* Definition of color scheme common for light and dark mode */\n",
       "  --sklearn-color-text: black;\n",
       "  --sklearn-color-line: gray;\n",
       "  /* Definition of color scheme for unfitted estimators */\n",
       "  --sklearn-color-unfitted-level-0: #fff5e6;\n",
       "  --sklearn-color-unfitted-level-1: #f6e4d2;\n",
       "  --sklearn-color-unfitted-level-2: #ffe0b3;\n",
       "  --sklearn-color-unfitted-level-3: chocolate;\n",
       "  /* Definition of color scheme for fitted estimators */\n",
       "  --sklearn-color-fitted-level-0: #f0f8ff;\n",
       "  --sklearn-color-fitted-level-1: #d4ebff;\n",
       "  --sklearn-color-fitted-level-2: #b3dbfd;\n",
       "  --sklearn-color-fitted-level-3: cornflowerblue;\n",
       "\n",
       "  /* Specific color for light theme */\n",
       "  --sklearn-color-text-on-default-background: var(--sg-text-color, var(--theme-code-foreground, var(--jp-content-font-color1, black)));\n",
       "  --sklearn-color-background: var(--sg-background-color, var(--theme-background, var(--jp-layout-color0, white)));\n",
       "  --sklearn-color-border-box: var(--sg-text-color, var(--theme-code-foreground, var(--jp-content-font-color1, black)));\n",
       "  --sklearn-color-icon: #696969;\n",
       "\n",
       "  @media (prefers-color-scheme: dark) {\n",
       "    /* Redefinition of color scheme for dark theme */\n",
       "    --sklearn-color-text-on-default-background: var(--sg-text-color, var(--theme-code-foreground, var(--jp-content-font-color1, white)));\n",
       "    --sklearn-color-background: var(--sg-background-color, var(--theme-background, var(--jp-layout-color0, #111)));\n",
       "    --sklearn-color-border-box: var(--sg-text-color, var(--theme-code-foreground, var(--jp-content-font-color1, white)));\n",
       "    --sklearn-color-icon: #878787;\n",
       "  }\n",
       "}\n",
       "\n",
       "#sk-container-id-1 {\n",
       "  color: var(--sklearn-color-text);\n",
       "}\n",
       "\n",
       "#sk-container-id-1 pre {\n",
       "  padding: 0;\n",
       "}\n",
       "\n",
       "#sk-container-id-1 input.sk-hidden--visually {\n",
       "  border: 0;\n",
       "  clip: rect(1px 1px 1px 1px);\n",
       "  clip: rect(1px, 1px, 1px, 1px);\n",
       "  height: 1px;\n",
       "  margin: -1px;\n",
       "  overflow: hidden;\n",
       "  padding: 0;\n",
       "  position: absolute;\n",
       "  width: 1px;\n",
       "}\n",
       "\n",
       "#sk-container-id-1 div.sk-dashed-wrapped {\n",
       "  border: 1px dashed var(--sklearn-color-line);\n",
       "  margin: 0 0.4em 0.5em 0.4em;\n",
       "  box-sizing: border-box;\n",
       "  padding-bottom: 0.4em;\n",
       "  background-color: var(--sklearn-color-background);\n",
       "}\n",
       "\n",
       "#sk-container-id-1 div.sk-container {\n",
       "  /* jupyter's `normalize.less` sets `[hidden] { display: none; }`\n",
       "     but bootstrap.min.css set `[hidden] { display: none !important; }`\n",
       "     so we also need the `!important` here to be able to override the\n",
       "     default hidden behavior on the sphinx rendered scikit-learn.org.\n",
       "     See: https://github.com/scikit-learn/scikit-learn/issues/21755 */\n",
       "  display: inline-block !important;\n",
       "  position: relative;\n",
       "}\n",
       "\n",
       "#sk-container-id-1 div.sk-text-repr-fallback {\n",
       "  display: none;\n",
       "}\n",
       "\n",
       "div.sk-parallel-item,\n",
       "div.sk-serial,\n",
       "div.sk-item {\n",
       "  /* draw centered vertical line to link estimators */\n",
       "  background-image: linear-gradient(var(--sklearn-color-text-on-default-background), var(--sklearn-color-text-on-default-background));\n",
       "  background-size: 2px 100%;\n",
       "  background-repeat: no-repeat;\n",
       "  background-position: center center;\n",
       "}\n",
       "\n",
       "/* Parallel-specific style estimator block */\n",
       "\n",
       "#sk-container-id-1 div.sk-parallel-item::after {\n",
       "  content: \"\";\n",
       "  width: 100%;\n",
       "  border-bottom: 2px solid var(--sklearn-color-text-on-default-background);\n",
       "  flex-grow: 1;\n",
       "}\n",
       "\n",
       "#sk-container-id-1 div.sk-parallel {\n",
       "  display: flex;\n",
       "  align-items: stretch;\n",
       "  justify-content: center;\n",
       "  background-color: var(--sklearn-color-background);\n",
       "  position: relative;\n",
       "}\n",
       "\n",
       "#sk-container-id-1 div.sk-parallel-item {\n",
       "  display: flex;\n",
       "  flex-direction: column;\n",
       "}\n",
       "\n",
       "#sk-container-id-1 div.sk-parallel-item:first-child::after {\n",
       "  align-self: flex-end;\n",
       "  width: 50%;\n",
       "}\n",
       "\n",
       "#sk-container-id-1 div.sk-parallel-item:last-child::after {\n",
       "  align-self: flex-start;\n",
       "  width: 50%;\n",
       "}\n",
       "\n",
       "#sk-container-id-1 div.sk-parallel-item:only-child::after {\n",
       "  width: 0;\n",
       "}\n",
       "\n",
       "/* Serial-specific style estimator block */\n",
       "\n",
       "#sk-container-id-1 div.sk-serial {\n",
       "  display: flex;\n",
       "  flex-direction: column;\n",
       "  align-items: center;\n",
       "  background-color: var(--sklearn-color-background);\n",
       "  padding-right: 1em;\n",
       "  padding-left: 1em;\n",
       "}\n",
       "\n",
       "\n",
       "/* Toggleable style: style used for estimator/Pipeline/ColumnTransformer box that is\n",
       "clickable and can be expanded/collapsed.\n",
       "- Pipeline and ColumnTransformer use this feature and define the default style\n",
       "- Estimators will overwrite some part of the style using the `sk-estimator` class\n",
       "*/\n",
       "\n",
       "/* Pipeline and ColumnTransformer style (default) */\n",
       "\n",
       "#sk-container-id-1 div.sk-toggleable {\n",
       "  /* Default theme specific background. It is overwritten whether we have a\n",
       "  specific estimator or a Pipeline/ColumnTransformer */\n",
       "  background-color: var(--sklearn-color-background);\n",
       "}\n",
       "\n",
       "/* Toggleable label */\n",
       "#sk-container-id-1 label.sk-toggleable__label {\n",
       "  cursor: pointer;\n",
       "  display: block;\n",
       "  width: 100%;\n",
       "  margin-bottom: 0;\n",
       "  padding: 0.5em;\n",
       "  box-sizing: border-box;\n",
       "  text-align: center;\n",
       "}\n",
       "\n",
       "#sk-container-id-1 label.sk-toggleable__label-arrow:before {\n",
       "  /* Arrow on the left of the label */\n",
       "  content: \"▸\";\n",
       "  float: left;\n",
       "  margin-right: 0.25em;\n",
       "  color: var(--sklearn-color-icon);\n",
       "}\n",
       "\n",
       "#sk-container-id-1 label.sk-toggleable__label-arrow:hover:before {\n",
       "  color: var(--sklearn-color-text);\n",
       "}\n",
       "\n",
       "/* Toggleable content - dropdown */\n",
       "\n",
       "#sk-container-id-1 div.sk-toggleable__content {\n",
       "  max-height: 0;\n",
       "  max-width: 0;\n",
       "  overflow: hidden;\n",
       "  text-align: left;\n",
       "  /* unfitted */\n",
       "  background-color: var(--sklearn-color-unfitted-level-0);\n",
       "}\n",
       "\n",
       "#sk-container-id-1 div.sk-toggleable__content.fitted {\n",
       "  /* fitted */\n",
       "  background-color: var(--sklearn-color-fitted-level-0);\n",
       "}\n",
       "\n",
       "#sk-container-id-1 div.sk-toggleable__content pre {\n",
       "  margin: 0.2em;\n",
       "  border-radius: 0.25em;\n",
       "  color: var(--sklearn-color-text);\n",
       "  /* unfitted */\n",
       "  background-color: var(--sklearn-color-unfitted-level-0);\n",
       "}\n",
       "\n",
       "#sk-container-id-1 div.sk-toggleable__content.fitted pre {\n",
       "  /* unfitted */\n",
       "  background-color: var(--sklearn-color-fitted-level-0);\n",
       "}\n",
       "\n",
       "#sk-container-id-1 input.sk-toggleable__control:checked~div.sk-toggleable__content {\n",
       "  /* Expand drop-down */\n",
       "  max-height: 200px;\n",
       "  max-width: 100%;\n",
       "  overflow: auto;\n",
       "}\n",
       "\n",
       "#sk-container-id-1 input.sk-toggleable__control:checked~label.sk-toggleable__label-arrow:before {\n",
       "  content: \"▾\";\n",
       "}\n",
       "\n",
       "/* Pipeline/ColumnTransformer-specific style */\n",
       "\n",
       "#sk-container-id-1 div.sk-label input.sk-toggleable__control:checked~label.sk-toggleable__label {\n",
       "  color: var(--sklearn-color-text);\n",
       "  background-color: var(--sklearn-color-unfitted-level-2);\n",
       "}\n",
       "\n",
       "#sk-container-id-1 div.sk-label.fitted input.sk-toggleable__control:checked~label.sk-toggleable__label {\n",
       "  background-color: var(--sklearn-color-fitted-level-2);\n",
       "}\n",
       "\n",
       "/* Estimator-specific style */\n",
       "\n",
       "/* Colorize estimator box */\n",
       "#sk-container-id-1 div.sk-estimator input.sk-toggleable__control:checked~label.sk-toggleable__label {\n",
       "  /* unfitted */\n",
       "  background-color: var(--sklearn-color-unfitted-level-2);\n",
       "}\n",
       "\n",
       "#sk-container-id-1 div.sk-estimator.fitted input.sk-toggleable__control:checked~label.sk-toggleable__label {\n",
       "  /* fitted */\n",
       "  background-color: var(--sklearn-color-fitted-level-2);\n",
       "}\n",
       "\n",
       "#sk-container-id-1 div.sk-label label.sk-toggleable__label,\n",
       "#sk-container-id-1 div.sk-label label {\n",
       "  /* The background is the default theme color */\n",
       "  color: var(--sklearn-color-text-on-default-background);\n",
       "}\n",
       "\n",
       "/* On hover, darken the color of the background */\n",
       "#sk-container-id-1 div.sk-label:hover label.sk-toggleable__label {\n",
       "  color: var(--sklearn-color-text);\n",
       "  background-color: var(--sklearn-color-unfitted-level-2);\n",
       "}\n",
       "\n",
       "/* Label box, darken color on hover, fitted */\n",
       "#sk-container-id-1 div.sk-label.fitted:hover label.sk-toggleable__label.fitted {\n",
       "  color: var(--sklearn-color-text);\n",
       "  background-color: var(--sklearn-color-fitted-level-2);\n",
       "}\n",
       "\n",
       "/* Estimator label */\n",
       "\n",
       "#sk-container-id-1 div.sk-label label {\n",
       "  font-family: monospace;\n",
       "  font-weight: bold;\n",
       "  display: inline-block;\n",
       "  line-height: 1.2em;\n",
       "}\n",
       "\n",
       "#sk-container-id-1 div.sk-label-container {\n",
       "  text-align: center;\n",
       "}\n",
       "\n",
       "/* Estimator-specific */\n",
       "#sk-container-id-1 div.sk-estimator {\n",
       "  font-family: monospace;\n",
       "  border: 1px dotted var(--sklearn-color-border-box);\n",
       "  border-radius: 0.25em;\n",
       "  box-sizing: border-box;\n",
       "  margin-bottom: 0.5em;\n",
       "  /* unfitted */\n",
       "  background-color: var(--sklearn-color-unfitted-level-0);\n",
       "}\n",
       "\n",
       "#sk-container-id-1 div.sk-estimator.fitted {\n",
       "  /* fitted */\n",
       "  background-color: var(--sklearn-color-fitted-level-0);\n",
       "}\n",
       "\n",
       "/* on hover */\n",
       "#sk-container-id-1 div.sk-estimator:hover {\n",
       "  /* unfitted */\n",
       "  background-color: var(--sklearn-color-unfitted-level-2);\n",
       "}\n",
       "\n",
       "#sk-container-id-1 div.sk-estimator.fitted:hover {\n",
       "  /* fitted */\n",
       "  background-color: var(--sklearn-color-fitted-level-2);\n",
       "}\n",
       "\n",
       "/* Specification for estimator info (e.g. \"i\" and \"?\") */\n",
       "\n",
       "/* Common style for \"i\" and \"?\" */\n",
       "\n",
       ".sk-estimator-doc-link,\n",
       "a:link.sk-estimator-doc-link,\n",
       "a:visited.sk-estimator-doc-link {\n",
       "  float: right;\n",
       "  font-size: smaller;\n",
       "  line-height: 1em;\n",
       "  font-family: monospace;\n",
       "  background-color: var(--sklearn-color-background);\n",
       "  border-radius: 1em;\n",
       "  height: 1em;\n",
       "  width: 1em;\n",
       "  text-decoration: none !important;\n",
       "  margin-left: 1ex;\n",
       "  /* unfitted */\n",
       "  border: var(--sklearn-color-unfitted-level-1) 1pt solid;\n",
       "  color: var(--sklearn-color-unfitted-level-1);\n",
       "}\n",
       "\n",
       ".sk-estimator-doc-link.fitted,\n",
       "a:link.sk-estimator-doc-link.fitted,\n",
       "a:visited.sk-estimator-doc-link.fitted {\n",
       "  /* fitted */\n",
       "  border: var(--sklearn-color-fitted-level-1) 1pt solid;\n",
       "  color: var(--sklearn-color-fitted-level-1);\n",
       "}\n",
       "\n",
       "/* On hover */\n",
       "div.sk-estimator:hover .sk-estimator-doc-link:hover,\n",
       ".sk-estimator-doc-link:hover,\n",
       "div.sk-label-container:hover .sk-estimator-doc-link:hover,\n",
       ".sk-estimator-doc-link:hover {\n",
       "  /* unfitted */\n",
       "  background-color: var(--sklearn-color-unfitted-level-3);\n",
       "  color: var(--sklearn-color-background);\n",
       "  text-decoration: none;\n",
       "}\n",
       "\n",
       "div.sk-estimator.fitted:hover .sk-estimator-doc-link.fitted:hover,\n",
       ".sk-estimator-doc-link.fitted:hover,\n",
       "div.sk-label-container:hover .sk-estimator-doc-link.fitted:hover,\n",
       ".sk-estimator-doc-link.fitted:hover {\n",
       "  /* fitted */\n",
       "  background-color: var(--sklearn-color-fitted-level-3);\n",
       "  color: var(--sklearn-color-background);\n",
       "  text-decoration: none;\n",
       "}\n",
       "\n",
       "/* Span, style for the box shown on hovering the info icon */\n",
       ".sk-estimator-doc-link span {\n",
       "  display: none;\n",
       "  z-index: 9999;\n",
       "  position: relative;\n",
       "  font-weight: normal;\n",
       "  right: .2ex;\n",
       "  padding: .5ex;\n",
       "  margin: .5ex;\n",
       "  width: min-content;\n",
       "  min-width: 20ex;\n",
       "  max-width: 50ex;\n",
       "  color: var(--sklearn-color-text);\n",
       "  box-shadow: 2pt 2pt 4pt #999;\n",
       "  /* unfitted */\n",
       "  background: var(--sklearn-color-unfitted-level-0);\n",
       "  border: .5pt solid var(--sklearn-color-unfitted-level-3);\n",
       "}\n",
       "\n",
       ".sk-estimator-doc-link.fitted span {\n",
       "  /* fitted */\n",
       "  background: var(--sklearn-color-fitted-level-0);\n",
       "  border: var(--sklearn-color-fitted-level-3);\n",
       "}\n",
       "\n",
       ".sk-estimator-doc-link:hover span {\n",
       "  display: block;\n",
       "}\n",
       "\n",
       "/* \"?\"-specific style due to the `<a>` HTML tag */\n",
       "\n",
       "#sk-container-id-1 a.estimator_doc_link {\n",
       "  float: right;\n",
       "  font-size: 1rem;\n",
       "  line-height: 1em;\n",
       "  font-family: monospace;\n",
       "  background-color: var(--sklearn-color-background);\n",
       "  border-radius: 1rem;\n",
       "  height: 1rem;\n",
       "  width: 1rem;\n",
       "  text-decoration: none;\n",
       "  /* unfitted */\n",
       "  color: var(--sklearn-color-unfitted-level-1);\n",
       "  border: var(--sklearn-color-unfitted-level-1) 1pt solid;\n",
       "}\n",
       "\n",
       "#sk-container-id-1 a.estimator_doc_link.fitted {\n",
       "  /* fitted */\n",
       "  border: var(--sklearn-color-fitted-level-1) 1pt solid;\n",
       "  color: var(--sklearn-color-fitted-level-1);\n",
       "}\n",
       "\n",
       "/* On hover */\n",
       "#sk-container-id-1 a.estimator_doc_link:hover {\n",
       "  /* unfitted */\n",
       "  background-color: var(--sklearn-color-unfitted-level-3);\n",
       "  color: var(--sklearn-color-background);\n",
       "  text-decoration: none;\n",
       "}\n",
       "\n",
       "#sk-container-id-1 a.estimator_doc_link.fitted:hover {\n",
       "  /* fitted */\n",
       "  background-color: var(--sklearn-color-fitted-level-3);\n",
       "}\n",
       "</style><div id=\"sk-container-id-1\" class=\"sk-top-container\"><div class=\"sk-text-repr-fallback\"><pre>LogisticRegression()</pre><b>In a Jupyter environment, please rerun this cell to show the HTML representation or trust the notebook. <br />On GitHub, the HTML representation is unable to render, please try loading this page with nbviewer.org.</b></div><div class=\"sk-container\" hidden><div class=\"sk-item\"><div class=\"sk-estimator fitted sk-toggleable\"><input class=\"sk-toggleable__control sk-hidden--visually\" id=\"sk-estimator-id-1\" type=\"checkbox\" checked><label for=\"sk-estimator-id-1\" class=\"sk-toggleable__label fitted sk-toggleable__label-arrow fitted\">&nbsp;&nbsp;LogisticRegression<a class=\"sk-estimator-doc-link fitted\" rel=\"noreferrer\" target=\"_blank\" href=\"https://scikit-learn.org/1.5/modules/generated/sklearn.linear_model.LogisticRegression.html\">?<span>Documentation for LogisticRegression</span></a><span class=\"sk-estimator-doc-link fitted\">i<span>Fitted</span></span></label><div class=\"sk-toggleable__content fitted\"><pre>LogisticRegression()</pre></div> </div></div></div></div>"
      ],
      "text/plain": [
       "LogisticRegression()"
      ]
     },
     "execution_count": 255,
     "metadata": {},
     "output_type": "execute_result"
    }
   ],
   "source": [
    "# Model Training on Logistic Regression as baseline model\n",
    "log_reg_model = LogisticRegression()\n",
    "log_reg_model.fit(X_train_scaled, y_train)"
   ]
  },
  {
   "cell_type": "code",
   "execution_count": 258,
   "metadata": {},
   "outputs": [
    {
     "name": "stdout",
     "output_type": "stream",
     "text": [
      "Accuracy of Logistic Regression model: 95.00%\n"
     ]
    }
   ],
   "source": [
    "# Make prediction on testing set and check accuracy\n",
    "accuracy = log_reg_model.score(X_test_scaled, y_test)\n",
    "print(f\"Accuracy of Logistic Regression model: {accuracy * 100:.2f}%\")"
   ]
  },
  {
   "cell_type": "code",
   "execution_count": 280,
   "metadata": {},
   "outputs": [
    {
     "name": "stdout",
     "output_type": "stream",
     "text": [
      "              precision    recall  f1-score   support\n",
      "\n",
      "           0       0.92      0.97      0.95        89\n",
      "           1       0.97      0.94      0.95       111\n",
      "\n",
      "    accuracy                           0.95       200\n",
      "   macro avg       0.95      0.95      0.95       200\n",
      "weighted avg       0.95      0.95      0.95       200\n",
      "\n"
     ]
    },
    {
     "data": {
      "image/png": "[encoded data removed]",
      "text/plain": [
       "<Figure size 640x480 with 2 Axes>"
      ]
     },
     "metadata": {},
     "output_type": "display_data"
    }
   ],
   "source": [
    "# Get the confusion matrix\n",
    "y_pred = log_reg_model.predict(X_test_scaled)\n",
    "\n",
    "# Compute confusion matrix\n",
    "cm = confusion_matrix(y_test, y_pred)\n",
    "\n",
    "# Display it\n",
    "print(classification_report(y_test, y_pred))\n",
    "disp = ConfusionMatrixDisplay(confusion_matrix=cm, display_labels=log_reg_model.classes_)\n",
    "disp.plot(cmap=\"Blues\")\n",
    "plt.title(\"Confusion Matrix\")\n",
    "plt.show()"
   ]
  },
  {
   "cell_type": "code",
   "execution_count": null,
   "metadata": {},
   "outputs": [],
   "source": []
  }
 ],
 "metadata": {
  "kernelspec": {
   "display_name": "base",
   "language": "python",
   "name": "python3"
  },
  "language_info": {
   "codemirror_mode": {
    "name": "ipython",
    "version": 3
   },
   "file_extension": ".py",
   "mimetype": "text/x-python",
   "name": "python",
   "nbconvert_exporter": "python",
   "pygments_lexer": "ipython3",
   "version": "3.12.7"
  }
 },
 "nbformat": 4,
 "nbformat_minor": 2
}
